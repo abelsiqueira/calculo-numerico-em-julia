{
 "cells": [
  {
   "cell_type": "code",
   "execution_count": 1,
   "metadata": {},
   "outputs": [
    {
     "data": {
      "text/plain": [
       "3×4 Array{Float64,2}:\n",
       " 1.44762   0.894008  0.911667  1.2092\n",
       " 0.994353  1.26291   0.891858  1.06659\n",
       " 1.70265   1.32967   1.33819   1.87497"
      ]
     },
     "execution_count": 1,
     "metadata": {},
     "output_type": "execute_result"
    }
   ],
   "source": [
    "A = rand(3, 5)\n",
    "B = rand(5, 4)\n",
    "A * B"
   ]
  },
  {
   "cell_type": "code",
   "execution_count": 2,
   "metadata": {},
   "outputs": [
    {
     "data": {
      "text/plain": [
       "3×4 Array{Float64,2}:\n",
       " 1.44762   0.894008  0.911667  1.2092\n",
       " 0.994353  1.26291   0.891858  1.06659\n",
       " 1.70265   1.32967   1.33819   1.87497"
      ]
     },
     "execution_count": 2,
     "metadata": {},
     "output_type": "execute_result"
    }
   ],
   "source": [
    "C = zeros(3, 4)\n",
    "for i = 1:3, j = 1:4\n",
    "    C[i,j] = sum(A[i,k] * B[k,j] for k = 1:5)\n",
    "end\n",
    "C"
   ]
  },
  {
   "cell_type": "code",
   "execution_count": 3,
   "metadata": {},
   "outputs": [
    {
     "data": {
      "text/plain": [
       "(2.2888031005859375, 76293.9453125)"
      ]
     },
     "execution_count": 3,
     "metadata": {},
     "output_type": "execute_result"
    }
   ],
   "source": [
    "n = 100000\n",
    "Float64.size * (3n - 2) / 1024 / 1024, Float64.size * n^2 / 1024 / 1024"
   ]
  },
  {
   "cell_type": "code",
   "execution_count": 4,
   "metadata": {},
   "outputs": [
    {
     "name": "stderr",
     "output_type": "stream",
     "text": [
      "\u001b[32m\u001b[1m   Updating\u001b[22m\u001b[39m registry at `~/.julia/registries/General`\n"
     ]
    },
    {
     "name": "stdout",
     "output_type": "stream",
     "text": [
      "\u001b[?25l    "
     ]
    },
    {
     "name": "stderr",
     "output_type": "stream",
     "text": [
      "\u001b[32m\u001b[1m   Updating\u001b[22m\u001b[39m git-repo `https://github.com/JuliaRegistries/General.git`\n"
     ]
    },
    {
     "name": "stdout",
     "output_type": "stream",
     "text": [
      "\u001b[36m\u001b[1mFetching:\u001b[22m\u001b[39m [>                                        ]  0.0 %\r",
      "    \u001b[36m\u001b[1mFetching:\u001b[22m\u001b[39m [=>                                       ]  2.5 %\r",
      "    \u001b[36m\u001b[1mFetching:\u001b[22m\u001b[39m [==>                                      ]  5.0 %\r",
      "    \u001b[36m\u001b[1mFetching:\u001b[22m\u001b[39m [===>                                     ]  7.5 %\r",
      "    \u001b[36m\u001b[1mFetching:\u001b[22m\u001b[39m [====>                                    ]  10.0 %\r",
      "    \u001b[36m\u001b[1mFetching:\u001b[22m\u001b[39m [=====>                                   ]  12.5 %\r",
      "    \u001b[36m\u001b[1mFetching:\u001b[22m\u001b[39m [======>                                  ]  15.0 %\r",
      "    \u001b[36m\u001b[1mFetching:\u001b[22m\u001b[39m [=======>                                 ]  17.5 %\r",
      "    \u001b[36m\u001b[1mFetching:\u001b[22m\u001b[39m [========>                                ]  20.0 %\r",
      "    \u001b[36m\u001b[1mFetching:\u001b[22m\u001b[39m [=========>                               ]  22.5 %\r",
      "    \u001b[36m\u001b[1mFetching:\u001b[22m\u001b[39m [==========>                              ]  25.0 %\r",
      "    \u001b[36m\u001b[1mFetching:\u001b[22m\u001b[39m [============>                            ]  27.5 %\r",
      "    \u001b[36m\u001b[1mFetching:\u001b[22m\u001b[39m [============>                            ]  30.0 %\r",
      "    \u001b[36m\u001b[1mFetching:\u001b[22m\u001b[39m [=============>                           ]  32.5 %\r",
      "    \u001b[36m\u001b[1mFetching:\u001b[22m\u001b[39m [==============>                          ]  35.0 %\r",
      "    \u001b[36m\u001b[1mFetching:\u001b[22m\u001b[39m [===============>                         ]  37.5 %\r",
      "    \u001b[36m\u001b[1mFetching:\u001b[22m\u001b[39m [================>                        ]  40.0 %\r",
      "    \u001b[36m\u001b[1mFetching:\u001b[22m\u001b[39m [=================>                       ]  42.5 %\r",
      "    \u001b[36m\u001b[1mFetching:\u001b[22m\u001b[39m [==================>                      ]  45.0 %\r",
      "    \u001b[36m\u001b[1mFetching:\u001b[22m\u001b[39m [===================>                     ]  47.5 %\r",
      "    \u001b[36m\u001b[1mFetching:\u001b[22m\u001b[39m [====================>                    ]  50.0 %\r",
      "    \u001b[36m\u001b[1mFetching:\u001b[22m\u001b[39m [=====================>                   ]  52.5 %\r",
      "    \u001b[36m\u001b[1mFetching:\u001b[22m\u001b[39m [=======================>                 ]  55.0 %\r",
      "    \u001b[36m\u001b[1mFetching:\u001b[22m\u001b[39m [=======================>                 ]  57.5 %\r",
      "    \u001b[36m\u001b[1mFetching:\u001b[22m\u001b[39m [========================>                ]  60.0 %\r",
      "    \u001b[36m\u001b[1mFetching:\u001b[22m\u001b[39m [=========================>               ]  62.5 %\r",
      "    \u001b[36m\u001b[1mFetching:\u001b[22m\u001b[39m [==========================>              ]  65.0 %\r",
      "    \u001b[36m\u001b[1mFetching:\u001b[22m\u001b[39m [===========================>             ]  67.5 %\r",
      "    \u001b[36m\u001b[1mFetching:\u001b[22m\u001b[39m [============================>            ]  70.0 %\r",
      "    \u001b[36m\u001b[1mFetching:\u001b[22m\u001b[39m [=============================>           ]  72.5 %\r",
      "    \u001b[36m\u001b[1mFetching:\u001b[22m\u001b[39m [==============================>          ]  75.0 %\r",
      "    \u001b[36m\u001b[1mFetching:\u001b[22m\u001b[39m [===============================>         ]  77.5 %\r",
      "    \u001b[36m\u001b[1mFetching:\u001b[22m\u001b[39m [================================>        ]  80.0 %\r",
      "    \u001b[36m\u001b[1mFetching:\u001b[22m\u001b[39m [=================================>       ]  82.5 %\r",
      "    \u001b[36m\u001b[1mFetching:\u001b[22m\u001b[39m [==================================>      ]  85.0 %\r",
      "    \u001b[36m\u001b[1mFetching:\u001b[22m\u001b[39m [===================================>     ]  87.5 %\r",
      "    \u001b[36m\u001b[1mFetching:\u001b[22m\u001b[39m [====================================>    ]  90.0 %\r",
      "    \u001b[36m\u001b[1mFetching:\u001b[22m\u001b[39m [=====================================>   ]  92.5 %\r",
      "    \u001b[36m\u001b[1mFetching:\u001b[22m\u001b[39m [======================================>  ]  95.0 %\r",
      "    \u001b[36m\u001b[1mFetching:\u001b[22m\u001b[39m [=======================================> ]  97.5 %\r",
      "    \u001b[36m\u001b[1mFetching:\u001b[22m\u001b[39m [========================================>]  100.0 %\r",
      "\u001b[2K\u001b[?25h"
     ]
    },
    {
     "name": "stderr",
     "output_type": "stream",
     "text": [
      "\u001b[32m\u001b[1m  Resolving\u001b[22m\u001b[39m package versions...\n",
      "\u001b[32m\u001b[1m   Updating\u001b[22m\u001b[39m `~/.julia/environments/v1.4/Project.toml`\n",
      "\u001b[90m [no changes]\u001b[39m\n",
      "\u001b[32m\u001b[1m   Updating\u001b[22m\u001b[39m `~/.julia/environments/v1.4/Manifest.toml`\n",
      "\u001b[90m [no changes]\u001b[39m\n"
     ]
    }
   ],
   "source": [
    "using Pkg\n",
    "pkg\"add BenchmarkTools\""
   ]
  },
  {
   "cell_type": "code",
   "execution_count": 5,
   "metadata": {},
   "outputs": [],
   "source": [
    "using BenchmarkTools"
   ]
  },
  {
   "cell_type": "code",
   "execution_count": 6,
   "metadata": {},
   "outputs": [
    {
     "data": {
      "text/plain": [
       "multAx2 (generic function with 1 method)"
      ]
     },
     "execution_count": 6,
     "metadata": {},
     "output_type": "execute_result"
    }
   ],
   "source": [
    "function multAx1(y, A, x)\n",
    "    m, n = size(A)\n",
    "    for i = 1:m\n",
    "        y[i] = 0.0\n",
    "        for j = 1:n\n",
    "            y[i] += A[i,j] * x[j]\n",
    "        end\n",
    "    end\n",
    "end\n",
    "\n",
    "function multAx2(y, A, x)\n",
    "    m, n = size(A)\n",
    "    for i = 1:m\n",
    "        y[i] = 0.0\n",
    "    end\n",
    "    for j = 1:n\n",
    "        for i = 1:m\n",
    "            y[i] += A[i,j] * x[j]\n",
    "        end\n",
    "    end\n",
    "end"
   ]
  },
  {
   "cell_type": "code",
   "execution_count": 7,
   "metadata": {},
   "outputs": [],
   "source": [
    "n = 1000\n",
    "A = rand(n, n)\n",
    "x = rand(n);"
   ]
  },
  {
   "cell_type": "code",
   "execution_count": 8,
   "metadata": {},
   "outputs": [
    {
     "data": {
      "text/plain": [
       "true"
      ]
     },
     "execution_count": 8,
     "metadata": {},
     "output_type": "execute_result"
    }
   ],
   "source": [
    "y1 = zeros(n)\n",
    "y2 = zeros(n)\n",
    "multAx1(y1, A, x)\n",
    "multAx2(y2, A, x)\n",
    "y1 ≈ y2 ≈ A * x"
   ]
  },
  {
   "cell_type": "code",
   "execution_count": 9,
   "metadata": {},
   "outputs": [
    {
     "data": {
      "text/plain": [
       "BenchmarkTools.Trial: \n",
       "  memory estimate:  0 bytes\n",
       "  allocs estimate:  0\n",
       "  --------------\n",
       "  minimum time:     2.199 ms (0.00% GC)\n",
       "  median time:      2.541 ms (0.00% GC)\n",
       "  mean time:        2.775 ms (0.00% GC)\n",
       "  maximum time:     5.911 ms (0.00% GC)\n",
       "  --------------\n",
       "  samples:          1795\n",
       "  evals/sample:     1"
      ]
     },
     "execution_count": 9,
     "metadata": {},
     "output_type": "execute_result"
    }
   ],
   "source": [
    "y = zeros(n)\n",
    "@benchmark multAx1(y, $A, $x)"
   ]
  },
  {
   "cell_type": "code",
   "execution_count": 10,
   "metadata": {},
   "outputs": [
    {
     "data": {
      "text/plain": [
       "BenchmarkTools.Trial: \n",
       "  memory estimate:  0 bytes\n",
       "  allocs estimate:  0\n",
       "  --------------\n",
       "  minimum time:     945.833 μs (0.00% GC)\n",
       "  median time:      1.047 ms (0.00% GC)\n",
       "  mean time:        1.111 ms (0.00% GC)\n",
       "  maximum time:     2.204 ms (0.00% GC)\n",
       "  --------------\n",
       "  samples:          4463\n",
       "  evals/sample:     1"
      ]
     },
     "execution_count": 10,
     "metadata": {},
     "output_type": "execute_result"
    }
   ],
   "source": [
    "y = zeros(n)\n",
    "@benchmark multAx2(y, $A, $x)"
   ]
  },
  {
   "cell_type": "code",
   "execution_count": 11,
   "metadata": {},
   "outputs": [],
   "source": [
    "using SparseArrays"
   ]
  },
  {
   "cell_type": "code",
   "execution_count": 12,
   "metadata": {},
   "outputs": [
    {
     "data": {
      "text/plain": [
       "10×10 SparseMatrixCSC{Float64,Int64} with 29 stored entries:\n",
       "  [2 ,  1]  =  0.272204\n",
       "  [3 ,  1]  =  0.538193\n",
       "  [4 ,  1]  =  0.8676\n",
       "  [6 ,  1]  =  0.155929\n",
       "  [7 ,  1]  =  0.458494\n",
       "  [10,  1]  =  0.19625\n",
       "  [6 ,  2]  =  0.743521\n",
       "  [2 ,  3]  =  0.967841\n",
       "  [4 ,  3]  =  0.808462\n",
       "  [9 ,  3]  =  0.575446\n",
       "  [3 ,  4]  =  0.782049\n",
       "  [6 ,  4]  =  0.273989\n",
       "  ⋮\n",
       "  [7 ,  6]  =  0.28218\n",
       "  [3 ,  7]  =  0.0203452\n",
       "  [6 ,  7]  =  0.849862\n",
       "  [9 ,  7]  =  0.725731\n",
       "  [10,  7]  =  0.0637224\n",
       "  [8 ,  8]  =  0.140144\n",
       "  [9 ,  8]  =  0.378408\n",
       "  [10,  8]  =  0.936851\n",
       "  [5 ,  9]  =  0.191336\n",
       "  [1 , 10]  =  0.918424\n",
       "  [5 , 10]  =  0.81676\n",
       "  [6 , 10]  =  0.520414\n",
       "  [8 , 10]  =  0.690414"
      ]
     },
     "execution_count": 12,
     "metadata": {},
     "output_type": "execute_result"
    }
   ],
   "source": [
    "A = sprand(10, 10, 0.3)"
   ]
  },
  {
   "cell_type": "code",
   "execution_count": 13,
   "metadata": {},
   "outputs": [
    {
     "data": {
      "text/plain": [
       "([2, 3, 4, 6, 7, 10, 6, 2, 4, 9  …  9, 10, 8, 9, 10, 5, 1, 5, 6, 8], [1, 1, 1, 1, 1, 1, 2, 3, 3, 3  …  7, 7, 8, 8, 8, 9, 10, 10, 10, 10], [0.27220404249229113, 0.5381932261464486, 0.8676000977093936, 0.15592882284476395, 0.4584936174993044, 0.19625012549346477, 0.7435207308493004, 0.967841220254837, 0.8084618246737303, 0.5754461698689874  …  0.7257307883220614, 0.06372238707347733, 0.1401438236056518, 0.3784078579849557, 0.9368508224327796, 0.191336319337986, 0.9184235530142997, 0.8167596346576891, 0.5204142285368252, 0.690413796111665])"
      ]
     },
     "execution_count": 13,
     "metadata": {},
     "output_type": "execute_result"
    }
   ],
   "source": [
    "rows, cols, vals = findnz(A)"
   ]
  },
  {
   "cell_type": "markdown",
   "metadata": {},
   "source": [
    "**Exercício:** Fazer as 6 ordens da $C = AB$."
   ]
  },
  {
   "cell_type": "markdown",
   "metadata": {},
   "source": [
    "## Sistemas Lineares"
   ]
  },
  {
   "cell_type": "code",
   "execution_count": 14,
   "metadata": {},
   "outputs": [
    {
     "data": {
      "text/plain": [
       "3-element Array{Float64,1}:\n",
       " 1.9579530105129408\n",
       " 2.1834026175682215\n",
       " 2.304759235850707"
      ]
     },
     "execution_count": 14,
     "metadata": {},
     "output_type": "execute_result"
    }
   ],
   "source": [
    "A = rand(3, 3)\n",
    "b = A * ones(3)"
   ]
  },
  {
   "cell_type": "code",
   "execution_count": 15,
   "metadata": {},
   "outputs": [
    {
     "data": {
      "text/plain": [
       "3-element Array{Float64,1}:\n",
       " 1.0\n",
       " 1.0\n",
       " 1.0"
      ]
     },
     "execution_count": 15,
     "metadata": {},
     "output_type": "execute_result"
    }
   ],
   "source": [
    "A \\ b # Resolve Ax = b"
   ]
  },
  {
   "cell_type": "code",
   "execution_count": 16,
   "metadata": {},
   "outputs": [
    {
     "data": {
      "text/plain": [
       "3×3 Array{Float64,2}:\n",
       "  3.0  1.0  2.0\n",
       " -1.0  2.0  1.0\n",
       "  1.0  1.0  4.0"
      ]
     },
     "execution_count": 16,
     "metadata": {},
     "output_type": "execute_result"
    }
   ],
   "source": [
    "A = [3.0 1 2; -1 2 1; 1 1 4]"
   ]
  },
  {
   "cell_type": "code",
   "execution_count": 17,
   "metadata": {},
   "outputs": [
    {
     "data": {
      "text/plain": [
       "3-element Array{Float64,1}:\n",
       " 6.0\n",
       " 2.0\n",
       " 6.0"
      ]
     },
     "execution_count": 17,
     "metadata": {},
     "output_type": "execute_result"
    }
   ],
   "source": [
    "b = A * ones(3)"
   ]
  },
  {
   "cell_type": "code",
   "execution_count": 18,
   "metadata": {},
   "outputs": [
    {
     "data": {
      "text/plain": [
       "0.0"
      ]
     },
     "execution_count": 18,
     "metadata": {},
     "output_type": "execute_result"
    }
   ],
   "source": [
    "m21 = A[2,1] / A[1,1]\n",
    "m31 = A[3,1] / A[1,1]\n",
    "\n",
    "# L₂ = A[2,:], L₃ = A[3,:]\n",
    "A[2,2:end] = A[2,2:end] - m21 * A[1,2:end]\n",
    "A[2,1] = 0.0\n",
    "A[3,2:end] = A[3,2:end] - m31 * A[1,2:end]\n",
    "A[3,1] = 0.0"
   ]
  },
  {
   "cell_type": "code",
   "execution_count": 19,
   "metadata": {},
   "outputs": [
    {
     "data": {
      "text/plain": [
       "4.0"
      ]
     },
     "execution_count": 19,
     "metadata": {},
     "output_type": "execute_result"
    }
   ],
   "source": [
    "b[2] = b[2] - m21 * b[1]\n",
    "b[3] = b[3] - m31 * b[1]"
   ]
  },
  {
   "cell_type": "code",
   "execution_count": 20,
   "metadata": {
    "scrolled": true
   },
   "outputs": [
    {
     "data": {
      "text/plain": [
       "3×3 Array{Float64,2}:\n",
       " 3.0  1.0       2.0\n",
       " 0.0  2.33333   1.66667\n",
       " 0.0  0.666667  3.33333"
      ]
     },
     "execution_count": 20,
     "metadata": {},
     "output_type": "execute_result"
    }
   ],
   "source": [
    "A"
   ]
  },
  {
   "cell_type": "code",
   "execution_count": 21,
   "metadata": {},
   "outputs": [
    {
     "data": {
      "text/plain": [
       "3-element Array{Float64,1}:\n",
       " 6.0\n",
       " 4.0\n",
       " 4.0"
      ]
     },
     "execution_count": 21,
     "metadata": {},
     "output_type": "execute_result"
    }
   ],
   "source": [
    "b"
   ]
  },
  {
   "cell_type": "code",
   "execution_count": 22,
   "metadata": {},
   "outputs": [
    {
     "data": {
      "text/plain": [
       "3-element Array{Float64,1}:\n",
       " 1.0\n",
       " 1.0000000000000002\n",
       " 0.9999999999999999"
      ]
     },
     "execution_count": 22,
     "metadata": {},
     "output_type": "execute_result"
    }
   ],
   "source": [
    "A \\ b"
   ]
  },
  {
   "cell_type": "code",
   "execution_count": 23,
   "metadata": {},
   "outputs": [
    {
     "data": {
      "text/plain": [
       "3×3 Array{Float64,2}:\n",
       " 3.0  1.0      2.0\n",
       " 0.0  2.33333  1.66667\n",
       " 0.0  0.0      2.85714"
      ]
     },
     "execution_count": 23,
     "metadata": {},
     "output_type": "execute_result"
    }
   ],
   "source": [
    "m32 = A[3,2] / A[2,2]\n",
    "A[3,3:end] -= m32 * A[2,3:end]\n",
    "A[3,2] = 0.0\n",
    "b[3] -= m32 * b[2]\n",
    "\n",
    "A"
   ]
  },
  {
   "cell_type": "code",
   "execution_count": 24,
   "metadata": {},
   "outputs": [
    {
     "data": {
      "text/plain": [
       "3-element Array{Float64,1}:\n",
       " 6.0\n",
       " 4.0\n",
       " 2.8571428571428568"
      ]
     },
     "execution_count": 24,
     "metadata": {},
     "output_type": "execute_result"
    }
   ],
   "source": [
    "b"
   ]
  },
  {
   "cell_type": "code",
   "execution_count": 25,
   "metadata": {},
   "outputs": [
    {
     "data": {
      "text/plain": [
       "3-element Array{Float64,1}:\n",
       " 1.0\n",
       " 1.0000000000000002\n",
       " 0.9999999999999998"
      ]
     },
     "execution_count": 25,
     "metadata": {},
     "output_type": "execute_result"
    }
   ],
   "source": [
    "A \\ b"
   ]
  },
  {
   "cell_type": "code",
   "execution_count": 26,
   "metadata": {},
   "outputs": [
    {
     "data": {
      "text/plain": [
       "elim_gauss!"
      ]
     },
     "execution_count": 26,
     "metadata": {},
     "output_type": "execute_result"
    }
   ],
   "source": [
    "\"\"\"\n",
    "    elim_gauss!(A, b)\n",
    "\n",
    "Modifica A e b fazendo a eliminação Gaussiana.\n",
    "\"\"\"\n",
    "function elim_gauss!(A, b)\n",
    "    m, n = size(A)\n",
    "    for j = 1:n\n",
    "        cols = j+1:n\n",
    "        for i = j+1:m\n",
    "            mij = A[i,j] / A[j,j]\n",
    "            A[i,cols] -= mij * A[j,cols]\n",
    "            A[i,j] = 0.0\n",
    "            b[i] -= mij * b[j]\n",
    "        end\n",
    "    end\n",
    "end"
   ]
  },
  {
   "cell_type": "code",
   "execution_count": 27,
   "metadata": {},
   "outputs": [
    {
     "data": {
      "text/plain": [
       "5-element Array{Float64,1}:\n",
       " 2.8179490402932243\n",
       " 2.7476279299633446\n",
       " 1.9655119432293024\n",
       " 3.3283849343875618\n",
       " 2.2080627625461773"
      ]
     },
     "execution_count": 27,
     "metadata": {},
     "output_type": "execute_result"
    }
   ],
   "source": [
    "A = rand(5, 5)\n",
    "#A[:,3] = A[:,2] + 2 * A[:,5]\n",
    "b = A * ones(5)"
   ]
  },
  {
   "cell_type": "code",
   "execution_count": 28,
   "metadata": {},
   "outputs": [
    {
     "data": {
      "text/plain": [
       "5×5 Array{Float64,2}:\n",
       " 0.35633    0.704142  0.548019   0.932386  0.277072\n",
       " 0.455423   0.950434  0.631336   0.199955  0.51048\n",
       " 0.0743427  0.288895  0.87586    0.656925  0.0694897\n",
       " 0.96058    0.23544   0.468875   0.745122  0.918367\n",
       " 0.127134   0.789274  0.0476764  0.311853  0.932125"
      ]
     },
     "execution_count": 28,
     "metadata": {},
     "output_type": "execute_result"
    }
   ],
   "source": [
    "A"
   ]
  },
  {
   "cell_type": "code",
   "execution_count": 29,
   "metadata": {},
   "outputs": [],
   "source": [
    "elim_gauss!(A, b)"
   ]
  },
  {
   "cell_type": "code",
   "execution_count": 30,
   "metadata": {},
   "outputs": [
    {
     "data": {
      "text/plain": [
       "5×5 Array{Float64,2}:\n",
       " 0.35633  0.704142    0.548019     0.932386   0.277072\n",
       " 0.0      0.0504755  -0.0690831   -0.991721   0.156357\n",
       " 0.0      0.0         0.955854     3.2521    -0.428147\n",
       " 0.0      0.0         0.0        -23.2637     3.85107\n",
       " 0.0      0.0         0.0          0.0        0.845247"
      ]
     },
     "execution_count": 30,
     "metadata": {},
     "output_type": "execute_result"
    }
   ],
   "source": [
    "A"
   ]
  },
  {
   "cell_type": "code",
   "execution_count": 31,
   "metadata": {},
   "outputs": [
    {
     "data": {
      "text/plain": [
       "5-element Array{Float64,1}:\n",
       "   2.8179490402932243\n",
       "  -0.853972431080102\n",
       "   3.7798087757733825\n",
       " -19.41267045920594\n",
       "   0.8452471711112128"
      ]
     },
     "execution_count": 31,
     "metadata": {},
     "output_type": "execute_result"
    }
   ],
   "source": [
    "b"
   ]
  },
  {
   "cell_type": "code",
   "execution_count": 32,
   "metadata": {},
   "outputs": [
    {
     "data": {
      "text/plain": [
       "5-element Array{Float64,1}:\n",
       " 0.9999999999999978\n",
       " 1.000000000000002\n",
       " 1.0000000000000013\n",
       " 0.9999999999999992\n",
       " 0.9999999999999982"
      ]
     },
     "execution_count": 32,
     "metadata": {},
     "output_type": "execute_result"
    }
   ],
   "source": [
    "A \\ b"
   ]
  },
  {
   "cell_type": "code",
   "execution_count": 34,
   "metadata": {},
   "outputs": [
    {
     "data": {
      "text/plain": [
       "resolve_tri_sup (generic function with 1 method)"
      ]
     },
     "execution_count": 34,
     "metadata": {},
     "output_type": "execute_result"
    }
   ],
   "source": [
    "function resolve_tri_sup(U, c) # Ux = c\n",
    "    m, n = size(U)\n",
    "    if m != n\n",
    "        error(\"Dimensões de U devem ser iguais\")\n",
    "    end\n",
    "    x = zeros(n)\n",
    "    for j = n:-1:1\n",
    "        # xⱼ = (bⱼ - ∑ₖ₌ⱼ₊₁ⁿ uⱼₖ xₖ ) / uⱼⱼ\n",
    "        x[j] = b[j]\n",
    "        for k = j+1:n\n",
    "            x[j] -= U[j,k] * x[k]\n",
    "        end\n",
    "        x[j] = x[j] / U[j,j]\n",
    "    end\n",
    "    return x\n",
    "end"
   ]
  },
  {
   "cell_type": "code",
   "execution_count": 35,
   "metadata": {},
   "outputs": [
    {
     "data": {
      "text/plain": [
       "5-element Array{Float64,1}:\n",
       " 1.000000000000001\n",
       " 0.9999999999999994\n",
       " 1.0000000000000018\n",
       " 0.9999999999999991\n",
       " 0.9999999999999981"
      ]
     },
     "execution_count": 35,
     "metadata": {},
     "output_type": "execute_result"
    }
   ],
   "source": [
    "resolve_tri_sup(A, b)"
   ]
  },
  {
   "cell_type": "code",
   "execution_count": 36,
   "metadata": {},
   "outputs": [
    {
     "data": {
      "text/plain": [
       "elim_gauss!"
      ]
     },
     "execution_count": 36,
     "metadata": {},
     "output_type": "execute_result"
    }
   ],
   "source": [
    "\"\"\"\n",
    "    elim_gauss!(A)\n",
    "\n",
    "Modifica A fazendo a eliminação Gaussiana e guardando mᵢⱼ.\n",
    "Só para matrizes quadrados.\n",
    "\"\"\"\n",
    "function elim_gauss!(A)\n",
    "    m, n = size(A)\n",
    "    if m != n\n",
    "        error(\"Dimensões de A devem ser iguais\")\n",
    "    end\n",
    "    for j = 1:n\n",
    "        cols = j+1:n\n",
    "        for i = j+1:n\n",
    "            mij = A[i,j] / A[j,j]\n",
    "            A[i,cols] -= mij * A[j,cols]\n",
    "            A[i,j] = mij\n",
    "        end\n",
    "    end\n",
    "end"
   ]
  },
  {
   "cell_type": "code",
   "execution_count": 37,
   "metadata": {},
   "outputs": [
    {
     "data": {
      "text/plain": [
       "aplica_gauss_em_b!"
      ]
     },
     "execution_count": 37,
     "metadata": {},
     "output_type": "execute_result"
    }
   ],
   "source": [
    "\"\"\"\n",
    "    aplica_gauss_em_b!(A, b)\n",
    "\n",
    "Faz a eliminação Gaussiana em b usando os mᵢⱼ guardados em A.\n",
    "\"\"\"\n",
    "function aplica_gauss_em_b!(A, b)\n",
    "    m, n = size(A)\n",
    "    if m != n\n",
    "        error(\"Dimensões de A devem ser iguais\")\n",
    "    end\n",
    "    for j = 1:n\n",
    "        for i = j+1:n\n",
    "            mij = A[i,j]\n",
    "            b[i] -= mij * b[j]\n",
    "        end\n",
    "    end\n",
    "end"
   ]
  },
  {
   "cell_type": "code",
   "execution_count": 54,
   "metadata": {},
   "outputs": [
    {
     "data": {
      "text/plain": [
       "5-element Array{Float64,1}:\n",
       " 2.4024951498598033\n",
       " 0.9843566793677092\n",
       " 2.4583553333020745\n",
       " 2.5542563802845066\n",
       " 2.5756630703631056"
      ]
     },
     "execution_count": 54,
     "metadata": {},
     "output_type": "execute_result"
    }
   ],
   "source": [
    "A = rand(5, 5)\n",
    "b = A * ones(5)\n",
    "borig = copy(b)"
   ]
  },
  {
   "cell_type": "code",
   "execution_count": 55,
   "metadata": {},
   "outputs": [],
   "source": [
    "elim_gauss!(A)"
   ]
  },
  {
   "cell_type": "code",
   "execution_count": 56,
   "metadata": {},
   "outputs": [
    {
     "data": {
      "text/plain": [
       "5×5 Array{Float64,2}:\n",
       " 0.680135  0.18241    0.835742    0.63255     0.0716576\n",
       " 0.323015  0.202769  -0.0715903  -0.0578755   0.135011\n",
       " 1.39858   2.98695   -0.951518   -0.252242   -0.320193\n",
       " 0.778123  3.8432     0.355667    0.309598    0.116649\n",
       " 0.447603  0.660669  -0.229387    1.26222     0.475079"
      ]
     },
     "execution_count": 56,
     "metadata": {},
     "output_type": "execute_result"
    }
   ],
   "source": [
    "A"
   ]
  },
  {
   "cell_type": "code",
   "execution_count": 57,
   "metadata": {},
   "outputs": [],
   "source": [
    "aplica_gauss_em_b!(A, b)"
   ]
  },
  {
   "cell_type": "code",
   "execution_count": 58,
   "metadata": {},
   "outputs": [
    {
     "data": {
      "text/plain": [
       "5-element Array{Float64,1}:\n",
       "  2.4024951498598033\n",
       "  0.20831375476827618\n",
       " -1.523953711534381\n",
       "  0.4262477700943291\n",
       "  0.47507936275238083"
      ]
     },
     "execution_count": 58,
     "metadata": {},
     "output_type": "execute_result"
    }
   ],
   "source": [
    "b"
   ]
  },
  {
   "cell_type": "code",
   "execution_count": 59,
   "metadata": {},
   "outputs": [
    {
     "data": {
      "text/plain": [
       "5-element Array{Float64,1}:\n",
       " 0.9999999999999993\n",
       " 1.0000000000000004\n",
       " 0.9999999999999997\n",
       " 1.0000000000000016\n",
       " 0.9999999999999991"
      ]
     },
     "execution_count": 59,
     "metadata": {},
     "output_type": "execute_result"
    }
   ],
   "source": [
    "resolve_tri_sup(A, b)"
   ]
  },
  {
   "cell_type": "code",
   "execution_count": 60,
   "metadata": {},
   "outputs": [
    {
     "data": {
      "text/plain": [
       "5-element Array{Float64,1}:\n",
       "  0.0\n",
       " -0.4530275276090504\n",
       "  0.4032228872535244\n",
       "  2.8489817440685146\n",
       "  0.040516677217706576"
      ]
     },
     "execution_count": 60,
     "metadata": {},
     "output_type": "execute_result"
    }
   ],
   "source": [
    "A * ones(5) - borig # A não pode ser usada diretamente mais"
   ]
  },
  {
   "cell_type": "code",
   "execution_count": 61,
   "metadata": {},
   "outputs": [
    {
     "data": {
      "text/plain": [
       "2-element Array{Float64,1}:\n",
       " 1.0\n",
       " 1.0"
      ]
     },
     "execution_count": 61,
     "metadata": {},
     "output_type": "execute_result"
    }
   ],
   "source": [
    "A = [0.0 1.0; 1.0 0.0]\n",
    "b = A * ones(2)"
   ]
  },
  {
   "cell_type": "code",
   "execution_count": 62,
   "metadata": {},
   "outputs": [],
   "source": [
    "elim_gauss!(A)"
   ]
  },
  {
   "cell_type": "code",
   "execution_count": 63,
   "metadata": {},
   "outputs": [
    {
     "data": {
      "text/plain": [
       "2×2 Array{Float64,2}:\n",
       "  0.0    1.0\n",
       " Inf   -Inf"
      ]
     },
     "execution_count": 63,
     "metadata": {},
     "output_type": "execute_result"
    }
   ],
   "source": [
    "A"
   ]
  },
  {
   "cell_type": "code",
   "execution_count": 75,
   "metadata": {},
   "outputs": [
    {
     "data": {
      "text/plain": [
       "2-element Array{Float64,1}:\n",
       " 0.9947598300641403\n",
       " 1.0"
      ]
     },
     "execution_count": 75,
     "metadata": {},
     "output_type": "execute_result"
    }
   ],
   "source": [
    "ϵ = 1e-12\n",
    "A = [ϵ 100; 1 ϵ]\n",
    "b = A * ones(2)\n",
    "\n",
    "elim_gauss!(A)\n",
    "aplica_gauss_em_b!(A, b)\n",
    "x = resolve_tri_sup(A, b)"
   ]
  },
  {
   "cell_type": "code",
   "execution_count": 71,
   "metadata": {},
   "outputs": [
    {
     "data": {
      "text/plain": [
       "2-element Array{Float64,1}:\n",
       " 1.0\n",
       " 1.0"
      ]
     },
     "execution_count": 71,
     "metadata": {},
     "output_type": "execute_result"
    }
   ],
   "source": [
    "ϵ = 1e-12\n",
    "A = [1 ϵ; ϵ 100]\n",
    "b = A * ones(2)\n",
    "\n",
    "elim_gauss!(A)\n",
    "aplica_gauss_em_b!(A, b)\n",
    "resolve_tri_sup(A, b)"
   ]
  },
  {
   "cell_type": "code",
   "execution_count": 74,
   "metadata": {},
   "outputs": [
    {
     "data": {
      "text/plain": [
       "true"
      ]
     },
     "execution_count": 74,
     "metadata": {},
     "output_type": "execute_result"
    }
   ],
   "source": [
    "ϵ - 100 / ϵ == -100 / ϵ"
   ]
  },
  {
   "cell_type": "code",
   "execution_count": 148,
   "metadata": {},
   "outputs": [
    {
     "data": {
      "text/plain": [
       "3-element Array{Float64,1}:\n",
       " 1.1661128356615558\n",
       " 1.5435688751015244\n",
       " 2.2099173314415927"
      ]
     },
     "execution_count": 148,
     "metadata": {},
     "output_type": "execute_result"
    }
   ],
   "source": [
    "A = rand(3, 3)\n",
    "b = A * ones(3)"
   ]
  },
  {
   "cell_type": "code",
   "execution_count": 149,
   "metadata": {},
   "outputs": [
    {
     "data": {
      "text/plain": [
       "3×3 Array{Float64,2}:\n",
       " 0.648606  0.00516242  0.512345\n",
       " 0.351231  0.995832    0.196506\n",
       " 0.763158  0.681334    0.765426"
      ]
     },
     "execution_count": 149,
     "metadata": {},
     "output_type": "execute_result"
    }
   ],
   "source": [
    "A"
   ]
  },
  {
   "cell_type": "code",
   "execution_count": 150,
   "metadata": {},
   "outputs": [
    {
     "data": {
      "text/plain": [
       "2-element Array{Float64,1}:\n",
       " 2.2099173314415927\n",
       " 1.1661128356615558"
      ]
     },
     "execution_count": 150,
     "metadata": {},
     "output_type": "execute_result"
    }
   ],
   "source": [
    "# Eliminar coluna 1\n",
    "j = 1\n",
    "k = argmax(abs.(A[:,j]))\n",
    "A[ [j, k], :] = A[ [k, j], :]\n",
    "b[ [j, k] ] = b[ [k, j] ]"
   ]
  },
  {
   "cell_type": "code",
   "execution_count": 151,
   "metadata": {},
   "outputs": [
    {
     "data": {
      "text/plain": [
       "-0.7120894103318514"
      ]
     },
     "execution_count": 151,
     "metadata": {},
     "output_type": "execute_result"
    }
   ],
   "source": [
    "m21 = A[2,1] / A[1,1]\n",
    "m31 = A[3,1] / A[1,1]\n",
    "A[2,:] -= A[1,:] * m21\n",
    "A[3,:] -= A[1,:] * m31\n",
    "b[2] -= m21 * b[1]\n",
    "b[3] -= m31 * b[1]"
   ]
  },
  {
   "cell_type": "code",
   "execution_count": 152,
   "metadata": {},
   "outputs": [
    {
     "data": {
      "text/plain": [
       "3×3 Array{Float64,2}:\n",
       " 0.763158   0.681334   0.765426\n",
       " 0.0        0.682259  -0.155769\n",
       " 0.0       -0.573901  -0.138188"
      ]
     },
     "execution_count": 152,
     "metadata": {},
     "output_type": "execute_result"
    }
   ],
   "source": [
    "A"
   ]
  },
  {
   "cell_type": "code",
   "execution_count": 153,
   "metadata": {},
   "outputs": [],
   "source": [
    "# Eliminar coluna 2\n",
    "j = 2\n",
    "k = argmax(abs.(A[j:end,j])) + j - 1\n",
    "if k != j\n",
    "    A[ [j, k], :] = A[ [k, j], :]\n",
    "    b[ [j, k] ] = b[ [k, j] ]\n",
    "end"
   ]
  },
  {
   "cell_type": "code",
   "execution_count": 154,
   "metadata": {},
   "outputs": [
    {
     "data": {
      "text/plain": [
       "-0.2692180903351308"
      ]
     },
     "execution_count": 154,
     "metadata": {},
     "output_type": "execute_result"
    }
   ],
   "source": [
    "m32 = A[3,2] / A[2,2]\n",
    "A[3,:] -= A[2,:] * m32\n",
    "b[3] -= m32 * b[2]"
   ]
  },
  {
   "cell_type": "code",
   "execution_count": 155,
   "metadata": {},
   "outputs": [
    {
     "data": {
      "text/plain": [
       "3×3 Array{Float64,2}:\n",
       " 0.763158  0.681334   0.765426\n",
       " 0.0       0.682259  -0.155769\n",
       " 0.0       0.0       -0.269218"
      ]
     },
     "execution_count": 155,
     "metadata": {},
     "output_type": "execute_result"
    }
   ],
   "source": [
    "A"
   ]
  },
  {
   "cell_type": "code",
   "execution_count": 156,
   "metadata": {},
   "outputs": [
    {
     "data": {
      "text/plain": [
       "3-element Array{Float64,1}:\n",
       "  2.2099173314415927\n",
       "  0.5264895849529283\n",
       " -0.2692180903351308"
      ]
     },
     "execution_count": 156,
     "metadata": {},
     "output_type": "execute_result"
    }
   ],
   "source": [
    "b"
   ]
  },
  {
   "cell_type": "code",
   "execution_count": 157,
   "metadata": {},
   "outputs": [
    {
     "data": {
      "text/plain": [
       "3-element Array{Float64,1}:\n",
       " 1.0000000000000002\n",
       " 1.0\n",
       " 0.9999999999999996"
      ]
     },
     "execution_count": 157,
     "metadata": {},
     "output_type": "execute_result"
    }
   ],
   "source": [
    "A \\ b"
   ]
  },
  {
   "cell_type": "code",
   "execution_count": 159,
   "metadata": {},
   "outputs": [
    {
     "data": {
      "text/plain": [
       "elim_gauss_pivo!"
      ]
     },
     "execution_count": 159,
     "metadata": {},
     "output_type": "execute_result"
    }
   ],
   "source": [
    "\"\"\"\n",
    "    elim_gauss_pivo!(A, b)\n",
    "\n",
    "Modifica A e b fazendo a eliminação Gaussiana.\n",
    "\"\"\"\n",
    "function elim_gauss_pivo!(A, b)\n",
    "    m, n = size(A)\n",
    "    for j = 1:n\n",
    "        cols = j+1:n\n",
    "        k = argmax(abs.(A[j:n,j])) + j - 1\n",
    "        if k != j\n",
    "            A[ [j, k], :] = A[ [k, j], :]\n",
    "            b[ [j, k] ] = b[ [k, j] ]\n",
    "        end\n",
    "        for i = j+1:m\n",
    "            mij = A[i,j] / A[j,j]\n",
    "            A[i,cols] -= mij * A[j,cols]\n",
    "            A[i,j] = 0.0\n",
    "            b[i] -= mij * b[j]\n",
    "        end\n",
    "    end\n",
    "end"
   ]
  },
  {
   "cell_type": "code",
   "execution_count": 161,
   "metadata": {},
   "outputs": [
    {
     "data": {
      "text/plain": [
       "10-element Array{Float64,1}:\n",
       " 1.000000000000003\n",
       " 1.0000000000000009\n",
       " 0.9999999999999997\n",
       " 1.0000000000000004\n",
       " 1.0000000000000018\n",
       " 1.0000000000000004\n",
       " 1.0000000000000002\n",
       " 0.9999999999999982\n",
       " 0.9999999999999987\n",
       " 0.9999999999999979"
      ]
     },
     "execution_count": 161,
     "metadata": {},
     "output_type": "execute_result"
    }
   ],
   "source": [
    "A = rand(10, 10)\n",
    "b = A * ones(10)\n",
    "elim_gauss_pivo!(A, b)\n",
    "resolve_tri_sup(A, b)"
   ]
  },
  {
   "cell_type": "code",
   "execution_count": 165,
   "metadata": {
    "scrolled": true
   },
   "outputs": [
    {
     "data": {
      "text/plain": [
       "10×10 Array{Float64,2}:\n",
       " 10.0  1.0  1.0  1.0  1.0  1.0  1.0  1.0  1.0  1.0\n",
       "  1.0  1.0  0.0  0.0  0.0  0.0  0.0  0.0  0.0  0.0\n",
       "  1.0  0.0  1.0  0.0  0.0  0.0  0.0  0.0  0.0  0.0\n",
       "  1.0  0.0  0.0  1.0  0.0  0.0  0.0  0.0  0.0  0.0\n",
       "  1.0  0.0  0.0  0.0  1.0  0.0  0.0  0.0  0.0  0.0\n",
       "  1.0  0.0  0.0  0.0  0.0  1.0  0.0  0.0  0.0  0.0\n",
       "  1.0  0.0  0.0  0.0  0.0  0.0  1.0  0.0  0.0  0.0\n",
       "  1.0  0.0  0.0  0.0  0.0  0.0  0.0  1.0  0.0  0.0\n",
       "  1.0  0.0  0.0  0.0  0.0  0.0  0.0  0.0  1.0  0.0\n",
       "  1.0  0.0  0.0  0.0  0.0  0.0  0.0  0.0  0.0  1.0"
      ]
     },
     "execution_count": 165,
     "metadata": {},
     "output_type": "execute_result"
    }
   ],
   "source": [
    "using LinearAlgebra\n",
    "\n",
    "n = 10\n",
    "A = Matrix(1.0I, n, n)\n",
    "A[1,:] .= 1\n",
    "A[:,1] .= 1\n",
    "A[1,1] = n\n",
    "Aorig = copy(A)\n",
    "A"
   ]
  },
  {
   "cell_type": "code",
   "execution_count": 166,
   "metadata": {},
   "outputs": [],
   "source": [
    "elim_gauss!(A)"
   ]
  },
  {
   "cell_type": "code",
   "execution_count": 167,
   "metadata": {},
   "outputs": [
    {
     "data": {
      "text/plain": [
       "10×10 Array{Float64,2}:\n",
       " 10.0   1.0        1.0        1.0       …   1.0        1.0        1.0\n",
       "  0.1   0.9       -0.1       -0.1          -0.1       -0.1       -0.1\n",
       "  0.1  -0.111111   0.888889  -0.111111     -0.111111  -0.111111  -0.111111\n",
       "  0.1  -0.111111  -0.125      0.875        -0.125     -0.125     -0.125\n",
       "  0.1  -0.111111  -0.125     -0.142857     -0.142857  -0.142857  -0.142857\n",
       "  0.1  -0.111111  -0.125     -0.142857  …  -0.166667  -0.166667  -0.166667\n",
       "  0.1  -0.111111  -0.125     -0.142857     -0.2       -0.2       -0.2\n",
       "  0.1  -0.111111  -0.125     -0.142857      0.75      -0.25      -0.25\n",
       "  0.1  -0.111111  -0.125     -0.142857     -0.333333   0.666667  -0.333333\n",
       "  0.1  -0.111111  -0.125     -0.142857     -0.333333  -0.5        0.5"
      ]
     },
     "execution_count": 167,
     "metadata": {},
     "output_type": "execute_result"
    }
   ],
   "source": [
    "A"
   ]
  },
  {
   "cell_type": "code",
   "execution_count": 169,
   "metadata": {},
   "outputs": [
    {
     "data": {
      "text/plain": [
       "10×10 Array{Float64,2}:\n",
       " 1.0  0.0  0.0  0.0  0.0  0.0  0.0  0.0  0.0   1.0\n",
       " 0.0  1.0  0.0  0.0  0.0  0.0  0.0  0.0  0.0  -1.0\n",
       " 0.0  0.0  1.0  0.0  0.0  0.0  0.0  0.0  0.0  -1.0\n",
       " 0.0  0.0  0.0  1.0  0.0  0.0  0.0  0.0  0.0  -1.0\n",
       " 0.0  0.0  0.0  0.0  1.0  0.0  0.0  0.0  0.0  -1.0\n",
       " 0.0  0.0  0.0  0.0  0.0  1.0  0.0  0.0  0.0  -1.0\n",
       " 0.0  0.0  0.0  0.0  0.0  0.0  1.0  0.0  0.0  -1.0\n",
       " 0.0  0.0  0.0  0.0  0.0  0.0  0.0  1.0  0.0  -1.0\n",
       " 0.0  0.0  0.0  0.0  0.0  0.0  0.0  0.0  1.0  -1.0\n",
       " 0.0  0.0  0.0  0.0  0.0  0.0  0.0  0.0  0.0  -1.0"
      ]
     },
     "execution_count": 169,
     "metadata": {},
     "output_type": "execute_result"
    }
   ],
   "source": [
    "A = copy(Aorig)\n",
    "A[[1,n],:] = A[[n,1],:]\n",
    "elim_gauss!(A)\n",
    "triu(A)"
   ]
  },
  {
   "cell_type": "code",
   "execution_count": 172,
   "metadata": {},
   "outputs": [
    {
     "data": {
      "text/plain": [
       "10×10 Array{Float64,2}:\n",
       "  0.0  0.0  0.0  0.0  0.0  0.0  0.0  0.0  0.0  0.0\n",
       "  1.0  0.0  0.0  0.0  0.0  0.0  0.0  0.0  0.0  0.0\n",
       "  1.0  0.0  0.0  0.0  0.0  0.0  0.0  0.0  0.0  0.0\n",
       "  1.0  0.0  0.0  0.0  0.0  0.0  0.0  0.0  0.0  0.0\n",
       "  1.0  0.0  0.0  0.0  0.0  0.0  0.0  0.0  0.0  0.0\n",
       "  1.0  0.0  0.0  0.0  0.0  0.0  0.0  0.0  0.0  0.0\n",
       "  1.0  0.0  0.0  0.0  0.0  0.0  0.0  0.0  0.0  0.0\n",
       "  1.0  0.0  0.0  0.0  0.0  0.0  0.0  0.0  0.0  0.0\n",
       "  1.0  0.0  0.0  0.0  0.0  0.0  0.0  0.0  0.0  0.0\n",
       " 10.0  1.0  1.0  1.0  1.0  1.0  1.0  1.0  1.0  0.0"
      ]
     },
     "execution_count": 172,
     "metadata": {},
     "output_type": "execute_result"
    }
   ],
   "source": [
    "tril(A, -1)"
   ]
  },
  {
   "cell_type": "code",
   "execution_count": 173,
   "metadata": {},
   "outputs": [
    {
     "data": {
      "text/plain": [
       "10×10 Array{Float64,2}:\n",
       " 1.0  0.0  0.0  0.0  0.0  0.0  0.0  0.0  0.0  1.0\n",
       " 0.0  1.0  0.0  0.0  0.0  0.0  0.0  0.0  0.0  1.0\n",
       " 0.0  0.0  1.0  0.0  0.0  0.0  0.0  0.0  0.0  1.0\n",
       " 0.0  0.0  0.0  1.0  0.0  0.0  0.0  0.0  0.0  1.0\n",
       " 0.0  0.0  0.0  0.0  1.0  0.0  0.0  0.0  0.0  1.0\n",
       " 0.0  0.0  0.0  0.0  0.0  1.0  0.0  0.0  0.0  1.0\n",
       " 0.0  0.0  0.0  0.0  0.0  0.0  1.0  0.0  0.0  1.0\n",
       " 0.0  0.0  0.0  0.0  0.0  0.0  0.0  1.0  0.0  1.0\n",
       " 0.0  0.0  0.0  0.0  0.0  0.0  0.0  0.0  1.0  1.0\n",
       " 0.0  0.0  0.0  0.0  0.0  0.0  0.0  0.0  0.0  1.0"
      ]
     },
     "execution_count": 173,
     "metadata": {},
     "output_type": "execute_result"
    }
   ],
   "source": [
    "A = copy(Aorig)\n",
    "A[[1,n],:] = A[[n,1],:]\n",
    "A[:,[1,n]] = A[:,[n,1]]\n",
    "elim_gauss!(A)\n",
    "triu(A)"
   ]
  },
  {
   "cell_type": "code",
   "execution_count": 174,
   "metadata": {},
   "outputs": [
    {
     "data": {
      "text/plain": [
       "10×10 Array{Float64,2}:\n",
       " 0.0  0.0  0.0  0.0  0.0  0.0  0.0  0.0  0.0  0.0\n",
       " 0.0  0.0  0.0  0.0  0.0  0.0  0.0  0.0  0.0  0.0\n",
       " 0.0  0.0  0.0  0.0  0.0  0.0  0.0  0.0  0.0  0.0\n",
       " 0.0  0.0  0.0  0.0  0.0  0.0  0.0  0.0  0.0  0.0\n",
       " 0.0  0.0  0.0  0.0  0.0  0.0  0.0  0.0  0.0  0.0\n",
       " 0.0  0.0  0.0  0.0  0.0  0.0  0.0  0.0  0.0  0.0\n",
       " 0.0  0.0  0.0  0.0  0.0  0.0  0.0  0.0  0.0  0.0\n",
       " 0.0  0.0  0.0  0.0  0.0  0.0  0.0  0.0  0.0  0.0\n",
       " 0.0  0.0  0.0  0.0  0.0  0.0  0.0  0.0  0.0  0.0\n",
       " 1.0  1.0  1.0  1.0  1.0  1.0  1.0  1.0  1.0  0.0"
      ]
     },
     "execution_count": 174,
     "metadata": {},
     "output_type": "execute_result"
    }
   ],
   "source": [
    "tril(A,-1)"
   ]
  },
  {
   "cell_type": "code",
   "execution_count": null,
   "metadata": {},
   "outputs": [],
   "source": []
  }
 ],
 "metadata": {
  "kernelspec": {
   "display_name": "Julia 1.4.0",
   "language": "julia",
   "name": "julia-1.4"
  },
  "language_info": {
   "file_extension": ".jl",
   "mimetype": "application/julia",
   "name": "julia",
   "version": "1.4.0"
  }
 },
 "nbformat": 4,
 "nbformat_minor": 4
}
