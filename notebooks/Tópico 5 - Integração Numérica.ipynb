{
 "cells": [
  {
   "cell_type": "markdown",
   "metadata": {},
   "source": [
    "# Integração Numérica\n",
    "\n",
    "Em cálculo I aprendemos que\n",
    "$$ \\int_a^b f(x)\\mbox{d}x = F(b) - F(a), $$\n",
    "se $f$ for uma função integrável, e onde $F$ é uma primitiva de $f$.\n",
    "\n",
    "No entanto, nem sempre é fácil encontrar uma primitiva para $F$.\n",
    "Às vezes, pode ser impossível, como em\n",
    "$$ \\int_a^b e^{-x^2}\\mbox{d}x. $$"
   ]
  },
  {
   "cell_type": "markdown",
   "metadata": {},
   "source": [
    "Por sorte, muitas vezes uma aproximação numérica é suficiente para nosso objetivo.\n",
    "\n",
    "Vamos estudar alguns métodos de aproximação numérica, a maior parte deles usando valores da\n",
    "função $f$ em pontos selecionados, isto é\n",
    "$$ \\int_a^bf(x)\\mbox{d}x \\approx \\sum_{i=1}^m A_if(x_i), $$\n",
    "para uma quantidade de pontos $m$, pontos $x_i$ e valores $A_i$.\n",
    "\n",
    "Salvo indicação contrária, iremos supor que $x_1 < x_2 < \\dots < x_m$."
   ]
  },
  {
   "cell_type": "markdown",
   "metadata": {},
   "source": [
    "## Fórmulas de Newton-Cotes\n",
    "\n",
    "As fórmulas de Newton-Cotes provém da **interpolação polinomial da função $f$** em pontos igualmente espaços do\n",
    "intervalo $[a,b]$. Se os intervalos estiverem entre os pontos escolhidos, isto é, se $x_1 = a$ e\n",
    "$x_m = b$, então a fórmula é dita **fechada**. Caso contrário, aberta."
   ]
  },
  {
   "cell_type": "markdown",
   "metadata": {},
   "source": [
    "Uma interpolação polinomial da função $f$ nos pontos $x_1, \\dots, x_m$, é uma função polinomial $p$ que satisfaz $p(x_i) = f(x_i)$, para $i = 1,\\dots,m$."
   ]
  },
  {
   "cell_type": "markdown",
   "metadata": {},
   "source": [
    "As fórmulas de Newton-Cotes fechadas terão os pontos $x_i$ descritos por\n",
    "$$ x_i = a + (i-1)h, $$\n",
    "onde $h = \\dfrac{b-a}{m-1}$."
   ]
  },
  {
   "cell_type": "code",
   "execution_count": 1,
   "metadata": {},
   "outputs": [
    {
     "data": {
      "text/plain": [
       "Plots.GRBackend()"
      ]
     },
     "execution_count": 1,
     "metadata": {},
     "output_type": "execute_result"
    }
   ],
   "source": [
    "using Plots\n",
    "gr(size=(400,300))"
   ]
  },
  {
   "cell_type": "code",
   "execution_count": 2,
   "metadata": {},
   "outputs": [
    {
     "data": {
      "text/plain": [
       "0.2"
      ]
     },
     "execution_count": 2,
     "metadata": {},
     "output_type": "execute_result"
    }
   ],
   "source": [
    "a = 1.0\n",
    "b = 3.0\n",
    "m = 11\n",
    "h = (b - a) / (m - 1)"
   ]
  },
  {
   "cell_type": "code",
   "execution_count": 3,
   "metadata": {},
   "outputs": [
    {
     "data": {
      "text/plain": [
       "1.0:0.2:3.0"
      ]
     },
     "execution_count": 3,
     "metadata": {},
     "output_type": "execute_result"
    }
   ],
   "source": [
    "range(a, b, length=m)"
   ]
  },
  {
   "cell_type": "code",
   "execution_count": 4,
   "metadata": {},
   "outputs": [
    {
     "data": {
      "text/plain": [
       "11-element Array{Float64,1}:\n",
       " 1.0\n",
       " 1.2\n",
       " 1.4\n",
       " 1.6\n",
       " 1.8\n",
       " 2.0\n",
       " 2.2\n",
       " 2.4\n",
       " 2.6\n",
       " 2.8\n",
       " 3.0"
      ]
     },
     "execution_count": 4,
     "metadata": {},
     "output_type": "execute_result"
    }
   ],
   "source": [
    "collect(range(a, b, length=m))"
   ]
  },
  {
   "cell_type": "code",
   "execution_count": 5,
   "metadata": {},
   "outputs": [
    {
     "data": {
      "image/svg+xml": [
       "<?xml version=\"1.0\" encoding=\"utf-8\"?>\n",
       "<svg xmlns=\"http://www.w3.org/2000/svg\" xmlns:xlink=\"http://www.w3.org/1999/xlink\" width=\"400\" height=\"300\" viewBox=\"0 0 1600 1200\">\n",
       "<defs>\n",
       "  <clipPath id=\"clip8200\">\n",
       "    <rect x=\"0\" y=\"0\" width=\"1600\" height=\"1200\"/>\n",
       "  </clipPath>\n",
       "</defs>\n",
       "<polygon clip-path=\"url(#clip8200)\" points=\"\n",
       "0,1200 1600,1200 1600,0 0,0 \n",
       "  \" fill=\"#ffffff\" fill-rule=\"evenodd\" fill-opacity=\"1\"/>\n",
       "<defs>\n",
       "  <clipPath id=\"clip8201\">\n",
       "    <rect x=\"320\" y=\"0\" width=\"1121\" height=\"1121\"/>\n",
       "  </clipPath>\n",
       "</defs>\n",
       "<polygon clip-path=\"url(#clip8200)\" points=\"\n",
       "182.008,1087.47 1552.76,1087.47 1552.76,47.2441 182.008,47.2441 \n",
       "  \" fill=\"#ffffff\" fill-rule=\"evenodd\" fill-opacity=\"1\"/>\n",
       "<defs>\n",
       "  <clipPath id=\"clip8202\">\n",
       "    <rect x=\"182\" y=\"47\" width=\"1372\" height=\"1041\"/>\n",
       "  </clipPath>\n",
       "</defs>\n",
       "<polyline clip-path=\"url(#clip8202)\" style=\"stroke:#000000; stroke-width:2; stroke-opacity:0.1; fill:none\" points=\"\n",
       "  220.803,1087.47 220.803,47.2441 \n",
       "  \"/>\n",
       "<polyline clip-path=\"url(#clip8202)\" style=\"stroke:#000000; stroke-width:2; stroke-opacity:0.1; fill:none\" points=\"\n",
       "  544.092,1087.47 544.092,47.2441 \n",
       "  \"/>\n",
       "<polyline clip-path=\"url(#clip8202)\" style=\"stroke:#000000; stroke-width:2; stroke-opacity:0.1; fill:none\" points=\"\n",
       "  867.382,1087.47 867.382,47.2441 \n",
       "  \"/>\n",
       "<polyline clip-path=\"url(#clip8202)\" style=\"stroke:#000000; stroke-width:2; stroke-opacity:0.1; fill:none\" points=\"\n",
       "  1190.67,1087.47 1190.67,47.2441 \n",
       "  \"/>\n",
       "<polyline clip-path=\"url(#clip8202)\" style=\"stroke:#000000; stroke-width:2; stroke-opacity:0.1; fill:none\" points=\"\n",
       "  1513.96,1087.47 1513.96,47.2441 \n",
       "  \"/>\n",
       "<polyline clip-path=\"url(#clip8202)\" style=\"stroke:#000000; stroke-width:2; stroke-opacity:0.1; fill:none\" points=\"\n",
       "  182.008,1087.47 1552.76,1087.47 \n",
       "  \"/>\n",
       "<polyline clip-path=\"url(#clip8202)\" style=\"stroke:#000000; stroke-width:2; stroke-opacity:0.1; fill:none\" points=\"\n",
       "  182.008,827.417 1552.76,827.417 \n",
       "  \"/>\n",
       "<polyline clip-path=\"url(#clip8202)\" style=\"stroke:#000000; stroke-width:2; stroke-opacity:0.1; fill:none\" points=\"\n",
       "  182.008,567.359 1552.76,567.359 \n",
       "  \"/>\n",
       "<polyline clip-path=\"url(#clip8202)\" style=\"stroke:#000000; stroke-width:2; stroke-opacity:0.1; fill:none\" points=\"\n",
       "  182.008,307.302 1552.76,307.302 \n",
       "  \"/>\n",
       "<polyline clip-path=\"url(#clip8202)\" style=\"stroke:#000000; stroke-width:2; stroke-opacity:0.1; fill:none\" points=\"\n",
       "  182.008,47.2441 1552.76,47.2441 \n",
       "  \"/>\n",
       "<polyline clip-path=\"url(#clip8200)\" style=\"stroke:#000000; stroke-width:4; stroke-opacity:1; fill:none\" points=\"\n",
       "  182.008,1087.47 1552.76,1087.47 \n",
       "  \"/>\n",
       "<polyline clip-path=\"url(#clip8200)\" style=\"stroke:#000000; stroke-width:4; stroke-opacity:1; fill:none\" points=\"\n",
       "  182.008,1087.47 182.008,47.2441 \n",
       "  \"/>\n",
       "<polyline clip-path=\"url(#clip8200)\" style=\"stroke:#000000; stroke-width:4; stroke-opacity:1; fill:none\" points=\"\n",
       "  220.803,1087.47 220.803,1071.87 \n",
       "  \"/>\n",
       "<polyline clip-path=\"url(#clip8200)\" style=\"stroke:#000000; stroke-width:4; stroke-opacity:1; fill:none\" points=\"\n",
       "  544.092,1087.47 544.092,1071.87 \n",
       "  \"/>\n",
       "<polyline clip-path=\"url(#clip8200)\" style=\"stroke:#000000; stroke-width:4; stroke-opacity:1; fill:none\" points=\"\n",
       "  867.382,1087.47 867.382,1071.87 \n",
       "  \"/>\n",
       "<polyline clip-path=\"url(#clip8200)\" style=\"stroke:#000000; stroke-width:4; stroke-opacity:1; fill:none\" points=\"\n",
       "  1190.67,1087.47 1190.67,1071.87 \n",
       "  \"/>\n",
       "<polyline clip-path=\"url(#clip8200)\" style=\"stroke:#000000; stroke-width:4; stroke-opacity:1; fill:none\" points=\"\n",
       "  1513.96,1087.47 1513.96,1071.87 \n",
       "  \"/>\n",
       "<polyline clip-path=\"url(#clip8200)\" style=\"stroke:#000000; stroke-width:4; stroke-opacity:1; fill:none\" points=\"\n",
       "  182.008,1087.47 202.569,1087.47 \n",
       "  \"/>\n",
       "<polyline clip-path=\"url(#clip8200)\" style=\"stroke:#000000; stroke-width:4; stroke-opacity:1; fill:none\" points=\"\n",
       "  182.008,827.417 202.569,827.417 \n",
       "  \"/>\n",
       "<polyline clip-path=\"url(#clip8200)\" style=\"stroke:#000000; stroke-width:4; stroke-opacity:1; fill:none\" points=\"\n",
       "  182.008,567.359 202.569,567.359 \n",
       "  \"/>\n",
       "<polyline clip-path=\"url(#clip8200)\" style=\"stroke:#000000; stroke-width:4; stroke-opacity:1; fill:none\" points=\"\n",
       "  182.008,307.302 202.569,307.302 \n",
       "  \"/>\n",
       "<polyline clip-path=\"url(#clip8200)\" style=\"stroke:#000000; stroke-width:4; stroke-opacity:1; fill:none\" points=\"\n",
       "  182.008,47.2441 202.569,47.2441 \n",
       "  \"/>\n",
       "<g clip-path=\"url(#clip8200)\">\n",
       "<text style=\"fill:#000000; fill-opacity:1; font-family:Arial,Helvetica Neue,Helvetica,sans-serif; font-size:48px; text-anchor:middle;\" transform=\"rotate(0, 220.803, 1137.47)\" x=\"220.803\" y=\"1137.47\">1.0</text>\n",
       "</g>\n",
       "<g clip-path=\"url(#clip8200)\">\n",
       "<text style=\"fill:#000000; fill-opacity:1; font-family:Arial,Helvetica Neue,Helvetica,sans-serif; font-size:48px; text-anchor:middle;\" transform=\"rotate(0, 544.092, 1137.47)\" x=\"544.092\" y=\"1137.47\">1.5</text>\n",
       "</g>\n",
       "<g clip-path=\"url(#clip8200)\">\n",
       "<text style=\"fill:#000000; fill-opacity:1; font-family:Arial,Helvetica Neue,Helvetica,sans-serif; font-size:48px; text-anchor:middle;\" transform=\"rotate(0, 867.382, 1137.47)\" x=\"867.382\" y=\"1137.47\">2.0</text>\n",
       "</g>\n",
       "<g clip-path=\"url(#clip8200)\">\n",
       "<text style=\"fill:#000000; fill-opacity:1; font-family:Arial,Helvetica Neue,Helvetica,sans-serif; font-size:48px; text-anchor:middle;\" transform=\"rotate(0, 1190.67, 1137.47)\" x=\"1190.67\" y=\"1137.47\">2.5</text>\n",
       "</g>\n",
       "<g clip-path=\"url(#clip8200)\">\n",
       "<text style=\"fill:#000000; fill-opacity:1; font-family:Arial,Helvetica Neue,Helvetica,sans-serif; font-size:48px; text-anchor:middle;\" transform=\"rotate(0, 1513.96, 1137.47)\" x=\"1513.96\" y=\"1137.47\">3.0</text>\n",
       "</g>\n",
       "<g clip-path=\"url(#clip8200)\">\n",
       "<text style=\"fill:#000000; fill-opacity:1; font-family:Arial,Helvetica Neue,Helvetica,sans-serif; font-size:48px; text-anchor:end;\" transform=\"rotate(0, 166.008, 1104.97)\" x=\"166.008\" y=\"1104.97\">-1.0</text>\n",
       "</g>\n",
       "<g clip-path=\"url(#clip8200)\">\n",
       "<text style=\"fill:#000000; fill-opacity:1; font-family:Arial,Helvetica Neue,Helvetica,sans-serif; font-size:48px; text-anchor:end;\" transform=\"rotate(0, 166.008, 844.917)\" x=\"166.008\" y=\"844.917\">-0.5</text>\n",
       "</g>\n",
       "<g clip-path=\"url(#clip8200)\">\n",
       "<text style=\"fill:#000000; fill-opacity:1; font-family:Arial,Helvetica Neue,Helvetica,sans-serif; font-size:48px; text-anchor:end;\" transform=\"rotate(0, 166.008, 584.859)\" x=\"166.008\" y=\"584.859\">0.0</text>\n",
       "</g>\n",
       "<g clip-path=\"url(#clip8200)\">\n",
       "<text style=\"fill:#000000; fill-opacity:1; font-family:Arial,Helvetica Neue,Helvetica,sans-serif; font-size:48px; text-anchor:end;\" transform=\"rotate(0, 166.008, 324.802)\" x=\"166.008\" y=\"324.802\">0.5</text>\n",
       "</g>\n",
       "<g clip-path=\"url(#clip8200)\">\n",
       "<text style=\"fill:#000000; fill-opacity:1; font-family:Arial,Helvetica Neue,Helvetica,sans-serif; font-size:48px; text-anchor:end;\" transform=\"rotate(0, 166.008, 64.7441)\" x=\"166.008\" y=\"64.7441\">1.0</text>\n",
       "</g>\n",
       "<circle clip-path=\"url(#clip8202)\" style=\"fill:#000000; stroke:none; fill-opacity:1\" cx=\"220.803\" cy=\"567.359\" r=\"39\"/>\n",
       "<circle clip-path=\"url(#clip8202)\" style=\"fill:#0000ff; stroke:none; fill-opacity:1\" cx=\"220.803\" cy=\"567.359\" r=\"36\"/>\n",
       "<circle clip-path=\"url(#clip8202)\" style=\"fill:#000000; stroke:none; fill-opacity:1\" cx=\"1513.96\" cy=\"567.359\" r=\"39\"/>\n",
       "<circle clip-path=\"url(#clip8202)\" style=\"fill:#0000ff; stroke:none; fill-opacity:1\" cx=\"1513.96\" cy=\"567.359\" r=\"36\"/>\n",
       "<circle clip-path=\"url(#clip8202)\" style=\"fill:#000000; stroke:none; fill-opacity:1\" cx=\"220.803\" cy=\"567.359\" r=\"18\"/>\n",
       "<circle clip-path=\"url(#clip8202)\" style=\"fill:#ff0000; stroke:none; fill-opacity:1\" cx=\"220.803\" cy=\"567.359\" r=\"14\"/>\n",
       "<circle clip-path=\"url(#clip8202)\" style=\"fill:#000000; stroke:none; fill-opacity:1\" cx=\"350.119\" cy=\"567.359\" r=\"18\"/>\n",
       "<circle clip-path=\"url(#clip8202)\" style=\"fill:#ff0000; stroke:none; fill-opacity:1\" cx=\"350.119\" cy=\"567.359\" r=\"14\"/>\n",
       "<circle clip-path=\"url(#clip8202)\" style=\"fill:#000000; stroke:none; fill-opacity:1\" cx=\"479.434\" cy=\"567.359\" r=\"18\"/>\n",
       "<circle clip-path=\"url(#clip8202)\" style=\"fill:#ff0000; stroke:none; fill-opacity:1\" cx=\"479.434\" cy=\"567.359\" r=\"14\"/>\n",
       "<circle clip-path=\"url(#clip8202)\" style=\"fill:#000000; stroke:none; fill-opacity:1\" cx=\"608.75\" cy=\"567.359\" r=\"18\"/>\n",
       "<circle clip-path=\"url(#clip8202)\" style=\"fill:#ff0000; stroke:none; fill-opacity:1\" cx=\"608.75\" cy=\"567.359\" r=\"14\"/>\n",
       "<circle clip-path=\"url(#clip8202)\" style=\"fill:#000000; stroke:none; fill-opacity:1\" cx=\"738.066\" cy=\"567.359\" r=\"18\"/>\n",
       "<circle clip-path=\"url(#clip8202)\" style=\"fill:#ff0000; stroke:none; fill-opacity:1\" cx=\"738.066\" cy=\"567.359\" r=\"14\"/>\n",
       "<circle clip-path=\"url(#clip8202)\" style=\"fill:#000000; stroke:none; fill-opacity:1\" cx=\"867.382\" cy=\"567.359\" r=\"18\"/>\n",
       "<circle clip-path=\"url(#clip8202)\" style=\"fill:#ff0000; stroke:none; fill-opacity:1\" cx=\"867.382\" cy=\"567.359\" r=\"14\"/>\n",
       "<circle clip-path=\"url(#clip8202)\" style=\"fill:#000000; stroke:none; fill-opacity:1\" cx=\"996.698\" cy=\"567.359\" r=\"18\"/>\n",
       "<circle clip-path=\"url(#clip8202)\" style=\"fill:#ff0000; stroke:none; fill-opacity:1\" cx=\"996.698\" cy=\"567.359\" r=\"14\"/>\n",
       "<circle clip-path=\"url(#clip8202)\" style=\"fill:#000000; stroke:none; fill-opacity:1\" cx=\"1126.01\" cy=\"567.359\" r=\"18\"/>\n",
       "<circle clip-path=\"url(#clip8202)\" style=\"fill:#ff0000; stroke:none; fill-opacity:1\" cx=\"1126.01\" cy=\"567.359\" r=\"14\"/>\n",
       "<circle clip-path=\"url(#clip8202)\" style=\"fill:#000000; stroke:none; fill-opacity:1\" cx=\"1255.33\" cy=\"567.359\" r=\"18\"/>\n",
       "<circle clip-path=\"url(#clip8202)\" style=\"fill:#ff0000; stroke:none; fill-opacity:1\" cx=\"1255.33\" cy=\"567.359\" r=\"14\"/>\n",
       "<circle clip-path=\"url(#clip8202)\" style=\"fill:#000000; stroke:none; fill-opacity:1\" cx=\"1384.65\" cy=\"567.359\" r=\"18\"/>\n",
       "<circle clip-path=\"url(#clip8202)\" style=\"fill:#ff0000; stroke:none; fill-opacity:1\" cx=\"1384.65\" cy=\"567.359\" r=\"14\"/>\n",
       "<circle clip-path=\"url(#clip8202)\" style=\"fill:#000000; stroke:none; fill-opacity:1\" cx=\"1513.96\" cy=\"567.359\" r=\"18\"/>\n",
       "<circle clip-path=\"url(#clip8202)\" style=\"fill:#ff0000; stroke:none; fill-opacity:1\" cx=\"1513.96\" cy=\"567.359\" r=\"14\"/>\n",
       "</svg>\n"
      ]
     },
     "execution_count": 5,
     "metadata": {},
     "output_type": "execute_result"
    }
   ],
   "source": [
    "scatter([a; b], zeros(2), c=:blue, ms=10, leg=false)\n",
    "scatter!(range(a, b, length=m), zeros(m), c=:red)\n",
    "ylims!(-1, 1)"
   ]
  },
  {
   "cell_type": "markdown",
   "metadata": {},
   "source": [
    "No caso das fórmula abertas, o espaçamento entre os pontos é $h$, mas começamos a contar depois de $a$ e paramos antes de $b$. Desse modo, podemos pensar que o espaçamento é $h$ no intervalo fechado $[a + h, b - h]$.\n",
    "De modo que\n",
    "$$ h = \\frac{b - h - (a + h)}{m - 1}. $$"
   ]
  },
  {
   "cell_type": "markdown",
   "metadata": {},
   "source": [
    "Resolvendo essa equação para encontrar $h$, obtemos\n",
    "$$ h = \\frac{b - a}{m+1}. $$"
   ]
  },
  {
   "cell_type": "code",
   "execution_count": 6,
   "metadata": {},
   "outputs": [
    {
     "data": {
      "text/plain": [
       "0.2"
      ]
     },
     "execution_count": 6,
     "metadata": {},
     "output_type": "execute_result"
    }
   ],
   "source": [
    "a = 1.0\n",
    "b = 3.0\n",
    "m = 9\n",
    "h = (b - a) / (m + 1)"
   ]
  },
  {
   "cell_type": "code",
   "execution_count": 7,
   "metadata": {
    "scrolled": true
   },
   "outputs": [
    {
     "data": {
      "text/plain": [
       "9-element Array{Float64,1}:\n",
       " 1.2\n",
       " 1.4\n",
       " 1.6\n",
       " 1.8\n",
       " 2.0\n",
       " 2.2\n",
       " 2.4\n",
       " 2.6\n",
       " 2.8"
      ]
     },
     "execution_count": 7,
     "metadata": {},
     "output_type": "execute_result"
    }
   ],
   "source": [
    "collect(range(a+h, b-h, length=m))"
   ]
  },
  {
   "cell_type": "code",
   "execution_count": 8,
   "metadata": {},
   "outputs": [
    {
     "data": {
      "image/svg+xml": [
       "<?xml version=\"1.0\" encoding=\"utf-8\"?>\n",
       "<svg xmlns=\"http://www.w3.org/2000/svg\" xmlns:xlink=\"http://www.w3.org/1999/xlink\" width=\"400\" height=\"300\" viewBox=\"0 0 1600 1200\">\n",
       "<defs>\n",
       "  <clipPath id=\"clip5000\">\n",
       "    <rect x=\"0\" y=\"0\" width=\"1600\" height=\"1200\"/>\n",
       "  </clipPath>\n",
       "</defs>\n",
       "<polygon clip-path=\"url(#clip5000)\" points=\"\n",
       "0,1200 1600,1200 1600,0 0,0 \n",
       "  \" fill=\"#ffffff\" fill-rule=\"evenodd\" fill-opacity=\"1\"/>\n",
       "<defs>\n",
       "  <clipPath id=\"clip5001\">\n",
       "    <rect x=\"320\" y=\"0\" width=\"1121\" height=\"1121\"/>\n",
       "  </clipPath>\n",
       "</defs>\n",
       "<polygon clip-path=\"url(#clip5000)\" points=\"\n",
       "174.008,1087.28 1552.76,1087.28 1552.76,47.2441 174.008,47.2441 \n",
       "  \" fill=\"#ffffff\" fill-rule=\"evenodd\" fill-opacity=\"1\"/>\n",
       "<defs>\n",
       "  <clipPath id=\"clip5002\">\n",
       "    <rect x=\"174\" y=\"47\" width=\"1380\" height=\"1041\"/>\n",
       "  </clipPath>\n",
       "</defs>\n",
       "<polyline clip-path=\"url(#clip5002)\" style=\"stroke:#000000; stroke-width:2; stroke-opacity:0.1; fill:none\" points=\"\n",
       "  213.029,1087.28 213.029,47.2441 \n",
       "  \"/>\n",
       "<polyline clip-path=\"url(#clip5002)\" style=\"stroke:#000000; stroke-width:2; stroke-opacity:0.1; fill:none\" points=\"\n",
       "  538.206,1087.28 538.206,47.2441 \n",
       "  \"/>\n",
       "<polyline clip-path=\"url(#clip5002)\" style=\"stroke:#000000; stroke-width:2; stroke-opacity:0.1; fill:none\" points=\"\n",
       "  863.382,1087.28 863.382,47.2441 \n",
       "  \"/>\n",
       "<polyline clip-path=\"url(#clip5002)\" style=\"stroke:#000000; stroke-width:2; stroke-opacity:0.1; fill:none\" points=\"\n",
       "  1188.56,1087.28 1188.56,47.2441 \n",
       "  \"/>\n",
       "<polyline clip-path=\"url(#clip5002)\" style=\"stroke:#000000; stroke-width:2; stroke-opacity:0.1; fill:none\" points=\"\n",
       "  1513.73,1087.28 1513.73,47.2441 \n",
       "  \"/>\n",
       "<polyline clip-path=\"url(#clip5002)\" style=\"stroke:#000000; stroke-width:2; stroke-opacity:0.1; fill:none\" points=\"\n",
       "  174.008,1087.28 1552.76,1087.28 \n",
       "  \"/>\n",
       "<polyline clip-path=\"url(#clip5002)\" style=\"stroke:#000000; stroke-width:2; stroke-opacity:0.1; fill:none\" points=\"\n",
       "  174.008,827.273 1552.76,827.273 \n",
       "  \"/>\n",
       "<polyline clip-path=\"url(#clip5002)\" style=\"stroke:#000000; stroke-width:2; stroke-opacity:0.1; fill:none\" points=\"\n",
       "  174.008,567.264 1552.76,567.264 \n",
       "  \"/>\n",
       "<polyline clip-path=\"url(#clip5002)\" style=\"stroke:#000000; stroke-width:2; stroke-opacity:0.1; fill:none\" points=\"\n",
       "  174.008,307.254 1552.76,307.254 \n",
       "  \"/>\n",
       "<polyline clip-path=\"url(#clip5002)\" style=\"stroke:#000000; stroke-width:2; stroke-opacity:0.1; fill:none\" points=\"\n",
       "  174.008,47.2441 1552.76,47.2441 \n",
       "  \"/>\n",
       "<polyline clip-path=\"url(#clip5000)\" style=\"stroke:#000000; stroke-width:4; stroke-opacity:1; fill:none\" points=\"\n",
       "  174.008,1087.28 1552.76,1087.28 \n",
       "  \"/>\n",
       "<polyline clip-path=\"url(#clip5000)\" style=\"stroke:#000000; stroke-width:4; stroke-opacity:1; fill:none\" points=\"\n",
       "  174.008,1087.28 174.008,47.2441 \n",
       "  \"/>\n",
       "<polyline clip-path=\"url(#clip5000)\" style=\"stroke:#000000; stroke-width:4; stroke-opacity:1; fill:none\" points=\"\n",
       "  213.029,1087.28 213.029,1071.68 \n",
       "  \"/>\n",
       "<polyline clip-path=\"url(#clip5000)\" style=\"stroke:#000000; stroke-width:4; stroke-opacity:1; fill:none\" points=\"\n",
       "  538.206,1087.28 538.206,1071.68 \n",
       "  \"/>\n",
       "<polyline clip-path=\"url(#clip5000)\" style=\"stroke:#000000; stroke-width:4; stroke-opacity:1; fill:none\" points=\"\n",
       "  863.382,1087.28 863.382,1071.68 \n",
       "  \"/>\n",
       "<polyline clip-path=\"url(#clip5000)\" style=\"stroke:#000000; stroke-width:4; stroke-opacity:1; fill:none\" points=\"\n",
       "  1188.56,1087.28 1188.56,1071.68 \n",
       "  \"/>\n",
       "<polyline clip-path=\"url(#clip5000)\" style=\"stroke:#000000; stroke-width:4; stroke-opacity:1; fill:none\" points=\"\n",
       "  1513.73,1087.28 1513.73,1071.68 \n",
       "  \"/>\n",
       "<polyline clip-path=\"url(#clip5000)\" style=\"stroke:#000000; stroke-width:4; stroke-opacity:1; fill:none\" points=\"\n",
       "  174.008,1087.28 194.689,1087.28 \n",
       "  \"/>\n",
       "<polyline clip-path=\"url(#clip5000)\" style=\"stroke:#000000; stroke-width:4; stroke-opacity:1; fill:none\" points=\"\n",
       "  174.008,827.273 194.689,827.273 \n",
       "  \"/>\n",
       "<polyline clip-path=\"url(#clip5000)\" style=\"stroke:#000000; stroke-width:4; stroke-opacity:1; fill:none\" points=\"\n",
       "  174.008,567.264 194.689,567.264 \n",
       "  \"/>\n",
       "<polyline clip-path=\"url(#clip5000)\" style=\"stroke:#000000; stroke-width:4; stroke-opacity:1; fill:none\" points=\"\n",
       "  174.008,307.254 194.689,307.254 \n",
       "  \"/>\n",
       "<polyline clip-path=\"url(#clip5000)\" style=\"stroke:#000000; stroke-width:4; stroke-opacity:1; fill:none\" points=\"\n",
       "  174.008,47.2441 194.689,47.2441 \n",
       "  \"/>\n",
       "<g clip-path=\"url(#clip5000)\">\n",
       "<text style=\"fill:#000000; fill-opacity:1; font-family:Arial,Helvetica Neue,Helvetica,sans-serif; font-size:48px; text-anchor:middle;\" transform=\"rotate(0, 213.029, 1137.28)\" x=\"213.029\" y=\"1137.28\">1.0</text>\n",
       "</g>\n",
       "<g clip-path=\"url(#clip5000)\">\n",
       "<text style=\"fill:#000000; fill-opacity:1; font-family:Arial,Helvetica Neue,Helvetica,sans-serif; font-size:48px; text-anchor:middle;\" transform=\"rotate(0, 538.206, 1137.28)\" x=\"538.206\" y=\"1137.28\">1.5</text>\n",
       "</g>\n",
       "<g clip-path=\"url(#clip5000)\">\n",
       "<text style=\"fill:#000000; fill-opacity:1; font-family:Arial,Helvetica Neue,Helvetica,sans-serif; font-size:48px; text-anchor:middle;\" transform=\"rotate(0, 863.382, 1137.28)\" x=\"863.382\" y=\"1137.28\">2.0</text>\n",
       "</g>\n",
       "<g clip-path=\"url(#clip5000)\">\n",
       "<text style=\"fill:#000000; fill-opacity:1; font-family:Arial,Helvetica Neue,Helvetica,sans-serif; font-size:48px; text-anchor:middle;\" transform=\"rotate(0, 1188.56, 1137.28)\" x=\"1188.56\" y=\"1137.28\">2.5</text>\n",
       "</g>\n",
       "<g clip-path=\"url(#clip5000)\">\n",
       "<text style=\"fill:#000000; fill-opacity:1; font-family:Arial,Helvetica Neue,Helvetica,sans-serif; font-size:48px; text-anchor:middle;\" transform=\"rotate(0, 1513.73, 1137.28)\" x=\"1513.73\" y=\"1137.28\">3.0</text>\n",
       "</g>\n",
       "<g clip-path=\"url(#clip5000)\">\n",
       "<text style=\"fill:#000000; fill-opacity:1; font-family:Arial,Helvetica Neue,Helvetica,sans-serif; font-size:48px; text-anchor:end;\" transform=\"rotate(0, 158.008, 1104.78)\" x=\"158.008\" y=\"1104.78\">-1.0</text>\n",
       "</g>\n",
       "<g clip-path=\"url(#clip5000)\">\n",
       "<text style=\"fill:#000000; fill-opacity:1; font-family:Arial,Helvetica Neue,Helvetica,sans-serif; font-size:48px; text-anchor:end;\" transform=\"rotate(0, 158.008, 844.773)\" x=\"158.008\" y=\"844.773\">-0.5</text>\n",
       "</g>\n",
       "<g clip-path=\"url(#clip5000)\">\n",
       "<text style=\"fill:#000000; fill-opacity:1; font-family:Arial,Helvetica Neue,Helvetica,sans-serif; font-size:48px; text-anchor:end;\" transform=\"rotate(0, 158.008, 584.764)\" x=\"158.008\" y=\"584.764\">0.0</text>\n",
       "</g>\n",
       "<g clip-path=\"url(#clip5000)\">\n",
       "<text style=\"fill:#000000; fill-opacity:1; font-family:Arial,Helvetica Neue,Helvetica,sans-serif; font-size:48px; text-anchor:end;\" transform=\"rotate(0, 158.008, 324.754)\" x=\"158.008\" y=\"324.754\">0.5</text>\n",
       "</g>\n",
       "<g clip-path=\"url(#clip5000)\">\n",
       "<text style=\"fill:#000000; fill-opacity:1; font-family:Arial,Helvetica Neue,Helvetica,sans-serif; font-size:48px; text-anchor:end;\" transform=\"rotate(0, 158.008, 64.7441)\" x=\"158.008\" y=\"64.7441\">1.0</text>\n",
       "</g>\n",
       "<circle clip-path=\"url(#clip5002)\" style=\"fill:#000000; stroke:none; fill-opacity:1\" cx=\"213.029\" cy=\"567.264\" r=\"39\"/>\n",
       "<circle clip-path=\"url(#clip5002)\" style=\"fill:#0000ff; stroke:none; fill-opacity:1\" cx=\"213.029\" cy=\"567.264\" r=\"36\"/>\n",
       "<circle clip-path=\"url(#clip5002)\" style=\"fill:#000000; stroke:none; fill-opacity:1\" cx=\"1513.73\" cy=\"567.264\" r=\"39\"/>\n",
       "<circle clip-path=\"url(#clip5002)\" style=\"fill:#0000ff; stroke:none; fill-opacity:1\" cx=\"1513.73\" cy=\"567.264\" r=\"36\"/>\n",
       "<circle clip-path=\"url(#clip5002)\" style=\"fill:#000000; stroke:none; fill-opacity:1\" cx=\"343.1\" cy=\"567.264\" r=\"18\"/>\n",
       "<circle clip-path=\"url(#clip5002)\" style=\"fill:#ff0000; stroke:none; fill-opacity:1\" cx=\"343.1\" cy=\"567.264\" r=\"14\"/>\n",
       "<circle clip-path=\"url(#clip5002)\" style=\"fill:#000000; stroke:none; fill-opacity:1\" cx=\"473.17\" cy=\"567.264\" r=\"18\"/>\n",
       "<circle clip-path=\"url(#clip5002)\" style=\"fill:#ff0000; stroke:none; fill-opacity:1\" cx=\"473.17\" cy=\"567.264\" r=\"14\"/>\n",
       "<circle clip-path=\"url(#clip5002)\" style=\"fill:#000000; stroke:none; fill-opacity:1\" cx=\"603.241\" cy=\"567.264\" r=\"18\"/>\n",
       "<circle clip-path=\"url(#clip5002)\" style=\"fill:#ff0000; stroke:none; fill-opacity:1\" cx=\"603.241\" cy=\"567.264\" r=\"14\"/>\n",
       "<circle clip-path=\"url(#clip5002)\" style=\"fill:#000000; stroke:none; fill-opacity:1\" cx=\"733.311\" cy=\"567.264\" r=\"18\"/>\n",
       "<circle clip-path=\"url(#clip5002)\" style=\"fill:#ff0000; stroke:none; fill-opacity:1\" cx=\"733.311\" cy=\"567.264\" r=\"14\"/>\n",
       "<circle clip-path=\"url(#clip5002)\" style=\"fill:#000000; stroke:none; fill-opacity:1\" cx=\"863.382\" cy=\"567.264\" r=\"18\"/>\n",
       "<circle clip-path=\"url(#clip5002)\" style=\"fill:#ff0000; stroke:none; fill-opacity:1\" cx=\"863.382\" cy=\"567.264\" r=\"14\"/>\n",
       "<circle clip-path=\"url(#clip5002)\" style=\"fill:#000000; stroke:none; fill-opacity:1\" cx=\"993.453\" cy=\"567.264\" r=\"18\"/>\n",
       "<circle clip-path=\"url(#clip5002)\" style=\"fill:#ff0000; stroke:none; fill-opacity:1\" cx=\"993.453\" cy=\"567.264\" r=\"14\"/>\n",
       "<circle clip-path=\"url(#clip5002)\" style=\"fill:#000000; stroke:none; fill-opacity:1\" cx=\"1123.52\" cy=\"567.264\" r=\"18\"/>\n",
       "<circle clip-path=\"url(#clip5002)\" style=\"fill:#ff0000; stroke:none; fill-opacity:1\" cx=\"1123.52\" cy=\"567.264\" r=\"14\"/>\n",
       "<circle clip-path=\"url(#clip5002)\" style=\"fill:#000000; stroke:none; fill-opacity:1\" cx=\"1253.59\" cy=\"567.264\" r=\"18\"/>\n",
       "<circle clip-path=\"url(#clip5002)\" style=\"fill:#ff0000; stroke:none; fill-opacity:1\" cx=\"1253.59\" cy=\"567.264\" r=\"14\"/>\n",
       "<circle clip-path=\"url(#clip5002)\" style=\"fill:#000000; stroke:none; fill-opacity:1\" cx=\"1383.66\" cy=\"567.264\" r=\"18\"/>\n",
       "<circle clip-path=\"url(#clip5002)\" style=\"fill:#ff0000; stroke:none; fill-opacity:1\" cx=\"1383.66\" cy=\"567.264\" r=\"14\"/>\n",
       "</svg>\n"
      ]
     },
     "execution_count": 8,
     "metadata": {},
     "output_type": "execute_result"
    }
   ],
   "source": [
    "scatter([a; b], zeros(2), c=:blue, ms=10, leg=false)\n",
    "scatter!(range(a+h, b-h, length=m), zeros(m), c=:red)\n",
    "ylims!(-1, 1)"
   ]
  },
  {
   "cell_type": "markdown",
   "metadata": {},
   "source": [
    "### Ponto-Médio\n",
    "\n",
    "Vamos começar considerando uma simples aproximação para $f$: uma interpolação de um ponto.\n",
    "$$ p(x) = f\\bigg(\\frac{a+b}{2}\\bigg), $$\n",
    "isto é, $p$ é uma função constante. Essa aproximação resulta em\n",
    "$$ \\int_a^b f(x)\\mbox{d}x \\approx \\int_a^bf((a+b)/2)\\mbox{d}x = (b-a)f\\bigg(\\frac{a+b}{2}\\bigg). $$"
   ]
  },
  {
   "cell_type": "code",
   "execution_count": 9,
   "metadata": {},
   "outputs": [
    {
     "data": {
      "text/plain": [
       "0.040482624332528035"
      ]
     },
     "execution_count": 9,
     "metadata": {},
     "output_type": "execute_result"
    }
   ],
   "source": [
    "f(x) = exp(x)\n",
    "a, b = 0, 1\n",
    "Iexata = MathConstants.e - 1\n",
    "IPM = (b - a) * f( (a + b) / 2 )\n",
    "ErroPM = Iexata - IPM\n",
    "ErroRelPM = abs(ErroPM) / Iexata"
   ]
  },
  {
   "cell_type": "code",
   "execution_count": 10,
   "metadata": {},
   "outputs": [
    {
     "data": {
      "text/plain": [
       "integral_PM (generic function with 1 method)"
      ]
     },
     "execution_count": 10,
     "metadata": {},
     "output_type": "execute_result"
    }
   ],
   "source": [
    "function integral_PM(f, a, b)\n",
    "    x = (a + b) / 2\n",
    "    h = (b - a) / 2\n",
    "    return 2h * f(x)\n",
    "end"
   ]
  },
  {
   "cell_type": "code",
   "execution_count": 11,
   "metadata": {},
   "outputs": [
    {
     "data": {
      "text/plain": [
       "1.6487212707001282"
      ]
     },
     "execution_count": 11,
     "metadata": {},
     "output_type": "execute_result"
    }
   ],
   "source": [
    "integral_PM(exp, 0, 1)"
   ]
  },
  {
   "cell_type": "markdown",
   "metadata": {},
   "source": [
    "Essa aproximação é chamada de regra do **ponto-médio**, e é uma fórmula aberta. Note que não é possível uma fórmula fechada de um ponto, por motivos óbvios."
   ]
  },
  {
   "cell_type": "markdown",
   "metadata": {},
   "source": [
    "Note que, como $[a,b]$ foi divido em dois, temos $h = (b-a)/2$. Daí, podemos escrever\n",
    "$$ \\int_a^b f(x)\\mbox{d}x \\approx 2h f(x_1). $$"
   ]
  },
  {
   "cell_type": "code",
   "execution_count": 12,
   "metadata": {
    "scrolled": true
   },
   "outputs": [
    {
     "data": {
      "image/svg+xml": [
       "<?xml version=\"1.0\" encoding=\"utf-8\"?>\n",
       "<svg xmlns=\"http://www.w3.org/2000/svg\" xmlns:xlink=\"http://www.w3.org/1999/xlink\" width=\"400\" height=\"300\" viewBox=\"0 0 1600 1200\">\n",
       "<defs>\n",
       "  <clipPath id=\"clip5400\">\n",
       "    <rect x=\"0\" y=\"0\" width=\"1600\" height=\"1200\"/>\n",
       "  </clipPath>\n",
       "</defs>\n",
       "<polygon clip-path=\"url(#clip5400)\" points=\"\n",
       "0,1200 1600,1200 1600,0 0,0 \n",
       "  \" fill=\"#ffffff\" fill-rule=\"evenodd\" fill-opacity=\"1\"/>\n",
       "<defs>\n",
       "  <clipPath id=\"clip5401\">\n",
       "    <rect x=\"320\" y=\"0\" width=\"1121\" height=\"1121\"/>\n",
       "  </clipPath>\n",
       "</defs>\n",
       "<polygon clip-path=\"url(#clip5400)\" points=\"\n",
       "172.66,1087.28 1552.76,1087.28 1552.76,47.2441 172.66,47.2441 \n",
       "  \" fill=\"#ffffff\" fill-rule=\"evenodd\" fill-opacity=\"1\"/>\n",
       "<defs>\n",
       "  <clipPath id=\"clip5402\">\n",
       "    <rect x=\"172\" y=\"47\" width=\"1381\" height=\"1041\"/>\n",
       "  </clipPath>\n",
       "</defs>\n",
       "<polyline clip-path=\"url(#clip5402)\" style=\"stroke:#000000; stroke-width:2; stroke-opacity:0.1; fill:none\" points=\"\n",
       "  208.523,1087.28 208.523,47.2441 \n",
       "  \"/>\n",
       "<polyline clip-path=\"url(#clip5402)\" style=\"stroke:#000000; stroke-width:2; stroke-opacity:0.1; fill:none\" points=\"\n",
       "  535.856,1087.28 535.856,47.2441 \n",
       "  \"/>\n",
       "<polyline clip-path=\"url(#clip5402)\" style=\"stroke:#000000; stroke-width:2; stroke-opacity:0.1; fill:none\" points=\"\n",
       "  863.19,1087.28 863.19,47.2441 \n",
       "  \"/>\n",
       "<polyline clip-path=\"url(#clip5402)\" style=\"stroke:#000000; stroke-width:2; stroke-opacity:0.1; fill:none\" points=\"\n",
       "  1190.52,1087.28 1190.52,47.2441 \n",
       "  \"/>\n",
       "<polyline clip-path=\"url(#clip5402)\" style=\"stroke:#000000; stroke-width:2; stroke-opacity:0.1; fill:none\" points=\"\n",
       "  1517.86,1087.28 1517.86,47.2441 \n",
       "  \"/>\n",
       "<polyline clip-path=\"url(#clip5402)\" style=\"stroke:#000000; stroke-width:2; stroke-opacity:0.1; fill:none\" points=\"\n",
       "  172.66,1057.85 1552.76,1057.85 \n",
       "  \"/>\n",
       "<polyline clip-path=\"url(#clip5402)\" style=\"stroke:#000000; stroke-width:2; stroke-opacity:0.1; fill:none\" points=\"\n",
       "  172.66,830.561 1552.76,830.561 \n",
       "  \"/>\n",
       "<polyline clip-path=\"url(#clip5402)\" style=\"stroke:#000000; stroke-width:2; stroke-opacity:0.1; fill:none\" points=\"\n",
       "  172.66,603.273 1552.76,603.273 \n",
       "  \"/>\n",
       "<polyline clip-path=\"url(#clip5402)\" style=\"stroke:#000000; stroke-width:2; stroke-opacity:0.1; fill:none\" points=\"\n",
       "  172.66,375.986 1552.76,375.986 \n",
       "  \"/>\n",
       "<polyline clip-path=\"url(#clip5402)\" style=\"stroke:#000000; stroke-width:2; stroke-opacity:0.1; fill:none\" points=\"\n",
       "  172.66,148.698 1552.76,148.698 \n",
       "  \"/>\n",
       "<polyline clip-path=\"url(#clip5400)\" style=\"stroke:#000000; stroke-width:4; stroke-opacity:1; fill:none\" points=\"\n",
       "  172.66,1087.28 1552.76,1087.28 \n",
       "  \"/>\n",
       "<polyline clip-path=\"url(#clip5400)\" style=\"stroke:#000000; stroke-width:4; stroke-opacity:1; fill:none\" points=\"\n",
       "  172.66,1087.28 172.66,47.2441 \n",
       "  \"/>\n",
       "<polyline clip-path=\"url(#clip5400)\" style=\"stroke:#000000; stroke-width:4; stroke-opacity:1; fill:none\" points=\"\n",
       "  208.523,1087.28 208.523,1071.68 \n",
       "  \"/>\n",
       "<polyline clip-path=\"url(#clip5400)\" style=\"stroke:#000000; stroke-width:4; stroke-opacity:1; fill:none\" points=\"\n",
       "  535.856,1087.28 535.856,1071.68 \n",
       "  \"/>\n",
       "<polyline clip-path=\"url(#clip5400)\" style=\"stroke:#000000; stroke-width:4; stroke-opacity:1; fill:none\" points=\"\n",
       "  863.19,1087.28 863.19,1071.68 \n",
       "  \"/>\n",
       "<polyline clip-path=\"url(#clip5400)\" style=\"stroke:#000000; stroke-width:4; stroke-opacity:1; fill:none\" points=\"\n",
       "  1190.52,1087.28 1190.52,1071.68 \n",
       "  \"/>\n",
       "<polyline clip-path=\"url(#clip5400)\" style=\"stroke:#000000; stroke-width:4; stroke-opacity:1; fill:none\" points=\"\n",
       "  1517.86,1087.28 1517.86,1071.68 \n",
       "  \"/>\n",
       "<polyline clip-path=\"url(#clip5400)\" style=\"stroke:#000000; stroke-width:4; stroke-opacity:1; fill:none\" points=\"\n",
       "  172.66,1057.85 193.362,1057.85 \n",
       "  \"/>\n",
       "<polyline clip-path=\"url(#clip5400)\" style=\"stroke:#000000; stroke-width:4; stroke-opacity:1; fill:none\" points=\"\n",
       "  172.66,830.561 193.362,830.561 \n",
       "  \"/>\n",
       "<polyline clip-path=\"url(#clip5400)\" style=\"stroke:#000000; stroke-width:4; stroke-opacity:1; fill:none\" points=\"\n",
       "  172.66,603.273 193.362,603.273 \n",
       "  \"/>\n",
       "<polyline clip-path=\"url(#clip5400)\" style=\"stroke:#000000; stroke-width:4; stroke-opacity:1; fill:none\" points=\"\n",
       "  172.66,375.986 193.362,375.986 \n",
       "  \"/>\n",
       "<polyline clip-path=\"url(#clip5400)\" style=\"stroke:#000000; stroke-width:4; stroke-opacity:1; fill:none\" points=\"\n",
       "  172.66,148.698 193.362,148.698 \n",
       "  \"/>\n",
       "<g clip-path=\"url(#clip5400)\">\n",
       "<text style=\"fill:#000000; fill-opacity:1; font-family:Arial,Helvetica Neue,Helvetica,sans-serif; font-size:48px; text-anchor:middle;\" transform=\"rotate(0, 208.523, 1137.28)\" x=\"208.523\" y=\"1137.28\">-2</text>\n",
       "</g>\n",
       "<g clip-path=\"url(#clip5400)\">\n",
       "<text style=\"fill:#000000; fill-opacity:1; font-family:Arial,Helvetica Neue,Helvetica,sans-serif; font-size:48px; text-anchor:middle;\" transform=\"rotate(0, 535.856, 1137.28)\" x=\"535.856\" y=\"1137.28\">-1</text>\n",
       "</g>\n",
       "<g clip-path=\"url(#clip5400)\">\n",
       "<text style=\"fill:#000000; fill-opacity:1; font-family:Arial,Helvetica Neue,Helvetica,sans-serif; font-size:48px; text-anchor:middle;\" transform=\"rotate(0, 863.19, 1137.28)\" x=\"863.19\" y=\"1137.28\">0</text>\n",
       "</g>\n",
       "<g clip-path=\"url(#clip5400)\">\n",
       "<text style=\"fill:#000000; fill-opacity:1; font-family:Arial,Helvetica Neue,Helvetica,sans-serif; font-size:48px; text-anchor:middle;\" transform=\"rotate(0, 1190.52, 1137.28)\" x=\"1190.52\" y=\"1137.28\">1</text>\n",
       "</g>\n",
       "<g clip-path=\"url(#clip5400)\">\n",
       "<text style=\"fill:#000000; fill-opacity:1; font-family:Arial,Helvetica Neue,Helvetica,sans-serif; font-size:48px; text-anchor:middle;\" transform=\"rotate(0, 1517.86, 1137.28)\" x=\"1517.86\" y=\"1137.28\">2</text>\n",
       "</g>\n",
       "<g clip-path=\"url(#clip5400)\">\n",
       "<text style=\"fill:#000000; fill-opacity:1; font-family:Arial,Helvetica Neue,Helvetica,sans-serif; font-size:48px; text-anchor:end;\" transform=\"rotate(0, 156.66, 1075.35)\" x=\"156.66\" y=\"1075.35\">0.0</text>\n",
       "</g>\n",
       "<g clip-path=\"url(#clip5400)\">\n",
       "<text style=\"fill:#000000; fill-opacity:1; font-family:Arial,Helvetica Neue,Helvetica,sans-serif; font-size:48px; text-anchor:end;\" transform=\"rotate(0, 156.66, 848.061)\" x=\"156.66\" y=\"848.061\">2.5</text>\n",
       "</g>\n",
       "<g clip-path=\"url(#clip5400)\">\n",
       "<text style=\"fill:#000000; fill-opacity:1; font-family:Arial,Helvetica Neue,Helvetica,sans-serif; font-size:48px; text-anchor:end;\" transform=\"rotate(0, 156.66, 620.773)\" x=\"156.66\" y=\"620.773\">5.0</text>\n",
       "</g>\n",
       "<g clip-path=\"url(#clip5400)\">\n",
       "<text style=\"fill:#000000; fill-opacity:1; font-family:Arial,Helvetica Neue,Helvetica,sans-serif; font-size:48px; text-anchor:end;\" transform=\"rotate(0, 156.66, 393.486)\" x=\"156.66\" y=\"393.486\">7.5</text>\n",
       "</g>\n",
       "<g clip-path=\"url(#clip5400)\">\n",
       "<text style=\"fill:#000000; fill-opacity:1; font-family:Arial,Helvetica Neue,Helvetica,sans-serif; font-size:48px; text-anchor:end;\" transform=\"rotate(0, 156.66, 166.198)\" x=\"156.66\" y=\"166.198\">10.0</text>\n",
       "</g>\n",
       "<polygon clip-path=\"url(#clip5402)\" points=\"\n",
       "211.72,727.413 214.916,727.867 218.113,728.698 221.31,729.898 236.089,739.842 250.868,755.445 265.647,773.811 280.425,791.549 295.204,805.372 309.983,812.687 \n",
       "  324.762,812.057 339.541,803.453 357.304,784.61 375.067,760.876 392.831,738.044 410.594,721.662 425.612,715.788 440.631,718.227 455.649,728.322 470.667,743.996 \n",
       "  486.982,763.698 503.296,781.726 519.61,793.851 535.924,797.108 550.965,791.301 566.005,777.81 581.045,758.818 596.086,737.508 612.21,716.177 628.335,700.394 \n",
       "  636.398,695.551 644.46,693.045 652.522,692.95 660.585,695.206 679.267,708.235 697.949,728.165 716.631,748.499 735.313,762.571 743.615,765.419 751.916,765.758 \n",
       "  760.217,763.476 768.518,758.607 785.121,741.957 801.723,718.739 816.282,696.397 830.841,675.618 845.4,659.374 859.959,649.82 875.832,648.129 891.705,654.935 \n",
       "  907.578,667.866 923.451,683.246 939.419,696.909 955.386,704.783 963.37,705.599 971.354,704.028 979.337,699.992 987.321,693.536 1004.97,671.684 1022.63,642.653 \n",
       "  1040.28,611.795 1057.94,584.816 1066.34,574.754 1074.73,566.981 1083.13,561.69 1091.53,558.923 1108.33,560.373 1125.13,568.765 1142.59,580.251 1160.06,588.996 \n",
       "  1168.79,590.69 1177.52,589.903 1186.26,586.287 1194.99,579.659 1209.69,561.777 1224.39,536.533 1239.09,506.234 1253.8,473.98 1271.75,436.797 1289.7,406.908 \n",
       "  1298.67,395.776 1307.65,387.403 1316.62,381.703 1325.59,378.395 1342.47,376.931 1359.34,377.905 1376.21,376.225 1393.09,367.153 1406.6,352.265 1420.12,329.776 \n",
       "  1433.64,300.001 1447.15,264.214 1474.18,183.221 1501.22,106.286 1505.38,95.9042 1509.54,86.0281 1513.7,76.6792 1513.7,1057.85 1509.54,1057.85 1505.38,1057.85 \n",
       "  1501.22,1057.85 1474.18,1057.85 1447.15,1057.85 1433.64,1057.85 1420.12,1057.85 1406.6,1057.85 1393.09,1057.85 1376.21,1057.85 1359.34,1057.85 1342.47,1057.85 \n",
       "  1325.59,1057.85 1316.62,1057.85 1307.65,1057.85 1298.67,1057.85 1289.7,1057.85 1271.75,1057.85 1253.8,1057.85 1239.09,1057.85 1224.39,1057.85 1209.69,1057.85 \n",
       "  1194.99,1057.85 1186.26,1057.85 1177.52,1057.85 1168.79,1057.85 1160.06,1057.85 1142.59,1057.85 1125.13,1057.85 1108.33,1057.85 1091.53,1057.85 1083.13,1057.85 \n",
       "  1074.73,1057.85 1066.34,1057.85 1057.94,1057.85 1040.28,1057.85 1022.63,1057.85 1004.97,1057.85 987.321,1057.85 979.337,1057.85 971.354,1057.85 963.37,1057.85 \n",
       "  955.386,1057.85 939.419,1057.85 923.451,1057.85 907.578,1057.85 891.705,1057.85 875.832,1057.85 859.959,1057.85 845.4,1057.85 830.841,1057.85 816.282,1057.85 \n",
       "  801.723,1057.85 785.121,1057.85 768.518,1057.85 760.217,1057.85 751.916,1057.85 743.615,1057.85 735.313,1057.85 716.631,1057.85 697.949,1057.85 679.267,1057.85 \n",
       "  660.585,1057.85 652.522,1057.85 644.46,1057.85 636.398,1057.85 628.335,1057.85 612.21,1057.85 596.086,1057.85 581.045,1057.85 566.005,1057.85 550.965,1057.85 \n",
       "  535.924,1057.85 519.61,1057.85 503.296,1057.85 486.982,1057.85 470.667,1057.85 455.649,1057.85 440.631,1057.85 425.612,1057.85 410.594,1057.85 392.831,1057.85 \n",
       "  375.067,1057.85 357.304,1057.85 339.541,1057.85 324.762,1057.85 309.983,1057.85 295.204,1057.85 280.425,1057.85 265.647,1057.85 250.868,1057.85 236.089,1057.85 \n",
       "  221.31,1057.85 218.113,1057.85 214.916,1057.85 211.72,1057.85 \n",
       "  \" fill=\"#ff0000\" fill-rule=\"evenodd\" fill-opacity=\"0.5\"/>\n",
       "<polyline clip-path=\"url(#clip5402)\" style=\"stroke:#ff0000; stroke-width:4; stroke-opacity:1; fill:none\" points=\"\n",
       "  211.72,727.413 214.916,727.867 218.113,728.698 221.31,729.898 236.089,739.842 250.868,755.445 265.647,773.811 280.425,791.549 295.204,805.372 309.983,812.687 \n",
       "  324.762,812.057 339.541,803.453 357.304,784.61 375.067,760.876 392.831,738.044 410.594,721.662 425.612,715.788 440.631,718.227 455.649,728.322 470.667,743.996 \n",
       "  486.982,763.698 503.296,781.726 519.61,793.851 535.924,797.108 550.965,791.301 566.005,777.81 581.045,758.818 596.086,737.508 612.21,716.177 628.335,700.394 \n",
       "  636.398,695.551 644.46,693.045 652.522,692.95 660.585,695.206 679.267,708.235 697.949,728.165 716.631,748.499 735.313,762.571 743.615,765.419 751.916,765.758 \n",
       "  760.217,763.476 768.518,758.607 785.121,741.957 801.723,718.739 816.282,696.397 830.841,675.618 845.4,659.374 859.959,649.82 875.832,648.129 891.705,654.935 \n",
       "  907.578,667.866 923.451,683.246 939.419,696.909 955.386,704.783 963.37,705.599 971.354,704.028 979.337,699.992 987.321,693.536 1004.97,671.684 1022.63,642.653 \n",
       "  1040.28,611.795 1057.94,584.816 1066.34,574.754 1074.73,566.981 1083.13,561.69 1091.53,558.923 1108.33,560.373 1125.13,568.765 1142.59,580.251 1160.06,588.996 \n",
       "  1168.79,590.69 1177.52,589.903 1186.26,586.287 1194.99,579.659 1209.69,561.777 1224.39,536.533 1239.09,506.234 1253.8,473.98 1271.75,436.797 1289.7,406.908 \n",
       "  1298.67,395.776 1307.65,387.403 1316.62,381.703 1325.59,378.395 1342.47,376.931 1359.34,377.905 1376.21,376.225 1393.09,367.153 1406.6,352.265 1420.12,329.776 \n",
       "  1433.64,300.001 1447.15,264.214 1474.18,183.221 1501.22,106.286 1505.38,95.9042 1509.54,86.0281 1513.7,76.6792 \n",
       "  \"/>\n",
       "<polygon clip-path=\"url(#clip5402)\" points=\"\n",
       "221.31,648.731 339.541,648.731 410.594,648.731 470.667,648.731 535.924,648.731 596.086,648.731 660.585,648.731 735.313,648.731 801.723,648.731 859.959,648.731 \n",
       "  923.451,648.731 987.321,648.731 1057.94,648.731 1125.13,648.731 1194.99,648.731 1253.8,648.731 1325.59,648.731 1393.09,648.731 1501.22,648.731 1501.22,1057.85 \n",
       "  1393.09,1057.85 1325.59,1057.85 1253.8,1057.85 1194.99,1057.85 1125.13,1057.85 1057.94,1057.85 987.321,1057.85 923.451,1057.85 859.959,1057.85 801.723,1057.85 \n",
       "  735.313,1057.85 660.585,1057.85 596.086,1057.85 535.924,1057.85 470.667,1057.85 410.594,1057.85 339.541,1057.85 221.31,1057.85 \n",
       "  \" fill=\"#0000ff\" fill-rule=\"evenodd\" fill-opacity=\"0.5\"/>\n",
       "<polyline clip-path=\"url(#clip5402)\" style=\"stroke:#0000ff; stroke-width:4; stroke-opacity:1; fill:none\" points=\"\n",
       "  221.31,648.731 339.541,648.731 410.594,648.731 470.667,648.731 535.924,648.731 596.086,648.731 660.585,648.731 735.313,648.731 801.723,648.731 859.959,648.731 \n",
       "  923.451,648.731 987.321,648.731 1057.94,648.731 1125.13,648.731 1194.99,648.731 1253.8,648.731 1325.59,648.731 1393.09,648.731 1501.22,648.731 \n",
       "  \"/>\n",
       "</svg>\n"
      ]
     },
     "execution_count": 12,
     "metadata": {},
     "output_type": "execute_result"
    }
   ],
   "source": [
    "f(x) = exp(x) + cos(3π*x) * 0.5 + 3\n",
    "F(x) = exp(x) + sin(3π*x)/6π + 3x\n",
    "a, b = -2, 2\n",
    "plot(f, a, b, c=:red, fill=(0,:red,0.5), leg=false)\n",
    "plot!(x->f((a+b)/2), a, b, c=:blue, fill=(0,:blue,0.5))"
   ]
  },
  {
   "cell_type": "code",
   "execution_count": 13,
   "metadata": {},
   "outputs": [
    {
     "data": {
      "text/plain": [
       "ponto_medio (generic function with 1 method)"
      ]
     },
     "execution_count": 13,
     "metadata": {},
     "output_type": "execute_result"
    }
   ],
   "source": [
    "function ponto_medio(f, a, b)\n",
    "    return (b - a) * f((a + b) / 2)\n",
    "end"
   ]
  },
  {
   "cell_type": "code",
   "execution_count": 14,
   "metadata": {},
   "outputs": [
    {
     "data": {
      "text/plain": [
       "-1.253720815694038"
      ]
     },
     "execution_count": 14,
     "metadata": {},
     "output_type": "execute_result"
    }
   ],
   "source": [
    "ponto_medio(f, a, b) - (F(b) - F(a))"
   ]
  },
  {
   "cell_type": "markdown",
   "metadata": {},
   "source": [
    "### Trapézio"
   ]
  },
  {
   "cell_type": "markdown",
   "metadata": {},
   "source": [
    "A fórmula de trapézio é uma fórmula de dois pontos. Note que dado dois pontos distintos, temos uma reta. Pensando na integral como a área abaixo dessa reta, vemos que a área será a área de um trapézio. Daí, o nome."
   ]
  },
  {
   "cell_type": "markdown",
   "metadata": {},
   "source": [
    "Para o caso fechado, os dois pontos no intervalo $[a,b]$ serão $x_1 = a$ e $x_2 = b$."
   ]
  },
  {
   "cell_type": "markdown",
   "metadata": {},
   "source": [
    "Para o caso aberto, os dois pontos no intervalo $[a,b]$ serão $x = \\frac{2a + b}{3}$"
   ]
  },
  {
   "cell_type": "code",
   "execution_count": 18,
   "metadata": {},
   "outputs": [
    {
     "data": {
      "image/svg+xml": [
       "<?xml version=\"1.0\" encoding=\"utf-8\"?>\n",
       "<svg xmlns=\"http://www.w3.org/2000/svg\" xmlns:xlink=\"http://www.w3.org/1999/xlink\" width=\"400\" height=\"300\" viewBox=\"0 0 1600 1200\">\n",
       "<defs>\n",
       "  <clipPath id=\"clip7000\">\n",
       "    <rect x=\"0\" y=\"0\" width=\"1600\" height=\"1200\"/>\n",
       "  </clipPath>\n",
       "</defs>\n",
       "<polygon clip-path=\"url(#clip7000)\" points=\"\n",
       "0,1200 1600,1200 1600,0 0,0 \n",
       "  \" fill=\"#ffffff\" fill-rule=\"evenodd\" fill-opacity=\"1\"/>\n",
       "<defs>\n",
       "  <clipPath id=\"clip7001\">\n",
       "    <rect x=\"320\" y=\"0\" width=\"1121\" height=\"1121\"/>\n",
       "  </clipPath>\n",
       "</defs>\n",
       "<polygon clip-path=\"url(#clip7000)\" points=\"\n",
       "172.66,1087.28 1552.76,1087.28 1552.76,47.2441 172.66,47.2441 \n",
       "  \" fill=\"#ffffff\" fill-rule=\"evenodd\" fill-opacity=\"1\"/>\n",
       "<defs>\n",
       "  <clipPath id=\"clip7002\">\n",
       "    <rect x=\"172\" y=\"47\" width=\"1381\" height=\"1041\"/>\n",
       "  </clipPath>\n",
       "</defs>\n",
       "<polyline clip-path=\"url(#clip7002)\" style=\"stroke:#000000; stroke-width:2; stroke-opacity:0.1; fill:none\" points=\"\n",
       "  211.72,1087.28 211.72,47.2441 \n",
       "  \"/>\n",
       "<polyline clip-path=\"url(#clip7002)\" style=\"stroke:#000000; stroke-width:2; stroke-opacity:0.1; fill:none\" points=\"\n",
       "  537.214,1087.28 537.214,47.2441 \n",
       "  \"/>\n",
       "<polyline clip-path=\"url(#clip7002)\" style=\"stroke:#000000; stroke-width:2; stroke-opacity:0.1; fill:none\" points=\"\n",
       "  862.708,1087.28 862.708,47.2441 \n",
       "  \"/>\n",
       "<polyline clip-path=\"url(#clip7002)\" style=\"stroke:#000000; stroke-width:2; stroke-opacity:0.1; fill:none\" points=\"\n",
       "  1188.2,1087.28 1188.2,47.2441 \n",
       "  \"/>\n",
       "<polyline clip-path=\"url(#clip7002)\" style=\"stroke:#000000; stroke-width:2; stroke-opacity:0.1; fill:none\" points=\"\n",
       "  1513.7,1087.28 1513.7,47.2441 \n",
       "  \"/>\n",
       "<polyline clip-path=\"url(#clip7002)\" style=\"stroke:#000000; stroke-width:2; stroke-opacity:0.1; fill:none\" points=\"\n",
       "  172.66,1057.85 1552.76,1057.85 \n",
       "  \"/>\n",
       "<polyline clip-path=\"url(#clip7002)\" style=\"stroke:#000000; stroke-width:2; stroke-opacity:0.1; fill:none\" points=\"\n",
       "  172.66,832.583 1552.76,832.583 \n",
       "  \"/>\n",
       "<polyline clip-path=\"url(#clip7002)\" style=\"stroke:#000000; stroke-width:2; stroke-opacity:0.1; fill:none\" points=\"\n",
       "  172.66,607.318 1552.76,607.318 \n",
       "  \"/>\n",
       "<polyline clip-path=\"url(#clip7002)\" style=\"stroke:#000000; stroke-width:2; stroke-opacity:0.1; fill:none\" points=\"\n",
       "  172.66,382.053 1552.76,382.053 \n",
       "  \"/>\n",
       "<polyline clip-path=\"url(#clip7002)\" style=\"stroke:#000000; stroke-width:2; stroke-opacity:0.1; fill:none\" points=\"\n",
       "  172.66,156.788 1552.76,156.788 \n",
       "  \"/>\n",
       "<polyline clip-path=\"url(#clip7000)\" style=\"stroke:#000000; stroke-width:4; stroke-opacity:1; fill:none\" points=\"\n",
       "  172.66,1087.28 1552.76,1087.28 \n",
       "  \"/>\n",
       "<polyline clip-path=\"url(#clip7000)\" style=\"stroke:#000000; stroke-width:4; stroke-opacity:1; fill:none\" points=\"\n",
       "  172.66,1087.28 172.66,47.2441 \n",
       "  \"/>\n",
       "<polyline clip-path=\"url(#clip7000)\" style=\"stroke:#000000; stroke-width:4; stroke-opacity:1; fill:none\" points=\"\n",
       "  211.72,1087.28 211.72,1071.68 \n",
       "  \"/>\n",
       "<polyline clip-path=\"url(#clip7000)\" style=\"stroke:#000000; stroke-width:4; stroke-opacity:1; fill:none\" points=\"\n",
       "  537.214,1087.28 537.214,1071.68 \n",
       "  \"/>\n",
       "<polyline clip-path=\"url(#clip7000)\" style=\"stroke:#000000; stroke-width:4; stroke-opacity:1; fill:none\" points=\"\n",
       "  862.708,1087.28 862.708,1071.68 \n",
       "  \"/>\n",
       "<polyline clip-path=\"url(#clip7000)\" style=\"stroke:#000000; stroke-width:4; stroke-opacity:1; fill:none\" points=\"\n",
       "  1188.2,1087.28 1188.2,1071.68 \n",
       "  \"/>\n",
       "<polyline clip-path=\"url(#clip7000)\" style=\"stroke:#000000; stroke-width:4; stroke-opacity:1; fill:none\" points=\"\n",
       "  1513.7,1087.28 1513.7,1071.68 \n",
       "  \"/>\n",
       "<polyline clip-path=\"url(#clip7000)\" style=\"stroke:#000000; stroke-width:4; stroke-opacity:1; fill:none\" points=\"\n",
       "  172.66,1057.85 193.362,1057.85 \n",
       "  \"/>\n",
       "<polyline clip-path=\"url(#clip7000)\" style=\"stroke:#000000; stroke-width:4; stroke-opacity:1; fill:none\" points=\"\n",
       "  172.66,832.583 193.362,832.583 \n",
       "  \"/>\n",
       "<polyline clip-path=\"url(#clip7000)\" style=\"stroke:#000000; stroke-width:4; stroke-opacity:1; fill:none\" points=\"\n",
       "  172.66,607.318 193.362,607.318 \n",
       "  \"/>\n",
       "<polyline clip-path=\"url(#clip7000)\" style=\"stroke:#000000; stroke-width:4; stroke-opacity:1; fill:none\" points=\"\n",
       "  172.66,382.053 193.362,382.053 \n",
       "  \"/>\n",
       "<polyline clip-path=\"url(#clip7000)\" style=\"stroke:#000000; stroke-width:4; stroke-opacity:1; fill:none\" points=\"\n",
       "  172.66,156.788 193.362,156.788 \n",
       "  \"/>\n",
       "<g clip-path=\"url(#clip7000)\">\n",
       "<text style=\"fill:#000000; fill-opacity:1; font-family:Arial,Helvetica Neue,Helvetica,sans-serif; font-size:48px; text-anchor:middle;\" transform=\"rotate(0, 211.72, 1137.28)\" x=\"211.72\" y=\"1137.28\">-2</text>\n",
       "</g>\n",
       "<g clip-path=\"url(#clip7000)\">\n",
       "<text style=\"fill:#000000; fill-opacity:1; font-family:Arial,Helvetica Neue,Helvetica,sans-serif; font-size:48px; text-anchor:middle;\" transform=\"rotate(0, 537.214, 1137.28)\" x=\"537.214\" y=\"1137.28\">-1</text>\n",
       "</g>\n",
       "<g clip-path=\"url(#clip7000)\">\n",
       "<text style=\"fill:#000000; fill-opacity:1; font-family:Arial,Helvetica Neue,Helvetica,sans-serif; font-size:48px; text-anchor:middle;\" transform=\"rotate(0, 862.708, 1137.28)\" x=\"862.708\" y=\"1137.28\">0</text>\n",
       "</g>\n",
       "<g clip-path=\"url(#clip7000)\">\n",
       "<text style=\"fill:#000000; fill-opacity:1; font-family:Arial,Helvetica Neue,Helvetica,sans-serif; font-size:48px; text-anchor:middle;\" transform=\"rotate(0, 1188.2, 1137.28)\" x=\"1188.2\" y=\"1137.28\">1</text>\n",
       "</g>\n",
       "<g clip-path=\"url(#clip7000)\">\n",
       "<text style=\"fill:#000000; fill-opacity:1; font-family:Arial,Helvetica Neue,Helvetica,sans-serif; font-size:48px; text-anchor:middle;\" transform=\"rotate(0, 1513.7, 1137.28)\" x=\"1513.7\" y=\"1137.28\">2</text>\n",
       "</g>\n",
       "<g clip-path=\"url(#clip7000)\">\n",
       "<text style=\"fill:#000000; fill-opacity:1; font-family:Arial,Helvetica Neue,Helvetica,sans-serif; font-size:48px; text-anchor:end;\" transform=\"rotate(0, 156.66, 1075.35)\" x=\"156.66\" y=\"1075.35\">0.0</text>\n",
       "</g>\n",
       "<g clip-path=\"url(#clip7000)\">\n",
       "<text style=\"fill:#000000; fill-opacity:1; font-family:Arial,Helvetica Neue,Helvetica,sans-serif; font-size:48px; text-anchor:end;\" transform=\"rotate(0, 156.66, 850.083)\" x=\"156.66\" y=\"850.083\">2.5</text>\n",
       "</g>\n",
       "<g clip-path=\"url(#clip7000)\">\n",
       "<text style=\"fill:#000000; fill-opacity:1; font-family:Arial,Helvetica Neue,Helvetica,sans-serif; font-size:48px; text-anchor:end;\" transform=\"rotate(0, 156.66, 624.818)\" x=\"156.66\" y=\"624.818\">5.0</text>\n",
       "</g>\n",
       "<g clip-path=\"url(#clip7000)\">\n",
       "<text style=\"fill:#000000; fill-opacity:1; font-family:Arial,Helvetica Neue,Helvetica,sans-serif; font-size:48px; text-anchor:end;\" transform=\"rotate(0, 156.66, 399.553)\" x=\"156.66\" y=\"399.553\">7.5</text>\n",
       "</g>\n",
       "<g clip-path=\"url(#clip7000)\">\n",
       "<text style=\"fill:#000000; fill-opacity:1; font-family:Arial,Helvetica Neue,Helvetica,sans-serif; font-size:48px; text-anchor:end;\" transform=\"rotate(0, 156.66, 174.288)\" x=\"156.66\" y=\"174.288\">10.0</text>\n",
       "</g>\n",
       "<polygon clip-path=\"url(#clip7002)\" points=\"\n",
       "214.898,730.354 218.077,730.803 221.256,731.627 224.434,732.816 239.13,742.672 253.826,758.136 268.522,776.339 283.218,793.918 297.914,807.618 312.61,814.869 \n",
       "  327.306,814.244 342.002,805.717 359.665,787.042 377.328,763.518 394.992,740.89 412.655,724.654 427.589,718.832 442.523,721.249 457.457,731.254 472.391,746.789 \n",
       "  488.614,766.316 504.836,784.183 521.059,796.2 537.282,799.428 552.237,793.673 567.193,780.302 582.149,761.479 597.105,740.358 613.139,719.217 629.173,703.575 \n",
       "  637.19,698.775 645.207,696.292 653.224,696.197 661.241,698.433 679.819,711.346 698.396,731.099 716.973,751.252 735.55,765.199 743.805,768.021 752.059,768.357 \n",
       "  760.314,766.095 768.569,761.27 785.078,744.768 801.587,721.756 816.064,699.613 830.541,679.02 845.018,662.92 859.495,653.451 875.279,651.775 891.063,658.52 \n",
       "  906.847,671.337 922.631,686.579 938.509,700.121 954.386,707.925 962.325,708.733 970.264,707.177 978.203,703.176 986.142,696.778 1003.7,675.121 1021.25,646.347 \n",
       "  1038.81,615.764 1056.36,589.026 1064.71,579.053 1073.06,571.349 1081.42,566.105 1089.77,563.363 1106.47,564.799 1123.17,573.117 1140.54,584.501 1157.91,593.168 \n",
       "  1166.59,594.847 1175.27,594.067 1183.96,590.483 1192.64,583.914 1207.26,566.191 1221.88,541.172 1236.5,511.142 1251.12,479.176 1268.97,442.323 1286.82,412.7 \n",
       "  1295.74,401.667 1304.67,393.369 1313.59,387.72 1322.52,384.441 1339.29,382.99 1356.07,383.956 1372.85,382.29 1389.63,373.3 1403.07,358.544 1416.51,336.255 \n",
       "  1429.95,306.745 1443.39,271.276 1470.27,191.004 1497.15,114.753 1501.29,104.464 1505.42,94.6759 1509.56,85.4101 1509.56,1057.85 1505.42,1057.85 1501.29,1057.85 \n",
       "  1497.15,1057.85 1470.27,1057.85 1443.39,1057.85 1429.95,1057.85 1416.51,1057.85 1403.07,1057.85 1389.63,1057.85 1372.85,1057.85 1356.07,1057.85 1339.29,1057.85 \n",
       "  1322.52,1057.85 1313.59,1057.85 1304.67,1057.85 1295.74,1057.85 1286.82,1057.85 1268.97,1057.85 1251.12,1057.85 1236.5,1057.85 1221.88,1057.85 1207.26,1057.85 \n",
       "  1192.64,1057.85 1183.96,1057.85 1175.27,1057.85 1166.59,1057.85 1157.91,1057.85 1140.54,1057.85 1123.17,1057.85 1106.47,1057.85 1089.77,1057.85 1081.42,1057.85 \n",
       "  1073.06,1057.85 1064.71,1057.85 1056.36,1057.85 1038.81,1057.85 1021.25,1057.85 1003.7,1057.85 986.142,1057.85 978.203,1057.85 970.264,1057.85 962.325,1057.85 \n",
       "  954.386,1057.85 938.509,1057.85 922.631,1057.85 906.847,1057.85 891.063,1057.85 875.279,1057.85 859.495,1057.85 845.018,1057.85 830.541,1057.85 816.064,1057.85 \n",
       "  801.587,1057.85 785.078,1057.85 768.569,1057.85 760.314,1057.85 752.059,1057.85 743.805,1057.85 735.55,1057.85 716.973,1057.85 698.396,1057.85 679.819,1057.85 \n",
       "  661.241,1057.85 653.224,1057.85 645.207,1057.85 637.19,1057.85 629.173,1057.85 613.139,1057.85 597.105,1057.85 582.149,1057.85 567.193,1057.85 552.237,1057.85 \n",
       "  537.282,1057.85 521.059,1057.85 504.836,1057.85 488.614,1057.85 472.391,1057.85 457.457,1057.85 442.523,1057.85 427.589,1057.85 412.655,1057.85 394.992,1057.85 \n",
       "  377.328,1057.85 359.665,1057.85 342.002,1057.85 327.306,1057.85 312.61,1057.85 297.914,1057.85 283.218,1057.85 268.522,1057.85 253.826,1057.85 239.13,1057.85 \n",
       "  224.434,1057.85 221.256,1057.85 218.077,1057.85 214.898,1057.85 \n",
       "  \" fill=\"#ff0000\" fill-rule=\"evenodd\" fill-opacity=\"0.5\"/>\n",
       "<polyline clip-path=\"url(#clip7002)\" style=\"stroke:#ff0000; stroke-width:4; stroke-opacity:1; fill:none\" points=\"\n",
       "  214.898,730.354 218.077,730.803 221.256,731.627 224.434,732.816 239.13,742.672 253.826,758.136 268.522,776.339 283.218,793.918 297.914,807.618 312.61,814.869 \n",
       "  327.306,814.244 342.002,805.717 359.665,787.042 377.328,763.518 394.992,740.89 412.655,724.654 427.589,718.832 442.523,721.249 457.457,731.254 472.391,746.789 \n",
       "  488.614,766.316 504.836,784.183 521.059,796.2 537.282,799.428 552.237,793.673 567.193,780.302 582.149,761.479 597.105,740.358 613.139,719.217 629.173,703.575 \n",
       "  637.19,698.775 645.207,696.292 653.224,696.197 661.241,698.433 679.819,711.346 698.396,731.099 716.973,751.252 735.55,765.199 743.805,768.021 752.059,768.357 \n",
       "  760.314,766.095 768.569,761.27 785.078,744.768 801.587,721.756 816.064,699.613 830.541,679.02 845.018,662.92 859.495,653.451 875.279,651.775 891.063,658.52 \n",
       "  906.847,671.337 922.631,686.579 938.509,700.121 954.386,707.925 962.325,708.733 970.264,707.177 978.203,703.176 986.142,696.778 1003.7,675.121 1021.25,646.347 \n",
       "  1038.81,615.764 1056.36,589.026 1064.71,579.053 1073.06,571.349 1081.42,566.105 1089.77,563.363 1106.47,564.799 1123.17,573.117 1140.54,584.501 1157.91,593.168 \n",
       "  1166.59,594.847 1175.27,594.067 1183.96,590.483 1192.64,583.914 1207.26,566.191 1221.88,541.172 1236.5,511.142 1251.12,479.176 1268.97,442.323 1286.82,412.7 \n",
       "  1295.74,401.667 1304.67,393.369 1313.59,387.72 1322.52,384.441 1339.29,382.99 1356.07,383.956 1372.85,382.29 1389.63,373.3 1403.07,358.544 1416.51,336.255 \n",
       "  1429.95,306.745 1443.39,271.276 1470.27,191.004 1497.15,114.753 1501.29,104.464 1505.42,94.6759 1509.56,85.4101 \n",
       "  \"/>\n",
       "<polygon clip-path=\"url(#clip7002)\" points=\"\n",
       "224.434,723.9 342.002,664.88 412.655,629.411 472.391,599.423 537.282,566.848 597.105,536.816 661.241,504.619 735.55,467.315 801.587,434.164 859.495,405.094 \n",
       "  922.631,373.399 986.142,341.516 1056.36,306.265 1123.17,272.725 1192.64,237.851 1251.12,208.495 1322.52,172.654 1389.63,138.962 1497.15,84.9859 1497.15,1057.85 \n",
       "  1389.63,1057.85 1322.52,1057.85 1251.12,1057.85 1192.64,1057.85 1123.17,1057.85 1056.36,1057.85 986.142,1057.85 922.631,1057.85 859.495,1057.85 801.587,1057.85 \n",
       "  735.55,1057.85 661.241,1057.85 597.105,1057.85 537.282,1057.85 472.391,1057.85 412.655,1057.85 342.002,1057.85 224.434,1057.85 \n",
       "  \" fill=\"#0000ff\" fill-rule=\"evenodd\" fill-opacity=\"0.5\"/>\n",
       "<polyline clip-path=\"url(#clip7002)\" style=\"stroke:#0000ff; stroke-width:4; stroke-opacity:1; fill:none\" points=\"\n",
       "  224.434,723.9 342.002,664.88 412.655,629.411 472.391,599.423 537.282,566.848 597.105,536.816 661.241,504.619 735.55,467.315 801.587,434.164 859.495,405.094 \n",
       "  922.631,373.399 986.142,341.516 1056.36,306.265 1123.17,272.725 1192.64,237.851 1251.12,208.495 1322.52,172.654 1389.63,138.962 1497.15,84.9859 \n",
       "  \"/>\n",
       "<circle clip-path=\"url(#clip7002)\" style=\"fill:#000000; stroke:none; fill-opacity:1\" cx=\"211.72\" cy=\"730.283\" r=\"18\"/>\n",
       "<circle clip-path=\"url(#clip7002)\" style=\"fill:#0000ff; stroke:none; fill-opacity:1\" cx=\"211.72\" cy=\"730.283\" r=\"14\"/>\n",
       "<circle clip-path=\"url(#clip7002)\" style=\"fill:#000000; stroke:none; fill-opacity:1\" cx=\"1513.7\" cy=\"76.6792\" r=\"18\"/>\n",
       "<circle clip-path=\"url(#clip7002)\" style=\"fill:#0000ff; stroke:none; fill-opacity:1\" cx=\"1513.7\" cy=\"76.6792\" r=\"14\"/>\n",
       "</svg>\n"
      ]
     },
     "execution_count": 18,
     "metadata": {},
     "output_type": "execute_result"
    }
   ],
   "source": [
    "f(x) = exp(x) + cos(3π * x) * 0.5 + 3\n",
    "F(x) = exp(x) + sin(3π * x) / 6π + 3x\n",
    "a, b = -2, 2\n",
    "plot(f, a, b, c=:red, fill=(0,:red,0.5), leg=false)\n",
    "plot!(x->f(a) + (x - a) * (f(b) - f(a)) / (b - a), a, b, c=:blue, fill=(0,:blue,0.5))\n",
    "scatter!([a, b], [f(a), f(b)], c=:blue)"
   ]
  },
  {
   "cell_type": "code",
   "execution_count": 19,
   "metadata": {},
   "outputs": [
    {
     "data": {
      "image/svg+xml": [
       "<?xml version=\"1.0\" encoding=\"utf-8\"?>\n",
       "<svg xmlns=\"http://www.w3.org/2000/svg\" xmlns:xlink=\"http://www.w3.org/1999/xlink\" width=\"400\" height=\"300\" viewBox=\"0 0 1600 1200\">\n",
       "<defs>\n",
       "  <clipPath id=\"clip7400\">\n",
       "    <rect x=\"0\" y=\"0\" width=\"1600\" height=\"1200\"/>\n",
       "  </clipPath>\n",
       "</defs>\n",
       "<polygon clip-path=\"url(#clip7400)\" points=\"\n",
       "0,1200 1600,1200 1600,0 0,0 \n",
       "  \" fill=\"#ffffff\" fill-rule=\"evenodd\" fill-opacity=\"1\"/>\n",
       "<defs>\n",
       "  <clipPath id=\"clip7401\">\n",
       "    <rect x=\"320\" y=\"0\" width=\"1121\" height=\"1121\"/>\n",
       "  </clipPath>\n",
       "</defs>\n",
       "<polygon clip-path=\"url(#clip7400)\" points=\"\n",
       "172.66,1087.28 1552.76,1087.28 1552.76,47.2441 172.66,47.2441 \n",
       "  \" fill=\"#ffffff\" fill-rule=\"evenodd\" fill-opacity=\"1\"/>\n",
       "<defs>\n",
       "  <clipPath id=\"clip7402\">\n",
       "    <rect x=\"172\" y=\"47\" width=\"1381\" height=\"1041\"/>\n",
       "  </clipPath>\n",
       "</defs>\n",
       "<polyline clip-path=\"url(#clip7402)\" style=\"stroke:#000000; stroke-width:2; stroke-opacity:0.1; fill:none\" points=\"\n",
       "  208.523,1087.28 208.523,47.2441 \n",
       "  \"/>\n",
       "<polyline clip-path=\"url(#clip7402)\" style=\"stroke:#000000; stroke-width:2; stroke-opacity:0.1; fill:none\" points=\"\n",
       "  535.856,1087.28 535.856,47.2441 \n",
       "  \"/>\n",
       "<polyline clip-path=\"url(#clip7402)\" style=\"stroke:#000000; stroke-width:2; stroke-opacity:0.1; fill:none\" points=\"\n",
       "  863.19,1087.28 863.19,47.2441 \n",
       "  \"/>\n",
       "<polyline clip-path=\"url(#clip7402)\" style=\"stroke:#000000; stroke-width:2; stroke-opacity:0.1; fill:none\" points=\"\n",
       "  1190.52,1087.28 1190.52,47.2441 \n",
       "  \"/>\n",
       "<polyline clip-path=\"url(#clip7402)\" style=\"stroke:#000000; stroke-width:2; stroke-opacity:0.1; fill:none\" points=\"\n",
       "  1517.86,1087.28 1517.86,47.2441 \n",
       "  \"/>\n",
       "<polyline clip-path=\"url(#clip7402)\" style=\"stroke:#000000; stroke-width:2; stroke-opacity:0.1; fill:none\" points=\"\n",
       "  172.66,1057.85 1552.76,1057.85 \n",
       "  \"/>\n",
       "<polyline clip-path=\"url(#clip7402)\" style=\"stroke:#000000; stroke-width:2; stroke-opacity:0.1; fill:none\" points=\"\n",
       "  172.66,830.561 1552.76,830.561 \n",
       "  \"/>\n",
       "<polyline clip-path=\"url(#clip7402)\" style=\"stroke:#000000; stroke-width:2; stroke-opacity:0.1; fill:none\" points=\"\n",
       "  172.66,603.273 1552.76,603.273 \n",
       "  \"/>\n",
       "<polyline clip-path=\"url(#clip7402)\" style=\"stroke:#000000; stroke-width:2; stroke-opacity:0.1; fill:none\" points=\"\n",
       "  172.66,375.986 1552.76,375.986 \n",
       "  \"/>\n",
       "<polyline clip-path=\"url(#clip7402)\" style=\"stroke:#000000; stroke-width:2; stroke-opacity:0.1; fill:none\" points=\"\n",
       "  172.66,148.698 1552.76,148.698 \n",
       "  \"/>\n",
       "<polyline clip-path=\"url(#clip7400)\" style=\"stroke:#000000; stroke-width:4; stroke-opacity:1; fill:none\" points=\"\n",
       "  172.66,1087.28 1552.76,1087.28 \n",
       "  \"/>\n",
       "<polyline clip-path=\"url(#clip7400)\" style=\"stroke:#000000; stroke-width:4; stroke-opacity:1; fill:none\" points=\"\n",
       "  172.66,1087.28 172.66,47.2441 \n",
       "  \"/>\n",
       "<polyline clip-path=\"url(#clip7400)\" style=\"stroke:#000000; stroke-width:4; stroke-opacity:1; fill:none\" points=\"\n",
       "  208.523,1087.28 208.523,1071.68 \n",
       "  \"/>\n",
       "<polyline clip-path=\"url(#clip7400)\" style=\"stroke:#000000; stroke-width:4; stroke-opacity:1; fill:none\" points=\"\n",
       "  535.856,1087.28 535.856,1071.68 \n",
       "  \"/>\n",
       "<polyline clip-path=\"url(#clip7400)\" style=\"stroke:#000000; stroke-width:4; stroke-opacity:1; fill:none\" points=\"\n",
       "  863.19,1087.28 863.19,1071.68 \n",
       "  \"/>\n",
       "<polyline clip-path=\"url(#clip7400)\" style=\"stroke:#000000; stroke-width:4; stroke-opacity:1; fill:none\" points=\"\n",
       "  1190.52,1087.28 1190.52,1071.68 \n",
       "  \"/>\n",
       "<polyline clip-path=\"url(#clip7400)\" style=\"stroke:#000000; stroke-width:4; stroke-opacity:1; fill:none\" points=\"\n",
       "  1517.86,1087.28 1517.86,1071.68 \n",
       "  \"/>\n",
       "<polyline clip-path=\"url(#clip7400)\" style=\"stroke:#000000; stroke-width:4; stroke-opacity:1; fill:none\" points=\"\n",
       "  172.66,1057.85 193.362,1057.85 \n",
       "  \"/>\n",
       "<polyline clip-path=\"url(#clip7400)\" style=\"stroke:#000000; stroke-width:4; stroke-opacity:1; fill:none\" points=\"\n",
       "  172.66,830.561 193.362,830.561 \n",
       "  \"/>\n",
       "<polyline clip-path=\"url(#clip7400)\" style=\"stroke:#000000; stroke-width:4; stroke-opacity:1; fill:none\" points=\"\n",
       "  172.66,603.273 193.362,603.273 \n",
       "  \"/>\n",
       "<polyline clip-path=\"url(#clip7400)\" style=\"stroke:#000000; stroke-width:4; stroke-opacity:1; fill:none\" points=\"\n",
       "  172.66,375.986 193.362,375.986 \n",
       "  \"/>\n",
       "<polyline clip-path=\"url(#clip7400)\" style=\"stroke:#000000; stroke-width:4; stroke-opacity:1; fill:none\" points=\"\n",
       "  172.66,148.698 193.362,148.698 \n",
       "  \"/>\n",
       "<g clip-path=\"url(#clip7400)\">\n",
       "<text style=\"fill:#000000; fill-opacity:1; font-family:Arial,Helvetica Neue,Helvetica,sans-serif; font-size:48px; text-anchor:middle;\" transform=\"rotate(0, 208.523, 1137.28)\" x=\"208.523\" y=\"1137.28\">-2</text>\n",
       "</g>\n",
       "<g clip-path=\"url(#clip7400)\">\n",
       "<text style=\"fill:#000000; fill-opacity:1; font-family:Arial,Helvetica Neue,Helvetica,sans-serif; font-size:48px; text-anchor:middle;\" transform=\"rotate(0, 535.856, 1137.28)\" x=\"535.856\" y=\"1137.28\">-1</text>\n",
       "</g>\n",
       "<g clip-path=\"url(#clip7400)\">\n",
       "<text style=\"fill:#000000; fill-opacity:1; font-family:Arial,Helvetica Neue,Helvetica,sans-serif; font-size:48px; text-anchor:middle;\" transform=\"rotate(0, 863.19, 1137.28)\" x=\"863.19\" y=\"1137.28\">0</text>\n",
       "</g>\n",
       "<g clip-path=\"url(#clip7400)\">\n",
       "<text style=\"fill:#000000; fill-opacity:1; font-family:Arial,Helvetica Neue,Helvetica,sans-serif; font-size:48px; text-anchor:middle;\" transform=\"rotate(0, 1190.52, 1137.28)\" x=\"1190.52\" y=\"1137.28\">1</text>\n",
       "</g>\n",
       "<g clip-path=\"url(#clip7400)\">\n",
       "<text style=\"fill:#000000; fill-opacity:1; font-family:Arial,Helvetica Neue,Helvetica,sans-serif; font-size:48px; text-anchor:middle;\" transform=\"rotate(0, 1517.86, 1137.28)\" x=\"1517.86\" y=\"1137.28\">2</text>\n",
       "</g>\n",
       "<g clip-path=\"url(#clip7400)\">\n",
       "<text style=\"fill:#000000; fill-opacity:1; font-family:Arial,Helvetica Neue,Helvetica,sans-serif; font-size:48px; text-anchor:end;\" transform=\"rotate(0, 156.66, 1075.35)\" x=\"156.66\" y=\"1075.35\">0.0</text>\n",
       "</g>\n",
       "<g clip-path=\"url(#clip7400)\">\n",
       "<text style=\"fill:#000000; fill-opacity:1; font-family:Arial,Helvetica Neue,Helvetica,sans-serif; font-size:48px; text-anchor:end;\" transform=\"rotate(0, 156.66, 848.061)\" x=\"156.66\" y=\"848.061\">2.5</text>\n",
       "</g>\n",
       "<g clip-path=\"url(#clip7400)\">\n",
       "<text style=\"fill:#000000; fill-opacity:1; font-family:Arial,Helvetica Neue,Helvetica,sans-serif; font-size:48px; text-anchor:end;\" transform=\"rotate(0, 156.66, 620.773)\" x=\"156.66\" y=\"620.773\">5.0</text>\n",
       "</g>\n",
       "<g clip-path=\"url(#clip7400)\">\n",
       "<text style=\"fill:#000000; fill-opacity:1; font-family:Arial,Helvetica Neue,Helvetica,sans-serif; font-size:48px; text-anchor:end;\" transform=\"rotate(0, 156.66, 393.486)\" x=\"156.66\" y=\"393.486\">7.5</text>\n",
       "</g>\n",
       "<g clip-path=\"url(#clip7400)\">\n",
       "<text style=\"fill:#000000; fill-opacity:1; font-family:Arial,Helvetica Neue,Helvetica,sans-serif; font-size:48px; text-anchor:end;\" transform=\"rotate(0, 156.66, 166.198)\" x=\"156.66\" y=\"166.198\">10.0</text>\n",
       "</g>\n",
       "<polygon clip-path=\"url(#clip7402)\" points=\"\n",
       "211.72,727.413 214.916,727.867 218.113,728.698 221.31,729.898 236.089,739.842 250.868,755.445 265.647,773.811 280.425,791.549 295.204,805.372 309.983,812.687 \n",
       "  324.762,812.057 339.541,803.453 357.304,784.61 375.067,760.876 392.831,738.044 410.594,721.662 425.612,715.788 440.631,718.227 455.649,728.322 470.667,743.996 \n",
       "  486.982,763.698 503.296,781.726 519.61,793.851 535.924,797.108 550.965,791.301 566.005,777.81 581.045,758.818 596.086,737.508 612.21,716.177 628.335,700.394 \n",
       "  636.398,695.551 644.46,693.045 652.522,692.95 660.585,695.206 679.267,708.235 697.949,728.165 716.631,748.499 735.313,762.571 743.615,765.419 751.916,765.758 \n",
       "  760.217,763.476 768.518,758.607 785.121,741.957 801.723,718.739 816.282,696.397 830.841,675.618 845.4,659.374 859.959,649.82 875.832,648.129 891.705,654.935 \n",
       "  907.578,667.866 923.451,683.246 939.419,696.909 955.386,704.783 963.37,705.599 971.354,704.028 979.337,699.992 987.321,693.536 1004.97,671.684 1022.63,642.653 \n",
       "  1040.28,611.795 1057.94,584.816 1066.34,574.754 1074.73,566.981 1083.13,561.69 1091.53,558.923 1108.33,560.373 1125.13,568.765 1142.59,580.251 1160.06,588.996 \n",
       "  1168.79,590.69 1177.52,589.903 1186.26,586.287 1194.99,579.659 1209.69,561.777 1224.39,536.533 1239.09,506.234 1253.8,473.98 1271.75,436.797 1289.7,406.908 \n",
       "  1298.67,395.776 1307.65,387.403 1316.62,381.703 1325.59,378.395 1342.47,376.931 1359.34,377.905 1376.21,376.225 1393.09,367.153 1406.6,352.265 1420.12,329.776 \n",
       "  1433.64,300.001 1447.15,264.214 1474.18,183.221 1501.22,106.286 1505.38,95.9042 1509.54,86.0281 1513.7,76.6792 1513.7,1057.85 1509.54,1057.85 1505.38,1057.85 \n",
       "  1501.22,1057.85 1474.18,1057.85 1447.15,1057.85 1433.64,1057.85 1420.12,1057.85 1406.6,1057.85 1393.09,1057.85 1376.21,1057.85 1359.34,1057.85 1342.47,1057.85 \n",
       "  1325.59,1057.85 1316.62,1057.85 1307.65,1057.85 1298.67,1057.85 1289.7,1057.85 1271.75,1057.85 1253.8,1057.85 1239.09,1057.85 1224.39,1057.85 1209.69,1057.85 \n",
       "  1194.99,1057.85 1186.26,1057.85 1177.52,1057.85 1168.79,1057.85 1160.06,1057.85 1142.59,1057.85 1125.13,1057.85 1108.33,1057.85 1091.53,1057.85 1083.13,1057.85 \n",
       "  1074.73,1057.85 1066.34,1057.85 1057.94,1057.85 1040.28,1057.85 1022.63,1057.85 1004.97,1057.85 987.321,1057.85 979.337,1057.85 971.354,1057.85 963.37,1057.85 \n",
       "  955.386,1057.85 939.419,1057.85 923.451,1057.85 907.578,1057.85 891.705,1057.85 875.832,1057.85 859.959,1057.85 845.4,1057.85 830.841,1057.85 816.282,1057.85 \n",
       "  801.723,1057.85 785.121,1057.85 768.518,1057.85 760.217,1057.85 751.916,1057.85 743.615,1057.85 735.313,1057.85 716.631,1057.85 697.949,1057.85 679.267,1057.85 \n",
       "  660.585,1057.85 652.522,1057.85 644.46,1057.85 636.398,1057.85 628.335,1057.85 612.21,1057.85 596.086,1057.85 581.045,1057.85 566.005,1057.85 550.965,1057.85 \n",
       "  535.924,1057.85 519.61,1057.85 503.296,1057.85 486.982,1057.85 470.667,1057.85 455.649,1057.85 440.631,1057.85 425.612,1057.85 410.594,1057.85 392.831,1057.85 \n",
       "  375.067,1057.85 357.304,1057.85 339.541,1057.85 324.762,1057.85 309.983,1057.85 295.204,1057.85 280.425,1057.85 265.647,1057.85 250.868,1057.85 236.089,1057.85 \n",
       "  221.31,1057.85 218.113,1057.85 214.916,1057.85 211.72,1057.85 \n",
       "  \" fill=\"#ff0000\" fill-rule=\"evenodd\" fill-opacity=\"0.5\"/>\n",
       "<polyline clip-path=\"url(#clip7402)\" style=\"stroke:#ff0000; stroke-width:4; stroke-opacity:1; fill:none\" points=\"\n",
       "  211.72,727.413 214.916,727.867 218.113,728.698 221.31,729.898 236.089,739.842 250.868,755.445 265.647,773.811 280.425,791.549 295.204,805.372 309.983,812.687 \n",
       "  324.762,812.057 339.541,803.453 357.304,784.61 375.067,760.876 392.831,738.044 410.594,721.662 425.612,715.788 440.631,718.227 455.649,728.322 470.667,743.996 \n",
       "  486.982,763.698 503.296,781.726 519.61,793.851 535.924,797.108 550.965,791.301 566.005,777.81 581.045,758.818 596.086,737.508 612.21,716.177 628.335,700.394 \n",
       "  636.398,695.551 644.46,693.045 652.522,692.95 660.585,695.206 679.267,708.235 697.949,728.165 716.631,748.499 735.313,762.571 743.615,765.419 751.916,765.758 \n",
       "  760.217,763.476 768.518,758.607 785.121,741.957 801.723,718.739 816.282,696.397 830.841,675.618 845.4,659.374 859.959,649.82 875.832,648.129 891.705,654.935 \n",
       "  907.578,667.866 923.451,683.246 939.419,696.909 955.386,704.783 963.37,705.599 971.354,704.028 979.337,699.992 987.321,693.536 1004.97,671.684 1022.63,642.653 \n",
       "  1040.28,611.795 1057.94,584.816 1066.34,574.754 1074.73,566.981 1083.13,561.69 1091.53,558.923 1108.33,560.373 1125.13,568.765 1142.59,580.251 1160.06,588.996 \n",
       "  1168.79,590.69 1177.52,589.903 1186.26,586.287 1194.99,579.659 1209.69,561.777 1224.39,536.533 1239.09,506.234 1253.8,473.98 1271.75,436.797 1289.7,406.908 \n",
       "  1298.67,395.776 1307.65,387.403 1316.62,381.703 1325.59,378.395 1342.47,376.931 1359.34,377.905 1376.21,376.225 1393.09,367.153 1406.6,352.265 1420.12,329.776 \n",
       "  1433.64,300.001 1447.15,264.214 1474.18,183.221 1501.22,106.286 1505.38,95.9042 1509.54,86.0281 1513.7,76.6792 \n",
       "  \"/>\n",
       "<polygon clip-path=\"url(#clip7402)\" points=\"\n",
       "221.31,819.549 339.541,784.224 410.594,762.995 470.667,745.046 535.924,725.548 596.086,707.573 660.585,688.302 735.313,665.975 801.723,646.133 859.959,628.733 \n",
       "  923.451,609.763 987.321,590.68 1057.94,569.581 1125.13,549.506 1194.99,528.633 1253.8,511.062 1325.59,489.61 1393.09,469.445 1501.22,437.138 1501.22,1057.85 \n",
       "  1393.09,1057.85 1325.59,1057.85 1253.8,1057.85 1194.99,1057.85 1125.13,1057.85 1057.94,1057.85 987.321,1057.85 923.451,1057.85 859.959,1057.85 801.723,1057.85 \n",
       "  735.313,1057.85 660.585,1057.85 596.086,1057.85 535.924,1057.85 470.667,1057.85 410.594,1057.85 339.541,1057.85 221.31,1057.85 \n",
       "  \" fill=\"#0000ff\" fill-rule=\"evenodd\" fill-opacity=\"0.5\"/>\n",
       "<polyline clip-path=\"url(#clip7402)\" style=\"stroke:#0000ff; stroke-width:4; stroke-opacity:1; fill:none\" points=\"\n",
       "  221.31,819.549 339.541,784.224 410.594,762.995 470.667,745.046 535.924,725.548 596.086,707.573 660.585,688.302 735.313,665.975 801.723,646.133 859.959,628.733 \n",
       "  923.451,609.763 987.321,590.68 1057.94,569.581 1125.13,549.506 1194.99,528.633 1253.8,511.062 1325.59,489.61 1393.09,469.445 1501.22,437.138 \n",
       "  \"/>\n",
       "<circle clip-path=\"url(#clip7402)\" style=\"fill:#000000; stroke:none; fill-opacity:1\" cx=\"644.968\" cy=\"692.968\" r=\"18\"/>\n",
       "<circle clip-path=\"url(#clip7402)\" style=\"fill:#0000ff; stroke:none; fill-opacity:1\" cx=\"644.968\" cy=\"692.968\" r=\"14\"/>\n",
       "<circle clip-path=\"url(#clip7402)\" style=\"fill:#000000; stroke:none; fill-opacity:1\" cx=\"1081.41\" cy=\"562.567\" r=\"18\"/>\n",
       "<circle clip-path=\"url(#clip7402)\" style=\"fill:#0000ff; stroke:none; fill-opacity:1\" cx=\"1081.41\" cy=\"562.567\" r=\"14\"/>\n",
       "</svg>\n"
      ]
     },
     "execution_count": 19,
     "metadata": {},
     "output_type": "execute_result"
    }
   ],
   "source": [
    "plot(f, a, b, c=:red, fill=(0,:red,0.5), leg=false)\n",
    "x1, x2 = (2a+b)/3, (a+2b)/3\n",
    "plot!(x->f(x1) + (x-x1)*(f(x2)-f(x1))/(x2-x1), a, b, c=:blue, fill=(0,:blue,0.5))\n",
    "scatter!([x1, x2], [f(x1), f(x2)], c=:blue)"
   ]
  },
  {
   "cell_type": "markdown",
   "metadata": {},
   "source": [
    "A reta que usamos para aproximar a integral é dada por\n",
    "$$ p(x) = f(x_1) + (x-x_1)\\frac{f(x_2)-f(x_1)}{x_2-x_1}, $$\n",
    "onde $x_1 = a$ e $x_2 = b$ no caso fechado, ou $x_1 = \\dfrac{2a+b}{3}$ e $x_2 = \\dfrac{a + 2b}{3}$."
   ]
  },
  {
   "cell_type": "markdown",
   "metadata": {},
   "source": [
    "Em ambos os casos, teremos\n",
    "$$ \\int_a^b f(x)\\mbox{d}x \\approx\n",
    "\\frac{b-a}{2}[f(x_1) + f(x_2)].\n",
    "$$"
   ]
  },
  {
   "cell_type": "markdown",
   "metadata": {},
   "source": [
    "No entanto, além de $x_1$ e $x_2$ serem diferentes, temos também o valor de $h$.\n",
    "Para o caso fechado, temos $h = b-a$. Daí,\n",
    "$$ \\int_a^b f(x)\\mbox{d}x \\approx \\frac{h}{2}[f(x_1) + f(x_2)]. $$\n",
    "Para o caso aberto, temos $h = \\frac{b-a}{3}$. Logo,\n",
    "$$ \\int_a^b f(x)\\mbox{d}x \\approx \\frac{3h}{2}[f(x_1) + f(x_2)]. $$"
   ]
  },
  {
   "cell_type": "code",
   "execution_count": 20,
   "metadata": {},
   "outputs": [
    {
     "data": {
      "text/plain": [
       "trapezio_aberto (generic function with 1 method)"
      ]
     },
     "execution_count": 20,
     "metadata": {},
     "output_type": "execute_result"
    }
   ],
   "source": [
    "function trapezio_fechado(f, a, b)\n",
    "    return (b-a)*(f(a)+f(b))/2\n",
    "end\n",
    "\n",
    "function trapezio_aberto(f, a, b)\n",
    "    h = (b-a)/3\n",
    "    return (b-a)*(f(a+h)+f(b-h))/2\n",
    "end"
   ]
  },
  {
   "cell_type": "code",
   "execution_count": 21,
   "metadata": {},
   "outputs": [
    {
     "data": {
      "text/plain": [
       "(0, 1)"
      ]
     },
     "execution_count": 21,
     "metadata": {},
     "output_type": "execute_result"
    }
   ],
   "source": [
    "f(x) = exp(x)\n",
    "F(x) = exp(x)\n",
    "a, b = 0, 1"
   ]
  },
  {
   "cell_type": "code",
   "execution_count": 22,
   "metadata": {},
   "outputs": [
    {
     "data": {
      "text/plain": [
       "1.8591409142295225"
      ]
     },
     "execution_count": 22,
     "metadata": {},
     "output_type": "execute_result"
    }
   ],
   "source": [
    "trapezio_fechado(exp, 0, 1)"
   ]
  },
  {
   "cell_type": "code",
   "execution_count": 23,
   "metadata": {},
   "outputs": [
    {
     "data": {
      "text/plain": [
       "1.6716732330703827"
      ]
     },
     "execution_count": 23,
     "metadata": {},
     "output_type": "execute_result"
    }
   ],
   "source": [
    "trapezio_aberto(exp, 0, 1)"
   ]
  },
  {
   "cell_type": "code",
   "execution_count": 24,
   "metadata": {},
   "outputs": [
    {
     "data": {
      "text/plain": [
       "0.14085908577047745"
      ]
     },
     "execution_count": 24,
     "metadata": {},
     "output_type": "execute_result"
    }
   ],
   "source": [
    "trapezio_fechado(f, a, b) - (F(b)-F(a))"
   ]
  },
  {
   "cell_type": "code",
   "execution_count": 25,
   "metadata": {},
   "outputs": [
    {
     "data": {
      "text/plain": [
       "-0.046608595388662355"
      ]
     },
     "execution_count": 25,
     "metadata": {},
     "output_type": "execute_result"
    }
   ],
   "source": [
    "trapezio_aberto(f, a, b) - (F(b)-F(a))"
   ]
  },
  {
   "cell_type": "markdown",
   "metadata": {},
   "source": [
    "## Erro"
   ]
  },
  {
   "cell_type": "markdown",
   "metadata": {},
   "source": [
    "Uma pergunta importante aqui é quão errada é essa aproximação.\n",
    "Note que, diferente do método de Newton ou da bissecção, não estamos calculando aproximações sucessivas para a integral, e sim uma única aproximação, que esperamos ser boa o suficiente."
   ]
  },
  {
   "cell_type": "markdown",
   "metadata": {},
   "source": [
    "O cálculo da fórmula do erro envolve outros conceitos não estudados nesta disciplina.\n",
    "Iremos apenas apresentar os erros, começando pelas três aproximações que vimos."
   ]
  },
  {
   "cell_type": "markdown",
   "metadata": {},
   "source": [
    "Abaixo, $\\xi$ é algum número em $[a,b]$ ou $(a,b)$, se a função for fechada ou aberta, respectivamente.\n",
    "\n",
    "- Ponto médio\n",
    "$$ \\int_a^b f(x)\\mbox{d}x = 2hf(x_1) + \\frac{h^3}{3}f''(\\xi)\n",
    "= (b-a) f\\bigg(\\frac{b-a}{2}\\bigg) + \\frac{(b-a)^3}{24}f''(\\xi); $$\n",
    "- Trapézio fechado\n",
    "$$ \\int_a^b f(x)\\mbox{d}x = \\frac{h}{2}[f(x_1) + f(x_2)] - \\frac{h^3}{12}f''(\\xi)\n",
    "= \\frac{b-a}{2}[f(a) + f(b)] - \\frac{(b-a)^3}{12}f''(\\xi); $$\n",
    "- Trapézio aberto\n",
    "$$ \\int_a^b f(x)\\mbox{d}x = \\frac{3h}{2}[f(x_1) + f(x_2)] + \\frac{3h^3}{4}f''(\\xi)\n",
    "= \\frac{b-a}{2}[f\\bigg(\\frac{2a+b}{3}\\bigg) + f\\bigg(\\frac{a+2b}{3}\\bigg)] - \\frac{(b-a)^3}{36}f''(\\xi). $$"
   ]
  },
  {
   "cell_type": "markdown",
   "metadata": {},
   "source": [
    "As três aproximações compartilham uma mesma propriedade. O erro é da ordem de $h^3 f''(\\xi)$.\n",
    "Isso quer dizer que para valores pequenos de $h$, o erro diminui cubicamente. Note que o $\\xi$ para cada aproximação pode ser diferente."
   ]
  },
  {
   "cell_type": "code",
   "execution_count": 30,
   "metadata": {},
   "outputs": [
    {
     "data": {
      "image/svg+xml": [
       "<?xml version=\"1.0\" encoding=\"utf-8\"?>\n",
       "<svg xmlns=\"http://www.w3.org/2000/svg\" xmlns:xlink=\"http://www.w3.org/1999/xlink\" width=\"400\" height=\"300\" viewBox=\"0 0 1600 1200\">\n",
       "<defs>\n",
       "  <clipPath id=\"clip8200\">\n",
       "    <rect x=\"0\" y=\"0\" width=\"1600\" height=\"1200\"/>\n",
       "  </clipPath>\n",
       "</defs>\n",
       "<polygon clip-path=\"url(#clip8200)\" points=\"\n",
       "0,1200 1600,1200 1600,0 0,0 \n",
       "  \" fill=\"#ffffff\" fill-rule=\"evenodd\" fill-opacity=\"1\"/>\n",
       "<defs>\n",
       "  <clipPath id=\"clip8201\">\n",
       "    <rect x=\"320\" y=\"0\" width=\"1121\" height=\"1121\"/>\n",
       "  </clipPath>\n",
       "</defs>\n",
       "<polygon clip-path=\"url(#clip8200)\" points=\"\n",
       "276.87,1087.28 1552.76,1087.28 1552.76,47.2441 276.87,47.2441 \n",
       "  \" fill=\"#ffffff\" fill-rule=\"evenodd\" fill-opacity=\"1\"/>\n",
       "<defs>\n",
       "  <clipPath id=\"clip8202\">\n",
       "    <rect x=\"276\" y=\"47\" width=\"1277\" height=\"1041\"/>\n",
       "  </clipPath>\n",
       "</defs>\n",
       "<polyline clip-path=\"url(#clip8202)\" style=\"stroke:#000000; stroke-width:2; stroke-opacity:0.1; fill:none\" points=\"\n",
       "  312.98,1087.28 312.98,47.2441 \n",
       "  \"/>\n",
       "<polyline clip-path=\"url(#clip8202)\" style=\"stroke:#000000; stroke-width:2; stroke-opacity:0.1; fill:none\" points=\"\n",
       "  513.591,1087.28 513.591,47.2441 \n",
       "  \"/>\n",
       "<polyline clip-path=\"url(#clip8202)\" style=\"stroke:#000000; stroke-width:2; stroke-opacity:0.1; fill:none\" points=\"\n",
       "  714.202,1087.28 714.202,47.2441 \n",
       "  \"/>\n",
       "<polyline clip-path=\"url(#clip8202)\" style=\"stroke:#000000; stroke-width:2; stroke-opacity:0.1; fill:none\" points=\"\n",
       "  914.813,1087.28 914.813,47.2441 \n",
       "  \"/>\n",
       "<polyline clip-path=\"url(#clip8202)\" style=\"stroke:#000000; stroke-width:2; stroke-opacity:0.1; fill:none\" points=\"\n",
       "  1115.42,1087.28 1115.42,47.2441 \n",
       "  \"/>\n",
       "<polyline clip-path=\"url(#clip8202)\" style=\"stroke:#000000; stroke-width:2; stroke-opacity:0.1; fill:none\" points=\"\n",
       "  1316.03,1087.28 1316.03,47.2441 \n",
       "  \"/>\n",
       "<polyline clip-path=\"url(#clip8202)\" style=\"stroke:#000000; stroke-width:2; stroke-opacity:0.1; fill:none\" points=\"\n",
       "  1516.65,1087.28 1516.65,47.2441 \n",
       "  \"/>\n",
       "<polyline clip-path=\"url(#clip8202)\" style=\"stroke:#000000; stroke-width:2; stroke-opacity:0.1; fill:none\" points=\"\n",
       "  276.87,1011.27 1552.76,1011.27 \n",
       "  \"/>\n",
       "<polyline clip-path=\"url(#clip8202)\" style=\"stroke:#000000; stroke-width:2; stroke-opacity:0.1; fill:none\" points=\"\n",
       "  276.87,810.193 1552.76,810.193 \n",
       "  \"/>\n",
       "<polyline clip-path=\"url(#clip8202)\" style=\"stroke:#000000; stroke-width:2; stroke-opacity:0.1; fill:none\" points=\"\n",
       "  276.87,609.12 1552.76,609.12 \n",
       "  \"/>\n",
       "<polyline clip-path=\"url(#clip8202)\" style=\"stroke:#000000; stroke-width:2; stroke-opacity:0.1; fill:none\" points=\"\n",
       "  276.87,408.048 1552.76,408.048 \n",
       "  \"/>\n",
       "<polyline clip-path=\"url(#clip8202)\" style=\"stroke:#000000; stroke-width:2; stroke-opacity:0.1; fill:none\" points=\"\n",
       "  276.87,206.976 1552.76,206.976 \n",
       "  \"/>\n",
       "<polyline clip-path=\"url(#clip8200)\" style=\"stroke:#000000; stroke-width:4; stroke-opacity:1; fill:none\" points=\"\n",
       "  276.87,1087.28 1552.76,1087.28 \n",
       "  \"/>\n",
       "<polyline clip-path=\"url(#clip8200)\" style=\"stroke:#000000; stroke-width:4; stroke-opacity:1; fill:none\" points=\"\n",
       "  276.87,1087.28 276.87,47.2441 \n",
       "  \"/>\n",
       "<polyline clip-path=\"url(#clip8200)\" style=\"stroke:#000000; stroke-width:4; stroke-opacity:1; fill:none\" points=\"\n",
       "  312.98,1087.28 312.98,1071.68 \n",
       "  \"/>\n",
       "<polyline clip-path=\"url(#clip8200)\" style=\"stroke:#000000; stroke-width:4; stroke-opacity:1; fill:none\" points=\"\n",
       "  513.591,1087.28 513.591,1071.68 \n",
       "  \"/>\n",
       "<polyline clip-path=\"url(#clip8200)\" style=\"stroke:#000000; stroke-width:4; stroke-opacity:1; fill:none\" points=\"\n",
       "  714.202,1087.28 714.202,1071.68 \n",
       "  \"/>\n",
       "<polyline clip-path=\"url(#clip8200)\" style=\"stroke:#000000; stroke-width:4; stroke-opacity:1; fill:none\" points=\"\n",
       "  914.813,1087.28 914.813,1071.68 \n",
       "  \"/>\n",
       "<polyline clip-path=\"url(#clip8200)\" style=\"stroke:#000000; stroke-width:4; stroke-opacity:1; fill:none\" points=\"\n",
       "  1115.42,1087.28 1115.42,1071.68 \n",
       "  \"/>\n",
       "<polyline clip-path=\"url(#clip8200)\" style=\"stroke:#000000; stroke-width:4; stroke-opacity:1; fill:none\" points=\"\n",
       "  1316.03,1087.28 1316.03,1071.68 \n",
       "  \"/>\n",
       "<polyline clip-path=\"url(#clip8200)\" style=\"stroke:#000000; stroke-width:4; stroke-opacity:1; fill:none\" points=\"\n",
       "  1516.65,1087.28 1516.65,1071.68 \n",
       "  \"/>\n",
       "<polyline clip-path=\"url(#clip8200)\" style=\"stroke:#000000; stroke-width:4; stroke-opacity:1; fill:none\" points=\"\n",
       "  276.87,1011.27 296.008,1011.27 \n",
       "  \"/>\n",
       "<polyline clip-path=\"url(#clip8200)\" style=\"stroke:#000000; stroke-width:4; stroke-opacity:1; fill:none\" points=\"\n",
       "  276.87,810.193 296.008,810.193 \n",
       "  \"/>\n",
       "<polyline clip-path=\"url(#clip8200)\" style=\"stroke:#000000; stroke-width:4; stroke-opacity:1; fill:none\" points=\"\n",
       "  276.87,609.12 296.008,609.12 \n",
       "  \"/>\n",
       "<polyline clip-path=\"url(#clip8200)\" style=\"stroke:#000000; stroke-width:4; stroke-opacity:1; fill:none\" points=\"\n",
       "  276.87,408.048 296.008,408.048 \n",
       "  \"/>\n",
       "<polyline clip-path=\"url(#clip8200)\" style=\"stroke:#000000; stroke-width:4; stroke-opacity:1; fill:none\" points=\"\n",
       "  276.87,206.976 296.008,206.976 \n",
       "  \"/>\n",
       "<g clip-path=\"url(#clip8200)\">\n",
       "<text style=\"fill:#000000; fill-opacity:1; font-family:Arial,Helvetica Neue,Helvetica,sans-serif; font-size:48px; text-anchor:start;\" transform=\"rotate(0, 258.489, 1158.29)\" x=\"258.489\" y=\"1158.29\">10</text>\n",
       "</g>\n",
       "<g clip-path=\"url(#clip8200)\">\n",
       "<text style=\"fill:#000000; fill-opacity:1; font-family:Arial,Helvetica Neue,Helvetica,sans-serif; font-size:38px; text-anchor:start;\" transform=\"rotate(0, 312.014, 1130.88)\" x=\"312.014\" y=\"1130.88\">-</text>\n",
       "</g>\n",
       "<g clip-path=\"url(#clip8200)\">\n",
       "<text style=\"fill:#000000; fill-opacity:1; font-family:Arial,Helvetica Neue,Helvetica,sans-serif; font-size:38px; text-anchor:start;\" transform=\"rotate(0, 334.854, 1130.88)\" x=\"334.854\" y=\"1130.88\">6 </text>\n",
       "</g>\n",
       "<g clip-path=\"url(#clip8200)\">\n",
       "<text style=\"fill:#000000; fill-opacity:1; font-family:Arial,Helvetica Neue,Helvetica,sans-serif; font-size:48px; text-anchor:start;\" transform=\"rotate(0, 459.1, 1158.29)\" x=\"459.1\" y=\"1158.29\">10</text>\n",
       "</g>\n",
       "<g clip-path=\"url(#clip8200)\">\n",
       "<text style=\"fill:#000000; fill-opacity:1; font-family:Arial,Helvetica Neue,Helvetica,sans-serif; font-size:38px; text-anchor:start;\" transform=\"rotate(0, 512.625, 1130.88)\" x=\"512.625\" y=\"1130.88\">-</text>\n",
       "</g>\n",
       "<g clip-path=\"url(#clip8200)\">\n",
       "<text style=\"fill:#000000; fill-opacity:1; font-family:Arial,Helvetica Neue,Helvetica,sans-serif; font-size:38px; text-anchor:start;\" transform=\"rotate(0, 535.465, 1130.88)\" x=\"535.465\" y=\"1130.88\">5 </text>\n",
       "</g>\n",
       "<g clip-path=\"url(#clip8200)\">\n",
       "<text style=\"fill:#000000; fill-opacity:1; font-family:Arial,Helvetica Neue,Helvetica,sans-serif; font-size:48px; text-anchor:start;\" transform=\"rotate(0, 659.711, 1158.29)\" x=\"659.711\" y=\"1158.29\">10</text>\n",
       "</g>\n",
       "<g clip-path=\"url(#clip8200)\">\n",
       "<text style=\"fill:#000000; fill-opacity:1; font-family:Arial,Helvetica Neue,Helvetica,sans-serif; font-size:38px; text-anchor:start;\" transform=\"rotate(0, 713.236, 1130.88)\" x=\"713.236\" y=\"1130.88\">-</text>\n",
       "</g>\n",
       "<g clip-path=\"url(#clip8200)\">\n",
       "<text style=\"fill:#000000; fill-opacity:1; font-family:Arial,Helvetica Neue,Helvetica,sans-serif; font-size:38px; text-anchor:start;\" transform=\"rotate(0, 736.076, 1130.88)\" x=\"736.076\" y=\"1130.88\">4 </text>\n",
       "</g>\n",
       "<g clip-path=\"url(#clip8200)\">\n",
       "<text style=\"fill:#000000; fill-opacity:1; font-family:Arial,Helvetica Neue,Helvetica,sans-serif; font-size:48px; text-anchor:start;\" transform=\"rotate(0, 860.322, 1158.29)\" x=\"860.322\" y=\"1158.29\">10</text>\n",
       "</g>\n",
       "<g clip-path=\"url(#clip8200)\">\n",
       "<text style=\"fill:#000000; fill-opacity:1; font-family:Arial,Helvetica Neue,Helvetica,sans-serif; font-size:38px; text-anchor:start;\" transform=\"rotate(0, 913.847, 1130.88)\" x=\"913.847\" y=\"1130.88\">-</text>\n",
       "</g>\n",
       "<g clip-path=\"url(#clip8200)\">\n",
       "<text style=\"fill:#000000; fill-opacity:1; font-family:Arial,Helvetica Neue,Helvetica,sans-serif; font-size:38px; text-anchor:start;\" transform=\"rotate(0, 936.687, 1130.88)\" x=\"936.687\" y=\"1130.88\">3 </text>\n",
       "</g>\n",
       "<g clip-path=\"url(#clip8200)\">\n",
       "<text style=\"fill:#000000; fill-opacity:1; font-family:Arial,Helvetica Neue,Helvetica,sans-serif; font-size:48px; text-anchor:start;\" transform=\"rotate(0, 1060.93, 1158.29)\" x=\"1060.93\" y=\"1158.29\">10</text>\n",
       "</g>\n",
       "<g clip-path=\"url(#clip8200)\">\n",
       "<text style=\"fill:#000000; fill-opacity:1; font-family:Arial,Helvetica Neue,Helvetica,sans-serif; font-size:38px; text-anchor:start;\" transform=\"rotate(0, 1114.46, 1130.88)\" x=\"1114.46\" y=\"1130.88\">-</text>\n",
       "</g>\n",
       "<g clip-path=\"url(#clip8200)\">\n",
       "<text style=\"fill:#000000; fill-opacity:1; font-family:Arial,Helvetica Neue,Helvetica,sans-serif; font-size:38px; text-anchor:start;\" transform=\"rotate(0, 1137.3, 1130.88)\" x=\"1137.3\" y=\"1130.88\">2 </text>\n",
       "</g>\n",
       "<g clip-path=\"url(#clip8200)\">\n",
       "<text style=\"fill:#000000; fill-opacity:1; font-family:Arial,Helvetica Neue,Helvetica,sans-serif; font-size:48px; text-anchor:start;\" transform=\"rotate(0, 1261.54, 1158.29)\" x=\"1261.54\" y=\"1158.29\">10</text>\n",
       "</g>\n",
       "<g clip-path=\"url(#clip8200)\">\n",
       "<text style=\"fill:#000000; fill-opacity:1; font-family:Arial,Helvetica Neue,Helvetica,sans-serif; font-size:38px; text-anchor:start;\" transform=\"rotate(0, 1315.07, 1130.88)\" x=\"1315.07\" y=\"1130.88\">-</text>\n",
       "</g>\n",
       "<g clip-path=\"url(#clip8200)\">\n",
       "<text style=\"fill:#000000; fill-opacity:1; font-family:Arial,Helvetica Neue,Helvetica,sans-serif; font-size:38px; text-anchor:start;\" transform=\"rotate(0, 1337.91, 1130.88)\" x=\"1337.91\" y=\"1130.88\">1 </text>\n",
       "</g>\n",
       "<g clip-path=\"url(#clip8200)\">\n",
       "<text style=\"fill:#000000; fill-opacity:1; font-family:Arial,Helvetica Neue,Helvetica,sans-serif; font-size:48px; text-anchor:start;\" transform=\"rotate(0, 1473.58, 1158.29)\" x=\"1473.58\" y=\"1158.29\">10</text>\n",
       "</g>\n",
       "<g clip-path=\"url(#clip8200)\">\n",
       "<text style=\"fill:#000000; fill-opacity:1; font-family:Arial,Helvetica Neue,Helvetica,sans-serif; font-size:38px; text-anchor:start;\" transform=\"rotate(0, 1527.1, 1130.88)\" x=\"1527.1\" y=\"1130.88\">0 </text>\n",
       "</g>\n",
       "<g clip-path=\"url(#clip8200)\">\n",
       "<text style=\"fill:#000000; fill-opacity:1; font-family:Arial,Helvetica Neue,Helvetica,sans-serif; font-size:48px; text-anchor:start;\" transform=\"rotate(0, 97.5281, 1034.99)\" x=\"97.5281\" y=\"1034.99\">10</text>\n",
       "</g>\n",
       "<g clip-path=\"url(#clip8200)\">\n",
       "<text style=\"fill:#000000; fill-opacity:1; font-family:Arial,Helvetica Neue,Helvetica,sans-serif; font-size:38px; text-anchor:start;\" transform=\"rotate(0, 151.053, 1007.58)\" x=\"151.053\" y=\"1007.58\">-</text>\n",
       "</g>\n",
       "<g clip-path=\"url(#clip8200)\">\n",
       "<text style=\"fill:#000000; fill-opacity:1; font-family:Arial,Helvetica Neue,Helvetica,sans-serif; font-size:38px; text-anchor:start;\" transform=\"rotate(0, 173.892, 1007.58)\" x=\"173.892\" y=\"1007.58\">12.5 </text>\n",
       "</g>\n",
       "<g clip-path=\"url(#clip8200)\">\n",
       "<text style=\"fill:#000000; fill-opacity:1; font-family:Arial,Helvetica Neue,Helvetica,sans-serif; font-size:48px; text-anchor:start;\" transform=\"rotate(0, 97.5281, 833.92)\" x=\"97.5281\" y=\"833.92\">10</text>\n",
       "</g>\n",
       "<g clip-path=\"url(#clip8200)\">\n",
       "<text style=\"fill:#000000; fill-opacity:1; font-family:Arial,Helvetica Neue,Helvetica,sans-serif; font-size:38px; text-anchor:start;\" transform=\"rotate(0, 151.053, 806.51)\" x=\"151.053\" y=\"806.51\">-</text>\n",
       "</g>\n",
       "<g clip-path=\"url(#clip8200)\">\n",
       "<text style=\"fill:#000000; fill-opacity:1; font-family:Arial,Helvetica Neue,Helvetica,sans-serif; font-size:38px; text-anchor:start;\" transform=\"rotate(0, 173.892, 806.51)\" x=\"173.892\" y=\"806.51\">10.0 </text>\n",
       "</g>\n",
       "<g clip-path=\"url(#clip8200)\">\n",
       "<text style=\"fill:#000000; fill-opacity:1; font-family:Arial,Helvetica Neue,Helvetica,sans-serif; font-size:48px; text-anchor:start;\" transform=\"rotate(0, 119.272, 632.848)\" x=\"119.272\" y=\"632.848\">10</text>\n",
       "</g>\n",
       "<g clip-path=\"url(#clip8200)\">\n",
       "<text style=\"fill:#000000; fill-opacity:1; font-family:Arial,Helvetica Neue,Helvetica,sans-serif; font-size:38px; text-anchor:start;\" transform=\"rotate(0, 172.797, 605.438)\" x=\"172.797\" y=\"605.438\">-</text>\n",
       "</g>\n",
       "<g clip-path=\"url(#clip8200)\">\n",
       "<text style=\"fill:#000000; fill-opacity:1; font-family:Arial,Helvetica Neue,Helvetica,sans-serif; font-size:38px; text-anchor:start;\" transform=\"rotate(0, 195.637, 605.438)\" x=\"195.637\" y=\"605.438\">7.5 </text>\n",
       "</g>\n",
       "<g clip-path=\"url(#clip8200)\">\n",
       "<text style=\"fill:#000000; fill-opacity:1; font-family:Arial,Helvetica Neue,Helvetica,sans-serif; font-size:48px; text-anchor:start;\" transform=\"rotate(0, 119.272, 431.776)\" x=\"119.272\" y=\"431.776\">10</text>\n",
       "</g>\n",
       "<g clip-path=\"url(#clip8200)\">\n",
       "<text style=\"fill:#000000; fill-opacity:1; font-family:Arial,Helvetica Neue,Helvetica,sans-serif; font-size:38px; text-anchor:start;\" transform=\"rotate(0, 172.797, 404.365)\" x=\"172.797\" y=\"404.365\">-</text>\n",
       "</g>\n",
       "<g clip-path=\"url(#clip8200)\">\n",
       "<text style=\"fill:#000000; fill-opacity:1; font-family:Arial,Helvetica Neue,Helvetica,sans-serif; font-size:38px; text-anchor:start;\" transform=\"rotate(0, 195.637, 404.365)\" x=\"195.637\" y=\"404.365\">5.0 </text>\n",
       "</g>\n",
       "<g clip-path=\"url(#clip8200)\">\n",
       "<text style=\"fill:#000000; fill-opacity:1; font-family:Arial,Helvetica Neue,Helvetica,sans-serif; font-size:48px; text-anchor:start;\" transform=\"rotate(0, 119.272, 230.703)\" x=\"119.272\" y=\"230.703\">10</text>\n",
       "</g>\n",
       "<g clip-path=\"url(#clip8200)\">\n",
       "<text style=\"fill:#000000; fill-opacity:1; font-family:Arial,Helvetica Neue,Helvetica,sans-serif; font-size:38px; text-anchor:start;\" transform=\"rotate(0, 172.797, 203.293)\" x=\"172.797\" y=\"203.293\">-</text>\n",
       "</g>\n",
       "<g clip-path=\"url(#clip8200)\">\n",
       "<text style=\"fill:#000000; fill-opacity:1; font-family:Arial,Helvetica Neue,Helvetica,sans-serif; font-size:38px; text-anchor:start;\" transform=\"rotate(0, 195.637, 203.293)\" x=\"195.637\" y=\"203.293\">2.5 </text>\n",
       "</g>\n",
       "<circle clip-path=\"url(#clip8202)\" style=\"fill:#000000; stroke:none; fill-opacity:1\" cx=\"1516.65\" cy=\"117.919\" r=\"18\"/>\n",
       "<circle clip-path=\"url(#clip8202)\" style=\"fill:#0000ff; stroke:none; fill-opacity:1\" cx=\"1516.65\" cy=\"117.919\" r=\"14\"/>\n",
       "<circle clip-path=\"url(#clip8202)\" style=\"fill:#000000; stroke:none; fill-opacity:1\" cx=\"1456.26\" cy=\"165.589\" r=\"18\"/>\n",
       "<circle clip-path=\"url(#clip8202)\" style=\"fill:#0000ff; stroke:none; fill-opacity:1\" cx=\"1456.26\" cy=\"165.589\" r=\"14\"/>\n",
       "<circle clip-path=\"url(#clip8202)\" style=\"fill:#000000; stroke:none; fill-opacity:1\" cx=\"1395.87\" cy=\"213.822\" r=\"18\"/>\n",
       "<circle clip-path=\"url(#clip8202)\" style=\"fill:#0000ff; stroke:none; fill-opacity:1\" cx=\"1395.87\" cy=\"213.822\" r=\"14\"/>\n",
       "<circle clip-path=\"url(#clip8202)\" style=\"fill:#000000; stroke:none; fill-opacity:1\" cx=\"1335.48\" cy=\"262.197\" r=\"18\"/>\n",
       "<circle clip-path=\"url(#clip8202)\" style=\"fill:#0000ff; stroke:none; fill-opacity:1\" cx=\"1335.48\" cy=\"262.197\" r=\"14\"/>\n",
       "<circle clip-path=\"url(#clip8202)\" style=\"fill:#000000; stroke:none; fill-opacity:1\" cx=\"1275.09\" cy=\"310.608\" r=\"18\"/>\n",
       "<circle clip-path=\"url(#clip8202)\" style=\"fill:#0000ff; stroke:none; fill-opacity:1\" cx=\"1275.09\" cy=\"310.608\" r=\"14\"/>\n",
       "<circle clip-path=\"url(#clip8202)\" style=\"fill:#000000; stroke:none; fill-opacity:1\" cx=\"1214.7\" cy=\"359.028\" r=\"18\"/>\n",
       "<circle clip-path=\"url(#clip8202)\" style=\"fill:#0000ff; stroke:none; fill-opacity:1\" cx=\"1214.7\" cy=\"359.028\" r=\"14\"/>\n",
       "<circle clip-path=\"url(#clip8202)\" style=\"fill:#000000; stroke:none; fill-opacity:1\" cx=\"1154.31\" cy=\"407.451\" r=\"18\"/>\n",
       "<circle clip-path=\"url(#clip8202)\" style=\"fill:#0000ff; stroke:none; fill-opacity:1\" cx=\"1154.31\" cy=\"407.451\" r=\"14\"/>\n",
       "<circle clip-path=\"url(#clip8202)\" style=\"fill:#000000; stroke:none; fill-opacity:1\" cx=\"1093.92\" cy=\"455.874\" r=\"18\"/>\n",
       "<circle clip-path=\"url(#clip8202)\" style=\"fill:#0000ff; stroke:none; fill-opacity:1\" cx=\"1093.92\" cy=\"455.874\" r=\"14\"/>\n",
       "<circle clip-path=\"url(#clip8202)\" style=\"fill:#000000; stroke:none; fill-opacity:1\" cx=\"1033.53\" cy=\"504.297\" r=\"18\"/>\n",
       "<circle clip-path=\"url(#clip8202)\" style=\"fill:#0000ff; stroke:none; fill-opacity:1\" cx=\"1033.53\" cy=\"504.297\" r=\"14\"/>\n",
       "<circle clip-path=\"url(#clip8202)\" style=\"fill:#000000; stroke:none; fill-opacity:1\" cx=\"973.136\" cy=\"552.72\" r=\"18\"/>\n",
       "<circle clip-path=\"url(#clip8202)\" style=\"fill:#0000ff; stroke:none; fill-opacity:1\" cx=\"973.136\" cy=\"552.72\" r=\"14\"/>\n",
       "<circle clip-path=\"url(#clip8202)\" style=\"fill:#000000; stroke:none; fill-opacity:1\" cx=\"912.747\" cy=\"601.143\" r=\"18\"/>\n",
       "<circle clip-path=\"url(#clip8202)\" style=\"fill:#0000ff; stroke:none; fill-opacity:1\" cx=\"912.747\" cy=\"601.143\" r=\"14\"/>\n",
       "<circle clip-path=\"url(#clip8202)\" style=\"fill:#000000; stroke:none; fill-opacity:1\" cx=\"852.357\" cy=\"649.566\" r=\"18\"/>\n",
       "<circle clip-path=\"url(#clip8202)\" style=\"fill:#0000ff; stroke:none; fill-opacity:1\" cx=\"852.357\" cy=\"649.566\" r=\"14\"/>\n",
       "<circle clip-path=\"url(#clip8202)\" style=\"fill:#000000; stroke:none; fill-opacity:1\" cx=\"791.967\" cy=\"697.993\" r=\"18\"/>\n",
       "<circle clip-path=\"url(#clip8202)\" style=\"fill:#0000ff; stroke:none; fill-opacity:1\" cx=\"791.967\" cy=\"697.993\" r=\"14\"/>\n",
       "<circle clip-path=\"url(#clip8202)\" style=\"fill:#000000; stroke:none; fill-opacity:1\" cx=\"731.577\" cy=\"746.45\" r=\"18\"/>\n",
       "<circle clip-path=\"url(#clip8202)\" style=\"fill:#0000ff; stroke:none; fill-opacity:1\" cx=\"731.577\" cy=\"746.45\" r=\"14\"/>\n",
       "<circle clip-path=\"url(#clip8202)\" style=\"fill:#000000; stroke:none; fill-opacity:1\" cx=\"671.187\" cy=\"794.565\" r=\"18\"/>\n",
       "<circle clip-path=\"url(#clip8202)\" style=\"fill:#0000ff; stroke:none; fill-opacity:1\" cx=\"671.187\" cy=\"794.565\" r=\"14\"/>\n",
       "<circle clip-path=\"url(#clip8202)\" style=\"fill:#000000; stroke:none; fill-opacity:1\" cx=\"610.797\" cy=\"845.513\" r=\"18\"/>\n",
       "<circle clip-path=\"url(#clip8202)\" style=\"fill:#0000ff; stroke:none; fill-opacity:1\" cx=\"610.797\" cy=\"845.513\" r=\"14\"/>\n",
       "<circle clip-path=\"url(#clip8202)\" style=\"fill:#000000; stroke:none; fill-opacity:1\" cx=\"550.407\" cy=\"877.518\" r=\"18\"/>\n",
       "<circle clip-path=\"url(#clip8202)\" style=\"fill:#0000ff; stroke:none; fill-opacity:1\" cx=\"550.407\" cy=\"877.518\" r=\"14\"/>\n",
       "<circle clip-path=\"url(#clip8202)\" style=\"fill:#000000; stroke:none; fill-opacity:1\" cx=\"490.017\" cy=\"901.73\" r=\"18\"/>\n",
       "<circle clip-path=\"url(#clip8202)\" style=\"fill:#0000ff; stroke:none; fill-opacity:1\" cx=\"490.017\" cy=\"901.73\" r=\"14\"/>\n",
       "<circle clip-path=\"url(#clip8202)\" style=\"fill:#000000; stroke:none; fill-opacity:1\" cx=\"429.627\" cy=\"950.153\" r=\"18\"/>\n",
       "<circle clip-path=\"url(#clip8202)\" style=\"fill:#0000ff; stroke:none; fill-opacity:1\" cx=\"429.627\" cy=\"950.153\" r=\"14\"/>\n",
       "<circle clip-path=\"url(#clip8202)\" style=\"fill:#000000; stroke:none; fill-opacity:1\" cx=\"369.237\" cy=\"998.576\" r=\"18\"/>\n",
       "<circle clip-path=\"url(#clip8202)\" style=\"fill:#0000ff; stroke:none; fill-opacity:1\" cx=\"369.237\" cy=\"998.576\" r=\"14\"/>\n",
       "<circle clip-path=\"url(#clip8202)\" style=\"fill:#000000; stroke:none; fill-opacity:1\" cx=\"1516.65\" cy=\"93.2739\" r=\"18\"/>\n",
       "<circle clip-path=\"url(#clip8202)\" style=\"fill:#ff0000; stroke:none; fill-opacity:1\" cx=\"1516.65\" cy=\"93.2739\" r=\"14\"/>\n",
       "<circle clip-path=\"url(#clip8202)\" style=\"fill:#000000; stroke:none; fill-opacity:1\" cx=\"1456.26\" cy=\"141.269\" r=\"18\"/>\n",
       "<circle clip-path=\"url(#clip8202)\" style=\"fill:#ff0000; stroke:none; fill-opacity:1\" cx=\"1456.26\" cy=\"141.269\" r=\"14\"/>\n",
       "<circle clip-path=\"url(#clip8202)\" style=\"fill:#000000; stroke:none; fill-opacity:1\" cx=\"1395.87\" cy=\"189.583\" r=\"18\"/>\n",
       "<circle clip-path=\"url(#clip8202)\" style=\"fill:#ff0000; stroke:none; fill-opacity:1\" cx=\"1395.87\" cy=\"189.583\" r=\"14\"/>\n",
       "<circle clip-path=\"url(#clip8202)\" style=\"fill:#000000; stroke:none; fill-opacity:1\" cx=\"1335.48\" cy=\"237.979\" r=\"18\"/>\n",
       "<circle clip-path=\"url(#clip8202)\" style=\"fill:#ff0000; stroke:none; fill-opacity:1\" cx=\"1335.48\" cy=\"237.979\" r=\"14\"/>\n",
       "<circle clip-path=\"url(#clip8202)\" style=\"fill:#000000; stroke:none; fill-opacity:1\" cx=\"1275.09\" cy=\"286.395\" r=\"18\"/>\n",
       "<circle clip-path=\"url(#clip8202)\" style=\"fill:#ff0000; stroke:none; fill-opacity:1\" cx=\"1275.09\" cy=\"286.395\" r=\"14\"/>\n",
       "<circle clip-path=\"url(#clip8202)\" style=\"fill:#000000; stroke:none; fill-opacity:1\" cx=\"1214.7\" cy=\"334.816\" r=\"18\"/>\n",
       "<circle clip-path=\"url(#clip8202)\" style=\"fill:#ff0000; stroke:none; fill-opacity:1\" cx=\"1214.7\" cy=\"334.816\" r=\"14\"/>\n",
       "<circle clip-path=\"url(#clip8202)\" style=\"fill:#000000; stroke:none; fill-opacity:1\" cx=\"1154.31\" cy=\"383.239\" r=\"18\"/>\n",
       "<circle clip-path=\"url(#clip8202)\" style=\"fill:#ff0000; stroke:none; fill-opacity:1\" cx=\"1154.31\" cy=\"383.239\" r=\"14\"/>\n",
       "<circle clip-path=\"url(#clip8202)\" style=\"fill:#000000; stroke:none; fill-opacity:1\" cx=\"1093.92\" cy=\"431.662\" r=\"18\"/>\n",
       "<circle clip-path=\"url(#clip8202)\" style=\"fill:#ff0000; stroke:none; fill-opacity:1\" cx=\"1093.92\" cy=\"431.662\" r=\"14\"/>\n",
       "<circle clip-path=\"url(#clip8202)\" style=\"fill:#000000; stroke:none; fill-opacity:1\" cx=\"1033.53\" cy=\"480.085\" r=\"18\"/>\n",
       "<circle clip-path=\"url(#clip8202)\" style=\"fill:#ff0000; stroke:none; fill-opacity:1\" cx=\"1033.53\" cy=\"480.085\" r=\"14\"/>\n",
       "<circle clip-path=\"url(#clip8202)\" style=\"fill:#000000; stroke:none; fill-opacity:1\" cx=\"973.136\" cy=\"528.508\" r=\"18\"/>\n",
       "<circle clip-path=\"url(#clip8202)\" style=\"fill:#ff0000; stroke:none; fill-opacity:1\" cx=\"973.136\" cy=\"528.508\" r=\"14\"/>\n",
       "<circle clip-path=\"url(#clip8202)\" style=\"fill:#000000; stroke:none; fill-opacity:1\" cx=\"912.747\" cy=\"576.931\" r=\"18\"/>\n",
       "<circle clip-path=\"url(#clip8202)\" style=\"fill:#ff0000; stroke:none; fill-opacity:1\" cx=\"912.747\" cy=\"576.931\" r=\"14\"/>\n",
       "<circle clip-path=\"url(#clip8202)\" style=\"fill:#000000; stroke:none; fill-opacity:1\" cx=\"852.357\" cy=\"625.354\" r=\"18\"/>\n",
       "<circle clip-path=\"url(#clip8202)\" style=\"fill:#ff0000; stroke:none; fill-opacity:1\" cx=\"852.357\" cy=\"625.354\" r=\"14\"/>\n",
       "<circle clip-path=\"url(#clip8202)\" style=\"fill:#000000; stroke:none; fill-opacity:1\" cx=\"791.967\" cy=\"673.775\" r=\"18\"/>\n",
       "<circle clip-path=\"url(#clip8202)\" style=\"fill:#ff0000; stroke:none; fill-opacity:1\" cx=\"791.967\" cy=\"673.775\" r=\"14\"/>\n",
       "<circle clip-path=\"url(#clip8202)\" style=\"fill:#000000; stroke:none; fill-opacity:1\" cx=\"731.577\" cy=\"722.181\" r=\"18\"/>\n",
       "<circle clip-path=\"url(#clip8202)\" style=\"fill:#ff0000; stroke:none; fill-opacity:1\" cx=\"731.577\" cy=\"722.181\" r=\"14\"/>\n",
       "<circle clip-path=\"url(#clip8202)\" style=\"fill:#000000; stroke:none; fill-opacity:1\" cx=\"671.187\" cy=\"770.759\" r=\"18\"/>\n",
       "<circle clip-path=\"url(#clip8202)\" style=\"fill:#ff0000; stroke:none; fill-opacity:1\" cx=\"671.187\" cy=\"770.759\" r=\"14\"/>\n",
       "<circle clip-path=\"url(#clip8202)\" style=\"fill:#000000; stroke:none; fill-opacity:1\" cx=\"610.797\" cy=\"817.971\" r=\"18\"/>\n",
       "<circle clip-path=\"url(#clip8202)\" style=\"fill:#ff0000; stroke:none; fill-opacity:1\" cx=\"610.797\" cy=\"817.971\" r=\"14\"/>\n",
       "<circle clip-path=\"url(#clip8202)\" style=\"fill:#000000; stroke:none; fill-opacity:1\" cx=\"550.407\" cy=\"877.517\" r=\"18\"/>\n",
       "<circle clip-path=\"url(#clip8202)\" style=\"fill:#ff0000; stroke:none; fill-opacity:1\" cx=\"550.407\" cy=\"877.517\" r=\"14\"/>\n",
       "<circle clip-path=\"url(#clip8202)\" style=\"fill:#000000; stroke:none; fill-opacity:1\" cx=\"490.017\" cy=\"877.518\" r=\"18\"/>\n",
       "<circle clip-path=\"url(#clip8202)\" style=\"fill:#ff0000; stroke:none; fill-opacity:1\" cx=\"490.017\" cy=\"877.518\" r=\"14\"/>\n",
       "<circle clip-path=\"url(#clip8202)\" style=\"fill:#000000; stroke:none; fill-opacity:1\" cx=\"429.627\" cy=\"925.941\" r=\"18\"/>\n",
       "<circle clip-path=\"url(#clip8202)\" style=\"fill:#ff0000; stroke:none; fill-opacity:1\" cx=\"429.627\" cy=\"925.941\" r=\"14\"/>\n",
       "<circle clip-path=\"url(#clip8202)\" style=\"fill:#000000; stroke:none; fill-opacity:1\" cx=\"369.237\" cy=\"974.364\" r=\"18\"/>\n",
       "<circle clip-path=\"url(#clip8202)\" style=\"fill:#ff0000; stroke:none; fill-opacity:1\" cx=\"369.237\" cy=\"974.364\" r=\"14\"/>\n",
       "<circle clip-path=\"url(#clip8202)\" style=\"fill:#000000; stroke:none; fill-opacity:1\" cx=\"1516.65\" cy=\"131.905\" r=\"18\"/>\n",
       "<circle clip-path=\"url(#clip8202)\" style=\"fill:#ff00ff; stroke:none; fill-opacity:1\" cx=\"1516.65\" cy=\"131.905\" r=\"14\"/>\n",
       "<circle clip-path=\"url(#clip8202)\" style=\"fill:#000000; stroke:none; fill-opacity:1\" cx=\"1456.26\" cy=\"179.708\" r=\"18\"/>\n",
       "<circle clip-path=\"url(#clip8202)\" style=\"fill:#ff00ff; stroke:none; fill-opacity:1\" cx=\"1456.26\" cy=\"179.708\" r=\"14\"/>\n",
       "<circle clip-path=\"url(#clip8202)\" style=\"fill:#000000; stroke:none; fill-opacity:1\" cx=\"1395.87\" cy=\"227.974\" r=\"18\"/>\n",
       "<circle clip-path=\"url(#clip8202)\" style=\"fill:#ff00ff; stroke:none; fill-opacity:1\" cx=\"1395.87\" cy=\"227.974\" r=\"14\"/>\n",
       "<circle clip-path=\"url(#clip8202)\" style=\"fill:#000000; stroke:none; fill-opacity:1\" cx=\"1335.48\" cy=\"276.357\" r=\"18\"/>\n",
       "<circle clip-path=\"url(#clip8202)\" style=\"fill:#ff00ff; stroke:none; fill-opacity:1\" cx=\"1335.48\" cy=\"276.357\" r=\"14\"/>\n",
       "<circle clip-path=\"url(#clip8202)\" style=\"fill:#000000; stroke:none; fill-opacity:1\" cx=\"1275.09\" cy=\"324.77\" r=\"18\"/>\n",
       "<circle clip-path=\"url(#clip8202)\" style=\"fill:#ff00ff; stroke:none; fill-opacity:1\" cx=\"1275.09\" cy=\"324.77\" r=\"14\"/>\n",
       "<circle clip-path=\"url(#clip8202)\" style=\"fill:#000000; stroke:none; fill-opacity:1\" cx=\"1214.7\" cy=\"373.191\" r=\"18\"/>\n",
       "<circle clip-path=\"url(#clip8202)\" style=\"fill:#ff00ff; stroke:none; fill-opacity:1\" cx=\"1214.7\" cy=\"373.191\" r=\"14\"/>\n",
       "<circle clip-path=\"url(#clip8202)\" style=\"fill:#000000; stroke:none; fill-opacity:1\" cx=\"1154.31\" cy=\"421.614\" r=\"18\"/>\n",
       "<circle clip-path=\"url(#clip8202)\" style=\"fill:#ff00ff; stroke:none; fill-opacity:1\" cx=\"1154.31\" cy=\"421.614\" r=\"14\"/>\n",
       "<circle clip-path=\"url(#clip8202)\" style=\"fill:#000000; stroke:none; fill-opacity:1\" cx=\"1093.92\" cy=\"470.036\" r=\"18\"/>\n",
       "<circle clip-path=\"url(#clip8202)\" style=\"fill:#ff00ff; stroke:none; fill-opacity:1\" cx=\"1093.92\" cy=\"470.036\" r=\"14\"/>\n",
       "<circle clip-path=\"url(#clip8202)\" style=\"fill:#000000; stroke:none; fill-opacity:1\" cx=\"1033.53\" cy=\"518.459\" r=\"18\"/>\n",
       "<circle clip-path=\"url(#clip8202)\" style=\"fill:#ff00ff; stroke:none; fill-opacity:1\" cx=\"1033.53\" cy=\"518.459\" r=\"14\"/>\n",
       "<circle clip-path=\"url(#clip8202)\" style=\"fill:#000000; stroke:none; fill-opacity:1\" cx=\"973.136\" cy=\"566.882\" r=\"18\"/>\n",
       "<circle clip-path=\"url(#clip8202)\" style=\"fill:#ff00ff; stroke:none; fill-opacity:1\" cx=\"973.136\" cy=\"566.882\" r=\"14\"/>\n",
       "<circle clip-path=\"url(#clip8202)\" style=\"fill:#000000; stroke:none; fill-opacity:1\" cx=\"912.747\" cy=\"615.306\" r=\"18\"/>\n",
       "<circle clip-path=\"url(#clip8202)\" style=\"fill:#ff00ff; stroke:none; fill-opacity:1\" cx=\"912.747\" cy=\"615.306\" r=\"14\"/>\n",
       "<circle clip-path=\"url(#clip8202)\" style=\"fill:#000000; stroke:none; fill-opacity:1\" cx=\"852.357\" cy=\"663.729\" r=\"18\"/>\n",
       "<circle clip-path=\"url(#clip8202)\" style=\"fill:#ff00ff; stroke:none; fill-opacity:1\" cx=\"852.357\" cy=\"663.729\" r=\"14\"/>\n",
       "<circle clip-path=\"url(#clip8202)\" style=\"fill:#000000; stroke:none; fill-opacity:1\" cx=\"791.967\" cy=\"712.158\" r=\"18\"/>\n",
       "<circle clip-path=\"url(#clip8202)\" style=\"fill:#ff00ff; stroke:none; fill-opacity:1\" cx=\"791.967\" cy=\"712.158\" r=\"14\"/>\n",
       "<circle clip-path=\"url(#clip8202)\" style=\"fill:#000000; stroke:none; fill-opacity:1\" cx=\"731.577\" cy=\"760.632\" r=\"18\"/>\n",
       "<circle clip-path=\"url(#clip8202)\" style=\"fill:#ff00ff; stroke:none; fill-opacity:1\" cx=\"731.577\" cy=\"760.632\" r=\"14\"/>\n",
       "<circle clip-path=\"url(#clip8202)\" style=\"fill:#000000; stroke:none; fill-opacity:1\" cx=\"671.187\" cy=\"808.594\" r=\"18\"/>\n",
       "<circle clip-path=\"url(#clip8202)\" style=\"fill:#ff00ff; stroke:none; fill-opacity:1\" cx=\"671.187\" cy=\"808.594\" r=\"14\"/>\n",
       "<circle clip-path=\"url(#clip8202)\" style=\"fill:#000000; stroke:none; fill-opacity:1\" cx=\"610.797\" cy=\"860.861\" r=\"18\"/>\n",
       "<circle clip-path=\"url(#clip8202)\" style=\"fill:#ff00ff; stroke:none; fill-opacity:1\" cx=\"610.797\" cy=\"860.861\" r=\"14\"/>\n",
       "<circle clip-path=\"url(#clip8202)\" style=\"fill:#000000; stroke:none; fill-opacity:1\" cx=\"550.407\" cy=\"886.297\" r=\"18\"/>\n",
       "<circle clip-path=\"url(#clip8202)\" style=\"fill:#ff00ff; stroke:none; fill-opacity:1\" cx=\"550.407\" cy=\"886.297\" r=\"14\"/>\n",
       "<circle clip-path=\"url(#clip8202)\" style=\"fill:#000000; stroke:none; fill-opacity:1\" cx=\"490.017\" cy=\"898.049\" r=\"18\"/>\n",
       "<circle clip-path=\"url(#clip8202)\" style=\"fill:#ff00ff; stroke:none; fill-opacity:1\" cx=\"490.017\" cy=\"898.049\" r=\"14\"/>\n",
       "<circle clip-path=\"url(#clip8202)\" style=\"fill:#000000; stroke:none; fill-opacity:1\" cx=\"429.627\" cy=\"946.473\" r=\"18\"/>\n",
       "<circle clip-path=\"url(#clip8202)\" style=\"fill:#ff00ff; stroke:none; fill-opacity:1\" cx=\"429.627\" cy=\"946.473\" r=\"14\"/>\n",
       "<circle clip-path=\"url(#clip8202)\" style=\"fill:#000000; stroke:none; fill-opacity:1\" cx=\"369.237\" cy=\"994.889\" r=\"18\"/>\n",
       "<circle clip-path=\"url(#clip8202)\" style=\"fill:#ff00ff; stroke:none; fill-opacity:1\" cx=\"369.237\" cy=\"994.889\" r=\"14\"/>\n",
       "<polyline clip-path=\"url(#clip8202)\" style=\"stroke:#009af9; stroke-width:4; stroke-opacity:1; fill:none\" points=\"\n",
       "  1516.65,76.6792 312.98,1057.85 \n",
       "  \"/>\n",
       "</svg>\n"
      ]
     },
     "execution_count": 30,
     "metadata": {},
     "output_type": "execute_result"
    }
   ],
   "source": [
    "a = 0\n",
    "f(x) = exp(x)\n",
    "F(x) = exp(x)\n",
    "cores = [:blue, :red, :magenta]\n",
    "scatter(leg=false, xaxis=:log, yaxis=:log)\n",
    "for (i,mtd) in enumerate([ponto_medio, trapezio_fechado, trapezio_aberto])\n",
    "    b = 1.0\n",
    "    while b > 1e-6\n",
    "        Ireal = F(b) - F(a)\n",
    "        Iapprox = mtd(f, a, b)\n",
    "        E = abs(Ireal - Iapprox) / Ireal\n",
    "        scatter!([b], [E], c=cores[i])\n",
    "        b /= 2.0\n",
    "    end\n",
    "end\n",
    "b = [1.0; 1e-6]\n",
    "plot!(b, b.^3 .* exp.(b) ./ (F.(b) .- F(a)) / 12)"
   ]
  },
  {
   "cell_type": "markdown",
   "metadata": {},
   "source": [
    "Duas conclusões importantes podem ser tiradas daqui. Primeiro, não existem bons motivos para se usar o trapézio aberto, uma vez que o erro do ponto médio é da mesma ordem que o do trapézio aberto.\n",
    "Segundo, que todas essas fórmulas tem uma erro proporcional à $f''(\\xi)$, de modo que integram perfeitamente funções afins."
   ]
  },
  {
   "cell_type": "code",
   "execution_count": 27,
   "metadata": {},
   "outputs": [
    {
     "data": {
      "text/plain": [
       "0.0"
      ]
     },
     "execution_count": 27,
     "metadata": {},
     "output_type": "execute_result"
    }
   ],
   "source": [
    "f(x) = 2x + 5\n",
    "F(x) = x^2 + 5x\n",
    "a, b = 0, 1\n",
    "ponto_medio(f, a, b) - (F(b) - F(a))"
   ]
  },
  {
   "cell_type": "markdown",
   "metadata": {},
   "source": [
    "Outro ponto agora é se conseguimos melhorar nossa aproximação num intervalo fixo $[a,b]$.\n",
    "Existem duas possibilidades: aumentar a quantidade de pontos da interpolação, ou quebrar o intervalo $[a,b]$ em vários intervalos menores."
   ]
  },
  {
   "cell_type": "markdown",
   "metadata": {},
   "source": [
    "### Regra de Simpson \n",
    "\n",
    "Usando 3 pontos chegamos nas seguintes fórmulas:"
   ]
  },
  {
   "cell_type": "markdown",
   "metadata": {},
   "source": [
    "\\begin{align}\n",
    "\\int_a^b f(x)\\mbox{d}x & = \\frac{b-a}{6}[f(a) + 4f\\bigg(\\frac{a+b}{2}\\bigg) + f(b)] - \\frac{(b-a)^5}{2880}f^{(4)}(\\xi) \\\\\n",
    "& = \\frac{h}{3}[f(x_1) + 4f(x_2) + f(x_3)] - \\frac{h^5}{90}f^{(4)}(\\xi),\n",
    "\\end{align}\n",
    "e"
   ]
  },
  {
   "cell_type": "markdown",
   "metadata": {},
   "source": [
    "\\begin{align}\n",
    "\\int_a^b f(x)\\mbox{d}x & = \\frac{b-a}{3}[2f(a+h) - f(a+2h) + 2f(a+3h)] + \\frac{7(b - a)^5}{23040}f^{(4)}(\\xi) \\\\\n",
    "& = \\frac{4h}{3}[2f(x_1) - f(x_2) + 2f(x_3)] + \\frac{14h^5}{45}f^{(4)}(\\xi).\n",
    "\\end{align}"
   ]
  },
  {
   "cell_type": "markdown",
   "metadata": {},
   "source": [
    "Note que $h = \\dfrac{b-a}{2}$ na fórmula fechada e $h = \\dfrac{b-a}{4}$ na fórmula aberta."
   ]
  },
  {
   "cell_type": "markdown",
   "metadata": {},
   "source": [
    "A fórmula fechada de 3 pontos é chamado de regra de Simpson."
   ]
  },
  {
   "cell_type": "code",
   "execution_count": 34,
   "metadata": {},
   "outputs": [
    {
     "data": {
      "image/svg+xml": [
       "<?xml version=\"1.0\" encoding=\"utf-8\"?>\n",
       "<svg xmlns=\"http://www.w3.org/2000/svg\" xmlns:xlink=\"http://www.w3.org/1999/xlink\" width=\"400\" height=\"300\" viewBox=\"0 0 1600 1200\">\n",
       "<defs>\n",
       "  <clipPath id=\"clip9000\">\n",
       "    <rect x=\"0\" y=\"0\" width=\"1600\" height=\"1200\"/>\n",
       "  </clipPath>\n",
       "</defs>\n",
       "<polygon clip-path=\"url(#clip9000)\" points=\"\n",
       "0,1200 1600,1200 1600,0 0,0 \n",
       "  \" fill=\"#ffffff\" fill-rule=\"evenodd\" fill-opacity=\"1\"/>\n",
       "<defs>\n",
       "  <clipPath id=\"clip9001\">\n",
       "    <rect x=\"320\" y=\"0\" width=\"1121\" height=\"1121\"/>\n",
       "  </clipPath>\n",
       "</defs>\n",
       "<polygon clip-path=\"url(#clip9000)\" points=\"\n",
       "172.66,1087.28 1552.76,1087.28 1552.76,47.2441 172.66,47.2441 \n",
       "  \" fill=\"#ffffff\" fill-rule=\"evenodd\" fill-opacity=\"1\"/>\n",
       "<defs>\n",
       "  <clipPath id=\"clip9002\">\n",
       "    <rect x=\"172\" y=\"47\" width=\"1381\" height=\"1041\"/>\n",
       "  </clipPath>\n",
       "</defs>\n",
       "<polyline clip-path=\"url(#clip9002)\" style=\"stroke:#000000; stroke-width:2; stroke-opacity:0.1; fill:none\" points=\"\n",
       "  211.72,1087.28 211.72,47.2441 \n",
       "  \"/>\n",
       "<polyline clip-path=\"url(#clip9002)\" style=\"stroke:#000000; stroke-width:2; stroke-opacity:0.1; fill:none\" points=\"\n",
       "  537.214,1087.28 537.214,47.2441 \n",
       "  \"/>\n",
       "<polyline clip-path=\"url(#clip9002)\" style=\"stroke:#000000; stroke-width:2; stroke-opacity:0.1; fill:none\" points=\"\n",
       "  862.708,1087.28 862.708,47.2441 \n",
       "  \"/>\n",
       "<polyline clip-path=\"url(#clip9002)\" style=\"stroke:#000000; stroke-width:2; stroke-opacity:0.1; fill:none\" points=\"\n",
       "  1188.2,1087.28 1188.2,47.2441 \n",
       "  \"/>\n",
       "<polyline clip-path=\"url(#clip9002)\" style=\"stroke:#000000; stroke-width:2; stroke-opacity:0.1; fill:none\" points=\"\n",
       "  1513.7,1087.28 1513.7,47.2441 \n",
       "  \"/>\n",
       "<polyline clip-path=\"url(#clip9002)\" style=\"stroke:#000000; stroke-width:2; stroke-opacity:0.1; fill:none\" points=\"\n",
       "  172.66,1057.85 1552.76,1057.85 \n",
       "  \"/>\n",
       "<polyline clip-path=\"url(#clip9002)\" style=\"stroke:#000000; stroke-width:2; stroke-opacity:0.1; fill:none\" points=\"\n",
       "  172.66,832.583 1552.76,832.583 \n",
       "  \"/>\n",
       "<polyline clip-path=\"url(#clip9002)\" style=\"stroke:#000000; stroke-width:2; stroke-opacity:0.1; fill:none\" points=\"\n",
       "  172.66,607.318 1552.76,607.318 \n",
       "  \"/>\n",
       "<polyline clip-path=\"url(#clip9002)\" style=\"stroke:#000000; stroke-width:2; stroke-opacity:0.1; fill:none\" points=\"\n",
       "  172.66,382.053 1552.76,382.053 \n",
       "  \"/>\n",
       "<polyline clip-path=\"url(#clip9002)\" style=\"stroke:#000000; stroke-width:2; stroke-opacity:0.1; fill:none\" points=\"\n",
       "  172.66,156.788 1552.76,156.788 \n",
       "  \"/>\n",
       "<polyline clip-path=\"url(#clip9000)\" style=\"stroke:#000000; stroke-width:4; stroke-opacity:1; fill:none\" points=\"\n",
       "  172.66,1087.28 1552.76,1087.28 \n",
       "  \"/>\n",
       "<polyline clip-path=\"url(#clip9000)\" style=\"stroke:#000000; stroke-width:4; stroke-opacity:1; fill:none\" points=\"\n",
       "  172.66,1087.28 172.66,47.2441 \n",
       "  \"/>\n",
       "<polyline clip-path=\"url(#clip9000)\" style=\"stroke:#000000; stroke-width:4; stroke-opacity:1; fill:none\" points=\"\n",
       "  211.72,1087.28 211.72,1071.68 \n",
       "  \"/>\n",
       "<polyline clip-path=\"url(#clip9000)\" style=\"stroke:#000000; stroke-width:4; stroke-opacity:1; fill:none\" points=\"\n",
       "  537.214,1087.28 537.214,1071.68 \n",
       "  \"/>\n",
       "<polyline clip-path=\"url(#clip9000)\" style=\"stroke:#000000; stroke-width:4; stroke-opacity:1; fill:none\" points=\"\n",
       "  862.708,1087.28 862.708,1071.68 \n",
       "  \"/>\n",
       "<polyline clip-path=\"url(#clip9000)\" style=\"stroke:#000000; stroke-width:4; stroke-opacity:1; fill:none\" points=\"\n",
       "  1188.2,1087.28 1188.2,1071.68 \n",
       "  \"/>\n",
       "<polyline clip-path=\"url(#clip9000)\" style=\"stroke:#000000; stroke-width:4; stroke-opacity:1; fill:none\" points=\"\n",
       "  1513.7,1087.28 1513.7,1071.68 \n",
       "  \"/>\n",
       "<polyline clip-path=\"url(#clip9000)\" style=\"stroke:#000000; stroke-width:4; stroke-opacity:1; fill:none\" points=\"\n",
       "  172.66,1057.85 193.362,1057.85 \n",
       "  \"/>\n",
       "<polyline clip-path=\"url(#clip9000)\" style=\"stroke:#000000; stroke-width:4; stroke-opacity:1; fill:none\" points=\"\n",
       "  172.66,832.583 193.362,832.583 \n",
       "  \"/>\n",
       "<polyline clip-path=\"url(#clip9000)\" style=\"stroke:#000000; stroke-width:4; stroke-opacity:1; fill:none\" points=\"\n",
       "  172.66,607.318 193.362,607.318 \n",
       "  \"/>\n",
       "<polyline clip-path=\"url(#clip9000)\" style=\"stroke:#000000; stroke-width:4; stroke-opacity:1; fill:none\" points=\"\n",
       "  172.66,382.053 193.362,382.053 \n",
       "  \"/>\n",
       "<polyline clip-path=\"url(#clip9000)\" style=\"stroke:#000000; stroke-width:4; stroke-opacity:1; fill:none\" points=\"\n",
       "  172.66,156.788 193.362,156.788 \n",
       "  \"/>\n",
       "<g clip-path=\"url(#clip9000)\">\n",
       "<text style=\"fill:#000000; fill-opacity:1; font-family:Arial,Helvetica Neue,Helvetica,sans-serif; font-size:48px; text-anchor:middle;\" transform=\"rotate(0, 211.72, 1137.28)\" x=\"211.72\" y=\"1137.28\">-2</text>\n",
       "</g>\n",
       "<g clip-path=\"url(#clip9000)\">\n",
       "<text style=\"fill:#000000; fill-opacity:1; font-family:Arial,Helvetica Neue,Helvetica,sans-serif; font-size:48px; text-anchor:middle;\" transform=\"rotate(0, 537.214, 1137.28)\" x=\"537.214\" y=\"1137.28\">-1</text>\n",
       "</g>\n",
       "<g clip-path=\"url(#clip9000)\">\n",
       "<text style=\"fill:#000000; fill-opacity:1; font-family:Arial,Helvetica Neue,Helvetica,sans-serif; font-size:48px; text-anchor:middle;\" transform=\"rotate(0, 862.708, 1137.28)\" x=\"862.708\" y=\"1137.28\">0</text>\n",
       "</g>\n",
       "<g clip-path=\"url(#clip9000)\">\n",
       "<text style=\"fill:#000000; fill-opacity:1; font-family:Arial,Helvetica Neue,Helvetica,sans-serif; font-size:48px; text-anchor:middle;\" transform=\"rotate(0, 1188.2, 1137.28)\" x=\"1188.2\" y=\"1137.28\">1</text>\n",
       "</g>\n",
       "<g clip-path=\"url(#clip9000)\">\n",
       "<text style=\"fill:#000000; fill-opacity:1; font-family:Arial,Helvetica Neue,Helvetica,sans-serif; font-size:48px; text-anchor:middle;\" transform=\"rotate(0, 1513.7, 1137.28)\" x=\"1513.7\" y=\"1137.28\">2</text>\n",
       "</g>\n",
       "<g clip-path=\"url(#clip9000)\">\n",
       "<text style=\"fill:#000000; fill-opacity:1; font-family:Arial,Helvetica Neue,Helvetica,sans-serif; font-size:48px; text-anchor:end;\" transform=\"rotate(0, 156.66, 1075.35)\" x=\"156.66\" y=\"1075.35\">0.0</text>\n",
       "</g>\n",
       "<g clip-path=\"url(#clip9000)\">\n",
       "<text style=\"fill:#000000; fill-opacity:1; font-family:Arial,Helvetica Neue,Helvetica,sans-serif; font-size:48px; text-anchor:end;\" transform=\"rotate(0, 156.66, 850.083)\" x=\"156.66\" y=\"850.083\">2.5</text>\n",
       "</g>\n",
       "<g clip-path=\"url(#clip9000)\">\n",
       "<text style=\"fill:#000000; fill-opacity:1; font-family:Arial,Helvetica Neue,Helvetica,sans-serif; font-size:48px; text-anchor:end;\" transform=\"rotate(0, 156.66, 624.818)\" x=\"156.66\" y=\"624.818\">5.0</text>\n",
       "</g>\n",
       "<g clip-path=\"url(#clip9000)\">\n",
       "<text style=\"fill:#000000; fill-opacity:1; font-family:Arial,Helvetica Neue,Helvetica,sans-serif; font-size:48px; text-anchor:end;\" transform=\"rotate(0, 156.66, 399.553)\" x=\"156.66\" y=\"399.553\">7.5</text>\n",
       "</g>\n",
       "<g clip-path=\"url(#clip9000)\">\n",
       "<text style=\"fill:#000000; fill-opacity:1; font-family:Arial,Helvetica Neue,Helvetica,sans-serif; font-size:48px; text-anchor:end;\" transform=\"rotate(0, 156.66, 174.288)\" x=\"156.66\" y=\"174.288\">10.0</text>\n",
       "</g>\n",
       "<polygon clip-path=\"url(#clip9002)\" points=\"\n",
       "214.898,730.354 218.077,730.803 221.256,731.627 224.434,732.816 239.13,742.672 253.826,758.136 268.522,776.339 283.218,793.918 297.914,807.618 312.61,814.869 \n",
       "  327.306,814.244 342.002,805.717 359.665,787.042 377.328,763.518 394.992,740.89 412.655,724.654 427.589,718.832 442.523,721.249 457.457,731.254 472.391,746.789 \n",
       "  488.614,766.316 504.836,784.183 521.059,796.2 537.282,799.428 552.237,793.673 567.193,780.302 582.149,761.479 597.105,740.358 613.139,719.217 629.173,703.575 \n",
       "  637.19,698.775 645.207,696.292 653.224,696.197 661.241,698.433 679.819,711.346 698.396,731.099 716.973,751.252 735.55,765.199 743.805,768.021 752.059,768.357 \n",
       "  760.314,766.095 768.569,761.27 785.078,744.768 801.587,721.756 816.064,699.613 830.541,679.02 845.018,662.92 859.495,653.451 875.279,651.775 891.063,658.52 \n",
       "  906.847,671.337 922.631,686.579 938.509,700.121 954.386,707.925 962.325,708.733 970.264,707.177 978.203,703.176 986.142,696.778 1003.7,675.121 1021.25,646.347 \n",
       "  1038.81,615.764 1056.36,589.026 1064.71,579.053 1073.06,571.349 1081.42,566.105 1089.77,563.363 1106.47,564.799 1123.17,573.117 1140.54,584.501 1157.91,593.168 \n",
       "  1166.59,594.847 1175.27,594.067 1183.96,590.483 1192.64,583.914 1207.26,566.191 1221.88,541.172 1236.5,511.142 1251.12,479.176 1268.97,442.323 1286.82,412.7 \n",
       "  1295.74,401.667 1304.67,393.369 1313.59,387.72 1322.52,384.441 1339.29,382.99 1356.07,383.956 1372.85,382.29 1389.63,373.3 1403.07,358.544 1416.51,336.255 \n",
       "  1429.95,306.745 1443.39,271.276 1470.27,191.004 1497.15,114.753 1501.29,104.464 1505.42,94.6759 1509.56,85.4101 1509.56,1057.85 1505.42,1057.85 1501.29,1057.85 \n",
       "  1497.15,1057.85 1470.27,1057.85 1443.39,1057.85 1429.95,1057.85 1416.51,1057.85 1403.07,1057.85 1389.63,1057.85 1372.85,1057.85 1356.07,1057.85 1339.29,1057.85 \n",
       "  1322.52,1057.85 1313.59,1057.85 1304.67,1057.85 1295.74,1057.85 1286.82,1057.85 1268.97,1057.85 1251.12,1057.85 1236.5,1057.85 1221.88,1057.85 1207.26,1057.85 \n",
       "  1192.64,1057.85 1183.96,1057.85 1175.27,1057.85 1166.59,1057.85 1157.91,1057.85 1140.54,1057.85 1123.17,1057.85 1106.47,1057.85 1089.77,1057.85 1081.42,1057.85 \n",
       "  1073.06,1057.85 1064.71,1057.85 1056.36,1057.85 1038.81,1057.85 1021.25,1057.85 1003.7,1057.85 986.142,1057.85 978.203,1057.85 970.264,1057.85 962.325,1057.85 \n",
       "  954.386,1057.85 938.509,1057.85 922.631,1057.85 906.847,1057.85 891.063,1057.85 875.279,1057.85 859.495,1057.85 845.018,1057.85 830.541,1057.85 816.064,1057.85 \n",
       "  801.587,1057.85 785.078,1057.85 768.569,1057.85 760.314,1057.85 752.059,1057.85 743.805,1057.85 735.55,1057.85 716.973,1057.85 698.396,1057.85 679.819,1057.85 \n",
       "  661.241,1057.85 653.224,1057.85 645.207,1057.85 637.19,1057.85 629.173,1057.85 613.139,1057.85 597.105,1057.85 582.149,1057.85 567.193,1057.85 552.237,1057.85 \n",
       "  537.282,1057.85 521.059,1057.85 504.836,1057.85 488.614,1057.85 472.391,1057.85 457.457,1057.85 442.523,1057.85 427.589,1057.85 412.655,1057.85 394.992,1057.85 \n",
       "  377.328,1057.85 359.665,1057.85 342.002,1057.85 327.306,1057.85 312.61,1057.85 297.914,1057.85 283.218,1057.85 268.522,1057.85 253.826,1057.85 239.13,1057.85 \n",
       "  224.434,1057.85 221.256,1057.85 218.077,1057.85 214.898,1057.85 \n",
       "  \" fill=\"#ff0000\" fill-rule=\"evenodd\" fill-opacity=\"0.5\"/>\n",
       "<polyline clip-path=\"url(#clip9002)\" style=\"stroke:#ff0000; stroke-width:4; stroke-opacity:1; fill:none\" points=\"\n",
       "  214.898,730.354 218.077,730.803 221.256,731.627 224.434,732.816 239.13,742.672 253.826,758.136 268.522,776.339 283.218,793.918 297.914,807.618 312.61,814.869 \n",
       "  327.306,814.244 342.002,805.717 359.665,787.042 377.328,763.518 394.992,740.89 412.655,724.654 427.589,718.832 442.523,721.249 457.457,731.254 472.391,746.789 \n",
       "  488.614,766.316 504.836,784.183 521.059,796.2 537.282,799.428 552.237,793.673 567.193,780.302 582.149,761.479 597.105,740.358 613.139,719.217 629.173,703.575 \n",
       "  637.19,698.775 645.207,696.292 653.224,696.197 661.241,698.433 679.819,711.346 698.396,731.099 716.973,751.252 735.55,765.199 743.805,768.021 752.059,768.357 \n",
       "  760.314,766.095 768.569,761.27 785.078,744.768 801.587,721.756 816.064,699.613 830.541,679.02 845.018,662.92 859.495,653.451 875.279,651.775 891.063,658.52 \n",
       "  906.847,671.337 922.631,686.579 938.509,700.121 954.386,707.925 962.325,708.733 970.264,707.177 978.203,703.176 986.142,696.778 1003.7,675.121 1021.25,646.347 \n",
       "  1038.81,615.764 1056.36,589.026 1064.71,579.053 1073.06,571.349 1081.42,566.105 1089.77,563.363 1106.47,564.799 1123.17,573.117 1140.54,584.501 1157.91,593.168 \n",
       "  1166.59,594.847 1175.27,594.067 1183.96,590.483 1192.64,583.914 1207.26,566.191 1221.88,541.172 1236.5,511.142 1251.12,479.176 1268.97,442.323 1286.82,412.7 \n",
       "  1295.74,401.667 1304.67,393.369 1313.59,387.72 1322.52,384.441 1339.29,382.99 1356.07,383.956 1372.85,382.29 1389.63,373.3 1403.07,358.544 1416.51,336.255 \n",
       "  1429.95,306.745 1443.39,271.276 1470.27,191.004 1497.15,114.753 1501.29,104.464 1505.42,94.6759 1509.56,85.4101 \n",
       "  \"/>\n",
       "<polygon clip-path=\"url(#clip9002)\" points=\"\n",
       "224.434,733.527 342.002,754.532 412.655,759.345 472.391,758.84 537.282,753.541 597.105,744.275 661.241,729.671 735.55,706.709 801.587,680.861 859.495,653.978 \n",
       "  922.631,620.181 986.142,581.458 1056.36,533.131 1123.17,481.772 1192.64,422.81 1251.12,368.782 1322.52,297.375 1389.63,224.791 1497.15,97.4778 1497.15,1057.85 \n",
       "  1389.63,1057.85 1322.52,1057.85 1251.12,1057.85 1192.64,1057.85 1123.17,1057.85 1056.36,1057.85 986.142,1057.85 922.631,1057.85 859.495,1057.85 801.587,1057.85 \n",
       "  735.55,1057.85 661.241,1057.85 597.105,1057.85 537.282,1057.85 472.391,1057.85 412.655,1057.85 342.002,1057.85 224.434,1057.85 \n",
       "  \" fill=\"#0000ff\" fill-rule=\"evenodd\" fill-opacity=\"0.5\"/>\n",
       "<polyline clip-path=\"url(#clip9002)\" style=\"stroke:#0000ff; stroke-width:4; stroke-opacity:1; fill:none\" points=\"\n",
       "  224.434,733.527 342.002,754.532 412.655,759.345 472.391,758.84 537.282,753.541 597.105,744.275 661.241,729.671 735.55,706.709 801.587,680.861 859.495,653.978 \n",
       "  922.631,620.181 986.142,581.458 1056.36,533.131 1123.17,481.772 1192.64,422.81 1251.12,368.782 1322.52,297.375 1389.63,224.791 1497.15,97.4778 \n",
       "  \"/>\n",
       "<circle clip-path=\"url(#clip9002)\" style=\"fill:#000000; stroke:none; fill-opacity:1\" cx=\"211.72\" cy=\"730.283\" r=\"18\"/>\n",
       "<circle clip-path=\"url(#clip9002)\" style=\"fill:#0000ff; stroke:none; fill-opacity:1\" cx=\"211.72\" cy=\"730.283\" r=\"14\"/>\n",
       "<circle clip-path=\"url(#clip9002)\" style=\"fill:#000000; stroke:none; fill-opacity:1\" cx=\"862.708\" cy=\"652.371\" r=\"18\"/>\n",
       "<circle clip-path=\"url(#clip9002)\" style=\"fill:#0000ff; stroke:none; fill-opacity:1\" cx=\"862.708\" cy=\"652.371\" r=\"14\"/>\n",
       "<circle clip-path=\"url(#clip9002)\" style=\"fill:#000000; stroke:none; fill-opacity:1\" cx=\"1513.7\" cy=\"76.6792\" r=\"18\"/>\n",
       "<circle clip-path=\"url(#clip9002)\" style=\"fill:#0000ff; stroke:none; fill-opacity:1\" cx=\"1513.7\" cy=\"76.6792\" r=\"14\"/>\n",
       "</svg>\n"
      ]
     },
     "execution_count": 34,
     "metadata": {},
     "output_type": "execute_result"
    }
   ],
   "source": [
    "f(x) = exp(x) + cos(3π*x) * 0.5 + 3\n",
    "a, b = -2, 2\n",
    "c = (a+b)/2\n",
    "interp(x) = f(a) + (x - a) * (f(c) - f(a)) / (c - a) + (x - a) * (x - c) * (f(b) - 2*f(c) + f(a)) / (2 * (c - a)^2)\n",
    "plot(f, a, b, c=:red, fill=(0,:red,0.5), leg=false)\n",
    "plot!(interp, a, b, c=:blue, fill=(0,:blue,0.5))\n",
    "scatter!([a, c, b], [f(a), f(c), f(b)], c=:blue)"
   ]
  },
  {
   "cell_type": "code",
   "execution_count": 35,
   "metadata": {},
   "outputs": [
    {
     "data": {
      "text/plain": [
       "simpson (generic function with 1 method)"
      ]
     },
     "execution_count": 35,
     "metadata": {},
     "output_type": "execute_result"
    }
   ],
   "source": [
    "function simpson(f, a, b)\n",
    "    h = (b - a) / 2\n",
    "    return h * (f(a) + 4 * f(a + h) + f(b)) / 3\n",
    "end"
   ]
  },
  {
   "cell_type": "code",
   "execution_count": 36,
   "metadata": {},
   "outputs": [
    {
     "data": {
      "text/plain": [
       "aberta3pontos (generic function with 1 method)"
      ]
     },
     "execution_count": 36,
     "metadata": {},
     "output_type": "execute_result"
    }
   ],
   "source": [
    "function aberta3pontos(f, a, b)\n",
    "    h = (b - a) / 4\n",
    "    return 4h * (2 * f(a + h) + 2 * f(b - h) - f(a + 2h)) / 3\n",
    "end"
   ]
  },
  {
   "cell_type": "code",
   "execution_count": 37,
   "metadata": {},
   "outputs": [
    {
     "data": {
      "image/svg+xml": [
       "<?xml version=\"1.0\" encoding=\"utf-8\"?>\n",
       "<svg xmlns=\"http://www.w3.org/2000/svg\" xmlns:xlink=\"http://www.w3.org/1999/xlink\" width=\"400\" height=\"300\" viewBox=\"0 0 1600 1200\">\n",
       "<defs>\n",
       "  <clipPath id=\"clip9400\">\n",
       "    <rect x=\"0\" y=\"0\" width=\"1600\" height=\"1200\"/>\n",
       "  </clipPath>\n",
       "</defs>\n",
       "<polygon clip-path=\"url(#clip9400)\" points=\"\n",
       "0,1200 1600,1200 1600,0 0,0 \n",
       "  \" fill=\"#ffffff\" fill-rule=\"evenodd\" fill-opacity=\"1\"/>\n",
       "<defs>\n",
       "  <clipPath id=\"clip9401\">\n",
       "    <rect x=\"320\" y=\"0\" width=\"1121\" height=\"1121\"/>\n",
       "  </clipPath>\n",
       "</defs>\n",
       "<polygon clip-path=\"url(#clip9400)\" points=\"\n",
       "236.726,1087.28 1552.76,1087.28 1552.76,47.2441 236.726,47.2441 \n",
       "  \" fill=\"#ffffff\" fill-rule=\"evenodd\" fill-opacity=\"1\"/>\n",
       "<defs>\n",
       "  <clipPath id=\"clip9402\">\n",
       "    <rect x=\"236\" y=\"47\" width=\"1317\" height=\"1041\"/>\n",
       "  </clipPath>\n",
       "</defs>\n",
       "<polyline clip-path=\"url(#clip9402)\" style=\"stroke:#000000; stroke-width:2; stroke-opacity:0.1; fill:none\" points=\"\n",
       "  273.972,1087.28 273.972,47.2441 \n",
       "  \"/>\n",
       "<polyline clip-path=\"url(#clip9402)\" style=\"stroke:#000000; stroke-width:2; stroke-opacity:0.1; fill:none\" points=\"\n",
       "  480.895,1087.28 480.895,47.2441 \n",
       "  \"/>\n",
       "<polyline clip-path=\"url(#clip9402)\" style=\"stroke:#000000; stroke-width:2; stroke-opacity:0.1; fill:none\" points=\"\n",
       "  687.818,1087.28 687.818,47.2441 \n",
       "  \"/>\n",
       "<polyline clip-path=\"url(#clip9402)\" style=\"stroke:#000000; stroke-width:2; stroke-opacity:0.1; fill:none\" points=\"\n",
       "  894.741,1087.28 894.741,47.2441 \n",
       "  \"/>\n",
       "<polyline clip-path=\"url(#clip9402)\" style=\"stroke:#000000; stroke-width:2; stroke-opacity:0.1; fill:none\" points=\"\n",
       "  1101.66,1087.28 1101.66,47.2441 \n",
       "  \"/>\n",
       "<polyline clip-path=\"url(#clip9402)\" style=\"stroke:#000000; stroke-width:2; stroke-opacity:0.1; fill:none\" points=\"\n",
       "  1308.59,1087.28 1308.59,47.2441 \n",
       "  \"/>\n",
       "<polyline clip-path=\"url(#clip9402)\" style=\"stroke:#000000; stroke-width:2; stroke-opacity:0.1; fill:none\" points=\"\n",
       "  1515.51,1087.28 1515.51,47.2441 \n",
       "  \"/>\n",
       "<polyline clip-path=\"url(#clip9402)\" style=\"stroke:#000000; stroke-width:2; stroke-opacity:0.1; fill:none\" points=\"\n",
       "  236.726,958.131 1552.76,958.131 \n",
       "  \"/>\n",
       "<polyline clip-path=\"url(#clip9402)\" style=\"stroke:#000000; stroke-width:2; stroke-opacity:0.1; fill:none\" points=\"\n",
       "  236.726,755.403 1552.76,755.403 \n",
       "  \"/>\n",
       "<polyline clip-path=\"url(#clip9402)\" style=\"stroke:#000000; stroke-width:2; stroke-opacity:0.1; fill:none\" points=\"\n",
       "  236.726,552.676 1552.76,552.676 \n",
       "  \"/>\n",
       "<polyline clip-path=\"url(#clip9402)\" style=\"stroke:#000000; stroke-width:2; stroke-opacity:0.1; fill:none\" points=\"\n",
       "  236.726,349.948 1552.76,349.948 \n",
       "  \"/>\n",
       "<polyline clip-path=\"url(#clip9402)\" style=\"stroke:#000000; stroke-width:2; stroke-opacity:0.1; fill:none\" points=\"\n",
       "  236.726,147.221 1552.76,147.221 \n",
       "  \"/>\n",
       "<polyline clip-path=\"url(#clip9400)\" style=\"stroke:#000000; stroke-width:4; stroke-opacity:1; fill:none\" points=\"\n",
       "  236.726,1087.28 1552.76,1087.28 \n",
       "  \"/>\n",
       "<polyline clip-path=\"url(#clip9400)\" style=\"stroke:#000000; stroke-width:4; stroke-opacity:1; fill:none\" points=\"\n",
       "  236.726,1087.28 236.726,47.2441 \n",
       "  \"/>\n",
       "<polyline clip-path=\"url(#clip9400)\" style=\"stroke:#000000; stroke-width:4; stroke-opacity:1; fill:none\" points=\"\n",
       "  273.972,1087.28 273.972,1071.68 \n",
       "  \"/>\n",
       "<polyline clip-path=\"url(#clip9400)\" style=\"stroke:#000000; stroke-width:4; stroke-opacity:1; fill:none\" points=\"\n",
       "  480.895,1087.28 480.895,1071.68 \n",
       "  \"/>\n",
       "<polyline clip-path=\"url(#clip9400)\" style=\"stroke:#000000; stroke-width:4; stroke-opacity:1; fill:none\" points=\"\n",
       "  687.818,1087.28 687.818,1071.68 \n",
       "  \"/>\n",
       "<polyline clip-path=\"url(#clip9400)\" style=\"stroke:#000000; stroke-width:4; stroke-opacity:1; fill:none\" points=\"\n",
       "  894.741,1087.28 894.741,1071.68 \n",
       "  \"/>\n",
       "<polyline clip-path=\"url(#clip9400)\" style=\"stroke:#000000; stroke-width:4; stroke-opacity:1; fill:none\" points=\"\n",
       "  1101.66,1087.28 1101.66,1071.68 \n",
       "  \"/>\n",
       "<polyline clip-path=\"url(#clip9400)\" style=\"stroke:#000000; stroke-width:4; stroke-opacity:1; fill:none\" points=\"\n",
       "  1308.59,1087.28 1308.59,1071.68 \n",
       "  \"/>\n",
       "<polyline clip-path=\"url(#clip9400)\" style=\"stroke:#000000; stroke-width:4; stroke-opacity:1; fill:none\" points=\"\n",
       "  1515.51,1087.28 1515.51,1071.68 \n",
       "  \"/>\n",
       "<polyline clip-path=\"url(#clip9400)\" style=\"stroke:#000000; stroke-width:4; stroke-opacity:1; fill:none\" points=\"\n",
       "  236.726,958.131 256.467,958.131 \n",
       "  \"/>\n",
       "<polyline clip-path=\"url(#clip9400)\" style=\"stroke:#000000; stroke-width:4; stroke-opacity:1; fill:none\" points=\"\n",
       "  236.726,755.403 256.467,755.403 \n",
       "  \"/>\n",
       "<polyline clip-path=\"url(#clip9400)\" style=\"stroke:#000000; stroke-width:4; stroke-opacity:1; fill:none\" points=\"\n",
       "  236.726,552.676 256.467,552.676 \n",
       "  \"/>\n",
       "<polyline clip-path=\"url(#clip9400)\" style=\"stroke:#000000; stroke-width:4; stroke-opacity:1; fill:none\" points=\"\n",
       "  236.726,349.948 256.467,349.948 \n",
       "  \"/>\n",
       "<polyline clip-path=\"url(#clip9400)\" style=\"stroke:#000000; stroke-width:4; stroke-opacity:1; fill:none\" points=\"\n",
       "  236.726,147.221 256.467,147.221 \n",
       "  \"/>\n",
       "<g clip-path=\"url(#clip9400)\">\n",
       "<text style=\"fill:#000000; fill-opacity:1; font-family:Arial,Helvetica Neue,Helvetica,sans-serif; font-size:48px; text-anchor:start;\" transform=\"rotate(0, 219.482, 1158.29)\" x=\"219.482\" y=\"1158.29\">10</text>\n",
       "</g>\n",
       "<g clip-path=\"url(#clip9400)\">\n",
       "<text style=\"fill:#000000; fill-opacity:1; font-family:Arial,Helvetica Neue,Helvetica,sans-serif; font-size:38px; text-anchor:start;\" transform=\"rotate(0, 273.007, 1130.88)\" x=\"273.007\" y=\"1130.88\">-</text>\n",
       "</g>\n",
       "<g clip-path=\"url(#clip9400)\">\n",
       "<text style=\"fill:#000000; fill-opacity:1; font-family:Arial,Helvetica Neue,Helvetica,sans-serif; font-size:38px; text-anchor:start;\" transform=\"rotate(0, 295.846, 1130.88)\" x=\"295.846\" y=\"1130.88\">6 </text>\n",
       "</g>\n",
       "<g clip-path=\"url(#clip9400)\">\n",
       "<text style=\"fill:#000000; fill-opacity:1; font-family:Arial,Helvetica Neue,Helvetica,sans-serif; font-size:48px; text-anchor:start;\" transform=\"rotate(0, 426.405, 1158.29)\" x=\"426.405\" y=\"1158.29\">10</text>\n",
       "</g>\n",
       "<g clip-path=\"url(#clip9400)\">\n",
       "<text style=\"fill:#000000; fill-opacity:1; font-family:Arial,Helvetica Neue,Helvetica,sans-serif; font-size:38px; text-anchor:start;\" transform=\"rotate(0, 479.93, 1130.88)\" x=\"479.93\" y=\"1130.88\">-</text>\n",
       "</g>\n",
       "<g clip-path=\"url(#clip9400)\">\n",
       "<text style=\"fill:#000000; fill-opacity:1; font-family:Arial,Helvetica Neue,Helvetica,sans-serif; font-size:38px; text-anchor:start;\" transform=\"rotate(0, 502.769, 1130.88)\" x=\"502.769\" y=\"1130.88\">5 </text>\n",
       "</g>\n",
       "<g clip-path=\"url(#clip9400)\">\n",
       "<text style=\"fill:#000000; fill-opacity:1; font-family:Arial,Helvetica Neue,Helvetica,sans-serif; font-size:48px; text-anchor:start;\" transform=\"rotate(0, 633.328, 1158.29)\" x=\"633.328\" y=\"1158.29\">10</text>\n",
       "</g>\n",
       "<g clip-path=\"url(#clip9400)\">\n",
       "<text style=\"fill:#000000; fill-opacity:1; font-family:Arial,Helvetica Neue,Helvetica,sans-serif; font-size:38px; text-anchor:start;\" transform=\"rotate(0, 686.853, 1130.88)\" x=\"686.853\" y=\"1130.88\">-</text>\n",
       "</g>\n",
       "<g clip-path=\"url(#clip9400)\">\n",
       "<text style=\"fill:#000000; fill-opacity:1; font-family:Arial,Helvetica Neue,Helvetica,sans-serif; font-size:38px; text-anchor:start;\" transform=\"rotate(0, 709.692, 1130.88)\" x=\"709.692\" y=\"1130.88\">4 </text>\n",
       "</g>\n",
       "<g clip-path=\"url(#clip9400)\">\n",
       "<text style=\"fill:#000000; fill-opacity:1; font-family:Arial,Helvetica Neue,Helvetica,sans-serif; font-size:48px; text-anchor:start;\" transform=\"rotate(0, 840.251, 1158.29)\" x=\"840.251\" y=\"1158.29\">10</text>\n",
       "</g>\n",
       "<g clip-path=\"url(#clip9400)\">\n",
       "<text style=\"fill:#000000; fill-opacity:1; font-family:Arial,Helvetica Neue,Helvetica,sans-serif; font-size:38px; text-anchor:start;\" transform=\"rotate(0, 893.775, 1130.88)\" x=\"893.775\" y=\"1130.88\">-</text>\n",
       "</g>\n",
       "<g clip-path=\"url(#clip9400)\">\n",
       "<text style=\"fill:#000000; fill-opacity:1; font-family:Arial,Helvetica Neue,Helvetica,sans-serif; font-size:38px; text-anchor:start;\" transform=\"rotate(0, 916.615, 1130.88)\" x=\"916.615\" y=\"1130.88\">3 </text>\n",
       "</g>\n",
       "<g clip-path=\"url(#clip9400)\">\n",
       "<text style=\"fill:#000000; fill-opacity:1; font-family:Arial,Helvetica Neue,Helvetica,sans-serif; font-size:48px; text-anchor:start;\" transform=\"rotate(0, 1047.17, 1158.29)\" x=\"1047.17\" y=\"1158.29\">10</text>\n",
       "</g>\n",
       "<g clip-path=\"url(#clip9400)\">\n",
       "<text style=\"fill:#000000; fill-opacity:1; font-family:Arial,Helvetica Neue,Helvetica,sans-serif; font-size:38px; text-anchor:start;\" transform=\"rotate(0, 1100.7, 1130.88)\" x=\"1100.7\" y=\"1130.88\">-</text>\n",
       "</g>\n",
       "<g clip-path=\"url(#clip9400)\">\n",
       "<text style=\"fill:#000000; fill-opacity:1; font-family:Arial,Helvetica Neue,Helvetica,sans-serif; font-size:38px; text-anchor:start;\" transform=\"rotate(0, 1123.54, 1130.88)\" x=\"1123.54\" y=\"1130.88\">2 </text>\n",
       "</g>\n",
       "<g clip-path=\"url(#clip9400)\">\n",
       "<text style=\"fill:#000000; fill-opacity:1; font-family:Arial,Helvetica Neue,Helvetica,sans-serif; font-size:48px; text-anchor:start;\" transform=\"rotate(0, 1254.1, 1158.29)\" x=\"1254.1\" y=\"1158.29\">10</text>\n",
       "</g>\n",
       "<g clip-path=\"url(#clip9400)\">\n",
       "<text style=\"fill:#000000; fill-opacity:1; font-family:Arial,Helvetica Neue,Helvetica,sans-serif; font-size:38px; text-anchor:start;\" transform=\"rotate(0, 1307.62, 1130.88)\" x=\"1307.62\" y=\"1130.88\">-</text>\n",
       "</g>\n",
       "<g clip-path=\"url(#clip9400)\">\n",
       "<text style=\"fill:#000000; fill-opacity:1; font-family:Arial,Helvetica Neue,Helvetica,sans-serif; font-size:38px; text-anchor:start;\" transform=\"rotate(0, 1330.46, 1130.88)\" x=\"1330.46\" y=\"1130.88\">1 </text>\n",
       "</g>\n",
       "<g clip-path=\"url(#clip9400)\">\n",
       "<text style=\"fill:#000000; fill-opacity:1; font-family:Arial,Helvetica Neue,Helvetica,sans-serif; font-size:48px; text-anchor:start;\" transform=\"rotate(0, 1472.44, 1158.29)\" x=\"1472.44\" y=\"1158.29\">10</text>\n",
       "</g>\n",
       "<g clip-path=\"url(#clip9400)\">\n",
       "<text style=\"fill:#000000; fill-opacity:1; font-family:Arial,Helvetica Neue,Helvetica,sans-serif; font-size:38px; text-anchor:start;\" transform=\"rotate(0, 1525.96, 1130.88)\" x=\"1525.96\" y=\"1130.88\">0 </text>\n",
       "</g>\n",
       "<g clip-path=\"url(#clip9400)\">\n",
       "<text style=\"fill:#000000; fill-opacity:1; font-family:Arial,Helvetica Neue,Helvetica,sans-serif; font-size:48px; text-anchor:start;\" transform=\"rotate(0, 90.0012, 981.858)\" x=\"90.0012\" y=\"981.858\">10</text>\n",
       "</g>\n",
       "<g clip-path=\"url(#clip9400)\">\n",
       "<text style=\"fill:#000000; fill-opacity:1; font-family:Arial,Helvetica Neue,Helvetica,sans-serif; font-size:38px; text-anchor:start;\" transform=\"rotate(0, 143.526, 954.448)\" x=\"143.526\" y=\"954.448\">-</text>\n",
       "</g>\n",
       "<g clip-path=\"url(#clip9400)\">\n",
       "<text style=\"fill:#000000; fill-opacity:1; font-family:Arial,Helvetica Neue,Helvetica,sans-serif; font-size:38px; text-anchor:start;\" transform=\"rotate(0, 166.365, 954.448)\" x=\"166.365\" y=\"954.448\">25 </text>\n",
       "</g>\n",
       "<g clip-path=\"url(#clip9400)\">\n",
       "<text style=\"fill:#000000; fill-opacity:1; font-family:Arial,Helvetica Neue,Helvetica,sans-serif; font-size:48px; text-anchor:start;\" transform=\"rotate(0, 90.0012, 779.131)\" x=\"90.0012\" y=\"779.131\">10</text>\n",
       "</g>\n",
       "<g clip-path=\"url(#clip9400)\">\n",
       "<text style=\"fill:#000000; fill-opacity:1; font-family:Arial,Helvetica Neue,Helvetica,sans-serif; font-size:38px; text-anchor:start;\" transform=\"rotate(0, 143.526, 751.72)\" x=\"143.526\" y=\"751.72\">-</text>\n",
       "</g>\n",
       "<g clip-path=\"url(#clip9400)\">\n",
       "<text style=\"fill:#000000; fill-opacity:1; font-family:Arial,Helvetica Neue,Helvetica,sans-serif; font-size:38px; text-anchor:start;\" transform=\"rotate(0, 166.365, 751.72)\" x=\"166.365\" y=\"751.72\">20 </text>\n",
       "</g>\n",
       "<g clip-path=\"url(#clip9400)\">\n",
       "<text style=\"fill:#000000; fill-opacity:1; font-family:Arial,Helvetica Neue,Helvetica,sans-serif; font-size:48px; text-anchor:start;\" transform=\"rotate(0, 90.0012, 576.403)\" x=\"90.0012\" y=\"576.403\">10</text>\n",
       "</g>\n",
       "<g clip-path=\"url(#clip9400)\">\n",
       "<text style=\"fill:#000000; fill-opacity:1; font-family:Arial,Helvetica Neue,Helvetica,sans-serif; font-size:38px; text-anchor:start;\" transform=\"rotate(0, 143.526, 548.993)\" x=\"143.526\" y=\"548.993\">-</text>\n",
       "</g>\n",
       "<g clip-path=\"url(#clip9400)\">\n",
       "<text style=\"fill:#000000; fill-opacity:1; font-family:Arial,Helvetica Neue,Helvetica,sans-serif; font-size:38px; text-anchor:start;\" transform=\"rotate(0, 166.365, 548.993)\" x=\"166.365\" y=\"548.993\">15 </text>\n",
       "</g>\n",
       "<g clip-path=\"url(#clip9400)\">\n",
       "<text style=\"fill:#000000; fill-opacity:1; font-family:Arial,Helvetica Neue,Helvetica,sans-serif; font-size:48px; text-anchor:start;\" transform=\"rotate(0, 90.0012, 373.676)\" x=\"90.0012\" y=\"373.676\">10</text>\n",
       "</g>\n",
       "<g clip-path=\"url(#clip9400)\">\n",
       "<text style=\"fill:#000000; fill-opacity:1; font-family:Arial,Helvetica Neue,Helvetica,sans-serif; font-size:38px; text-anchor:start;\" transform=\"rotate(0, 143.526, 346.265)\" x=\"143.526\" y=\"346.265\">-</text>\n",
       "</g>\n",
       "<g clip-path=\"url(#clip9400)\">\n",
       "<text style=\"fill:#000000; fill-opacity:1; font-family:Arial,Helvetica Neue,Helvetica,sans-serif; font-size:38px; text-anchor:start;\" transform=\"rotate(0, 166.365, 346.265)\" x=\"166.365\" y=\"346.265\">10 </text>\n",
       "</g>\n",
       "<g clip-path=\"url(#clip9400)\">\n",
       "<text style=\"fill:#000000; fill-opacity:1; font-family:Arial,Helvetica Neue,Helvetica,sans-serif; font-size:48px; text-anchor:start;\" transform=\"rotate(0, 111.746, 170.948)\" x=\"111.746\" y=\"170.948\">10</text>\n",
       "</g>\n",
       "<g clip-path=\"url(#clip9400)\">\n",
       "<text style=\"fill:#000000; fill-opacity:1; font-family:Arial,Helvetica Neue,Helvetica,sans-serif; font-size:38px; text-anchor:start;\" transform=\"rotate(0, 165.27, 143.538)\" x=\"165.27\" y=\"143.538\">-</text>\n",
       "</g>\n",
       "<g clip-path=\"url(#clip9400)\">\n",
       "<text style=\"fill:#000000; fill-opacity:1; font-family:Arial,Helvetica Neue,Helvetica,sans-serif; font-size:38px; text-anchor:start;\" transform=\"rotate(0, 188.11, 143.538)\" x=\"188.11\" y=\"143.538\">5 </text>\n",
       "</g>\n",
       "<circle clip-path=\"url(#clip9402)\" style=\"fill:#000000; stroke:none; fill-opacity:1\" cx=\"1515.51\" cy=\"85.274\" r=\"18\"/>\n",
       "<circle clip-path=\"url(#clip9402)\" style=\"fill:#0000ff; stroke:none; fill-opacity:1\" cx=\"1515.51\" cy=\"85.274\" r=\"14\"/>\n",
       "<circle clip-path=\"url(#clip9402)\" style=\"fill:#000000; stroke:none; fill-opacity:1\" cx=\"1453.22\" cy=\"133.708\" r=\"18\"/>\n",
       "<circle clip-path=\"url(#clip9402)\" style=\"fill:#0000ff; stroke:none; fill-opacity:1\" cx=\"1453.22\" cy=\"133.708\" r=\"14\"/>\n",
       "<circle clip-path=\"url(#clip9402)\" style=\"fill:#000000; stroke:none; fill-opacity:1\" cx=\"1390.93\" cy=\"182.432\" r=\"18\"/>\n",
       "<circle clip-path=\"url(#clip9402)\" style=\"fill:#0000ff; stroke:none; fill-opacity:1\" cx=\"1390.93\" cy=\"182.432\" r=\"14\"/>\n",
       "<circle clip-path=\"url(#clip9402)\" style=\"fill:#000000; stroke:none; fill-opacity:1\" cx=\"1328.64\" cy=\"231.229\" r=\"18\"/>\n",
       "<circle clip-path=\"url(#clip9402)\" style=\"fill:#0000ff; stroke:none; fill-opacity:1\" cx=\"1328.64\" cy=\"231.229\" r=\"14\"/>\n",
       "<circle clip-path=\"url(#clip9402)\" style=\"fill:#000000; stroke:none; fill-opacity:1\" cx=\"1266.35\" cy=\"280.045\" r=\"18\"/>\n",
       "<circle clip-path=\"url(#clip9402)\" style=\"fill:#0000ff; stroke:none; fill-opacity:1\" cx=\"1266.35\" cy=\"280.045\" r=\"14\"/>\n",
       "<circle clip-path=\"url(#clip9402)\" style=\"fill:#000000; stroke:none; fill-opacity:1\" cx=\"1204.06\" cy=\"328.865\" r=\"18\"/>\n",
       "<circle clip-path=\"url(#clip9402)\" style=\"fill:#0000ff; stroke:none; fill-opacity:1\" cx=\"1204.06\" cy=\"328.865\" r=\"14\"/>\n",
       "<circle clip-path=\"url(#clip9402)\" style=\"fill:#000000; stroke:none; fill-opacity:1\" cx=\"1141.77\" cy=\"377.685\" r=\"18\"/>\n",
       "<circle clip-path=\"url(#clip9402)\" style=\"fill:#0000ff; stroke:none; fill-opacity:1\" cx=\"1141.77\" cy=\"377.685\" r=\"14\"/>\n",
       "<circle clip-path=\"url(#clip9402)\" style=\"fill:#000000; stroke:none; fill-opacity:1\" cx=\"1079.48\" cy=\"426.629\" r=\"18\"/>\n",
       "<circle clip-path=\"url(#clip9402)\" style=\"fill:#0000ff; stroke:none; fill-opacity:1\" cx=\"1079.48\" cy=\"426.629\" r=\"14\"/>\n",
       "<circle clip-path=\"url(#clip9402)\" style=\"fill:#000000; stroke:none; fill-opacity:1\" cx=\"1017.19\" cy=\"470.134\" r=\"18\"/>\n",
       "<circle clip-path=\"url(#clip9402)\" style=\"fill:#0000ff; stroke:none; fill-opacity:1\" cx=\"1017.19\" cy=\"470.134\" r=\"14\"/>\n",
       "<circle clip-path=\"url(#clip9402)\" style=\"fill:#000000; stroke:none; fill-opacity:1\" cx=\"954.9\" cy=\"507.999\" r=\"18\"/>\n",
       "<circle clip-path=\"url(#clip9402)\" style=\"fill:#0000ff; stroke:none; fill-opacity:1\" cx=\"954.9\" cy=\"507.999\" r=\"14\"/>\n",
       "<circle clip-path=\"url(#clip9402)\" style=\"fill:#000000; stroke:none; fill-opacity:1\" cx=\"892.61\" cy=\"474.724\" r=\"18\"/>\n",
       "<circle clip-path=\"url(#clip9402)\" style=\"fill:#0000ff; stroke:none; fill-opacity:1\" cx=\"892.61\" cy=\"474.724\" r=\"14\"/>\n",
       "<circle clip-path=\"url(#clip9402)\" style=\"fill:#000000; stroke:none; fill-opacity:1\" cx=\"830.32\" cy=\"566.973\" r=\"18\"/>\n",
       "<circle clip-path=\"url(#clip9402)\" style=\"fill:#0000ff; stroke:none; fill-opacity:1\" cx=\"830.32\" cy=\"566.973\" r=\"14\"/>\n",
       "<circle clip-path=\"url(#clip9402)\" style=\"fill:#000000; stroke:none; fill-opacity:1\" cx=\"768.03\" cy=\"452.061\" r=\"18\"/>\n",
       "<circle clip-path=\"url(#clip9402)\" style=\"fill:#0000ff; stroke:none; fill-opacity:1\" cx=\"768.03\" cy=\"452.061\" r=\"14\"/>\n",
       "<circle clip-path=\"url(#clip9402)\" style=\"fill:#000000; stroke:none; fill-opacity:1\" cx=\"705.74\" cy=\"437.776\" r=\"18\"/>\n",
       "<circle clip-path=\"url(#clip9402)\" style=\"fill:#0000ff; stroke:none; fill-opacity:1\" cx=\"705.74\" cy=\"437.776\" r=\"14\"/>\n",
       "<circle clip-path=\"url(#clip9402)\" style=\"fill:#000000; stroke:none; fill-opacity:1\" cx=\"643.45\" cy=\"427.781\" r=\"18\"/>\n",
       "<circle clip-path=\"url(#clip9402)\" style=\"fill:#0000ff; stroke:none; fill-opacity:1\" cx=\"643.45\" cy=\"427.781\" r=\"14\"/>\n",
       "<circle clip-path=\"url(#clip9402)\" style=\"fill:#000000; stroke:none; fill-opacity:1\" cx=\"581.16\" cy=\"415.43\" r=\"18\"/>\n",
       "<circle clip-path=\"url(#clip9402)\" style=\"fill:#0000ff; stroke:none; fill-opacity:1\" cx=\"581.16\" cy=\"415.43\" r=\"14\"/>\n",
       "<circle clip-path=\"url(#clip9402)\" style=\"fill:#000000; stroke:none; fill-opacity:1\" cx=\"518.87\" cy=\"403.233\" r=\"18\"/>\n",
       "<circle clip-path=\"url(#clip9402)\" style=\"fill:#0000ff; stroke:none; fill-opacity:1\" cx=\"518.87\" cy=\"403.233\" r=\"14\"/>\n",
       "<circle clip-path=\"url(#clip9402)\" style=\"fill:#000000; stroke:none; fill-opacity:1\" cx=\"456.58\" cy=\"391.028\" r=\"18\"/>\n",
       "<circle clip-path=\"url(#clip9402)\" style=\"fill:#0000ff; stroke:none; fill-opacity:1\" cx=\"456.58\" cy=\"391.028\" r=\"14\"/>\n",
       "<circle clip-path=\"url(#clip9402)\" style=\"fill:#000000; stroke:none; fill-opacity:1\" cx=\"394.29\" cy=\"415.438\" r=\"18\"/>\n",
       "<circle clip-path=\"url(#clip9402)\" style=\"fill:#0000ff; stroke:none; fill-opacity:1\" cx=\"394.29\" cy=\"415.438\" r=\"14\"/>\n",
       "<circle clip-path=\"url(#clip9402)\" style=\"fill:#000000; stroke:none; fill-opacity:1\" cx=\"332\" cy=\"439.847\" r=\"18\"/>\n",
       "<circle clip-path=\"url(#clip9402)\" style=\"fill:#0000ff; stroke:none; fill-opacity:1\" cx=\"332\" cy=\"439.847\" r=\"14\"/>\n",
       "<circle clip-path=\"url(#clip9402)\" style=\"fill:#000000; stroke:none; fill-opacity:1\" cx=\"1515.51\" cy=\"87.6814\" r=\"18\"/>\n",
       "<circle clip-path=\"url(#clip9402)\" style=\"fill:#ff0000; stroke:none; fill-opacity:1\" cx=\"1515.51\" cy=\"87.6814\" r=\"14\"/>\n",
       "<circle clip-path=\"url(#clip9402)\" style=\"fill:#000000; stroke:none; fill-opacity:1\" cx=\"1453.22\" cy=\"136.073\" r=\"18\"/>\n",
       "<circle clip-path=\"url(#clip9402)\" style=\"fill:#ff0000; stroke:none; fill-opacity:1\" cx=\"1453.22\" cy=\"136.073\" r=\"14\"/>\n",
       "<circle clip-path=\"url(#clip9402)\" style=\"fill:#000000; stroke:none; fill-opacity:1\" cx=\"1390.93\" cy=\"184.787\" r=\"18\"/>\n",
       "<circle clip-path=\"url(#clip9402)\" style=\"fill:#ff0000; stroke:none; fill-opacity:1\" cx=\"1390.93\" cy=\"184.787\" r=\"14\"/>\n",
       "<circle clip-path=\"url(#clip9402)\" style=\"fill:#000000; stroke:none; fill-opacity:1\" cx=\"1328.64\" cy=\"233.581\" r=\"18\"/>\n",
       "<circle clip-path=\"url(#clip9402)\" style=\"fill:#ff0000; stroke:none; fill-opacity:1\" cx=\"1328.64\" cy=\"233.581\" r=\"14\"/>\n",
       "<circle clip-path=\"url(#clip9402)\" style=\"fill:#000000; stroke:none; fill-opacity:1\" cx=\"1266.35\" cy=\"282.396\" r=\"18\"/>\n",
       "<circle clip-path=\"url(#clip9402)\" style=\"fill:#ff0000; stroke:none; fill-opacity:1\" cx=\"1266.35\" cy=\"282.396\" r=\"14\"/>\n",
       "<circle clip-path=\"url(#clip9402)\" style=\"fill:#000000; stroke:none; fill-opacity:1\" cx=\"1204.06\" cy=\"331.216\" r=\"18\"/>\n",
       "<circle clip-path=\"url(#clip9402)\" style=\"fill:#ff0000; stroke:none; fill-opacity:1\" cx=\"1204.06\" cy=\"331.216\" r=\"14\"/>\n",
       "<circle clip-path=\"url(#clip9402)\" style=\"fill:#000000; stroke:none; fill-opacity:1\" cx=\"1141.77\" cy=\"380.038\" r=\"18\"/>\n",
       "<circle clip-path=\"url(#clip9402)\" style=\"fill:#ff0000; stroke:none; fill-opacity:1\" cx=\"1141.77\" cy=\"380.038\" r=\"14\"/>\n",
       "<circle clip-path=\"url(#clip9402)\" style=\"fill:#000000; stroke:none; fill-opacity:1\" cx=\"1079.48\" cy=\"428.722\" r=\"18\"/>\n",
       "<circle clip-path=\"url(#clip9402)\" style=\"fill:#ff0000; stroke:none; fill-opacity:1\" cx=\"1079.48\" cy=\"428.722\" r=\"14\"/>\n",
       "<circle clip-path=\"url(#clip9402)\" style=\"fill:#000000; stroke:none; fill-opacity:1\" cx=\"1017.19\" cy=\"486.358\" r=\"18\"/>\n",
       "<circle clip-path=\"url(#clip9402)\" style=\"fill:#ff0000; stroke:none; fill-opacity:1\" cx=\"1017.19\" cy=\"486.358\" r=\"14\"/>\n",
       "<circle clip-path=\"url(#clip9402)\" style=\"fill:#000000; stroke:none; fill-opacity:1\" cx=\"954.9\" cy=\"531.507\" r=\"18\"/>\n",
       "<circle clip-path=\"url(#clip9402)\" style=\"fill:#ff0000; stroke:none; fill-opacity:1\" cx=\"954.9\" cy=\"531.507\" r=\"14\"/>\n",
       "<circle clip-path=\"url(#clip9402)\" style=\"fill:#000000; stroke:none; fill-opacity:1\" cx=\"892.61\" cy=\"474.912\" r=\"18\"/>\n",
       "<circle clip-path=\"url(#clip9402)\" style=\"fill:#ff0000; stroke:none; fill-opacity:1\" cx=\"892.61\" cy=\"474.912\" r=\"14\"/>\n",
       "<circle clip-path=\"url(#clip9402)\" style=\"fill:#000000; stroke:none; fill-opacity:1\" cx=\"830.32\" cy=\"579.179\" r=\"18\"/>\n",
       "<circle clip-path=\"url(#clip9402)\" style=\"fill:#ff0000; stroke:none; fill-opacity:1\" cx=\"830.32\" cy=\"579.179\" r=\"14\"/>\n",
       "<circle clip-path=\"url(#clip9402)\" style=\"fill:#000000; stroke:none; fill-opacity:1\" cx=\"768.03\" cy=\"452.035\" r=\"18\"/>\n",
       "<circle clip-path=\"url(#clip9402)\" style=\"fill:#ff0000; stroke:none; fill-opacity:1\" cx=\"768.03\" cy=\"452.035\" r=\"14\"/>\n",
       "<circle clip-path=\"url(#clip9402)\" style=\"fill:#000000; stroke:none; fill-opacity:1\" cx=\"705.74\" cy=\"437.782\" r=\"18\"/>\n",
       "<circle clip-path=\"url(#clip9402)\" style=\"fill:#ff0000; stroke:none; fill-opacity:1\" cx=\"705.74\" cy=\"437.782\" r=\"14\"/>\n",
       "<circle clip-path=\"url(#clip9402)\" style=\"fill:#000000; stroke:none; fill-opacity:1\" cx=\"643.45\" cy=\"427.788\" r=\"18\"/>\n",
       "<circle clip-path=\"url(#clip9402)\" style=\"fill:#ff0000; stroke:none; fill-opacity:1\" cx=\"643.45\" cy=\"427.788\" r=\"14\"/>\n",
       "<circle clip-path=\"url(#clip9402)\" style=\"fill:#000000; stroke:none; fill-opacity:1\" cx=\"581.16\" cy=\"415.432\" r=\"18\"/>\n",
       "<circle clip-path=\"url(#clip9402)\" style=\"fill:#ff0000; stroke:none; fill-opacity:1\" cx=\"581.16\" cy=\"415.432\" r=\"14\"/>\n",
       "<circle clip-path=\"url(#clip9402)\" style=\"fill:#000000; stroke:none; fill-opacity:1\" cx=\"518.87\" cy=\"403.233\" r=\"18\"/>\n",
       "<circle clip-path=\"url(#clip9402)\" style=\"fill:#ff0000; stroke:none; fill-opacity:1\" cx=\"518.87\" cy=\"403.233\" r=\"14\"/>\n",
       "<circle clip-path=\"url(#clip9402)\" style=\"fill:#000000; stroke:none; fill-opacity:1\" cx=\"456.58\" cy=\"391.028\" r=\"18\"/>\n",
       "<circle clip-path=\"url(#clip9402)\" style=\"fill:#ff0000; stroke:none; fill-opacity:1\" cx=\"456.58\" cy=\"391.028\" r=\"14\"/>\n",
       "<circle clip-path=\"url(#clip9402)\" style=\"fill:#000000; stroke:none; fill-opacity:1\" cx=\"394.29\" cy=\"415.438\" r=\"18\"/>\n",
       "<circle clip-path=\"url(#clip9402)\" style=\"fill:#ff0000; stroke:none; fill-opacity:1\" cx=\"394.29\" cy=\"415.438\" r=\"14\"/>\n",
       "<circle clip-path=\"url(#clip9402)\" style=\"fill:#000000; stroke:none; fill-opacity:1\" cx=\"332\" cy=\"439.847\" r=\"18\"/>\n",
       "<circle clip-path=\"url(#clip9402)\" style=\"fill:#ff0000; stroke:none; fill-opacity:1\" cx=\"332\" cy=\"439.847\" r=\"14\"/>\n",
       "<polyline clip-path=\"url(#clip9402)\" style=\"stroke:#00a8cb; stroke-width:4; stroke-opacity:1; fill:none\" points=\"\n",
       "  1515.51,76.6792 273.972,1057.85 \n",
       "  \"/>\n",
       "</svg>\n"
      ]
     },
     "execution_count": 37,
     "metadata": {},
     "output_type": "execute_result"
    }
   ],
   "source": [
    "a = 0.0\n",
    "f(x) = exp(x)\n",
    "F(x) = exp(x)\n",
    "cores = [:blue, :red, :magenta]\n",
    "scatter(leg=false, xaxis=:log, yaxis=:log)\n",
    "for (i,mtd) in enumerate([simpson, aberta3pontos])\n",
    "    b = 1.0\n",
    "    while b > 1e-6\n",
    "        Ireal = F(b) - F(a)\n",
    "        Iapprox = mtd(f, a, b)\n",
    "        E = abs(Ireal - Iapprox) / Ireal\n",
    "        scatter!([b], [E], c=cores[i])\n",
    "        b /= 2.0\n",
    "    end\n",
    "end\n",
    "b = [1.0; 1e-6]\n",
    "plot!(b, b.^5 .* exp.(b) ./ (F.(b) .- F(a)) / 2880)"
   ]
  },
  {
   "cell_type": "markdown",
   "metadata": {},
   "source": [
    "As fórmulas com 3 pontos, como esperávamos, são melhores que as de 2 ou 1 pontos. O erro também passou a ser proporcional a $f^{(4)}(\\xi)$, de modo que podemos calcular a integral exata de polinômios até grau 3."
   ]
  },
  {
   "cell_type": "code",
   "execution_count": 38,
   "metadata": {},
   "outputs": [
    {
     "data": {
      "text/plain": [
       "4.440892098500626e-16"
      ]
     },
     "execution_count": 38,
     "metadata": {},
     "output_type": "execute_result"
    }
   ],
   "source": [
    "f(x) = x^3 + x^2 + x + 1\n",
    "F(x) = x^4/4 + x^3/3 + x^2/2 + x\n",
    "a, b = 0, 1\n",
    "simpson(f, a, b) - (F(b) - F(a))"
   ]
  },
  {
   "cell_type": "markdown",
   "metadata": {},
   "source": [
    "No entanto, quando passamos para 4 pontos, não temos a mesma sorte. Assim como a transição do ponto-médio ao trapézio aberto, não temos melhoria na ordem de convergência da aproximação, nem para a fórmula fechada nem para a fórmula aberta. Esse fenômeno se repete, de modo que criar interpolações com cada vez mais pontos se torna tanto inviável quanto ineficaz."
   ]
  },
  {
   "cell_type": "markdown",
   "metadata": {},
   "source": [
    "## Composição de aproximações (ou repetição)\n",
    "\n"
   ]
  },
  {
   "cell_type": "markdown",
   "metadata": {},
   "source": [
    "A outra estratégia para melhorar a aproximação no cálculo da integral é quebrando o intervalo em pedaços menores e aproximando cada pedaço."
   ]
  },
  {
   "cell_type": "markdown",
   "metadata": {},
   "source": [
    "Em outras palavras, transformamos o intervalo em\n",
    "$a = x_1 < x_2 < \\dots < x_m = b$, com $x_{i+1} - x_i = h = \\frac{b-a}{m-1}$ no caso fechado e em\n",
    "$a = x_0 < x_1 < x_2 < \\dots < x_m < x_{m+1} = b$, com $x_{i+1} - x_i = h = \\frac{b-a}{m+1}$ no caso aberto."
   ]
  },
  {
   "cell_type": "markdown",
   "metadata": {},
   "source": [
    "Note que no caso aberto criamos dois pontos extras $x_0 = a$ e $x_{m+1} = b$, para deixar mais simples o entendimento."
   ]
  },
  {
   "cell_type": "markdown",
   "metadata": {},
   "source": [
    "Com os intervalos separados, utilizamos as fórmulas dos métodos \"encaixando\" os pontos da fórmula na discretização que fizemos."
   ]
  },
  {
   "cell_type": "markdown",
   "metadata": {},
   "source": [
    "O exemplo mais fácil de entender é o da regra do trapézio.\n",
    "Veja abaixo, onde quebramos o intervalo $[-2,2]$ em 4 intervalos (i.e., $m = 5$)."
   ]
  },
  {
   "cell_type": "code",
   "execution_count": 39,
   "metadata": {},
   "outputs": [
    {
     "data": {
      "image/svg+xml": [
       "<?xml version=\"1.0\" encoding=\"utf-8\"?>\n",
       "<svg xmlns=\"http://www.w3.org/2000/svg\" xmlns:xlink=\"http://www.w3.org/1999/xlink\" width=\"400\" height=\"300\" viewBox=\"0 0 1600 1200\">\n",
       "<defs>\n",
       "  <clipPath id=\"clip9800\">\n",
       "    <rect x=\"0\" y=\"0\" width=\"1600\" height=\"1200\"/>\n",
       "  </clipPath>\n",
       "</defs>\n",
       "<polygon clip-path=\"url(#clip9800)\" points=\"\n",
       "0,1200 1600,1200 1600,0 0,0 \n",
       "  \" fill=\"#ffffff\" fill-rule=\"evenodd\" fill-opacity=\"1\"/>\n",
       "<defs>\n",
       "  <clipPath id=\"clip9801\">\n",
       "    <rect x=\"320\" y=\"0\" width=\"1121\" height=\"1121\"/>\n",
       "  </clipPath>\n",
       "</defs>\n",
       "<polygon clip-path=\"url(#clip9800)\" points=\"\n",
       "172.66,1087.28 1552.76,1087.28 1552.76,47.2441 172.66,47.2441 \n",
       "  \" fill=\"#ffffff\" fill-rule=\"evenodd\" fill-opacity=\"1\"/>\n",
       "<defs>\n",
       "  <clipPath id=\"clip9802\">\n",
       "    <rect x=\"172\" y=\"47\" width=\"1381\" height=\"1041\"/>\n",
       "  </clipPath>\n",
       "</defs>\n",
       "<polyline clip-path=\"url(#clip9802)\" style=\"stroke:#000000; stroke-width:2; stroke-opacity:0.1; fill:none\" points=\"\n",
       "  211.72,1087.28 211.72,47.2441 \n",
       "  \"/>\n",
       "<polyline clip-path=\"url(#clip9802)\" style=\"stroke:#000000; stroke-width:2; stroke-opacity:0.1; fill:none\" points=\"\n",
       "  537.214,1087.28 537.214,47.2441 \n",
       "  \"/>\n",
       "<polyline clip-path=\"url(#clip9802)\" style=\"stroke:#000000; stroke-width:2; stroke-opacity:0.1; fill:none\" points=\"\n",
       "  862.708,1087.28 862.708,47.2441 \n",
       "  \"/>\n",
       "<polyline clip-path=\"url(#clip9802)\" style=\"stroke:#000000; stroke-width:2; stroke-opacity:0.1; fill:none\" points=\"\n",
       "  1188.2,1087.28 1188.2,47.2441 \n",
       "  \"/>\n",
       "<polyline clip-path=\"url(#clip9802)\" style=\"stroke:#000000; stroke-width:2; stroke-opacity:0.1; fill:none\" points=\"\n",
       "  1513.7,1087.28 1513.7,47.2441 \n",
       "  \"/>\n",
       "<polyline clip-path=\"url(#clip9802)\" style=\"stroke:#000000; stroke-width:2; stroke-opacity:0.1; fill:none\" points=\"\n",
       "  172.66,1057.85 1552.76,1057.85 \n",
       "  \"/>\n",
       "<polyline clip-path=\"url(#clip9802)\" style=\"stroke:#000000; stroke-width:2; stroke-opacity:0.1; fill:none\" points=\"\n",
       "  172.66,832.583 1552.76,832.583 \n",
       "  \"/>\n",
       "<polyline clip-path=\"url(#clip9802)\" style=\"stroke:#000000; stroke-width:2; stroke-opacity:0.1; fill:none\" points=\"\n",
       "  172.66,607.318 1552.76,607.318 \n",
       "  \"/>\n",
       "<polyline clip-path=\"url(#clip9802)\" style=\"stroke:#000000; stroke-width:2; stroke-opacity:0.1; fill:none\" points=\"\n",
       "  172.66,382.053 1552.76,382.053 \n",
       "  \"/>\n",
       "<polyline clip-path=\"url(#clip9802)\" style=\"stroke:#000000; stroke-width:2; stroke-opacity:0.1; fill:none\" points=\"\n",
       "  172.66,156.788 1552.76,156.788 \n",
       "  \"/>\n",
       "<polyline clip-path=\"url(#clip9800)\" style=\"stroke:#000000; stroke-width:4; stroke-opacity:1; fill:none\" points=\"\n",
       "  172.66,1087.28 1552.76,1087.28 \n",
       "  \"/>\n",
       "<polyline clip-path=\"url(#clip9800)\" style=\"stroke:#000000; stroke-width:4; stroke-opacity:1; fill:none\" points=\"\n",
       "  172.66,1087.28 172.66,47.2441 \n",
       "  \"/>\n",
       "<polyline clip-path=\"url(#clip9800)\" style=\"stroke:#000000; stroke-width:4; stroke-opacity:1; fill:none\" points=\"\n",
       "  211.72,1087.28 211.72,1071.68 \n",
       "  \"/>\n",
       "<polyline clip-path=\"url(#clip9800)\" style=\"stroke:#000000; stroke-width:4; stroke-opacity:1; fill:none\" points=\"\n",
       "  537.214,1087.28 537.214,1071.68 \n",
       "  \"/>\n",
       "<polyline clip-path=\"url(#clip9800)\" style=\"stroke:#000000; stroke-width:4; stroke-opacity:1; fill:none\" points=\"\n",
       "  862.708,1087.28 862.708,1071.68 \n",
       "  \"/>\n",
       "<polyline clip-path=\"url(#clip9800)\" style=\"stroke:#000000; stroke-width:4; stroke-opacity:1; fill:none\" points=\"\n",
       "  1188.2,1087.28 1188.2,1071.68 \n",
       "  \"/>\n",
       "<polyline clip-path=\"url(#clip9800)\" style=\"stroke:#000000; stroke-width:4; stroke-opacity:1; fill:none\" points=\"\n",
       "  1513.7,1087.28 1513.7,1071.68 \n",
       "  \"/>\n",
       "<polyline clip-path=\"url(#clip9800)\" style=\"stroke:#000000; stroke-width:4; stroke-opacity:1; fill:none\" points=\"\n",
       "  172.66,1057.85 193.362,1057.85 \n",
       "  \"/>\n",
       "<polyline clip-path=\"url(#clip9800)\" style=\"stroke:#000000; stroke-width:4; stroke-opacity:1; fill:none\" points=\"\n",
       "  172.66,832.583 193.362,832.583 \n",
       "  \"/>\n",
       "<polyline clip-path=\"url(#clip9800)\" style=\"stroke:#000000; stroke-width:4; stroke-opacity:1; fill:none\" points=\"\n",
       "  172.66,607.318 193.362,607.318 \n",
       "  \"/>\n",
       "<polyline clip-path=\"url(#clip9800)\" style=\"stroke:#000000; stroke-width:4; stroke-opacity:1; fill:none\" points=\"\n",
       "  172.66,382.053 193.362,382.053 \n",
       "  \"/>\n",
       "<polyline clip-path=\"url(#clip9800)\" style=\"stroke:#000000; stroke-width:4; stroke-opacity:1; fill:none\" points=\"\n",
       "  172.66,156.788 193.362,156.788 \n",
       "  \"/>\n",
       "<g clip-path=\"url(#clip9800)\">\n",
       "<text style=\"fill:#000000; fill-opacity:1; font-family:Arial,Helvetica Neue,Helvetica,sans-serif; font-size:48px; text-anchor:middle;\" transform=\"rotate(0, 211.72, 1137.28)\" x=\"211.72\" y=\"1137.28\">x1</text>\n",
       "</g>\n",
       "<g clip-path=\"url(#clip9800)\">\n",
       "<text style=\"fill:#000000; fill-opacity:1; font-family:Arial,Helvetica Neue,Helvetica,sans-serif; font-size:48px; text-anchor:middle;\" transform=\"rotate(0, 537.214, 1137.28)\" x=\"537.214\" y=\"1137.28\">x2</text>\n",
       "</g>\n",
       "<g clip-path=\"url(#clip9800)\">\n",
       "<text style=\"fill:#000000; fill-opacity:1; font-family:Arial,Helvetica Neue,Helvetica,sans-serif; font-size:48px; text-anchor:middle;\" transform=\"rotate(0, 862.708, 1137.28)\" x=\"862.708\" y=\"1137.28\">x3</text>\n",
       "</g>\n",
       "<g clip-path=\"url(#clip9800)\">\n",
       "<text style=\"fill:#000000; fill-opacity:1; font-family:Arial,Helvetica Neue,Helvetica,sans-serif; font-size:48px; text-anchor:middle;\" transform=\"rotate(0, 1188.2, 1137.28)\" x=\"1188.2\" y=\"1137.28\">x4</text>\n",
       "</g>\n",
       "<g clip-path=\"url(#clip9800)\">\n",
       "<text style=\"fill:#000000; fill-opacity:1; font-family:Arial,Helvetica Neue,Helvetica,sans-serif; font-size:48px; text-anchor:middle;\" transform=\"rotate(0, 1513.7, 1137.28)\" x=\"1513.7\" y=\"1137.28\">x5</text>\n",
       "</g>\n",
       "<g clip-path=\"url(#clip9800)\">\n",
       "<text style=\"fill:#000000; fill-opacity:1; font-family:Arial,Helvetica Neue,Helvetica,sans-serif; font-size:48px; text-anchor:end;\" transform=\"rotate(0, 156.66, 1075.35)\" x=\"156.66\" y=\"1075.35\">0.0</text>\n",
       "</g>\n",
       "<g clip-path=\"url(#clip9800)\">\n",
       "<text style=\"fill:#000000; fill-opacity:1; font-family:Arial,Helvetica Neue,Helvetica,sans-serif; font-size:48px; text-anchor:end;\" transform=\"rotate(0, 156.66, 850.083)\" x=\"156.66\" y=\"850.083\">2.5</text>\n",
       "</g>\n",
       "<g clip-path=\"url(#clip9800)\">\n",
       "<text style=\"fill:#000000; fill-opacity:1; font-family:Arial,Helvetica Neue,Helvetica,sans-serif; font-size:48px; text-anchor:end;\" transform=\"rotate(0, 156.66, 624.818)\" x=\"156.66\" y=\"624.818\">5.0</text>\n",
       "</g>\n",
       "<g clip-path=\"url(#clip9800)\">\n",
       "<text style=\"fill:#000000; fill-opacity:1; font-family:Arial,Helvetica Neue,Helvetica,sans-serif; font-size:48px; text-anchor:end;\" transform=\"rotate(0, 156.66, 399.553)\" x=\"156.66\" y=\"399.553\">7.5</text>\n",
       "</g>\n",
       "<g clip-path=\"url(#clip9800)\">\n",
       "<text style=\"fill:#000000; fill-opacity:1; font-family:Arial,Helvetica Neue,Helvetica,sans-serif; font-size:48px; text-anchor:end;\" transform=\"rotate(0, 156.66, 174.288)\" x=\"156.66\" y=\"174.288\">10.0</text>\n",
       "</g>\n",
       "<polygon clip-path=\"url(#clip9802)\" points=\"\n",
       "214.898,730.354 218.077,730.803 221.256,731.627 224.434,732.816 239.13,742.672 253.826,758.136 268.522,776.339 283.218,793.918 297.914,807.618 312.61,814.869 \n",
       "  327.306,814.244 342.002,805.717 359.665,787.042 377.328,763.518 394.992,740.89 412.655,724.654 427.589,718.832 442.523,721.249 457.457,731.254 472.391,746.789 \n",
       "  488.614,766.316 504.836,784.183 521.059,796.2 537.282,799.428 552.237,793.673 567.193,780.302 582.149,761.479 597.105,740.358 613.139,719.217 629.173,703.575 \n",
       "  637.19,698.775 645.207,696.292 653.224,696.197 661.241,698.433 679.819,711.346 698.396,731.099 716.973,751.252 735.55,765.199 743.805,768.021 752.059,768.357 \n",
       "  760.314,766.095 768.569,761.27 785.078,744.768 801.587,721.756 816.064,699.613 830.541,679.02 845.018,662.92 859.495,653.451 875.279,651.775 891.063,658.52 \n",
       "  906.847,671.337 922.631,686.579 938.509,700.121 954.386,707.925 962.325,708.733 970.264,707.177 978.203,703.176 986.142,696.778 1003.7,675.121 1021.25,646.347 \n",
       "  1038.81,615.764 1056.36,589.026 1064.71,579.053 1073.06,571.349 1081.42,566.105 1089.77,563.363 1106.47,564.799 1123.17,573.117 1140.54,584.501 1157.91,593.168 \n",
       "  1166.59,594.847 1175.27,594.067 1183.96,590.483 1192.64,583.914 1207.26,566.191 1221.88,541.172 1236.5,511.142 1251.12,479.176 1268.97,442.323 1286.82,412.7 \n",
       "  1295.74,401.667 1304.67,393.369 1313.59,387.72 1322.52,384.441 1339.29,382.99 1356.07,383.956 1372.85,382.29 1389.63,373.3 1403.07,358.544 1416.51,336.255 \n",
       "  1429.95,306.745 1443.39,271.276 1470.27,191.004 1497.15,114.753 1501.29,104.464 1505.42,94.6759 1509.56,85.4101 1509.56,1057.85 1505.42,1057.85 1501.29,1057.85 \n",
       "  1497.15,1057.85 1470.27,1057.85 1443.39,1057.85 1429.95,1057.85 1416.51,1057.85 1403.07,1057.85 1389.63,1057.85 1372.85,1057.85 1356.07,1057.85 1339.29,1057.85 \n",
       "  1322.52,1057.85 1313.59,1057.85 1304.67,1057.85 1295.74,1057.85 1286.82,1057.85 1268.97,1057.85 1251.12,1057.85 1236.5,1057.85 1221.88,1057.85 1207.26,1057.85 \n",
       "  1192.64,1057.85 1183.96,1057.85 1175.27,1057.85 1166.59,1057.85 1157.91,1057.85 1140.54,1057.85 1123.17,1057.85 1106.47,1057.85 1089.77,1057.85 1081.42,1057.85 \n",
       "  1073.06,1057.85 1064.71,1057.85 1056.36,1057.85 1038.81,1057.85 1021.25,1057.85 1003.7,1057.85 986.142,1057.85 978.203,1057.85 970.264,1057.85 962.325,1057.85 \n",
       "  954.386,1057.85 938.509,1057.85 922.631,1057.85 906.847,1057.85 891.063,1057.85 875.279,1057.85 859.495,1057.85 845.018,1057.85 830.541,1057.85 816.064,1057.85 \n",
       "  801.587,1057.85 785.078,1057.85 768.569,1057.85 760.314,1057.85 752.059,1057.85 743.805,1057.85 735.55,1057.85 716.973,1057.85 698.396,1057.85 679.819,1057.85 \n",
       "  661.241,1057.85 653.224,1057.85 645.207,1057.85 637.19,1057.85 629.173,1057.85 613.139,1057.85 597.105,1057.85 582.149,1057.85 567.193,1057.85 552.237,1057.85 \n",
       "  537.282,1057.85 521.059,1057.85 504.836,1057.85 488.614,1057.85 472.391,1057.85 457.457,1057.85 442.523,1057.85 427.589,1057.85 412.655,1057.85 394.992,1057.85 \n",
       "  377.328,1057.85 359.665,1057.85 342.002,1057.85 327.306,1057.85 312.61,1057.85 297.914,1057.85 283.218,1057.85 268.522,1057.85 253.826,1057.85 239.13,1057.85 \n",
       "  224.434,1057.85 221.256,1057.85 218.077,1057.85 214.898,1057.85 \n",
       "  \" fill=\"#ff0000\" fill-rule=\"evenodd\" fill-opacity=\"0.3\"/>\n",
       "<polyline clip-path=\"url(#clip9802)\" style=\"stroke:#ff0000; stroke-width:8; stroke-opacity:1; fill:none\" points=\"\n",
       "  214.898,730.354 218.077,730.803 221.256,731.627 224.434,732.816 239.13,742.672 253.826,758.136 268.522,776.339 283.218,793.918 297.914,807.618 312.61,814.869 \n",
       "  327.306,814.244 342.002,805.717 359.665,787.042 377.328,763.518 394.992,740.89 412.655,724.654 427.589,718.832 442.523,721.249 457.457,731.254 472.391,746.789 \n",
       "  488.614,766.316 504.836,784.183 521.059,796.2 537.282,799.428 552.237,793.673 567.193,780.302 582.149,761.479 597.105,740.358 613.139,719.217 629.173,703.575 \n",
       "  637.19,698.775 645.207,696.292 653.224,696.197 661.241,698.433 679.819,711.346 698.396,731.099 716.973,751.252 735.55,765.199 743.805,768.021 752.059,768.357 \n",
       "  760.314,766.095 768.569,761.27 785.078,744.768 801.587,721.756 816.064,699.613 830.541,679.02 845.018,662.92 859.495,653.451 875.279,651.775 891.063,658.52 \n",
       "  906.847,671.337 922.631,686.579 938.509,700.121 954.386,707.925 962.325,708.733 970.264,707.177 978.203,703.176 986.142,696.778 1003.7,675.121 1021.25,646.347 \n",
       "  1038.81,615.764 1056.36,589.026 1064.71,579.053 1073.06,571.349 1081.42,566.105 1089.77,563.363 1106.47,564.799 1123.17,573.117 1140.54,584.501 1157.91,593.168 \n",
       "  1166.59,594.847 1175.27,594.067 1183.96,590.483 1192.64,583.914 1207.26,566.191 1221.88,541.172 1236.5,511.142 1251.12,479.176 1268.97,442.323 1286.82,412.7 \n",
       "  1295.74,401.667 1304.67,393.369 1313.59,387.72 1322.52,384.441 1339.29,382.99 1356.07,383.956 1372.85,382.29 1389.63,373.3 1403.07,358.544 1416.51,336.255 \n",
       "  1429.95,306.745 1443.39,271.276 1470.27,191.004 1497.15,114.753 1501.29,104.464 1505.42,94.6759 1509.56,85.4101 \n",
       "  \"/>\n",
       "<polygon clip-path=\"url(#clip9802)\" points=\"\n",
       "214.898,730.958 244.29,737.202 261.953,740.955 276.888,744.128 293.11,747.574 308.066,750.752 324.1,754.158 342.677,758.105 359.186,761.612 373.664,764.688 \n",
       "  389.447,768.042 405.325,771.415 422.88,775.144 439.583,778.693 456.95,782.383 471.57,785.489 489.419,789.281 506.197,792.845 533.077,798.556 533.077,1057.85 \n",
       "  506.197,1057.85 489.419,1057.85 471.57,1057.85 456.95,1057.85 439.583,1057.85 422.88,1057.85 405.325,1057.85 389.447,1057.85 373.664,1057.85 359.186,1057.85 \n",
       "  342.677,1057.85 324.1,1057.85 308.066,1057.85 293.11,1057.85 276.888,1057.85 261.953,1057.85 244.29,1057.85 214.898,1057.85 \n",
       "  \" fill=\"#0000ff\" fill-rule=\"evenodd\" fill-opacity=\"0.4\"/>\n",
       "<polyline clip-path=\"url(#clip9802)\" style=\"stroke:#0000ff; stroke-width:4; stroke-opacity:1; fill:none\" points=\"\n",
       "  214.898,730.958 244.29,737.202 261.953,740.955 276.888,744.128 293.11,747.574 308.066,750.752 324.1,754.158 342.677,758.105 359.186,761.612 373.664,764.688 \n",
       "  389.447,768.042 405.325,771.415 422.88,775.144 439.583,778.693 456.95,782.383 471.57,785.489 489.419,789.281 506.197,792.845 533.077,798.556 \n",
       "  \"/>\n",
       "<circle clip-path=\"url(#clip9802)\" style=\"fill:#000000; stroke:none; fill-opacity:1\" cx=\"211.72\" cy=\"730.283\" r=\"21\"/>\n",
       "<circle clip-path=\"url(#clip9802)\" style=\"fill:#0000ff; stroke:none; fill-opacity:1\" cx=\"211.72\" cy=\"730.283\" r=\"18\"/>\n",
       "<circle clip-path=\"url(#clip9802)\" style=\"fill:#000000; stroke:none; fill-opacity:1\" cx=\"537.214\" cy=\"799.435\" r=\"21\"/>\n",
       "<circle clip-path=\"url(#clip9802)\" style=\"fill:#0000ff; stroke:none; fill-opacity:1\" cx=\"537.214\" cy=\"799.435\" r=\"18\"/>\n",
       "<polygon clip-path=\"url(#clip9802)\" points=\"\n",
       "540.393,797.999 569.784,784.719 587.448,776.738 602.382,769.991 618.604,762.661 633.56,755.904 649.594,748.66 668.171,740.266 684.681,732.807 699.158,726.266 \n",
       "  714.942,719.135 730.819,711.961 748.374,704.029 765.077,696.482 782.444,688.636 797.064,682.03 814.913,673.966 831.691,666.385 858.571,654.24 858.571,1057.85 \n",
       "  831.691,1057.85 814.913,1057.85 797.064,1057.85 782.444,1057.85 765.077,1057.85 748.374,1057.85 730.819,1057.85 714.942,1057.85 699.158,1057.85 684.681,1057.85 \n",
       "  668.171,1057.85 649.594,1057.85 633.56,1057.85 618.604,1057.85 602.382,1057.85 587.448,1057.85 569.784,1057.85 540.393,1057.85 \n",
       "  \" fill=\"#0000ff\" fill-rule=\"evenodd\" fill-opacity=\"0.4\"/>\n",
       "<polyline clip-path=\"url(#clip9802)\" style=\"stroke:#0000ff; stroke-width:4; stroke-opacity:1; fill:none\" points=\"\n",
       "  540.393,797.999 569.784,784.719 587.448,776.738 602.382,769.991 618.604,762.661 633.56,755.904 649.594,748.66 668.171,740.266 684.681,732.807 699.158,726.266 \n",
       "  714.942,719.135 730.819,711.961 748.374,704.029 765.077,696.482 782.444,688.636 797.064,682.03 814.913,673.966 831.691,666.385 858.571,654.24 \n",
       "  \"/>\n",
       "<circle clip-path=\"url(#clip9802)\" style=\"fill:#000000; stroke:none; fill-opacity:1\" cx=\"537.214\" cy=\"799.435\" r=\"21\"/>\n",
       "<circle clip-path=\"url(#clip9802)\" style=\"fill:#0000ff; stroke:none; fill-opacity:1\" cx=\"537.214\" cy=\"799.435\" r=\"18\"/>\n",
       "<circle clip-path=\"url(#clip9802)\" style=\"fill:#000000; stroke:none; fill-opacity:1\" cx=\"862.708\" cy=\"652.371\" r=\"21\"/>\n",
       "<circle clip-path=\"url(#clip9802)\" style=\"fill:#0000ff; stroke:none; fill-opacity:1\" cx=\"862.708\" cy=\"652.371\" r=\"18\"/>\n",
       "<polygon clip-path=\"url(#clip9802)\" points=\"\n",
       "865.887,651.739 895.279,645.895 912.942,642.383 927.876,639.413 944.099,636.187 959.054,633.214 975.089,630.025 993.666,626.332 1010.17,623.049 1024.65,620.17 \n",
       "  1040.44,617.032 1056.31,613.875 1073.87,610.384 1090.57,607.063 1107.94,603.609 1122.56,600.702 1140.41,597.153 1157.19,593.817 1184.07,588.472 1184.07,1057.85 \n",
       "  1157.19,1057.85 1140.41,1057.85 1122.56,1057.85 1107.94,1057.85 1090.57,1057.85 1073.87,1057.85 1056.31,1057.85 1040.44,1057.85 1024.65,1057.85 1010.17,1057.85 \n",
       "  993.666,1057.85 975.089,1057.85 959.054,1057.85 944.099,1057.85 927.876,1057.85 912.942,1057.85 895.279,1057.85 865.887,1057.85 \n",
       "  \" fill=\"#0000ff\" fill-rule=\"evenodd\" fill-opacity=\"0.4\"/>\n",
       "<polyline clip-path=\"url(#clip9802)\" style=\"stroke:#0000ff; stroke-width:4; stroke-opacity:1; fill:none\" points=\"\n",
       "  865.887,651.739 895.279,645.895 912.942,642.383 927.876,639.413 944.099,636.187 959.054,633.214 975.089,630.025 993.666,626.332 1010.17,623.049 1024.65,620.17 \n",
       "  1040.44,617.032 1056.31,613.875 1073.87,610.384 1090.57,607.063 1107.94,603.609 1122.56,600.702 1140.41,597.153 1157.19,593.817 1184.07,588.472 \n",
       "  \"/>\n",
       "<circle clip-path=\"url(#clip9802)\" style=\"fill:#000000; stroke:none; fill-opacity:1\" cx=\"862.708\" cy=\"652.371\" r=\"21\"/>\n",
       "<circle clip-path=\"url(#clip9802)\" style=\"fill:#0000ff; stroke:none; fill-opacity:1\" cx=\"862.708\" cy=\"652.371\" r=\"18\"/>\n",
       "<circle clip-path=\"url(#clip9802)\" style=\"fill:#000000; stroke:none; fill-opacity:1\" cx=\"1188.2\" cy=\"587.65\" r=\"21\"/>\n",
       "<circle clip-path=\"url(#clip9802)\" style=\"fill:#0000ff; stroke:none; fill-opacity:1\" cx=\"1188.2\" cy=\"587.65\" r=\"18\"/>\n",
       "<polygon clip-path=\"url(#clip9802)\" points=\"\n",
       "1191.38,582.66 1220.77,536.519 1238.44,508.791 1253.37,485.347 1269.59,459.881 1284.55,436.402 1300.58,411.232 1319.16,382.069 1335.67,356.152 1350.15,333.425 \n",
       "  1365.93,308.647 1381.81,283.722 1399.36,256.164 1416.07,229.943 1433.43,202.679 1448.05,179.729 1465.9,151.71 1482.68,125.371 1509.56,83.1732 1509.56,1057.85 \n",
       "  1482.68,1057.85 1465.9,1057.85 1448.05,1057.85 1433.43,1057.85 1416.07,1057.85 1399.36,1057.85 1381.81,1057.85 1365.93,1057.85 1350.15,1057.85 1335.67,1057.85 \n",
       "  1319.16,1057.85 1300.58,1057.85 1284.55,1057.85 1269.59,1057.85 1253.37,1057.85 1238.44,1057.85 1220.77,1057.85 1191.38,1057.85 \n",
       "  \" fill=\"#0000ff\" fill-rule=\"evenodd\" fill-opacity=\"0.4\"/>\n",
       "<polyline clip-path=\"url(#clip9802)\" style=\"stroke:#0000ff; stroke-width:4; stroke-opacity:1; fill:none\" points=\"\n",
       "  1191.38,582.66 1220.77,536.519 1238.44,508.791 1253.37,485.347 1269.59,459.881 1284.55,436.402 1300.58,411.232 1319.16,382.069 1335.67,356.152 1350.15,333.425 \n",
       "  1365.93,308.647 1381.81,283.722 1399.36,256.164 1416.07,229.943 1433.43,202.679 1448.05,179.729 1465.9,151.71 1482.68,125.371 1509.56,83.1732 \n",
       "  \"/>\n",
       "<circle clip-path=\"url(#clip9802)\" style=\"fill:#000000; stroke:none; fill-opacity:1\" cx=\"1188.2\" cy=\"587.65\" r=\"21\"/>\n",
       "<circle clip-path=\"url(#clip9802)\" style=\"fill:#0000ff; stroke:none; fill-opacity:1\" cx=\"1188.2\" cy=\"587.65\" r=\"18\"/>\n",
       "<circle clip-path=\"url(#clip9802)\" style=\"fill:#000000; stroke:none; fill-opacity:1\" cx=\"1513.7\" cy=\"76.6792\" r=\"21\"/>\n",
       "<circle clip-path=\"url(#clip9802)\" style=\"fill:#0000ff; stroke:none; fill-opacity:1\" cx=\"1513.7\" cy=\"76.6792\" r=\"18\"/>\n",
       "</svg>\n"
      ]
     },
     "execution_count": 39,
     "metadata": {},
     "output_type": "execute_result"
    }
   ],
   "source": [
    "f(x) = exp(x) + cos(3π*x) * 0.5 + 3\n",
    "a, b = -2, 2\n",
    "p = plot(f, a, b, c=:red, lw=2, fill=(0,:red,0.3), leg=false)\n",
    "m = 5\n",
    "h = (b - a) / (m - 1)\n",
    "\n",
    "for i = 1:m-1\n",
    "    xi = a + (i-1) * h\n",
    "    xip = xi + h\n",
    "    L(x) = f(xi) + (x-xi) * (f(xip) - f(xi)) / h    \n",
    "    plot!(p, L, xi, xip, c=:blue, fill=(0,:blue,0.4))\n",
    "    scatter!([xi; xip], [f(xi); f(xip)], c=:blue, ms=5)\n",
    "end\n",
    "xticks!(a:h:b, [\"x$i\" for i = 1:m])\n",
    "p"
   ]
  },
  {
   "cell_type": "markdown",
   "metadata": {},
   "source": [
    "Na teoria, temos agora"
   ]
  },
  {
   "cell_type": "markdown",
   "metadata": {},
   "source": [
    "\\begin{align}\n",
    "\\int_a^b f(x)\\mbox{d}x\n",
    "& = \\int_{x_1}^{x_4} f(x)\\mbox{d}x \\\\\n",
    "& = \\int_{x_1}^{x_2} f(x)\\mbox{d}x +\n",
    "\\int_{x_2}^{x_3} f(x)\\mbox{d}x +\n",
    "\\int_{x_3}^{x_4} f(x)\\mbox{d}x \\\\\n",
    "& = \\frac{x_2 - x_1}{2}[f(x_1) + f(x_2)]\n",
    "- \\frac{(x_2 - x_1)^3}{12}f''(\\xi_1) \\\\\n",
    "& + \\frac{x_3 - x_2}{2}[f(x_2) + f(x_3)]\n",
    "- \\frac{(x_3 - x_2)^3}{12}f''(\\xi_2) \\\\\n",
    "& + \\frac{x_4 - x_3}{2}[f(x_3) + f(x_4)]\n",
    "- \\frac{(x_4 - x_3)^3}{12}f''(\\xi_3) \\\\\n",
    "& = \\frac{h}{2}[f(x_1) + 2f(x_2) + 2f(x_3) + f(x_4)] - \\frac{h^3}{12}[f''(\\xi_1) + f''(\\xi_2) + f''(\\xi_3)],\n",
    "\\end{align}"
   ]
  },
  {
   "cell_type": "markdown",
   "metadata": {},
   "source": [
    "onde $\\xi_i$ está no intervalo $[x_i,x_{i+1}]$."
   ]
  },
  {
   "cell_type": "markdown",
   "metadata": {},
   "source": [
    "O erro dessa aproximação continua sendo apenas $h^3$, apesar de usarmos 4 pontos. Porém, a escolha do $h$ é arbitrário, de modo que podemos escolher um $h$ pequeno o suficiente para satisfazer nossas necessidades."
   ]
  },
  {
   "cell_type": "markdown",
   "metadata": {},
   "source": [
    "De uma maneira mais geral, temos\n",
    "$$ \\int_a^b f(x)\\mbox{d}x = \\frac{h}{2}[f(x_1) + 2\\sum_{i = 2}^{m-1}f(x_i) + f(x_m)] - \\frac{h^3}{12}\\sum_{i=1}^{m-1}f''(\\xi_i).\n",
    "$$"
   ]
  },
  {
   "cell_type": "markdown",
   "metadata": {},
   "source": [
    "A seguir uma implementação básica desse método."
   ]
  },
  {
   "cell_type": "code",
   "execution_count": 40,
   "metadata": {},
   "outputs": [
    {
     "data": {
      "text/plain": [
       "trapezio_composto (generic function with 1 method)"
      ]
     },
     "execution_count": 40,
     "metadata": {},
     "output_type": "execute_result"
    }
   ],
   "source": [
    "function trapezio_composto(f, a, b; m = 10) # Note que não faremos mais o trapézio aberto.\n",
    "    h = (b - a) / (m - 1)\n",
    "    I = 0.0\n",
    "    xi = a\n",
    "    for i = 2:m-1\n",
    "        xi += h\n",
    "        I += f(xi)\n",
    "    end\n",
    "    I = f(a) + 2I + f(b)\n",
    "    return I * h / 2\n",
    "end"
   ]
  },
  {
   "cell_type": "code",
   "execution_count": 41,
   "metadata": {},
   "outputs": [
    {
     "name": "stdout",
     "output_type": "stream",
     "text": [
      "∫f(x)dx = 1.0\n",
      "∫f(x)dx ≈ 0.9980833759447165, Erro Relativo = 0.001916624055283478\n",
      "∫f(x)dx ≈ 0.9995693517566672, Erro Relativo = 0.0004306482433328318\n",
      "∫f(x)dx ≈ 0.9998151007522933, Erro Relativo = 0.00018489924770670463\n",
      "∫f(x)dx ≈ 0.9998977564240852, Erro Relativo = 0.0001022435759148177\n",
      "∫f(x)dx ≈ 0.9999352278141773, Erro Relativo = 6.47721858226813e-5\n",
      "∫f(x)dx ≈ 0.9999553228987321, Erro Relativo = 4.467710126787594e-5\n",
      "∫f(x)dx ≈ 0.9999673340126417, Erro Relativo = 3.2665987358293513e-5\n",
      "∫f(x)dx ≈ 0.9999750802897797, Erro Relativo = 2.491971022033912e-5\n",
      "∫f(x)dx ≈ 0.9999803655228863, Erro Relativo = 1.963447711372801e-5\n",
      "∫f(x)dx ≈ 0.9999841316957123, Erro Relativo = 1.58683042876806e-5\n"
     ]
    }
   ],
   "source": [
    "f(x) = log(x)\n",
    "F(x) = x * log(x) - x\n",
    "a, b = 1, MathConstants.e\n",
    "println(\"∫f(x)dx = $(F(b) - F(a))\")\n",
    "for m = 10:10:100\n",
    "    Ia = trapezio_composto(f, a, b, m=m)\n",
    "    Ir = F(b) - F(a)\n",
    "    E = abs(Ir - Ia) / abs(Ir)\n",
    "    println(\"∫f(x)dx ≈ $Ia, Erro Relativo = $E\")\n",
    "end"
   ]
  },
  {
   "cell_type": "markdown",
   "metadata": {},
   "source": [
    "Agora vejamos a regra do ponto médio. Note que não queremos os extremos do intervalo, e além disso, calculamos $f$ no ponto médio. Isso quer dizer que, na prática, existem 3 pontos envolvidos, apesar do cálculo da $f$ apenas em um deles. Isso quer dizer que separamos o intervalo $[a,b]$ de dois em dois pontos."
   ]
  },
  {
   "cell_type": "markdown",
   "metadata": {},
   "source": [
    "Lembrando que, neste caso, mudamos a definição dos pontos para\n",
    "$h = \\dfrac{b - a}{m + 1}$ e $x_0 = a$ e $x_{m+1} = b$."
   ]
  },
  {
   "cell_type": "markdown",
   "metadata": {},
   "source": [
    "Por exemplo, usando $m = 5$,"
   ]
  },
  {
   "cell_type": "markdown",
   "metadata": {},
   "source": [
    "\\begin{align}\n",
    "\\int_a^b f(x)\\mbox{d}x & = \\int_{x_0}^{x_6} f(x)\\mbox{d}x \\\\\n",
    "& = \\int_{x_0}^{x_2} f(x)\\mbox{d}x\n",
    "+ \\int_{x_2}^{x_4} f(x)\\mbox{d}x\n",
    "+ \\int_{x_4}^{x_6} f(x)\\mbox{d}x \\\\\n",
    "& = (x_2 - x_0)f(x_1) + \\frac{(x_2-x_0)^3}{24}f''(\\xi_1)\n",
    "+ (x_4 - x_2)f(x_3) + \\frac{(x_4-x_2)^3}{24}f''(\\xi_2) \\\\\n",
    "& \\quad + (x_6 - x_4)f(x_5) + \\frac{(x_6-x_4)^3}{24}f''(\\xi_3) \\\\\n",
    "& = 2h[f(x_1) + f(x_3) + f(x_5)] + \\frac{h^3}{3}[f''(\\xi_1) + f''(\\xi_2) + f''(\\xi_3)].\n",
    "\\end{align}"
   ]
  },
  {
   "cell_type": "markdown",
   "metadata": {},
   "source": [
    "Pode parecer estranho pular tantos pontos, e ainda o fato do intervalo mudar, mas graficamente isso fica mais claro."
   ]
  },
  {
   "cell_type": "code",
   "execution_count": 42,
   "metadata": {},
   "outputs": [
    {
     "data": {
      "image/svg+xml": [
       "<?xml version=\"1.0\" encoding=\"utf-8\"?>\n",
       "<svg xmlns=\"http://www.w3.org/2000/svg\" xmlns:xlink=\"http://www.w3.org/1999/xlink\" width=\"400\" height=\"300\" viewBox=\"0 0 1600 1200\">\n",
       "<defs>\n",
       "  <clipPath id=\"clip0200\">\n",
       "    <rect x=\"0\" y=\"0\" width=\"1600\" height=\"1200\"/>\n",
       "  </clipPath>\n",
       "</defs>\n",
       "<polygon clip-path=\"url(#clip0200)\" points=\"\n",
       "0,1200 1600,1200 1600,0 0,0 \n",
       "  \" fill=\"#ffffff\" fill-rule=\"evenodd\" fill-opacity=\"1\"/>\n",
       "<defs>\n",
       "  <clipPath id=\"clip0201\">\n",
       "    <rect x=\"320\" y=\"0\" width=\"1121\" height=\"1121\"/>\n",
       "  </clipPath>\n",
       "</defs>\n",
       "<polygon clip-path=\"url(#clip0200)\" points=\"\n",
       "172.66,1087.28 1552.76,1087.28 1552.76,47.2441 172.66,47.2441 \n",
       "  \" fill=\"#ffffff\" fill-rule=\"evenodd\" fill-opacity=\"1\"/>\n",
       "<defs>\n",
       "  <clipPath id=\"clip0202\">\n",
       "    <rect x=\"172\" y=\"47\" width=\"1381\" height=\"1041\"/>\n",
       "  </clipPath>\n",
       "</defs>\n",
       "<polyline clip-path=\"url(#clip0202)\" style=\"stroke:#000000; stroke-width:2; stroke-opacity:0.1; fill:none\" points=\"\n",
       "  208.523,1087.28 208.523,47.2441 \n",
       "  \"/>\n",
       "<polyline clip-path=\"url(#clip0202)\" style=\"stroke:#000000; stroke-width:2; stroke-opacity:0.1; fill:none\" points=\"\n",
       "  426.745,1087.28 426.745,47.2441 \n",
       "  \"/>\n",
       "<polyline clip-path=\"url(#clip0202)\" style=\"stroke:#000000; stroke-width:2; stroke-opacity:0.1; fill:none\" points=\"\n",
       "  644.968,1087.28 644.968,47.2441 \n",
       "  \"/>\n",
       "<polyline clip-path=\"url(#clip0202)\" style=\"stroke:#000000; stroke-width:2; stroke-opacity:0.1; fill:none\" points=\"\n",
       "  863.19,1087.28 863.19,47.2441 \n",
       "  \"/>\n",
       "<polyline clip-path=\"url(#clip0202)\" style=\"stroke:#000000; stroke-width:2; stroke-opacity:0.1; fill:none\" points=\"\n",
       "  1081.41,1087.28 1081.41,47.2441 \n",
       "  \"/>\n",
       "<polyline clip-path=\"url(#clip0202)\" style=\"stroke:#000000; stroke-width:2; stroke-opacity:0.1; fill:none\" points=\"\n",
       "  1299.63,1087.28 1299.63,47.2441 \n",
       "  \"/>\n",
       "<polyline clip-path=\"url(#clip0202)\" style=\"stroke:#000000; stroke-width:2; stroke-opacity:0.1; fill:none\" points=\"\n",
       "  1517.86,1087.28 1517.86,47.2441 \n",
       "  \"/>\n",
       "<polyline clip-path=\"url(#clip0202)\" style=\"stroke:#000000; stroke-width:2; stroke-opacity:0.1; fill:none\" points=\"\n",
       "  172.66,1057.85 1552.76,1057.85 \n",
       "  \"/>\n",
       "<polyline clip-path=\"url(#clip0202)\" style=\"stroke:#000000; stroke-width:2; stroke-opacity:0.1; fill:none\" points=\"\n",
       "  172.66,830.561 1552.76,830.561 \n",
       "  \"/>\n",
       "<polyline clip-path=\"url(#clip0202)\" style=\"stroke:#000000; stroke-width:2; stroke-opacity:0.1; fill:none\" points=\"\n",
       "  172.66,603.273 1552.76,603.273 \n",
       "  \"/>\n",
       "<polyline clip-path=\"url(#clip0202)\" style=\"stroke:#000000; stroke-width:2; stroke-opacity:0.1; fill:none\" points=\"\n",
       "  172.66,375.986 1552.76,375.986 \n",
       "  \"/>\n",
       "<polyline clip-path=\"url(#clip0202)\" style=\"stroke:#000000; stroke-width:2; stroke-opacity:0.1; fill:none\" points=\"\n",
       "  172.66,148.698 1552.76,148.698 \n",
       "  \"/>\n",
       "<polyline clip-path=\"url(#clip0200)\" style=\"stroke:#000000; stroke-width:4; stroke-opacity:1; fill:none\" points=\"\n",
       "  172.66,1087.28 1552.76,1087.28 \n",
       "  \"/>\n",
       "<polyline clip-path=\"url(#clip0200)\" style=\"stroke:#000000; stroke-width:4; stroke-opacity:1; fill:none\" points=\"\n",
       "  172.66,1087.28 172.66,47.2441 \n",
       "  \"/>\n",
       "<polyline clip-path=\"url(#clip0200)\" style=\"stroke:#000000; stroke-width:4; stroke-opacity:1; fill:none\" points=\"\n",
       "  208.523,1087.28 208.523,1071.68 \n",
       "  \"/>\n",
       "<polyline clip-path=\"url(#clip0200)\" style=\"stroke:#000000; stroke-width:4; stroke-opacity:1; fill:none\" points=\"\n",
       "  426.745,1087.28 426.745,1071.68 \n",
       "  \"/>\n",
       "<polyline clip-path=\"url(#clip0200)\" style=\"stroke:#000000; stroke-width:4; stroke-opacity:1; fill:none\" points=\"\n",
       "  644.968,1087.28 644.968,1071.68 \n",
       "  \"/>\n",
       "<polyline clip-path=\"url(#clip0200)\" style=\"stroke:#000000; stroke-width:4; stroke-opacity:1; fill:none\" points=\"\n",
       "  863.19,1087.28 863.19,1071.68 \n",
       "  \"/>\n",
       "<polyline clip-path=\"url(#clip0200)\" style=\"stroke:#000000; stroke-width:4; stroke-opacity:1; fill:none\" points=\"\n",
       "  1081.41,1087.28 1081.41,1071.68 \n",
       "  \"/>\n",
       "<polyline clip-path=\"url(#clip0200)\" style=\"stroke:#000000; stroke-width:4; stroke-opacity:1; fill:none\" points=\"\n",
       "  1299.63,1087.28 1299.63,1071.68 \n",
       "  \"/>\n",
       "<polyline clip-path=\"url(#clip0200)\" style=\"stroke:#000000; stroke-width:4; stroke-opacity:1; fill:none\" points=\"\n",
       "  1517.86,1087.28 1517.86,1071.68 \n",
       "  \"/>\n",
       "<polyline clip-path=\"url(#clip0200)\" style=\"stroke:#000000; stroke-width:4; stroke-opacity:1; fill:none\" points=\"\n",
       "  172.66,1057.85 193.362,1057.85 \n",
       "  \"/>\n",
       "<polyline clip-path=\"url(#clip0200)\" style=\"stroke:#000000; stroke-width:4; stroke-opacity:1; fill:none\" points=\"\n",
       "  172.66,830.561 193.362,830.561 \n",
       "  \"/>\n",
       "<polyline clip-path=\"url(#clip0200)\" style=\"stroke:#000000; stroke-width:4; stroke-opacity:1; fill:none\" points=\"\n",
       "  172.66,603.273 193.362,603.273 \n",
       "  \"/>\n",
       "<polyline clip-path=\"url(#clip0200)\" style=\"stroke:#000000; stroke-width:4; stroke-opacity:1; fill:none\" points=\"\n",
       "  172.66,375.986 193.362,375.986 \n",
       "  \"/>\n",
       "<polyline clip-path=\"url(#clip0200)\" style=\"stroke:#000000; stroke-width:4; stroke-opacity:1; fill:none\" points=\"\n",
       "  172.66,148.698 193.362,148.698 \n",
       "  \"/>\n",
       "<g clip-path=\"url(#clip0200)\">\n",
       "<text style=\"fill:#000000; fill-opacity:1; font-family:Arial,Helvetica Neue,Helvetica,sans-serif; font-size:48px; text-anchor:middle;\" transform=\"rotate(0, 208.523, 1137.28)\" x=\"208.523\" y=\"1137.28\">x0</text>\n",
       "</g>\n",
       "<g clip-path=\"url(#clip0200)\">\n",
       "<text style=\"fill:#000000; fill-opacity:1; font-family:Arial,Helvetica Neue,Helvetica,sans-serif; font-size:48px; text-anchor:middle;\" transform=\"rotate(0, 426.745, 1137.28)\" x=\"426.745\" y=\"1137.28\">x1</text>\n",
       "</g>\n",
       "<g clip-path=\"url(#clip0200)\">\n",
       "<text style=\"fill:#000000; fill-opacity:1; font-family:Arial,Helvetica Neue,Helvetica,sans-serif; font-size:48px; text-anchor:middle;\" transform=\"rotate(0, 644.968, 1137.28)\" x=\"644.968\" y=\"1137.28\">x2</text>\n",
       "</g>\n",
       "<g clip-path=\"url(#clip0200)\">\n",
       "<text style=\"fill:#000000; fill-opacity:1; font-family:Arial,Helvetica Neue,Helvetica,sans-serif; font-size:48px; text-anchor:middle;\" transform=\"rotate(0, 863.19, 1137.28)\" x=\"863.19\" y=\"1137.28\">x3</text>\n",
       "</g>\n",
       "<g clip-path=\"url(#clip0200)\">\n",
       "<text style=\"fill:#000000; fill-opacity:1; font-family:Arial,Helvetica Neue,Helvetica,sans-serif; font-size:48px; text-anchor:middle;\" transform=\"rotate(0, 1081.41, 1137.28)\" x=\"1081.41\" y=\"1137.28\">x4</text>\n",
       "</g>\n",
       "<g clip-path=\"url(#clip0200)\">\n",
       "<text style=\"fill:#000000; fill-opacity:1; font-family:Arial,Helvetica Neue,Helvetica,sans-serif; font-size:48px; text-anchor:middle;\" transform=\"rotate(0, 1299.63, 1137.28)\" x=\"1299.63\" y=\"1137.28\">x5</text>\n",
       "</g>\n",
       "<g clip-path=\"url(#clip0200)\">\n",
       "<text style=\"fill:#000000; fill-opacity:1; font-family:Arial,Helvetica Neue,Helvetica,sans-serif; font-size:48px; text-anchor:middle;\" transform=\"rotate(0, 1517.86, 1137.28)\" x=\"1517.86\" y=\"1137.28\">x6</text>\n",
       "</g>\n",
       "<g clip-path=\"url(#clip0200)\">\n",
       "<text style=\"fill:#000000; fill-opacity:1; font-family:Arial,Helvetica Neue,Helvetica,sans-serif; font-size:48px; text-anchor:end;\" transform=\"rotate(0, 156.66, 1075.35)\" x=\"156.66\" y=\"1075.35\">0.0</text>\n",
       "</g>\n",
       "<g clip-path=\"url(#clip0200)\">\n",
       "<text style=\"fill:#000000; fill-opacity:1; font-family:Arial,Helvetica Neue,Helvetica,sans-serif; font-size:48px; text-anchor:end;\" transform=\"rotate(0, 156.66, 848.061)\" x=\"156.66\" y=\"848.061\">2.5</text>\n",
       "</g>\n",
       "<g clip-path=\"url(#clip0200)\">\n",
       "<text style=\"fill:#000000; fill-opacity:1; font-family:Arial,Helvetica Neue,Helvetica,sans-serif; font-size:48px; text-anchor:end;\" transform=\"rotate(0, 156.66, 620.773)\" x=\"156.66\" y=\"620.773\">5.0</text>\n",
       "</g>\n",
       "<g clip-path=\"url(#clip0200)\">\n",
       "<text style=\"fill:#000000; fill-opacity:1; font-family:Arial,Helvetica Neue,Helvetica,sans-serif; font-size:48px; text-anchor:end;\" transform=\"rotate(0, 156.66, 393.486)\" x=\"156.66\" y=\"393.486\">7.5</text>\n",
       "</g>\n",
       "<g clip-path=\"url(#clip0200)\">\n",
       "<text style=\"fill:#000000; fill-opacity:1; font-family:Arial,Helvetica Neue,Helvetica,sans-serif; font-size:48px; text-anchor:end;\" transform=\"rotate(0, 156.66, 166.198)\" x=\"156.66\" y=\"166.198\">10.0</text>\n",
       "</g>\n",
       "<polygon clip-path=\"url(#clip0202)\" points=\"\n",
       "211.72,727.413 214.916,727.867 218.113,728.698 221.31,729.898 236.089,739.842 250.868,755.445 265.647,773.811 280.425,791.549 295.204,805.372 309.983,812.687 \n",
       "  324.762,812.057 339.541,803.453 357.304,784.61 375.067,760.876 392.831,738.044 410.594,721.662 425.612,715.788 440.631,718.227 455.649,728.322 470.667,743.996 \n",
       "  486.982,763.698 503.296,781.726 519.61,793.851 535.924,797.108 550.965,791.301 566.005,777.81 581.045,758.818 596.086,737.508 612.21,716.177 628.335,700.394 \n",
       "  636.398,695.551 644.46,693.045 652.522,692.95 660.585,695.206 679.267,708.235 697.949,728.165 716.631,748.499 735.313,762.571 743.615,765.419 751.916,765.758 \n",
       "  760.217,763.476 768.518,758.607 785.121,741.957 801.723,718.739 816.282,696.397 830.841,675.618 845.4,659.374 859.959,649.82 875.832,648.129 891.705,654.935 \n",
       "  907.578,667.866 923.451,683.246 939.419,696.909 955.386,704.783 963.37,705.599 971.354,704.028 979.337,699.992 987.321,693.536 1004.97,671.684 1022.63,642.653 \n",
       "  1040.28,611.795 1057.94,584.816 1066.34,574.754 1074.73,566.981 1083.13,561.69 1091.53,558.923 1108.33,560.373 1125.13,568.765 1142.59,580.251 1160.06,588.996 \n",
       "  1168.79,590.69 1177.52,589.903 1186.26,586.287 1194.99,579.659 1209.69,561.777 1224.39,536.533 1239.09,506.234 1253.8,473.98 1271.75,436.797 1289.7,406.908 \n",
       "  1298.67,395.776 1307.65,387.403 1316.62,381.703 1325.59,378.395 1342.47,376.931 1359.34,377.905 1376.21,376.225 1393.09,367.153 1406.6,352.265 1420.12,329.776 \n",
       "  1433.64,300.001 1447.15,264.214 1474.18,183.221 1501.22,106.286 1505.38,95.9042 1509.54,86.0281 1513.7,76.6792 1513.7,1057.85 1509.54,1057.85 1505.38,1057.85 \n",
       "  1501.22,1057.85 1474.18,1057.85 1447.15,1057.85 1433.64,1057.85 1420.12,1057.85 1406.6,1057.85 1393.09,1057.85 1376.21,1057.85 1359.34,1057.85 1342.47,1057.85 \n",
       "  1325.59,1057.85 1316.62,1057.85 1307.65,1057.85 1298.67,1057.85 1289.7,1057.85 1271.75,1057.85 1253.8,1057.85 1239.09,1057.85 1224.39,1057.85 1209.69,1057.85 \n",
       "  1194.99,1057.85 1186.26,1057.85 1177.52,1057.85 1168.79,1057.85 1160.06,1057.85 1142.59,1057.85 1125.13,1057.85 1108.33,1057.85 1091.53,1057.85 1083.13,1057.85 \n",
       "  1074.73,1057.85 1066.34,1057.85 1057.94,1057.85 1040.28,1057.85 1022.63,1057.85 1004.97,1057.85 987.321,1057.85 979.337,1057.85 971.354,1057.85 963.37,1057.85 \n",
       "  955.386,1057.85 939.419,1057.85 923.451,1057.85 907.578,1057.85 891.705,1057.85 875.832,1057.85 859.959,1057.85 845.4,1057.85 830.841,1057.85 816.282,1057.85 \n",
       "  801.723,1057.85 785.121,1057.85 768.518,1057.85 760.217,1057.85 751.916,1057.85 743.615,1057.85 735.313,1057.85 716.631,1057.85 697.949,1057.85 679.267,1057.85 \n",
       "  660.585,1057.85 652.522,1057.85 644.46,1057.85 636.398,1057.85 628.335,1057.85 612.21,1057.85 596.086,1057.85 581.045,1057.85 566.005,1057.85 550.965,1057.85 \n",
       "  535.924,1057.85 519.61,1057.85 503.296,1057.85 486.982,1057.85 470.667,1057.85 455.649,1057.85 440.631,1057.85 425.612,1057.85 410.594,1057.85 392.831,1057.85 \n",
       "  375.067,1057.85 357.304,1057.85 339.541,1057.85 324.762,1057.85 309.983,1057.85 295.204,1057.85 280.425,1057.85 265.647,1057.85 250.868,1057.85 236.089,1057.85 \n",
       "  221.31,1057.85 218.113,1057.85 214.916,1057.85 211.72,1057.85 \n",
       "  \" fill=\"#ff0000\" fill-rule=\"evenodd\" fill-opacity=\"0.3\"/>\n",
       "<polyline clip-path=\"url(#clip0202)\" style=\"stroke:#ff0000; stroke-width:8; stroke-opacity:1; fill:none\" points=\"\n",
       "  211.72,727.413 214.916,727.867 218.113,728.698 221.31,729.898 236.089,739.842 250.868,755.445 265.647,773.811 280.425,791.549 295.204,805.372 309.983,812.687 \n",
       "  324.762,812.057 339.541,803.453 357.304,784.61 375.067,760.876 392.831,738.044 410.594,721.662 425.612,715.788 440.631,718.227 455.649,728.322 470.667,743.996 \n",
       "  486.982,763.698 503.296,781.726 519.61,793.851 535.924,797.108 550.965,791.301 566.005,777.81 581.045,758.818 596.086,737.508 612.21,716.177 628.335,700.394 \n",
       "  636.398,695.551 644.46,693.045 652.522,692.95 660.585,695.206 679.267,708.235 697.949,728.165 716.631,748.499 735.313,762.571 743.615,765.419 751.916,765.758 \n",
       "  760.217,763.476 768.518,758.607 785.121,741.957 801.723,718.739 816.282,696.397 830.841,675.618 845.4,659.374 859.959,649.82 875.832,648.129 891.705,654.935 \n",
       "  907.578,667.866 923.451,683.246 939.419,696.909 955.386,704.783 963.37,705.599 971.354,704.028 979.337,699.992 987.321,693.536 1004.97,671.684 1022.63,642.653 \n",
       "  1040.28,611.795 1057.94,584.816 1066.34,574.754 1074.73,566.981 1083.13,561.69 1091.53,558.923 1108.33,560.373 1125.13,568.765 1142.59,580.251 1160.06,588.996 \n",
       "  1168.79,590.69 1177.52,589.903 1186.26,586.287 1194.99,579.659 1209.69,561.777 1224.39,536.533 1239.09,506.234 1253.8,473.98 1271.75,436.797 1289.7,406.908 \n",
       "  1298.67,395.776 1307.65,387.403 1316.62,381.703 1325.59,378.395 1342.47,376.931 1359.34,377.905 1376.21,376.225 1393.09,367.153 1406.6,352.265 1420.12,329.776 \n",
       "  1433.64,300.001 1447.15,264.214 1474.18,183.221 1501.22,106.286 1505.38,95.9042 1509.54,86.0281 1513.7,76.6792 \n",
       "  \"/>\n",
       "<polygon clip-path=\"url(#clip0202)\" points=\"\n",
       "212.785,715.681 252.196,715.681 275.88,715.681 295.904,715.681 317.657,715.681 337.711,715.681 359.21,715.681 384.12,715.681 406.256,715.681 425.668,715.681 \n",
       "  446.832,715.681 468.122,715.681 491.661,715.681 514.057,715.681 537.345,715.681 556.947,715.681 580.88,715.681 603.378,715.681 639.421,715.681 639.421,1057.85 \n",
       "  603.378,1057.85 580.88,1057.85 556.947,1057.85 537.345,1057.85 514.057,1057.85 491.661,1057.85 468.122,1057.85 446.832,1057.85 425.668,1057.85 406.256,1057.85 \n",
       "  384.12,1057.85 359.21,1057.85 337.711,1057.85 317.657,1057.85 295.904,1057.85 275.88,1057.85 252.196,1057.85 212.785,1057.85 \n",
       "  \" fill=\"#0000ff\" fill-rule=\"evenodd\" fill-opacity=\"0.4\"/>\n",
       "<polyline clip-path=\"url(#clip0202)\" style=\"stroke:#0000ff; stroke-width:4; stroke-opacity:1; fill:none\" points=\"\n",
       "  212.785,715.681 252.196,715.681 275.88,715.681 295.904,715.681 317.657,715.681 337.711,715.681 359.21,715.681 384.12,715.681 406.256,715.681 425.668,715.681 \n",
       "  446.832,715.681 468.122,715.681 491.661,715.681 514.057,715.681 537.345,715.681 556.947,715.681 580.88,715.681 603.378,715.681 639.421,715.681 \n",
       "  \"/>\n",
       "<circle clip-path=\"url(#clip0202)\" style=\"fill:#000000; stroke:none; fill-opacity:1\" cx=\"426.745\" cy=\"715.681\" r=\"21\"/>\n",
       "<circle clip-path=\"url(#clip0202)\" style=\"fill:#0000ff; stroke:none; fill-opacity:1\" cx=\"426.745\" cy=\"715.681\" r=\"18\"/>\n",
       "<polygon clip-path=\"url(#clip0202)\" points=\"\n",
       "649.23,648.731 688.64,648.731 712.324,648.731 732.349,648.731 754.101,648.731 774.155,648.731 795.655,648.731 820.564,648.731 842.701,648.731 862.113,648.731 \n",
       "  883.277,648.731 904.567,648.731 928.106,648.731 950.502,648.731 973.789,648.731 993.392,648.731 1017.32,648.731 1039.82,648.731 1075.87,648.731 1075.87,1057.85 \n",
       "  1039.82,1057.85 1017.32,1057.85 993.392,1057.85 973.789,1057.85 950.502,1057.85 928.106,1057.85 904.567,1057.85 883.277,1057.85 862.113,1057.85 842.701,1057.85 \n",
       "  820.564,1057.85 795.655,1057.85 774.155,1057.85 754.101,1057.85 732.349,1057.85 712.324,1057.85 688.64,1057.85 649.23,1057.85 \n",
       "  \" fill=\"#0000ff\" fill-rule=\"evenodd\" fill-opacity=\"0.4\"/>\n",
       "<polyline clip-path=\"url(#clip0202)\" style=\"stroke:#0000ff; stroke-width:4; stroke-opacity:1; fill:none\" points=\"\n",
       "  649.23,648.731 688.64,648.731 712.324,648.731 732.349,648.731 754.101,648.731 774.155,648.731 795.655,648.731 820.564,648.731 842.701,648.731 862.113,648.731 \n",
       "  883.277,648.731 904.567,648.731 928.106,648.731 950.502,648.731 973.789,648.731 993.392,648.731 1017.32,648.731 1039.82,648.731 1075.87,648.731 \n",
       "  \"/>\n",
       "<circle clip-path=\"url(#clip0202)\" style=\"fill:#000000; stroke:none; fill-opacity:1\" cx=\"863.19\" cy=\"648.731\" r=\"21\"/>\n",
       "<circle clip-path=\"url(#clip0202)\" style=\"fill:#0000ff; stroke:none; fill-opacity:1\" cx=\"863.19\" cy=\"648.731\" r=\"18\"/>\n",
       "<polygon clip-path=\"url(#clip0202)\" points=\"\n",
       "1085.67,394.744 1125.08,394.744 1148.77,394.744 1168.79,394.744 1190.55,394.744 1210.6,394.744 1232.1,394.744 1257.01,394.744 1279.15,394.744 1298.56,394.744 \n",
       "  1319.72,394.744 1341.01,394.744 1364.55,394.744 1386.95,394.744 1410.23,394.744 1429.84,394.744 1453.77,394.744 1476.27,394.744 1512.31,394.744 1512.31,1057.85 \n",
       "  1476.27,1057.85 1453.77,1057.85 1429.84,1057.85 1410.23,1057.85 1386.95,1057.85 1364.55,1057.85 1341.01,1057.85 1319.72,1057.85 1298.56,1057.85 1279.15,1057.85 \n",
       "  1257.01,1057.85 1232.1,1057.85 1210.6,1057.85 1190.55,1057.85 1168.79,1057.85 1148.77,1057.85 1125.08,1057.85 1085.67,1057.85 \n",
       "  \" fill=\"#0000ff\" fill-rule=\"evenodd\" fill-opacity=\"0.4\"/>\n",
       "<polyline clip-path=\"url(#clip0202)\" style=\"stroke:#0000ff; stroke-width:4; stroke-opacity:1; fill:none\" points=\"\n",
       "  1085.67,394.744 1125.08,394.744 1148.77,394.744 1168.79,394.744 1190.55,394.744 1210.6,394.744 1232.1,394.744 1257.01,394.744 1279.15,394.744 1298.56,394.744 \n",
       "  1319.72,394.744 1341.01,394.744 1364.55,394.744 1386.95,394.744 1410.23,394.744 1429.84,394.744 1453.77,394.744 1476.27,394.744 1512.31,394.744 \n",
       "  \"/>\n",
       "<circle clip-path=\"url(#clip0202)\" style=\"fill:#000000; stroke:none; fill-opacity:1\" cx=\"1299.63\" cy=\"394.744\" r=\"21\"/>\n",
       "<circle clip-path=\"url(#clip0202)\" style=\"fill:#0000ff; stroke:none; fill-opacity:1\" cx=\"1299.63\" cy=\"394.744\" r=\"18\"/>\n",
       "</svg>\n"
      ]
     },
     "execution_count": 42,
     "metadata": {},
     "output_type": "execute_result"
    }
   ],
   "source": [
    "f(x) = exp(x) + cos(3π*x) * 0.5 + 3\n",
    "a, b = -2, 2\n",
    "p = plot(f, a, b, c=:red, lw=2, fill=(0,:red,0.3), leg=false)\n",
    "m = 5\n",
    "h = (b - a) / (m + 1)\n",
    "\n",
    "for i = 1:2:m\n",
    "    xi = a + i * h\n",
    "    plot!(p, x->f(xi), xi - h, xi + h, c=:blue, fill=(0,:blue,0.4))\n",
    "    scatter!([xi], [f(xi)], ms=5, c=:blue)\n",
    "end\n",
    "xticks!(a:h:b, [\"x$i\" for i = 0:m+1])\n",
    "p"
   ]
  },
  {
   "cell_type": "markdown",
   "metadata": {},
   "source": [
    "De uma maneira mais geral, temos\n",
    "$$ \\int_a^b f(x)\\mbox{d}x = 2h\\sum_{i = 1}^{(m+1)/2}f(x_{2i}) + \\frac{h^3}{3}\\sum_{i=1}^{(m+1)/2}f''(\\xi_i).\n",
    "$$"
   ]
  },
  {
   "cell_type": "markdown",
   "metadata": {},
   "source": [
    "Assumimos $m$ ímpar."
   ]
  },
  {
   "cell_type": "markdown",
   "metadata": {},
   "source": [
    "A implementação está abaixo."
   ]
  },
  {
   "cell_type": "code",
   "execution_count": 43,
   "metadata": {},
   "outputs": [
    {
     "data": {
      "text/plain": [
       "ponto_medio_composto (generic function with 1 method)"
      ]
     },
     "execution_count": 43,
     "metadata": {},
     "output_type": "execute_result"
    }
   ],
   "source": [
    "function ponto_medio_composto(f, a, b; m = 10)\n",
    "    I = 0.0\n",
    "    if m%2 == 0 # Se m não for ímpar, usamos m + 1\n",
    "        m += 1\n",
    "    end\n",
    "    h = (b - a) / (m + 1)\n",
    "    xi = a + h\n",
    "    for i = 1:2:m\n",
    "        I += f(xi)\n",
    "        xi += 2h\n",
    "    end\n",
    "    return I * 2 * h\n",
    "end"
   ]
  },
  {
   "cell_type": "code",
   "execution_count": 44,
   "metadata": {},
   "outputs": [
    {
     "name": "stdout",
     "output_type": "stream",
     "text": [
      "∫f(x)dx = 1.0\n",
      "∫f(x)dx ≈ 1.0021449681894743, Erro Relativo = 0.0021449681894742945\n",
      "∫f(x)dx ≈ 1.0006413118189519, Erro Relativo = 0.000641311818951884\n",
      "∫f(x)dx ≈ 1.0003034587984303, Erro Relativo = 0.00030345879843030055\n",
      "∫f(x)dx ≈ 1.0001762318521485, Erro Relativo = 0.0001762318521485451\n",
      "∫f(x)dx ≈ 1.0001149912122405, Erro Relativo = 0.00011499121224045616\n",
      "∫f(x)dx ≈ 1.0000808978878688, Erro Relativo = 8.08978878688027e-5\n",
      "∫f(x)dx ≈ 1.0000599909536767, Erro Relativo = 5.999095367670293e-5\n",
      "∫f(x)dx ≈ 1.000046253318927, Erro Relativo = 4.6253318926936515e-5\n",
      "∫f(x)dx ≈ 1.0000367458831187, Erro Relativo = 3.674588311874949e-5\n",
      "∫f(x)dx ≈ 1.0000298946794866, Erro Relativo = 2.989467948655289e-5\n"
     ]
    }
   ],
   "source": [
    "f(x) = log(x)\n",
    "F(x) = x * log(x) - x\n",
    "a, b = 1, MathConstants.e\n",
    "Ir = F(b) - F(a)\n",
    "println(\"∫f(x)dx = $Ir\")\n",
    "for m = 10:10:100\n",
    "    Ia = ponto_medio_composto(f, a, b, m=m)\n",
    "    E = abs(Ir - Ia) / abs(Ir)\n",
    "    println(\"∫f(x)dx ≈ $Ia, Erro Relativo = $E\")\n",
    "end"
   ]
  },
  {
   "cell_type": "markdown",
   "metadata": {},
   "source": [
    "### Erro das compostas"
   ]
  },
  {
   "cell_type": "markdown",
   "metadata": {},
   "source": [
    "Vejamos o que acontece agora com o erro das aproximações compostas."
   ]
  },
  {
   "cell_type": "markdown",
   "metadata": {},
   "source": [
    "Para o ponto médio, temos\n",
    "$$ E^{(m)}_{PM} = \\int_a^b f(x)\\mbox{d}x - 2h\\sum_{i = 1}^{(m+1)/2}f(x_{2i})\n",
    "= \\frac{h^3}{3}\\sum_{i=1}^{(m+1)/2}f''(\\xi_i).\n",
    "$$"
   ]
  },
  {
   "cell_type": "markdown",
   "metadata": {},
   "source": [
    "Agora é importante notar que $\\xi_i \\in [x_{2i-1},x_{2i+1}] \\subset [a,b]$.\n",
    "Então, pelo Teorema do Valor Extremo aplicado à função $f''$, temos\n",
    "$$ \\min_{x \\in [a,b]} f''(x) \\leq f''(\\xi_i) \\leq \\max_{x \\in [a,b]} f''(x). $$"
   ]
  },
  {
   "cell_type": "markdown",
   "metadata": {},
   "source": [
    "Aplicando o somatório,"
   ]
  },
  {
   "cell_type": "markdown",
   "metadata": {},
   "source": [
    "$$ \\frac{m+1}{2}\\min_{x \\in [a,b]} f''(x) \\leq \\sum_{i=1}^{(m+1)/2} f''(\\xi_i)\n",
    "\\leq \\frac{m+1}{2}\\max_{x \\in [a,b]} f''(x), $$"
   ]
  },
  {
   "cell_type": "markdown",
   "metadata": {},
   "source": [
    "que vira\n",
    "$$ \\min_{x \\in [a,b]} f''(x) \\leq \\frac{2}{m+1} \\sum_{i=1}^{(m+1)/2}f''(\\xi_i) \\leq \\max_{x \\in [a,b]} f''(x). $$"
   ]
  },
  {
   "cell_type": "markdown",
   "metadata": {},
   "source": [
    "Pelo Teorema do Valor Intermediário, existe $\\mu \\in [a,b]$ tal que\n",
    "$$ \\frac{2}{m+1} \\sum_{i=1}^{(m+1)/2} f''(\\xi_i) = f''(\\mu). $$"
   ]
  },
  {
   "cell_type": "markdown",
   "metadata": {},
   "source": [
    "Assim,\n",
    "$$ E^{(m)}_{PM} = \\frac{h^3}{3}\\frac{m+1}{2}f''(\\mu). $$\n",
    "Como $h = \\dfrac{b-a}{m+1}$, podemos escrever também\n",
    "$$ E^{(m)}_{PM} = \\frac{h^2(b-a)}{6}f''(\\mu)\n",
    "= \\frac{(b-a)^3}{6(m+1)^2}f''(\\mu).\n",
    "$$"
   ]
  },
  {
   "cell_type": "markdown",
   "metadata": {},
   "source": [
    "Para o método do Trapézio,\n",
    "$$ E_{TR}^{(m)} = \\int_a^b f(x)\\mbox{d}x - \\frac{h}{2}[f(x_1) + 2\\sum_{i = 2}^{m-1}f(x_i) + f(x_m)] = - \\frac{h^3}{12}\\sum_{i=1}^{m-1}f''(\\xi_i).\n",
    "$$\n",
    "Por argumentos similares,\n",
    "$$ E_{TR}^{(m)} = - \\frac{h^3}{12}\\frac{1}{m-1}f''(\\mu)\n",
    "= -\\frac{h^2(b-a)}{12}f''(\\mu)\n",
    "= -\\frac{(b-a)^3}{12(m-1)^2}f''(\\mu).$$"
   ]
  },
  {
   "cell_type": "code",
   "execution_count": 45,
   "metadata": {},
   "outputs": [
    {
     "data": {
      "text/plain": [
       "1.0"
      ]
     },
     "execution_count": 45,
     "metadata": {},
     "output_type": "execute_result"
    }
   ],
   "source": [
    "tanh(100)"
   ]
  },
  {
   "cell_type": "code",
   "execution_count": 46,
   "metadata": {},
   "outputs": [
    {
     "data": {
      "image/svg+xml": [
       "<?xml version=\"1.0\" encoding=\"utf-8\"?>\n",
       "<svg xmlns=\"http://www.w3.org/2000/svg\" xmlns:xlink=\"http://www.w3.org/1999/xlink\" width=\"400\" height=\"300\" viewBox=\"0 0 1600 1200\">\n",
       "<defs>\n",
       "  <clipPath id=\"clip0600\">\n",
       "    <rect x=\"0\" y=\"0\" width=\"1600\" height=\"1200\"/>\n",
       "  </clipPath>\n",
       "</defs>\n",
       "<polygon clip-path=\"url(#clip0600)\" points=\"\n",
       "0,1200 1600,1200 1600,0 0,0 \n",
       "  \" fill=\"#ffffff\" fill-rule=\"evenodd\" fill-opacity=\"1\"/>\n",
       "<defs>\n",
       "  <clipPath id=\"clip0601\">\n",
       "    <rect x=\"320\" y=\"0\" width=\"1121\" height=\"1121\"/>\n",
       "  </clipPath>\n",
       "</defs>\n",
       "<polygon clip-path=\"url(#clip0600)\" points=\"\n",
       "236.726,1087.28 1552.76,1087.28 1552.76,47.2441 236.726,47.2441 \n",
       "  \" fill=\"#ffffff\" fill-rule=\"evenodd\" fill-opacity=\"1\"/>\n",
       "<defs>\n",
       "  <clipPath id=\"clip0602\">\n",
       "    <rect x=\"236\" y=\"47\" width=\"1317\" height=\"1041\"/>\n",
       "  </clipPath>\n",
       "</defs>\n",
       "<polyline clip-path=\"url(#clip0602)\" style=\"stroke:#000000; stroke-width:2; stroke-opacity:0.1; fill:none\" points=\"\n",
       "  236.726,1087.28 236.726,47.2441 \n",
       "  \"/>\n",
       "<polyline clip-path=\"url(#clip0602)\" style=\"stroke:#000000; stroke-width:2; stroke-opacity:0.1; fill:none\" points=\"\n",
       "  509.961,1087.28 509.961,47.2441 \n",
       "  \"/>\n",
       "<polyline clip-path=\"url(#clip0602)\" style=\"stroke:#000000; stroke-width:2; stroke-opacity:0.1; fill:none\" points=\"\n",
       "  783.196,1087.28 783.196,47.2441 \n",
       "  \"/>\n",
       "<polyline clip-path=\"url(#clip0602)\" style=\"stroke:#000000; stroke-width:2; stroke-opacity:0.1; fill:none\" points=\"\n",
       "  1056.43,1087.28 1056.43,47.2441 \n",
       "  \"/>\n",
       "<polyline clip-path=\"url(#clip0602)\" style=\"stroke:#000000; stroke-width:2; stroke-opacity:0.1; fill:none\" points=\"\n",
       "  1329.67,1087.28 1329.67,47.2441 \n",
       "  \"/>\n",
       "<polyline clip-path=\"url(#clip0602)\" style=\"stroke:#000000; stroke-width:2; stroke-opacity:0.1; fill:none\" points=\"\n",
       "  236.726,983.279 1552.76,983.279 \n",
       "  \"/>\n",
       "<polyline clip-path=\"url(#clip0602)\" style=\"stroke:#000000; stroke-width:2; stroke-opacity:0.1; fill:none\" points=\"\n",
       "  236.726,775.271 1552.76,775.271 \n",
       "  \"/>\n",
       "<polyline clip-path=\"url(#clip0602)\" style=\"stroke:#000000; stroke-width:2; stroke-opacity:0.1; fill:none\" points=\"\n",
       "  236.726,567.264 1552.76,567.264 \n",
       "  \"/>\n",
       "<polyline clip-path=\"url(#clip0602)\" style=\"stroke:#000000; stroke-width:2; stroke-opacity:0.1; fill:none\" points=\"\n",
       "  236.726,359.256 1552.76,359.256 \n",
       "  \"/>\n",
       "<polyline clip-path=\"url(#clip0602)\" style=\"stroke:#000000; stroke-width:2; stroke-opacity:0.1; fill:none\" points=\"\n",
       "  236.726,151.248 1552.76,151.248 \n",
       "  \"/>\n",
       "<polyline clip-path=\"url(#clip0600)\" style=\"stroke:#000000; stroke-width:4; stroke-opacity:1; fill:none\" points=\"\n",
       "  236.726,1087.28 1552.76,1087.28 \n",
       "  \"/>\n",
       "<polyline clip-path=\"url(#clip0600)\" style=\"stroke:#000000; stroke-width:4; stroke-opacity:1; fill:none\" points=\"\n",
       "  236.726,1087.28 236.726,47.2441 \n",
       "  \"/>\n",
       "<polyline clip-path=\"url(#clip0600)\" style=\"stroke:#000000; stroke-width:4; stroke-opacity:1; fill:none\" points=\"\n",
       "  236.726,1087.28 236.726,1071.68 \n",
       "  \"/>\n",
       "<polyline clip-path=\"url(#clip0600)\" style=\"stroke:#000000; stroke-width:4; stroke-opacity:1; fill:none\" points=\"\n",
       "  509.961,1087.28 509.961,1071.68 \n",
       "  \"/>\n",
       "<polyline clip-path=\"url(#clip0600)\" style=\"stroke:#000000; stroke-width:4; stroke-opacity:1; fill:none\" points=\"\n",
       "  783.196,1087.28 783.196,1071.68 \n",
       "  \"/>\n",
       "<polyline clip-path=\"url(#clip0600)\" style=\"stroke:#000000; stroke-width:4; stroke-opacity:1; fill:none\" points=\"\n",
       "  1056.43,1087.28 1056.43,1071.68 \n",
       "  \"/>\n",
       "<polyline clip-path=\"url(#clip0600)\" style=\"stroke:#000000; stroke-width:4; stroke-opacity:1; fill:none\" points=\"\n",
       "  1329.67,1087.28 1329.67,1071.68 \n",
       "  \"/>\n",
       "<polyline clip-path=\"url(#clip0600)\" style=\"stroke:#000000; stroke-width:4; stroke-opacity:1; fill:none\" points=\"\n",
       "  236.726,983.279 256.467,983.279 \n",
       "  \"/>\n",
       "<polyline clip-path=\"url(#clip0600)\" style=\"stroke:#000000; stroke-width:4; stroke-opacity:1; fill:none\" points=\"\n",
       "  236.726,775.271 256.467,775.271 \n",
       "  \"/>\n",
       "<polyline clip-path=\"url(#clip0600)\" style=\"stroke:#000000; stroke-width:4; stroke-opacity:1; fill:none\" points=\"\n",
       "  236.726,567.264 256.467,567.264 \n",
       "  \"/>\n",
       "<polyline clip-path=\"url(#clip0600)\" style=\"stroke:#000000; stroke-width:4; stroke-opacity:1; fill:none\" points=\"\n",
       "  236.726,359.256 256.467,359.256 \n",
       "  \"/>\n",
       "<polyline clip-path=\"url(#clip0600)\" style=\"stroke:#000000; stroke-width:4; stroke-opacity:1; fill:none\" points=\"\n",
       "  236.726,151.248 256.467,151.248 \n",
       "  \"/>\n",
       "<g clip-path=\"url(#clip0600)\">\n",
       "<text style=\"fill:#000000; fill-opacity:1; font-family:Arial,Helvetica Neue,Helvetica,sans-serif; font-size:48px; text-anchor:start;\" transform=\"rotate(0, 193.656, 1158.29)\" x=\"193.656\" y=\"1158.29\">10</text>\n",
       "</g>\n",
       "<g clip-path=\"url(#clip0600)\">\n",
       "<text style=\"fill:#000000; fill-opacity:1; font-family:Arial,Helvetica Neue,Helvetica,sans-serif; font-size:38px; text-anchor:start;\" transform=\"rotate(0, 247.18, 1130.88)\" x=\"247.18\" y=\"1130.88\">0 </text>\n",
       "</g>\n",
       "<g clip-path=\"url(#clip0600)\">\n",
       "<text style=\"fill:#000000; fill-opacity:1; font-family:Arial,Helvetica Neue,Helvetica,sans-serif; font-size:48px; text-anchor:start;\" transform=\"rotate(0, 466.89, 1158.29)\" x=\"466.89\" y=\"1158.29\">10</text>\n",
       "</g>\n",
       "<g clip-path=\"url(#clip0600)\">\n",
       "<text style=\"fill:#000000; fill-opacity:1; font-family:Arial,Helvetica Neue,Helvetica,sans-serif; font-size:38px; text-anchor:start;\" transform=\"rotate(0, 520.415, 1130.88)\" x=\"520.415\" y=\"1130.88\">1 </text>\n",
       "</g>\n",
       "<g clip-path=\"url(#clip0600)\">\n",
       "<text style=\"fill:#000000; fill-opacity:1; font-family:Arial,Helvetica Neue,Helvetica,sans-serif; font-size:48px; text-anchor:start;\" transform=\"rotate(0, 740.125, 1158.29)\" x=\"740.125\" y=\"1158.29\">10</text>\n",
       "</g>\n",
       "<g clip-path=\"url(#clip0600)\">\n",
       "<text style=\"fill:#000000; fill-opacity:1; font-family:Arial,Helvetica Neue,Helvetica,sans-serif; font-size:38px; text-anchor:start;\" transform=\"rotate(0, 793.65, 1130.88)\" x=\"793.65\" y=\"1130.88\">2 </text>\n",
       "</g>\n",
       "<g clip-path=\"url(#clip0600)\">\n",
       "<text style=\"fill:#000000; fill-opacity:1; font-family:Arial,Helvetica Neue,Helvetica,sans-serif; font-size:48px; text-anchor:start;\" transform=\"rotate(0, 1013.36, 1158.29)\" x=\"1013.36\" y=\"1158.29\">10</text>\n",
       "</g>\n",
       "<g clip-path=\"url(#clip0600)\">\n",
       "<text style=\"fill:#000000; fill-opacity:1; font-family:Arial,Helvetica Neue,Helvetica,sans-serif; font-size:38px; text-anchor:start;\" transform=\"rotate(0, 1066.88, 1130.88)\" x=\"1066.88\" y=\"1130.88\">3 </text>\n",
       "</g>\n",
       "<g clip-path=\"url(#clip0600)\">\n",
       "<text style=\"fill:#000000; fill-opacity:1; font-family:Arial,Helvetica Neue,Helvetica,sans-serif; font-size:48px; text-anchor:start;\" transform=\"rotate(0, 1286.59, 1158.29)\" x=\"1286.59\" y=\"1158.29\">10</text>\n",
       "</g>\n",
       "<g clip-path=\"url(#clip0600)\">\n",
       "<text style=\"fill:#000000; fill-opacity:1; font-family:Arial,Helvetica Neue,Helvetica,sans-serif; font-size:38px; text-anchor:start;\" transform=\"rotate(0, 1340.12, 1130.88)\" x=\"1340.12\" y=\"1130.88\">4 </text>\n",
       "</g>\n",
       "<g clip-path=\"url(#clip0600)\">\n",
       "<text style=\"fill:#000000; fill-opacity:1; font-family:Arial,Helvetica Neue,Helvetica,sans-serif; font-size:48px; text-anchor:start;\" transform=\"rotate(0, 90.0012, 1007.01)\" x=\"90.0012\" y=\"1007.01\">10</text>\n",
       "</g>\n",
       "<g clip-path=\"url(#clip0600)\">\n",
       "<text style=\"fill:#000000; fill-opacity:1; font-family:Arial,Helvetica Neue,Helvetica,sans-serif; font-size:38px; text-anchor:start;\" transform=\"rotate(0, 143.526, 979.596)\" x=\"143.526\" y=\"979.596\">-</text>\n",
       "</g>\n",
       "<g clip-path=\"url(#clip0600)\">\n",
       "<text style=\"fill:#000000; fill-opacity:1; font-family:Arial,Helvetica Neue,Helvetica,sans-serif; font-size:38px; text-anchor:start;\" transform=\"rotate(0, 166.365, 979.596)\" x=\"166.365\" y=\"979.596\">10 </text>\n",
       "</g>\n",
       "<g clip-path=\"url(#clip0600)\">\n",
       "<text style=\"fill:#000000; fill-opacity:1; font-family:Arial,Helvetica Neue,Helvetica,sans-serif; font-size:48px; text-anchor:start;\" transform=\"rotate(0, 111.746, 798.999)\" x=\"111.746\" y=\"798.999\">10</text>\n",
       "</g>\n",
       "<g clip-path=\"url(#clip0600)\">\n",
       "<text style=\"fill:#000000; fill-opacity:1; font-family:Arial,Helvetica Neue,Helvetica,sans-serif; font-size:38px; text-anchor:start;\" transform=\"rotate(0, 165.27, 771.589)\" x=\"165.27\" y=\"771.589\">-</text>\n",
       "</g>\n",
       "<g clip-path=\"url(#clip0600)\">\n",
       "<text style=\"fill:#000000; fill-opacity:1; font-family:Arial,Helvetica Neue,Helvetica,sans-serif; font-size:38px; text-anchor:start;\" transform=\"rotate(0, 188.11, 771.589)\" x=\"188.11\" y=\"771.589\">8 </text>\n",
       "</g>\n",
       "<g clip-path=\"url(#clip0600)\">\n",
       "<text style=\"fill:#000000; fill-opacity:1; font-family:Arial,Helvetica Neue,Helvetica,sans-serif; font-size:48px; text-anchor:start;\" transform=\"rotate(0, 111.746, 590.991)\" x=\"111.746\" y=\"590.991\">10</text>\n",
       "</g>\n",
       "<g clip-path=\"url(#clip0600)\">\n",
       "<text style=\"fill:#000000; fill-opacity:1; font-family:Arial,Helvetica Neue,Helvetica,sans-serif; font-size:38px; text-anchor:start;\" transform=\"rotate(0, 165.27, 563.581)\" x=\"165.27\" y=\"563.581\">-</text>\n",
       "</g>\n",
       "<g clip-path=\"url(#clip0600)\">\n",
       "<text style=\"fill:#000000; fill-opacity:1; font-family:Arial,Helvetica Neue,Helvetica,sans-serif; font-size:38px; text-anchor:start;\" transform=\"rotate(0, 188.11, 563.581)\" x=\"188.11\" y=\"563.581\">6 </text>\n",
       "</g>\n",
       "<g clip-path=\"url(#clip0600)\">\n",
       "<text style=\"fill:#000000; fill-opacity:1; font-family:Arial,Helvetica Neue,Helvetica,sans-serif; font-size:48px; text-anchor:start;\" transform=\"rotate(0, 111.746, 382.983)\" x=\"111.746\" y=\"382.983\">10</text>\n",
       "</g>\n",
       "<g clip-path=\"url(#clip0600)\">\n",
       "<text style=\"fill:#000000; fill-opacity:1; font-family:Arial,Helvetica Neue,Helvetica,sans-serif; font-size:38px; text-anchor:start;\" transform=\"rotate(0, 165.27, 355.573)\" x=\"165.27\" y=\"355.573\">-</text>\n",
       "</g>\n",
       "<g clip-path=\"url(#clip0600)\">\n",
       "<text style=\"fill:#000000; fill-opacity:1; font-family:Arial,Helvetica Neue,Helvetica,sans-serif; font-size:38px; text-anchor:start;\" transform=\"rotate(0, 188.11, 355.573)\" x=\"188.11\" y=\"355.573\">4 </text>\n",
       "</g>\n",
       "<g clip-path=\"url(#clip0600)\">\n",
       "<text style=\"fill:#000000; fill-opacity:1; font-family:Arial,Helvetica Neue,Helvetica,sans-serif; font-size:48px; text-anchor:start;\" transform=\"rotate(0, 111.746, 174.976)\" x=\"111.746\" y=\"174.976\">10</text>\n",
       "</g>\n",
       "<g clip-path=\"url(#clip0600)\">\n",
       "<text style=\"fill:#000000; fill-opacity:1; font-family:Arial,Helvetica Neue,Helvetica,sans-serif; font-size:38px; text-anchor:start;\" transform=\"rotate(0, 165.27, 147.565)\" x=\"165.27\" y=\"147.565\">-</text>\n",
       "</g>\n",
       "<g clip-path=\"url(#clip0600)\">\n",
       "<text style=\"fill:#000000; fill-opacity:1; font-family:Arial,Helvetica Neue,Helvetica,sans-serif; font-size:38px; text-anchor:start;\" transform=\"rotate(0, 188.11, 147.565)\" x=\"188.11\" y=\"147.565\">2 </text>\n",
       "</g>\n",
       "<circle clip-path=\"url(#clip0602)\" style=\"fill:#000000; stroke:none; fill-opacity:1\" cx=\"401.23\" cy=\"186.179\" r=\"18\"/>\n",
       "<circle clip-path=\"url(#clip0602)\" style=\"fill:#0000ff; stroke:none; fill-opacity:1\" cx=\"401.23\" cy=\"186.179\" r=\"14\"/>\n",
       "<circle clip-path=\"url(#clip0602)\" style=\"fill:#000000; stroke:none; fill-opacity:1\" cx=\"483.482\" cy=\"232.231\" r=\"18\"/>\n",
       "<circle clip-path=\"url(#clip0602)\" style=\"fill:#0000ff; stroke:none; fill-opacity:1\" cx=\"483.482\" cy=\"232.231\" r=\"14\"/>\n",
       "<circle clip-path=\"url(#clip0602)\" style=\"fill:#000000; stroke:none; fill-opacity:1\" cx=\"565.734\" cy=\"285.294\" r=\"18\"/>\n",
       "<circle clip-path=\"url(#clip0602)\" style=\"fill:#0000ff; stroke:none; fill-opacity:1\" cx=\"565.734\" cy=\"285.294\" r=\"14\"/>\n",
       "<circle clip-path=\"url(#clip0602)\" style=\"fill:#000000; stroke:none; fill-opacity:1\" cx=\"647.986\" cy=\"342.735\" r=\"18\"/>\n",
       "<circle clip-path=\"url(#clip0602)\" style=\"fill:#0000ff; stroke:none; fill-opacity:1\" cx=\"647.986\" cy=\"342.735\" r=\"14\"/>\n",
       "<circle clip-path=\"url(#clip0602)\" style=\"fill:#000000; stroke:none; fill-opacity:1\" cx=\"730.237\" cy=\"402.651\" r=\"18\"/>\n",
       "<circle clip-path=\"url(#clip0602)\" style=\"fill:#0000ff; stroke:none; fill-opacity:1\" cx=\"730.237\" cy=\"402.651\" r=\"14\"/>\n",
       "<circle clip-path=\"url(#clip0602)\" style=\"fill:#000000; stroke:none; fill-opacity:1\" cx=\"812.489\" cy=\"463.888\" r=\"18\"/>\n",
       "<circle clip-path=\"url(#clip0602)\" style=\"fill:#0000ff; stroke:none; fill-opacity:1\" cx=\"812.489\" cy=\"463.888\" r=\"14\"/>\n",
       "<circle clip-path=\"url(#clip0602)\" style=\"fill:#000000; stroke:none; fill-opacity:1\" cx=\"894.741\" cy=\"525.807\" r=\"18\"/>\n",
       "<circle clip-path=\"url(#clip0602)\" style=\"fill:#0000ff; stroke:none; fill-opacity:1\" cx=\"894.741\" cy=\"525.807\" r=\"14\"/>\n",
       "<circle clip-path=\"url(#clip0602)\" style=\"fill:#000000; stroke:none; fill-opacity:1\" cx=\"976.993\" cy=\"588.072\" r=\"18\"/>\n",
       "<circle clip-path=\"url(#clip0602)\" style=\"fill:#0000ff; stroke:none; fill-opacity:1\" cx=\"976.993\" cy=\"588.072\" r=\"14\"/>\n",
       "<circle clip-path=\"url(#clip0602)\" style=\"fill:#000000; stroke:none; fill-opacity:1\" cx=\"1059.24\" cy=\"650.513\" r=\"18\"/>\n",
       "<circle clip-path=\"url(#clip0602)\" style=\"fill:#0000ff; stroke:none; fill-opacity:1\" cx=\"1059.24\" cy=\"650.513\" r=\"14\"/>\n",
       "<circle clip-path=\"url(#clip0602)\" style=\"fill:#000000; stroke:none; fill-opacity:1\" cx=\"1141.5\" cy=\"713.042\" r=\"18\"/>\n",
       "<circle clip-path=\"url(#clip0602)\" style=\"fill:#0000ff; stroke:none; fill-opacity:1\" cx=\"1141.5\" cy=\"713.042\" r=\"14\"/>\n",
       "<circle clip-path=\"url(#clip0602)\" style=\"fill:#000000; stroke:none; fill-opacity:1\" cx=\"1223.75\" cy=\"775.614\" r=\"18\"/>\n",
       "<circle clip-path=\"url(#clip0602)\" style=\"fill:#0000ff; stroke:none; fill-opacity:1\" cx=\"1223.75\" cy=\"775.614\" r=\"14\"/>\n",
       "<circle clip-path=\"url(#clip0602)\" style=\"fill:#000000; stroke:none; fill-opacity:1\" cx=\"1306\" cy=\"838.209\" r=\"18\"/>\n",
       "<circle clip-path=\"url(#clip0602)\" style=\"fill:#0000ff; stroke:none; fill-opacity:1\" cx=\"1306\" cy=\"838.209\" r=\"14\"/>\n",
       "<circle clip-path=\"url(#clip0602)\" style=\"fill:#000000; stroke:none; fill-opacity:1\" cx=\"1388.25\" cy=\"900.814\" r=\"18\"/>\n",
       "<circle clip-path=\"url(#clip0602)\" style=\"fill:#0000ff; stroke:none; fill-opacity:1\" cx=\"1388.25\" cy=\"900.814\" r=\"14\"/>\n",
       "<circle clip-path=\"url(#clip0602)\" style=\"fill:#000000; stroke:none; fill-opacity:1\" cx=\"1470.5\" cy=\"963.456\" r=\"18\"/>\n",
       "<circle clip-path=\"url(#clip0602)\" style=\"fill:#0000ff; stroke:none; fill-opacity:1\" cx=\"1470.5\" cy=\"963.456\" r=\"14\"/>\n",
       "<circle clip-path=\"url(#clip0602)\" style=\"fill:#000000; stroke:none; fill-opacity:1\" cx=\"401.23\" cy=\"154.808\" r=\"18\"/>\n",
       "<circle clip-path=\"url(#clip0602)\" style=\"fill:#ff0000; stroke:none; fill-opacity:1\" cx=\"401.23\" cy=\"154.808\" r=\"14\"/>\n",
       "<circle clip-path=\"url(#clip0602)\" style=\"fill:#000000; stroke:none; fill-opacity:1\" cx=\"483.482\" cy=\"231.282\" r=\"18\"/>\n",
       "<circle clip-path=\"url(#clip0602)\" style=\"fill:#ff0000; stroke:none; fill-opacity:1\" cx=\"483.482\" cy=\"231.282\" r=\"14\"/>\n",
       "<circle clip-path=\"url(#clip0602)\" style=\"fill:#000000; stroke:none; fill-opacity:1\" cx=\"565.734\" cy=\"300.119\" r=\"18\"/>\n",
       "<circle clip-path=\"url(#clip0602)\" style=\"fill:#ff0000; stroke:none; fill-opacity:1\" cx=\"565.734\" cy=\"300.119\" r=\"14\"/>\n",
       "<circle clip-path=\"url(#clip0602)\" style=\"fill:#000000; stroke:none; fill-opacity:1\" cx=\"647.986\" cy=\"365.695\" r=\"18\"/>\n",
       "<circle clip-path=\"url(#clip0602)\" style=\"fill:#ff0000; stroke:none; fill-opacity:1\" cx=\"647.986\" cy=\"365.695\" r=\"14\"/>\n",
       "<circle clip-path=\"url(#clip0602)\" style=\"fill:#000000; stroke:none; fill-opacity:1\" cx=\"730.237\" cy=\"429.756\" r=\"18\"/>\n",
       "<circle clip-path=\"url(#clip0602)\" style=\"fill:#ff0000; stroke:none; fill-opacity:1\" cx=\"730.237\" cy=\"429.756\" r=\"14\"/>\n",
       "<circle clip-path=\"url(#clip0602)\" style=\"fill:#000000; stroke:none; fill-opacity:1\" cx=\"812.489\" cy=\"493.087\" r=\"18\"/>\n",
       "<circle clip-path=\"url(#clip0602)\" style=\"fill:#ff0000; stroke:none; fill-opacity:1\" cx=\"812.489\" cy=\"493.087\" r=\"14\"/>\n",
       "<circle clip-path=\"url(#clip0602)\" style=\"fill:#000000; stroke:none; fill-opacity:1\" cx=\"894.741\" cy=\"556.058\" r=\"18\"/>\n",
       "<circle clip-path=\"url(#clip0602)\" style=\"fill:#ff0000; stroke:none; fill-opacity:1\" cx=\"894.741\" cy=\"556.058\" r=\"14\"/>\n",
       "<circle clip-path=\"url(#clip0602)\" style=\"fill:#000000; stroke:none; fill-opacity:1\" cx=\"976.993\" cy=\"618.852\" r=\"18\"/>\n",
       "<circle clip-path=\"url(#clip0602)\" style=\"fill:#ff0000; stroke:none; fill-opacity:1\" cx=\"976.993\" cy=\"618.852\" r=\"14\"/>\n",
       "<circle clip-path=\"url(#clip0602)\" style=\"fill:#000000; stroke:none; fill-opacity:1\" cx=\"1059.24\" cy=\"681.557\" r=\"18\"/>\n",
       "<circle clip-path=\"url(#clip0602)\" style=\"fill:#ff0000; stroke:none; fill-opacity:1\" cx=\"1059.24\" cy=\"681.557\" r=\"14\"/>\n",
       "<circle clip-path=\"url(#clip0602)\" style=\"fill:#000000; stroke:none; fill-opacity:1\" cx=\"1141.5\" cy=\"744.218\" r=\"18\"/>\n",
       "<circle clip-path=\"url(#clip0602)\" style=\"fill:#ff0000; stroke:none; fill-opacity:1\" cx=\"1141.5\" cy=\"744.218\" r=\"14\"/>\n",
       "<circle clip-path=\"url(#clip0602)\" style=\"fill:#000000; stroke:none; fill-opacity:1\" cx=\"1223.75\" cy=\"806.856\" r=\"18\"/>\n",
       "<circle clip-path=\"url(#clip0602)\" style=\"fill:#ff0000; stroke:none; fill-opacity:1\" cx=\"1223.75\" cy=\"806.856\" r=\"14\"/>\n",
       "<circle clip-path=\"url(#clip0602)\" style=\"fill:#000000; stroke:none; fill-opacity:1\" cx=\"1306\" cy=\"869.484\" r=\"18\"/>\n",
       "<circle clip-path=\"url(#clip0602)\" style=\"fill:#ff0000; stroke:none; fill-opacity:1\" cx=\"1306\" cy=\"869.484\" r=\"14\"/>\n",
       "<circle clip-path=\"url(#clip0602)\" style=\"fill:#000000; stroke:none; fill-opacity:1\" cx=\"1388.25\" cy=\"932.12\" r=\"18\"/>\n",
       "<circle clip-path=\"url(#clip0602)\" style=\"fill:#ff0000; stroke:none; fill-opacity:1\" cx=\"1388.25\" cy=\"932.12\" r=\"14\"/>\n",
       "<circle clip-path=\"url(#clip0602)\" style=\"fill:#000000; stroke:none; fill-opacity:1\" cx=\"1470.5\" cy=\"994.736\" r=\"18\"/>\n",
       "<circle clip-path=\"url(#clip0602)\" style=\"fill:#ff0000; stroke:none; fill-opacity:1\" cx=\"1470.5\" cy=\"994.736\" r=\"14\"/>\n",
       "<polyline clip-path=\"url(#clip0602)\" style=\"stroke:#389a7b; stroke-width:4; stroke-opacity:1; fill:none\" points=\"\n",
       "  236.726,24.171 1552.76,1026.04 \n",
       "  \"/>\n",
       "</svg>\n"
      ]
     },
     "execution_count": 46,
     "metadata": {},
     "output_type": "execute_result"
    }
   ],
   "source": [
    "f(x) = exp(x)\n",
    "F(x) = exp(x)\n",
    "a, b = 0, 1\n",
    "cores = [:blue, :red, :magenta]\n",
    "p = scatter(leg=false, xaxis=:log, yaxis=:log)\n",
    "Ireal = F(b) - F(a)\n",
    "for (i,mtd) in enumerate([ponto_medio_composto, trapezio_composto])\n",
    "    for m = 2 .^ (2:15)\n",
    "        Iapprox = mtd(f, a, b, m=m)\n",
    "        E = abs(Ireal - Iapprox) / Ireal\n",
    "        scatter!(p, [m], [E], c=cores[i])\n",
    "    end\n",
    "end\n",
    "n = [1; 2^16]\n",
    "plot!(n, (1 ./ n).^2 / 6)\n",
    "xlims!(1.0, 2^16)\n",
    "ylims!(1e-11, 1e-1)"
   ]
  },
  {
   "cell_type": "markdown",
   "metadata": {},
   "source": [
    "Com esse erro em mãos, podemos calcular limitantes para o erro cometido por uma aproximação sabendo a função.\n",
    "Por exemplo,\n",
    "na integração da função $f(x) = e^x$, com $m = 100$, de $0$ a $1$, os erros exatos serão\n",
    "$$ E_{PM} = \\frac{(b-a)^3}{6(m+1)^2}f''(\\mu) = \\frac{(1-0)^3}{6\\times101^2}e^{\\mu} = \\frac{e^{\\mu}}{61206},$$\n",
    "e\n",
    "$$ E_{TR} = -\\frac{(b-a)^3}{12(m-1)^2}f''(\\mu) = -\\frac{(1-0)^3}{12\\times99^2}e^{\\mu} = -\\frac{e^{\\mu}}{117612}. $$"
   ]
  },
  {
   "cell_type": "markdown",
   "metadata": {},
   "source": [
    "Esse valor depende de $\\mu \\in [0,1]$, e é desconhecido. Porém, podemos limitar esse erro, usando um limitante para $|f''(\\mu)|$. No caso desta função $f$, neste intervalo, temos $e^\\mu \\leq e^1 = e$. Daí,"
   ]
  },
  {
   "cell_type": "markdown",
   "metadata": {},
   "source": [
    "$$ |E_{PM}| \\leq \\frac{e}{61206} \\approx 4.44\\times10^{-5}, $$\n",
    "e\n",
    "$$ |E_{TR}| \\leq \\frac{e}{117612} \\approx 2.31\\times10^{-5}. $$"
   ]
  },
  {
   "cell_type": "markdown",
   "metadata": {},
   "source": [
    "De fato, aplicando o método temos"
   ]
  },
  {
   "cell_type": "code",
   "execution_count": 47,
   "metadata": {},
   "outputs": [
    {
     "name": "stdout",
     "output_type": "stream",
     "text": [
      "E_PM = 2.7525672183781325e-5\n",
      "E_TR = -1.4609724402259161e-5\n"
     ]
    }
   ],
   "source": [
    "f(x) = exp(x)\n",
    "F(x) = exp(x)\n",
    "a, b = 0, 1\n",
    "Ir = F(b) - F(a)\n",
    "println(\"E_PM = $(Ir - ponto_medio_composto(f, a, b, m=100))\")\n",
    "println(\"E_TR = $(Ir - trapezio_composto(f, a, b, m=100))\")"
   ]
  },
  {
   "cell_type": "markdown",
   "metadata": {},
   "source": [
    "Isso também nos permite buscar o $m$ ou $h$ que faça com que o erro seja menor que uma certa tolerância.\n",
    "Por exemplo, para o ponto médio, se quisermos que o erro seja menor que $\\varepsilon$, temos que fazer o seguinte."
   ]
  },
  {
   "cell_type": "markdown",
   "metadata": {},
   "source": [
    "Primeiro, veja que\n",
    "$$ |E_{PM}| \\leq \\frac{h^2(b-a)}{6}M_2, $$\n",
    "onde $M_2 = \\max_{x\\in[a,b]}|f''(x)|$.\n",
    "Daí, basta que o lado direito seja limitado por $\\varepsilon$, isto é, que\n",
    "$$ \\frac{h^2(b-a)}{6}M_2 \\leq \\varepsilon. $$"
   ]
  },
  {
   "cell_type": "markdown",
   "metadata": {},
   "source": [
    "O $h$ que satisfaz isso é tal que\n",
    "$$ h \\leq \\sqrt{  \\frac{6\\varepsilon}{M_2(b-a)} }. $$"
   ]
  },
  {
   "cell_type": "markdown",
   "metadata": {},
   "source": [
    "Se quisermos $m$, podemos refazer a conta usando a fórmula com $m$, ou tirar $m$ do resultado, usando $h = \\dfrac{b-a}{m+1}$:"
   ]
  },
  {
   "cell_type": "markdown",
   "metadata": {},
   "source": [
    "$$ m = \\frac{b-a}{h} - 1 \\geq (b-a)\\sqrt{ \\frac{M_2(b-a)}{6\\varepsilon} } - 1\n",
    "$$"
   ]
  },
  {
   "cell_type": "markdown",
   "metadata": {},
   "source": [
    "Por exemplo, se quisermos o erro menor que $\\varepsilon = 10^{-7}$, para a mesma função, no mesmo intervalo,\n",
    "devemos ter"
   ]
  },
  {
   "cell_type": "code",
   "execution_count": 48,
   "metadata": {},
   "outputs": [
    {
     "data": {
      "text/plain": [
       "0.0004698166288062454"
      ]
     },
     "execution_count": 48,
     "metadata": {},
     "output_type": "execute_result"
    }
   ],
   "source": [
    "a, b = 0, 1\n",
    "M2 = exp(b) # Pois exp(x) é crescente\n",
    "ε = 1e-7\n",
    "hmax = sqrt(6ε / M2 * (b - a))"
   ]
  },
  {
   "cell_type": "code",
   "execution_count": 49,
   "metadata": {},
   "outputs": [
    {
     "data": {
      "text/plain": [
       "2127.4900079865088"
      ]
     },
     "execution_count": 49,
     "metadata": {},
     "output_type": "execute_result"
    }
   ],
   "source": [
    "mmin = (b-a)/hmax - 1"
   ]
  },
  {
   "cell_type": "code",
   "execution_count": 50,
   "metadata": {},
   "outputs": [
    {
     "data": {
      "text/plain": [
       "2128"
      ]
     },
     "execution_count": 50,
     "metadata": {},
     "output_type": "execute_result"
    }
   ],
   "source": [
    "# De maneira mais precisa\n",
    "mmin = ceil(Int, (b-a)/hmax - 1)"
   ]
  },
  {
   "cell_type": "code",
   "execution_count": 51,
   "metadata": {},
   "outputs": [
    {
     "data": {
      "text/plain": [
       "-6.312245792727822e-8"
      ]
     },
     "execution_count": 51,
     "metadata": {},
     "output_type": "execute_result"
    }
   ],
   "source": [
    "ponto_medio_composto(f, 0, 1, m=mmin) - (F(b) - F(a))"
   ]
  },
  {
   "cell_type": "markdown",
   "metadata": {},
   "source": [
    "### Simpson composta"
   ]
  },
  {
   "cell_type": "markdown",
   "metadata": {},
   "source": [
    "De maneira similar, podemos fazer a regra de Simpson composta. Note que utilizamos um ponto a mais, de modo que aplicaremos a regra de dois em dois pontos. Note que $m$ deve ser ímpar."
   ]
  },
  {
   "cell_type": "markdown",
   "metadata": {},
   "source": [
    "$$ \\int_a^b f(x)\\mbox{d}x =\n",
    "\\frac{h}{3}[f(x_{1}) +\n",
    "2\\sum_{i = 1}^{(m-1)/2-1}f(x_{2i+1}) +\n",
    "4\\sum_{i = 1}^{(m-1)/2}f(x_{2i}) +\n",
    "f(x_m)] + E_{SP},\n",
    "$$\n",
    "com o erro $E_{SP}$ sendo\n",
    "$$ E_{SP} = -\\frac{(b-a)h^4}{180}f^{(4)}(\\mu)\n",
    "= -\\frac{(b-a)^5}{180(m-1)^4}f^{(4)}(\\mu). $$"
   ]
  },
  {
   "cell_type": "code",
   "execution_count": 12,
   "metadata": {},
   "outputs": [
    {
     "data": {
      "text/plain": [
       "simpson_composto (generic function with 1 method)"
      ]
     },
     "execution_count": 12,
     "metadata": {},
     "output_type": "execute_result"
    }
   ],
   "source": [
    "function simpson_composto(f, a, b; n = 100) # n eh o numero de pontos\n",
    "    # Implemente\n",
    "    if n % 2 == 0\n",
    "        n = n + 1\n",
    "    end\n",
    "    h = (b - a) / (n - 1)\n",
    "    #=\n",
    "    I2 = I4 = 0.0\n",
    "    x = a + 2h\n",
    "    for i = 3:2:n-2\n",
    "        I2 += f(x)\n",
    "        x += h\n",
    "        I4 += f(x)\n",
    "        x += h\n",
    "    end\n",
    "    return (f(a) + 4 * f(a + h) + 4I4 + 2I2 + f(b)) * h / 3\n",
    "    =#\n",
    "    x = range(a, b, length=n)\n",
    "    return (f(a) + f(b) + 4 * sum(f.(x[])))\n",
    "end"
   ]
  },
  {
   "cell_type": "code",
   "execution_count": null,
   "metadata": {},
   "outputs": [],
   "source": []
  },
  {
   "cell_type": "code",
   "execution_count": 13,
   "metadata": {},
   "outputs": [
    {
     "data": {
      "text/plain": [
       "9.545986223713498e-11"
      ]
     },
     "execution_count": 13,
     "metadata": {},
     "output_type": "execute_result"
    }
   ],
   "source": [
    "simpson_composto(exp, 0, 1, n = 100) - (exp(1) - 1)"
   ]
  },
  {
   "cell_type": "code",
   "execution_count": 54,
   "metadata": {},
   "outputs": [
    {
     "ename": "MethodError",
     "evalue": "MethodError: no method matching -(::Float64, ::Nothing)\nClosest candidates are:\n  -(::Float64, !Matched::Float64) at float.jl:397\n  -(::Float64) at float.jl:387\n  -(::Real, !Matched::Complex{Bool}) at complex.jl:295\n  ...",
     "output_type": "error",
     "traceback": [
      "MethodError: no method matching -(::Float64, ::Nothing)\nClosest candidates are:\n  -(::Float64, !Matched::Float64) at float.jl:397\n  -(::Float64) at float.jl:387\n  -(::Real, !Matched::Complex{Bool}) at complex.jl:295\n  ...",
      "",
      "Stacktrace:",
      " [1] top-level scope at ./In[54]:11"
     ]
    }
   ],
   "source": [
    "using Plots\n",
    "gr()\n",
    "\n",
    "f(x) = exp(x)\n",
    "F(x) = exp(x)\n",
    "a, b = 0, 1\n",
    "p = scatter(leg=false, xaxis=:log, yaxis=:log)\n",
    "Ireal = F(b) - F(a)\n",
    "for n = 2 .^ (2:15)\n",
    "    Iapprox = simpson_composto(f, a, b, n=n)\n",
    "    E = abs(Ireal - Iapprox) / Ireal\n",
    "    scatter!(p, [n], [E], c=:blue)\n",
    "end\n",
    "n = [1; 2^16]\n",
    "plot!(n, (1 ./ n).^4 / 180)\n",
    "xlims!(1.0, 2^16)\n",
    "ylims!(1e-16, 1e-1)"
   ]
  },
  {
   "cell_type": "code",
   "execution_count": 56,
   "metadata": {},
   "outputs": [
    {
     "data": {
      "text/plain": [
       "1.7724538509055159"
      ]
     },
     "execution_count": 56,
     "metadata": {},
     "output_type": "execute_result"
    }
   ],
   "source": [
    "sqrt(pi)"
   ]
  },
  {
   "cell_type": "code",
   "execution_count": 57,
   "metadata": {},
   "outputs": [
    {
     "data": {
      "text/plain": [
       "4.440892098500626e-16"
      ]
     },
     "execution_count": 57,
     "metadata": {},
     "output_type": "execute_result"
    }
   ],
   "source": [
    "trapezio_composto(x->exp(-x^2), -6, 6, m=100) - sqrt(pi)"
   ]
  },
  {
   "cell_type": "code",
   "execution_count": 58,
   "metadata": {},
   "outputs": [
    {
     "data": {
      "text/plain": [
       "6.069708517540586"
      ]
     },
     "execution_count": 58,
     "metadata": {},
     "output_type": "execute_result"
    }
   ],
   "source": [
    "sqrt(-log(1e-16))"
   ]
  },
  {
   "cell_type": "markdown",
   "metadata": {},
   "source": [
    "$$\\int_{-1}^1 \\frac{1}{\\sqrt{1 - x^2}} \\text{d}x = \\pi.$$"
   ]
  },
  {
   "cell_type": "code",
   "execution_count": 59,
   "metadata": {},
   "outputs": [],
   "source": [
    "f(x) = 1 / sqrt(1 - x^2)\n",
    "simpson_composto(f, -1, 1)"
   ]
  },
  {
   "cell_type": "code",
   "execution_count": 60,
   "metadata": {},
   "outputs": [
    {
     "data": {
      "image/svg+xml": [
       "<?xml version=\"1.0\" encoding=\"utf-8\"?>\n",
       "<svg xmlns=\"http://www.w3.org/2000/svg\" xmlns:xlink=\"http://www.w3.org/1999/xlink\" width=\"400\" height=\"300\" viewBox=\"0 0 1600 1200\">\n",
       "<defs>\n",
       "  <clipPath id=\"clip1000\">\n",
       "    <rect x=\"0\" y=\"0\" width=\"1600\" height=\"1200\"/>\n",
       "  </clipPath>\n",
       "</defs>\n",
       "<polygon clip-path=\"url(#clip1000)\" points=\"\n",
       "0,1200 1600,1200 1600,0 0,0 \n",
       "  \" fill=\"#ffffff\" fill-rule=\"evenodd\" fill-opacity=\"1\"/>\n",
       "<defs>\n",
       "  <clipPath id=\"clip1001\">\n",
       "    <rect x=\"320\" y=\"0\" width=\"1121\" height=\"1121\"/>\n",
       "  </clipPath>\n",
       "</defs>\n",
       "<polygon clip-path=\"url(#clip1000)\" points=\"\n",
       "145.898,1087.28 1552.76,1087.28 1552.76,47.2441 145.898,47.2441 \n",
       "  \" fill=\"#ffffff\" fill-rule=\"evenodd\" fill-opacity=\"1\"/>\n",
       "<defs>\n",
       "  <clipPath id=\"clip1002\">\n",
       "    <rect x=\"145\" y=\"47\" width=\"1408\" height=\"1041\"/>\n",
       "  </clipPath>\n",
       "</defs>\n",
       "<polyline clip-path=\"url(#clip1002)\" style=\"stroke:#000000; stroke-width:2; stroke-opacity:0.1; fill:none\" points=\"\n",
       "  293.683,1087.28 293.683,47.2441 \n",
       "  \"/>\n",
       "<polyline clip-path=\"url(#clip1002)\" style=\"stroke:#000000; stroke-width:2; stroke-opacity:0.1; fill:none\" points=\"\n",
       "  479.061,1087.28 479.061,47.2441 \n",
       "  \"/>\n",
       "<polyline clip-path=\"url(#clip1002)\" style=\"stroke:#000000; stroke-width:2; stroke-opacity:0.1; fill:none\" points=\"\n",
       "  664.44,1087.28 664.44,47.2441 \n",
       "  \"/>\n",
       "<polyline clip-path=\"url(#clip1002)\" style=\"stroke:#000000; stroke-width:2; stroke-opacity:0.1; fill:none\" points=\"\n",
       "  849.818,1087.28 849.818,47.2441 \n",
       "  \"/>\n",
       "<polyline clip-path=\"url(#clip1002)\" style=\"stroke:#000000; stroke-width:2; stroke-opacity:0.1; fill:none\" points=\"\n",
       "  1035.2,1087.28 1035.2,47.2441 \n",
       "  \"/>\n",
       "<polyline clip-path=\"url(#clip1002)\" style=\"stroke:#000000; stroke-width:2; stroke-opacity:0.1; fill:none\" points=\"\n",
       "  1220.57,1087.28 1220.57,47.2441 \n",
       "  \"/>\n",
       "<polyline clip-path=\"url(#clip1002)\" style=\"stroke:#000000; stroke-width:2; stroke-opacity:0.1; fill:none\" points=\"\n",
       "  1405.95,1087.28 1405.95,47.2441 \n",
       "  \"/>\n",
       "<polyline clip-path=\"url(#clip1002)\" style=\"stroke:#000000; stroke-width:2; stroke-opacity:0.1; fill:none\" points=\"\n",
       "  145.898,900.61 1552.76,900.61 \n",
       "  \"/>\n",
       "<polyline clip-path=\"url(#clip1002)\" style=\"stroke:#000000; stroke-width:2; stroke-opacity:0.1; fill:none\" points=\"\n",
       "  145.898,664.741 1552.76,664.741 \n",
       "  \"/>\n",
       "<polyline clip-path=\"url(#clip1002)\" style=\"stroke:#000000; stroke-width:2; stroke-opacity:0.1; fill:none\" points=\"\n",
       "  145.898,428.872 1552.76,428.872 \n",
       "  \"/>\n",
       "<polyline clip-path=\"url(#clip1002)\" style=\"stroke:#000000; stroke-width:2; stroke-opacity:0.1; fill:none\" points=\"\n",
       "  145.898,193.003 1552.76,193.003 \n",
       "  \"/>\n",
       "<polyline clip-path=\"url(#clip1000)\" style=\"stroke:#000000; stroke-width:4; stroke-opacity:1; fill:none\" points=\"\n",
       "  145.898,1087.28 1552.76,1087.28 \n",
       "  \"/>\n",
       "<polyline clip-path=\"url(#clip1000)\" style=\"stroke:#000000; stroke-width:4; stroke-opacity:1; fill:none\" points=\"\n",
       "  145.898,1087.28 145.898,47.2441 \n",
       "  \"/>\n",
       "<polyline clip-path=\"url(#clip1000)\" style=\"stroke:#000000; stroke-width:4; stroke-opacity:1; fill:none\" points=\"\n",
       "  293.683,1087.28 293.683,1071.68 \n",
       "  \"/>\n",
       "<polyline clip-path=\"url(#clip1000)\" style=\"stroke:#000000; stroke-width:4; stroke-opacity:1; fill:none\" points=\"\n",
       "  479.061,1087.28 479.061,1071.68 \n",
       "  \"/>\n",
       "<polyline clip-path=\"url(#clip1000)\" style=\"stroke:#000000; stroke-width:4; stroke-opacity:1; fill:none\" points=\"\n",
       "  664.44,1087.28 664.44,1071.68 \n",
       "  \"/>\n",
       "<polyline clip-path=\"url(#clip1000)\" style=\"stroke:#000000; stroke-width:4; stroke-opacity:1; fill:none\" points=\"\n",
       "  849.818,1087.28 849.818,1071.68 \n",
       "  \"/>\n",
       "<polyline clip-path=\"url(#clip1000)\" style=\"stroke:#000000; stroke-width:4; stroke-opacity:1; fill:none\" points=\"\n",
       "  1035.2,1087.28 1035.2,1071.68 \n",
       "  \"/>\n",
       "<polyline clip-path=\"url(#clip1000)\" style=\"stroke:#000000; stroke-width:4; stroke-opacity:1; fill:none\" points=\"\n",
       "  1220.57,1087.28 1220.57,1071.68 \n",
       "  \"/>\n",
       "<polyline clip-path=\"url(#clip1000)\" style=\"stroke:#000000; stroke-width:4; stroke-opacity:1; fill:none\" points=\"\n",
       "  1405.95,1087.28 1405.95,1071.68 \n",
       "  \"/>\n",
       "<polyline clip-path=\"url(#clip1000)\" style=\"stroke:#000000; stroke-width:4; stroke-opacity:1; fill:none\" points=\"\n",
       "  145.898,900.61 167.001,900.61 \n",
       "  \"/>\n",
       "<polyline clip-path=\"url(#clip1000)\" style=\"stroke:#000000; stroke-width:4; stroke-opacity:1; fill:none\" points=\"\n",
       "  145.898,664.741 167.001,664.741 \n",
       "  \"/>\n",
       "<polyline clip-path=\"url(#clip1000)\" style=\"stroke:#000000; stroke-width:4; stroke-opacity:1; fill:none\" points=\"\n",
       "  145.898,428.872 167.001,428.872 \n",
       "  \"/>\n",
       "<polyline clip-path=\"url(#clip1000)\" style=\"stroke:#000000; stroke-width:4; stroke-opacity:1; fill:none\" points=\"\n",
       "  145.898,193.003 167.001,193.003 \n",
       "  \"/>\n",
       "<g clip-path=\"url(#clip1000)\">\n",
       "<text style=\"fill:#000000; fill-opacity:1; font-family:Arial,Helvetica Neue,Helvetica,sans-serif; font-size:48px; text-anchor:middle;\" transform=\"rotate(0, 293.683, 1137.28)\" x=\"293.683\" y=\"1137.28\">-0.75</text>\n",
       "</g>\n",
       "<g clip-path=\"url(#clip1000)\">\n",
       "<text style=\"fill:#000000; fill-opacity:1; font-family:Arial,Helvetica Neue,Helvetica,sans-serif; font-size:48px; text-anchor:middle;\" transform=\"rotate(0, 479.061, 1137.28)\" x=\"479.061\" y=\"1137.28\">-0.50</text>\n",
       "</g>\n",
       "<g clip-path=\"url(#clip1000)\">\n",
       "<text style=\"fill:#000000; fill-opacity:1; font-family:Arial,Helvetica Neue,Helvetica,sans-serif; font-size:48px; text-anchor:middle;\" transform=\"rotate(0, 664.44, 1137.28)\" x=\"664.44\" y=\"1137.28\">-0.25</text>\n",
       "</g>\n",
       "<g clip-path=\"url(#clip1000)\">\n",
       "<text style=\"fill:#000000; fill-opacity:1; font-family:Arial,Helvetica Neue,Helvetica,sans-serif; font-size:48px; text-anchor:middle;\" transform=\"rotate(0, 849.818, 1137.28)\" x=\"849.818\" y=\"1137.28\">0.00</text>\n",
       "</g>\n",
       "<g clip-path=\"url(#clip1000)\">\n",
       "<text style=\"fill:#000000; fill-opacity:1; font-family:Arial,Helvetica Neue,Helvetica,sans-serif; font-size:48px; text-anchor:middle;\" transform=\"rotate(0, 1035.2, 1137.28)\" x=\"1035.2\" y=\"1137.28\">0.25</text>\n",
       "</g>\n",
       "<g clip-path=\"url(#clip1000)\">\n",
       "<text style=\"fill:#000000; fill-opacity:1; font-family:Arial,Helvetica Neue,Helvetica,sans-serif; font-size:48px; text-anchor:middle;\" transform=\"rotate(0, 1220.57, 1137.28)\" x=\"1220.57\" y=\"1137.28\">0.50</text>\n",
       "</g>\n",
       "<g clip-path=\"url(#clip1000)\">\n",
       "<text style=\"fill:#000000; fill-opacity:1; font-family:Arial,Helvetica Neue,Helvetica,sans-serif; font-size:48px; text-anchor:middle;\" transform=\"rotate(0, 1405.95, 1137.28)\" x=\"1405.95\" y=\"1137.28\">0.75</text>\n",
       "</g>\n",
       "<g clip-path=\"url(#clip1000)\">\n",
       "<text style=\"fill:#000000; fill-opacity:1; font-family:Arial,Helvetica Neue,Helvetica,sans-serif; font-size:48px; text-anchor:end;\" transform=\"rotate(0, 129.898, 918.11)\" x=\"129.898\" y=\"918.11\">1.2</text>\n",
       "</g>\n",
       "<g clip-path=\"url(#clip1000)\">\n",
       "<text style=\"fill:#000000; fill-opacity:1; font-family:Arial,Helvetica Neue,Helvetica,sans-serif; font-size:48px; text-anchor:end;\" transform=\"rotate(0, 129.898, 682.241)\" x=\"129.898\" y=\"682.241\">1.5</text>\n",
       "</g>\n",
       "<g clip-path=\"url(#clip1000)\">\n",
       "<text style=\"fill:#000000; fill-opacity:1; font-family:Arial,Helvetica Neue,Helvetica,sans-serif; font-size:48px; text-anchor:end;\" transform=\"rotate(0, 129.898, 446.372)\" x=\"129.898\" y=\"446.372\">1.8</text>\n",
       "</g>\n",
       "<g clip-path=\"url(#clip1000)\">\n",
       "<text style=\"fill:#000000; fill-opacity:1; font-family:Arial,Helvetica Neue,Helvetica,sans-serif; font-size:48px; text-anchor:end;\" transform=\"rotate(0, 129.898, 210.503)\" x=\"129.898\" y=\"210.503\">2.1</text>\n",
       "</g>\n",
       "<polyline clip-path=\"url(#clip1002)\" style=\"stroke:#009af9; stroke-width:4; stroke-opacity:1; fill:none\" points=\"\n",
       "  185.715,76.6792 188.973,110.735 192.232,142.74 195.491,172.891 203.023,236.376 210.556,292.513 218.089,342.588 225.622,387.592 233.155,428.304 240.687,465.345 \n",
       "  248.22,499.218 255.753,530.332 270.818,585.589 285.884,633.229 300.95,674.773 316.015,711.345 334.123,749.914 352.23,783.645 370.338,813.382 388.445,839.775 \n",
       "  419.065,878.162 449.684,910.221 482.945,939.363 516.206,963.724 546.87,982.685 577.534,998.806 643.284,1025.46 719.462,1045.42 787.16,1055.03 846.524,1057.85 \n",
       "  911.248,1055.14 976.356,1046.15 1048.34,1028.07 1116.83,1001.32 1152.44,982.869 1188.05,960.591 1218.02,938.293 1248,912.083 1284.59,873.512 1321.19,825.581 \n",
       "  1338.39,798.905 1355.59,768.938 1372.79,735.05 1389.99,696.427 1403.77,661.361 1417.55,621.853 1431.33,576.966 1445.1,525.461 1458.88,465.657 1472.66,395.205 \n",
       "  1479.55,354.98 1486.44,310.705 1493.33,261.676 1500.22,207.01 1504.46,170.077 1508.7,130.259 1512.94,87.1716 \n",
       "  \"/>\n",
       "<polygon clip-path=\"url(#clip1000)\" points=\"\n",
       "1293.93,203.724 1504.76,203.724 1504.76,82.7641 1293.93,82.7641 \n",
       "  \" fill=\"#ffffff\" fill-rule=\"evenodd\" fill-opacity=\"1\"/>\n",
       "<polyline clip-path=\"url(#clip1000)\" style=\"stroke:#000000; stroke-width:4; stroke-opacity:1; fill:none\" points=\"\n",
       "  1293.93,203.724 1504.76,203.724 1504.76,82.7641 1293.93,82.7641 1293.93,203.724 \n",
       "  \"/>\n",
       "<polyline clip-path=\"url(#clip1000)\" style=\"stroke:#009af9; stroke-width:4; stroke-opacity:1; fill:none\" points=\"\n",
       "  1309.93,143.244 1405.93,143.244 \n",
       "  \"/>\n",
       "<g clip-path=\"url(#clip1000)\">\n",
       "<text style=\"fill:#000000; fill-opacity:1; font-family:Arial,Helvetica Neue,Helvetica,sans-serif; font-size:48px; text-anchor:start;\" transform=\"rotate(0, 1421.93, 160.744)\" x=\"1421.93\" y=\"160.744\">y1</text>\n",
       "</g>\n",
       "</svg>\n"
      ]
     },
     "execution_count": 60,
     "metadata": {},
     "output_type": "execute_result"
    }
   ],
   "source": [
    "plot(f, -0.9, 0.9)"
   ]
  },
  {
   "cell_type": "code",
   "execution_count": 61,
   "metadata": {},
   "outputs": [
    {
     "data": {
      "text/plain": [
       "7071.067813726424"
      ]
     },
     "execution_count": 61,
     "metadata": {},
     "output_type": "execute_result"
    }
   ],
   "source": [
    "f(1.0 - 1e-8)"
   ]
  },
  {
   "cell_type": "code",
   "execution_count": 62,
   "metadata": {},
   "outputs": [],
   "source": [
    "a = 1e-11\n",
    "simpson_composto(f, -1+a, 1-a, n=8000000000)"
   ]
  },
  {
   "cell_type": "code",
   "execution_count": 63,
   "metadata": {},
   "outputs": [
    {
     "data": {
      "text/plain": [
       "ponto_medio (generic function with 1 method)"
      ]
     },
     "execution_count": 63,
     "metadata": {},
     "output_type": "execute_result"
    }
   ],
   "source": [
    "function ponto_medio(f, a, b; n=100)\n",
    "    # Implemente\n",
    "end"
   ]
  },
  {
   "cell_type": "code",
   "execution_count": 64,
   "metadata": {},
   "outputs": [
    {
     "ename": "MethodError",
     "evalue": "MethodError: no method matching -(::Nothing, ::Float64)\nClosest candidates are:\n  -(!Matched::Float64, ::Float64) at float.jl:397\n  -(!Matched::Complex{Bool}, ::Real) at complex.jl:298\n  -(!Matched::Missing, ::Number) at missing.jl:97\n  ...",
     "output_type": "error",
     "traceback": [
      "MethodError: no method matching -(::Nothing, ::Float64)\nClosest candidates are:\n  -(!Matched::Float64, ::Float64) at float.jl:397\n  -(!Matched::Complex{Bool}, ::Real) at complex.jl:298\n  -(!Matched::Missing, ::Number) at missing.jl:97\n  ...",
      "",
      "Stacktrace:",
      " [1] top-level scope at In[64]:1"
     ]
    }
   ],
   "source": [
    "ponto_medio(exp, 0, 1, n=1000) - (exp(1) - 1)"
   ]
  },
  {
   "cell_type": "code",
   "execution_count": 65,
   "metadata": {},
   "outputs": [
    {
     "ename": "MethodError",
     "evalue": "MethodError: no method matching -(::Nothing, ::Irrational{:π})\nClosest candidates are:\n  -(!Matched::Complex{Bool}, ::Real) at complex.jl:298\n  -(!Matched::Missing, ::Number) at missing.jl:97\n  -(!Matched::Complex, ::Real) at complex.jl:310\n  ...",
     "output_type": "error",
     "traceback": [
      "MethodError: no method matching -(::Nothing, ::Irrational{:π})\nClosest candidates are:\n  -(!Matched::Complex{Bool}, ::Real) at complex.jl:298\n  -(!Matched::Missing, ::Number) at missing.jl:97\n  -(!Matched::Complex, ::Real) at complex.jl:310\n  ...",
      "",
      "Stacktrace:",
      " [1] top-level scope at In[65]:1"
     ]
    }
   ],
   "source": [
    "ponto_medio(f, -1, 1, n=1000000000) - pi"
   ]
  },
  {
   "cell_type": "code",
   "execution_count": 66,
   "metadata": {},
   "outputs": [],
   "source": [
    "ponto_medio(x -> x * log(x), 0, 1, n=100000)"
   ]
  },
  {
   "cell_type": "code",
   "execution_count": 67,
   "metadata": {},
   "outputs": [
    {
     "data": {
      "image/svg+xml": [
       "<?xml version=\"1.0\" encoding=\"utf-8\"?>\n",
       "<svg xmlns=\"http://www.w3.org/2000/svg\" xmlns:xlink=\"http://www.w3.org/1999/xlink\" width=\"400\" height=\"300\" viewBox=\"0 0 1600 1200\">\n",
       "<defs>\n",
       "  <clipPath id=\"clip1400\">\n",
       "    <rect x=\"0\" y=\"0\" width=\"1600\" height=\"1200\"/>\n",
       "  </clipPath>\n",
       "</defs>\n",
       "<polygon clip-path=\"url(#clip1400)\" points=\"\n",
       "0,1200 1600,1200 1600,0 0,0 \n",
       "  \" fill=\"#ffffff\" fill-rule=\"evenodd\" fill-opacity=\"1\"/>\n",
       "<defs>\n",
       "  <clipPath id=\"clip1401\">\n",
       "    <rect x=\"320\" y=\"0\" width=\"1121\" height=\"1121\"/>\n",
       "  </clipPath>\n",
       "</defs>\n",
       "<polygon clip-path=\"url(#clip1400)\" points=\"\n",
       "174.008,1087.28 1552.76,1087.28 1552.76,47.2441 174.008,47.2441 \n",
       "  \" fill=\"#ffffff\" fill-rule=\"evenodd\" fill-opacity=\"1\"/>\n",
       "<defs>\n",
       "  <clipPath id=\"clip1402\">\n",
       "    <rect x=\"174\" y=\"47\" width=\"1380\" height=\"1041\"/>\n",
       "  </clipPath>\n",
       "</defs>\n",
       "<polyline clip-path=\"url(#clip1402)\" style=\"stroke:#000000; stroke-width:2; stroke-opacity:0.1; fill:none\" points=\"\n",
       "  333.096,1087.28 333.096,47.2441 \n",
       "  \"/>\n",
       "<polyline clip-path=\"url(#clip1402)\" style=\"stroke:#000000; stroke-width:2; stroke-opacity:0.1; fill:none\" points=\"\n",
       "  599.218,1087.28 599.218,47.2441 \n",
       "  \"/>\n",
       "<polyline clip-path=\"url(#clip1402)\" style=\"stroke:#000000; stroke-width:2; stroke-opacity:0.1; fill:none\" points=\"\n",
       "  865.34,1087.28 865.34,47.2441 \n",
       "  \"/>\n",
       "<polyline clip-path=\"url(#clip1402)\" style=\"stroke:#000000; stroke-width:2; stroke-opacity:0.1; fill:none\" points=\"\n",
       "  1131.46,1087.28 1131.46,47.2441 \n",
       "  \"/>\n",
       "<polyline clip-path=\"url(#clip1402)\" style=\"stroke:#000000; stroke-width:2; stroke-opacity:0.1; fill:none\" points=\"\n",
       "  1397.58,1087.28 1397.58,47.2441 \n",
       "  \"/>\n",
       "<polyline clip-path=\"url(#clip1402)\" style=\"stroke:#000000; stroke-width:2; stroke-opacity:0.1; fill:none\" points=\"\n",
       "  174.008,1057.85 1552.76,1057.85 \n",
       "  \"/>\n",
       "<polyline clip-path=\"url(#clip1402)\" style=\"stroke:#000000; stroke-width:2; stroke-opacity:0.1; fill:none\" points=\"\n",
       "  174.008,812.556 1552.76,812.556 \n",
       "  \"/>\n",
       "<polyline clip-path=\"url(#clip1402)\" style=\"stroke:#000000; stroke-width:2; stroke-opacity:0.1; fill:none\" points=\"\n",
       "  174.008,567.264 1552.76,567.264 \n",
       "  \"/>\n",
       "<polyline clip-path=\"url(#clip1402)\" style=\"stroke:#000000; stroke-width:2; stroke-opacity:0.1; fill:none\" points=\"\n",
       "  174.008,321.971 1552.76,321.971 \n",
       "  \"/>\n",
       "<polyline clip-path=\"url(#clip1402)\" style=\"stroke:#000000; stroke-width:2; stroke-opacity:0.1; fill:none\" points=\"\n",
       "  174.008,76.6792 1552.76,76.6792 \n",
       "  \"/>\n",
       "<polyline clip-path=\"url(#clip1400)\" style=\"stroke:#000000; stroke-width:4; stroke-opacity:1; fill:none\" points=\"\n",
       "  174.008,1087.28 1552.76,1087.28 \n",
       "  \"/>\n",
       "<polyline clip-path=\"url(#clip1400)\" style=\"stroke:#000000; stroke-width:4; stroke-opacity:1; fill:none\" points=\"\n",
       "  174.008,1087.28 174.008,47.2441 \n",
       "  \"/>\n",
       "<polyline clip-path=\"url(#clip1400)\" style=\"stroke:#000000; stroke-width:4; stroke-opacity:1; fill:none\" points=\"\n",
       "  333.096,1087.28 333.096,1071.68 \n",
       "  \"/>\n",
       "<polyline clip-path=\"url(#clip1400)\" style=\"stroke:#000000; stroke-width:4; stroke-opacity:1; fill:none\" points=\"\n",
       "  599.218,1087.28 599.218,1071.68 \n",
       "  \"/>\n",
       "<polyline clip-path=\"url(#clip1400)\" style=\"stroke:#000000; stroke-width:4; stroke-opacity:1; fill:none\" points=\"\n",
       "  865.34,1087.28 865.34,1071.68 \n",
       "  \"/>\n",
       "<polyline clip-path=\"url(#clip1400)\" style=\"stroke:#000000; stroke-width:4; stroke-opacity:1; fill:none\" points=\"\n",
       "  1131.46,1087.28 1131.46,1071.68 \n",
       "  \"/>\n",
       "<polyline clip-path=\"url(#clip1400)\" style=\"stroke:#000000; stroke-width:4; stroke-opacity:1; fill:none\" points=\"\n",
       "  1397.58,1087.28 1397.58,1071.68 \n",
       "  \"/>\n",
       "<polyline clip-path=\"url(#clip1400)\" style=\"stroke:#000000; stroke-width:4; stroke-opacity:1; fill:none\" points=\"\n",
       "  174.008,1057.85 194.689,1057.85 \n",
       "  \"/>\n",
       "<polyline clip-path=\"url(#clip1400)\" style=\"stroke:#000000; stroke-width:4; stroke-opacity:1; fill:none\" points=\"\n",
       "  174.008,812.556 194.689,812.556 \n",
       "  \"/>\n",
       "<polyline clip-path=\"url(#clip1400)\" style=\"stroke:#000000; stroke-width:4; stroke-opacity:1; fill:none\" points=\"\n",
       "  174.008,567.264 194.689,567.264 \n",
       "  \"/>\n",
       "<polyline clip-path=\"url(#clip1400)\" style=\"stroke:#000000; stroke-width:4; stroke-opacity:1; fill:none\" points=\"\n",
       "  174.008,321.971 194.689,321.971 \n",
       "  \"/>\n",
       "<polyline clip-path=\"url(#clip1400)\" style=\"stroke:#000000; stroke-width:4; stroke-opacity:1; fill:none\" points=\"\n",
       "  174.008,76.6792 194.689,76.6792 \n",
       "  \"/>\n",
       "<g clip-path=\"url(#clip1400)\">\n",
       "<text style=\"fill:#000000; fill-opacity:1; font-family:Arial,Helvetica Neue,Helvetica,sans-serif; font-size:48px; text-anchor:middle;\" transform=\"rotate(0, 333.096, 1137.28)\" x=\"333.096\" y=\"1137.28\">-4</text>\n",
       "</g>\n",
       "<g clip-path=\"url(#clip1400)\">\n",
       "<text style=\"fill:#000000; fill-opacity:1; font-family:Arial,Helvetica Neue,Helvetica,sans-serif; font-size:48px; text-anchor:middle;\" transform=\"rotate(0, 599.218, 1137.28)\" x=\"599.218\" y=\"1137.28\">-2</text>\n",
       "</g>\n",
       "<g clip-path=\"url(#clip1400)\">\n",
       "<text style=\"fill:#000000; fill-opacity:1; font-family:Arial,Helvetica Neue,Helvetica,sans-serif; font-size:48px; text-anchor:middle;\" transform=\"rotate(0, 865.34, 1137.28)\" x=\"865.34\" y=\"1137.28\">0</text>\n",
       "</g>\n",
       "<g clip-path=\"url(#clip1400)\">\n",
       "<text style=\"fill:#000000; fill-opacity:1; font-family:Arial,Helvetica Neue,Helvetica,sans-serif; font-size:48px; text-anchor:middle;\" transform=\"rotate(0, 1131.46, 1137.28)\" x=\"1131.46\" y=\"1137.28\">2</text>\n",
       "</g>\n",
       "<g clip-path=\"url(#clip1400)\">\n",
       "<text style=\"fill:#000000; fill-opacity:1; font-family:Arial,Helvetica Neue,Helvetica,sans-serif; font-size:48px; text-anchor:middle;\" transform=\"rotate(0, 1397.58, 1137.28)\" x=\"1397.58\" y=\"1137.28\">4</text>\n",
       "</g>\n",
       "<g clip-path=\"url(#clip1400)\">\n",
       "<text style=\"fill:#000000; fill-opacity:1; font-family:Arial,Helvetica Neue,Helvetica,sans-serif; font-size:48px; text-anchor:end;\" transform=\"rotate(0, 158.008, 1075.35)\" x=\"158.008\" y=\"1075.35\">-1.0</text>\n",
       "</g>\n",
       "<g clip-path=\"url(#clip1400)\">\n",
       "<text style=\"fill:#000000; fill-opacity:1; font-family:Arial,Helvetica Neue,Helvetica,sans-serif; font-size:48px; text-anchor:end;\" transform=\"rotate(0, 158.008, 830.056)\" x=\"158.008\" y=\"830.056\">-0.5</text>\n",
       "</g>\n",
       "<g clip-path=\"url(#clip1400)\">\n",
       "<text style=\"fill:#000000; fill-opacity:1; font-family:Arial,Helvetica Neue,Helvetica,sans-serif; font-size:48px; text-anchor:end;\" transform=\"rotate(0, 158.008, 584.764)\" x=\"158.008\" y=\"584.764\">0.0</text>\n",
       "</g>\n",
       "<g clip-path=\"url(#clip1400)\">\n",
       "<text style=\"fill:#000000; fill-opacity:1; font-family:Arial,Helvetica Neue,Helvetica,sans-serif; font-size:48px; text-anchor:end;\" transform=\"rotate(0, 158.008, 339.471)\" x=\"158.008\" y=\"339.471\">0.5</text>\n",
       "</g>\n",
       "<g clip-path=\"url(#clip1400)\">\n",
       "<text style=\"fill:#000000; fill-opacity:1; font-family:Arial,Helvetica Neue,Helvetica,sans-serif; font-size:48px; text-anchor:end;\" transform=\"rotate(0, 158.008, 94.1792)\" x=\"158.008\" y=\"94.1792\">1.0</text>\n",
       "</g>\n",
       "<polyline clip-path=\"url(#clip1402)\" style=\"stroke:#009af9; stroke-width:4; stroke-opacity:1; fill:none\" points=\"\n",
       "  213.029,1057.85 333.182,1057.85 405.389,1057.85 466.439,1057.85 532.757,1057.85 593.895,1057.84 626.669,1057.75 659.443,1057 678.428,1055.46 697.414,1051.93 \n",
       "  716.4,1044.69 735.386,1031.23 752.258,1011.45 769.13,981.659 777.566,962.239 786.003,939.456 794.439,913.125 802.875,883.147 817.67,821.838 832.466,750.312 \n",
       "  847.261,670.713 862.057,586.272 878.188,493.311 894.319,404.507 910.45,324.38 926.581,256.037 934.694,226.626 942.808,200.597 950.921,177.878 959.035,158.321 \n",
       "  975.262,127.818 991.488,107.015 1009.43,92.566 1027.37,84.3489 1045.31,80.0556 1063.25,78.0167 1097.39,76.8409 1131.53,76.6901 1202.53,76.6792 1262.29,76.6792 \n",
       "  1335.26,76.6792 1403.85,76.6792 1513.73,76.6792 \n",
       "  \"/>\n",
       "<polygon clip-path=\"url(#clip1400)\" points=\"\n",
       "1293.93,203.724 1504.76,203.724 1504.76,82.7641 1293.93,82.7641 \n",
       "  \" fill=\"#ffffff\" fill-rule=\"evenodd\" fill-opacity=\"1\"/>\n",
       "<polyline clip-path=\"url(#clip1400)\" style=\"stroke:#000000; stroke-width:4; stroke-opacity:1; fill:none\" points=\"\n",
       "  1293.93,203.724 1504.76,203.724 1504.76,82.7641 1293.93,82.7641 1293.93,203.724 \n",
       "  \"/>\n",
       "<polyline clip-path=\"url(#clip1400)\" style=\"stroke:#009af9; stroke-width:4; stroke-opacity:1; fill:none\" points=\"\n",
       "  1309.93,143.244 1405.93,143.244 \n",
       "  \"/>\n",
       "<g clip-path=\"url(#clip1400)\">\n",
       "<text style=\"fill:#000000; fill-opacity:1; font-family:Arial,Helvetica Neue,Helvetica,sans-serif; font-size:48px; text-anchor:start;\" transform=\"rotate(0, 1421.93, 160.744)\" x=\"1421.93\" y=\"160.744\">y1</text>\n",
       "</g>\n",
       "</svg>\n"
      ]
     },
     "execution_count": 67,
     "metadata": {},
     "output_type": "execute_result"
    }
   ],
   "source": [
    "x(t) = tanh(pi * sinh(t) / 2)\n",
    "plot(x, -5, 5)"
   ]
  },
  {
   "cell_type": "markdown",
   "metadata": {},
   "source": [
    "# Quadratura Gaussiana"
   ]
  },
  {
   "cell_type": "markdown",
   "metadata": {},
   "source": [
    "A ideia da quadratura Gaussiana é obter a propriedade de integrar exatamente polinômios do maior grau possível.\n",
    "\n",
    "$$ \\int_{-1}^1 g(t) \\text{d}t \\approx \\sum_{i=1}^m A_i g(t_i). $$"
   ]
  },
  {
   "cell_type": "markdown",
   "metadata": {},
   "source": [
    "### m = 1\n",
    "\n",
    "- $g(t) = 1$ implica em $\\int_{-1}^1\\text{d}t = 2 = A_1$\n",
    "- $g(t) = t$ implica em $\\int_{-1}^1\\text{d}t = 0 = A_1 t_1$\n",
    "\n",
    "Os únicos valores que satisfazem essas condições são $A_1 = 2$ e $t_1 = 0$, isto é\n",
    "$$ \\int_{-1}^1 g(t)\\text{d}t \\approx 2g(0). $$"
   ]
  },
  {
   "cell_type": "markdown",
   "metadata": {},
   "source": [
    "### m = 2\n",
    "\n",
    "- $g(t) = 1$ implica em $\\int_{-1}^1\\text{d}t = 2 = A_1 + A_2$\n",
    "- $g(t) = t$ implica em $\\int_{-1}^1\\text{d}t = 0 = A_1 t_1 + A_2 t_2$\n",
    "- $g(t) = t^2$ implica em $\\int_{-1}^1\\text{d}t = 0 = A_1 t_1^2 + A_2 t_2^2$\n",
    "- $g(t) = t^3$ implica em $\\int_{-1}^1\\text{d}t = 0 = A_1 t_1^3 + A_3 t_2^3$\n",
    "\n",
    "Os únicos valores que satisfazem essas condições são $A_1 = A_2 = 1$ e $t_1 = -\\sqrt{3}/3 = -t_2$, isto é\n",
    "$$ \\int_{-1}^1 g(t)\\text{d}t \\approx g\\bigg(-\\frac{\\sqrt{3}}{3}\\bigg) + g\\bigg(\\frac{\\sqrt{3}}{3}\\bigg). $$"
   ]
  },
  {
   "cell_type": "markdown",
   "metadata": {},
   "source": [
    "Note que as integrais acima são de $-1$ a $1$. Para obter o resultado de uma integral de $a$ a $b$ fazemos a mudança de variáveis $x = \\dfrac{a+b}{2} + \\dfrac{b-a}{2}t$.\n",
    "\n",
    "$$ \\int_a^b f(x) \\text{d}x =\n",
    "\\int_{-1}^1 f(x(t)) \\frac{b-a}{2}\\text{d}t\n",
    "\\approx \\frac{b-a}{2}\\sum_{i=1}^m A_i f(x(t_i)). $$"
   ]
  },
  {
   "cell_type": "markdown",
   "metadata": {},
   "source": [
    "No caso $m = 1$, note que a integral vira a integral do ponto médio."
   ]
  },
  {
   "cell_type": "code",
   "execution_count": 68,
   "metadata": {},
   "outputs": [
    {
     "data": {
      "text/plain": [
       "2.3426960879097307"
      ]
     },
     "execution_count": 68,
     "metadata": {},
     "output_type": "execute_result"
    }
   ],
   "source": [
    "r = sqrt(3) / 3\n",
    "QG2 = exp(-r) + exp(r)"
   ]
  },
  {
   "cell_type": "code",
   "execution_count": 69,
   "metadata": {},
   "outputs": [
    {
     "data": {
      "text/plain": [
       "2.3504023872876028"
      ]
     },
     "execution_count": 69,
     "metadata": {},
     "output_type": "execute_result"
    }
   ],
   "source": [
    "exato = exp(1) - exp(-1)"
   ]
  },
  {
   "cell_type": "code",
   "execution_count": 70,
   "metadata": {},
   "outputs": [
    {
     "data": {
      "text/plain": [
       "0.007706299377872039"
      ]
     },
     "execution_count": 70,
     "metadata": {},
     "output_type": "execute_result"
    }
   ],
   "source": [
    "erro_abs = abs(exato - QG2)"
   ]
  },
  {
   "cell_type": "code",
   "execution_count": 71,
   "metadata": {},
   "outputs": [
    {
     "data": {
      "text/plain": [
       "0.003278714921135362"
      ]
     },
     "execution_count": 71,
     "metadata": {},
     "output_type": "execute_result"
    }
   ],
   "source": [
    "erro_rel = erro_abs / abs(exato)"
   ]
  },
  {
   "cell_type": "markdown",
   "metadata": {},
   "source": [
    "## Exercícios\n",
    "\n",
    "Exercícios do capítulo 7 do livro Cálculo Numérico de Ruggiero e Lopes."
   ]
  },
  {
   "cell_type": "markdown",
   "metadata": {},
   "source": [
    "$\\newcommand{\\intdefx}[3]{\\int_{#1}^{#2}\\! {#3}\\mbox{d}x}$\n",
    "\n",
    "1. Calcule aproximações para as seguintes integrais, usando os métodos do ponto\n",
    "   médio, do trapézio e de Simpson repetidos. Faça com três números de\n",
    "   intervalos diferentes e compare os resultados.\n",
    "\n",
    "  - $\\displaystyle \\intdefx{0}{1}{eˣ}$\n",
    "  - $\\displaystyle \\intdefx{0}{1}{1}$\n",
    "  - $\\displaystyle \\intdefx{0}{1}{x}$\n",
    "  - $\\displaystyle \\intdefx{0}{1}{x^2}$\n",
    "  - $\\displaystyle \\intdefx{0}{1}{x^3}$\n",
    "  - $\\displaystyle \\intdefx{1}{e}{\\log x}$\n",
    "  - $\\displaystyle \\intdefx{-10}{10}{\\dfrac{1}{x^2+1}}$\n",
    "  - $\\displaystyle \\intdefx{-\\pi}{\\pi}{\\sin x}$\n",
    "\n",
    "2. Para cada integral acima, calcule quantos pontos são necessários para se obter um erro menor que $10^{-6}.\n",
    "\n",
    "3. Considere a função $f$ contínua no intervalo $[a,b]$,\n",
    "e a função $p$ dada por\n",
    "$$ p(x) = f(a) + \\alpha (x-a) + \\beta (x - a)(x - c), $$\n",
    "onde $c = \\dfrac{a+b}{2}$ é o ponto médio do intervalo $[a,b]$,\n",
    "$\\alpha = \\dfrac{f(c) - f(a)}{h}$, e\n",
    "$\\beta = \\dfrac{f(b) - 2f(c) + f(a)}{2h^2}$, com\n",
    "$h = c - a = b - c$.\n",
    "\n",
    "  - Mostre que $p$ passa nos pontos $(a,f(a))$, $(b,f(b))$ e $(c,f(c))$.\n",
    "  - Calcule a integral de $p$ de $[a,b]$ e interprete o resultado."
   ]
  }
 ],
 "metadata": {
  "@webio": {
   "lastCommId": "12f91d1fac9e4f3f96877dd04e7b5689",
   "lastKernelId": "48265fca-0f4b-4611-98c9-d5cdcaedee61"
  },
  "kernelspec": {
   "display_name": "Julia 1.1.1",
   "language": "julia",
   "name": "julia-1.1"
  },
  "language_info": {
   "file_extension": ".jl",
   "mimetype": "application/julia",
   "name": "julia",
   "version": "1.1.1"
  }
 },
 "nbformat": 4,
 "nbformat_minor": 1
}
