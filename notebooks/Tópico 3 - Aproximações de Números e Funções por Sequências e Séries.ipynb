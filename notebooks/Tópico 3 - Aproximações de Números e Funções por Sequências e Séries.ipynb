{
 "cells": [
  {
   "cell_type": "markdown",
   "metadata": {},
   "source": [
    "# Aproximações de Números e Funções por Sequências e Séries"
   ]
  },
  {
   "cell_type": "markdown",
   "metadata": {},
   "source": [
    "Os objetivos desta lição são\n",
    "\n",
    "- Identificar como lidar com sequências e séries em programação;\n",
    "- Entender que elementos anteriores da sequência são substituídos;\n",
    "- Tentar gastar o mínimo de elementos e variáveis (mantendo a clareza);\n",
    "- Tomar cuidado com overflow e underflow;\n",
    "- Relembrar/treinar a programação."
   ]
  },
  {
   "cell_type": "markdown",
   "metadata": {},
   "source": [
    "## Sequências\n",
    "\n",
    "Uma sequência em matemática é um conjunto de valores ordenados:\n",
    "$$ (a_1, a_2, a_3, \\dots, a_n, \\dots) $$"
   ]
  },
  {
   "cell_type": "markdown",
   "metadata": {},
   "source": [
    "O índice $1$ usado no primeiro elemento é arbitrário, e serve para normalizar essa ordem.\n",
    "Em alguns casos é mais interessante começar com o índice $0$."
   ]
  },
  {
   "cell_type": "markdown",
   "metadata": {},
   "source": [
    "Matematicamente, costumamos estar interessados na convergência dessa sequência. No entanto, podemos utilizar uma sequência por outros motivos. Computacionalmente, estamos interessados em **como obter os elementos de uma sequência, quando necessário.**"
   ]
  },
  {
   "cell_type": "markdown",
   "metadata": {},
   "source": [
    "É importante ressaltar aqui a importância da frase **quando necessário**, pois como veremos a seguir, não é do nosso interesse calcular todos esses valores ao mesmo tempo, e quase sempre também não seria possível."
   ]
  },
  {
   "cell_type": "markdown",
   "metadata": {},
   "source": [
    "### Exemplo 1\n",
    "\n",
    "Dado um objeto com aceleração constante de $10 m/s^2$ saindo do repouso, queremos calcular sua posição nos instantes\n",
    "$t = 0, 0.1, 0.2, 0.3, \\dots$.\n",
    "Note que temos uma sequência $t_n = (n-1)/10$, e queremos uma sequência $x_n$ das posições.\n",
    "\n",
    "Neste caso, porém, as leis de movimento nos dizem que\n",
    "$$ x(t) = x_0 + v_0 t + \\frac{1}{2}at^2, $$\n",
    "que em nosso caso se reduz a\n",
    "$$ x(t) = 5t^2. $$\n",
    "\n",
    "Em outras palavras, a sequência $x_n$ pode ser calculada diretamente dado $t_n$, e $t_n$ também tem uma fórmula geral dado $n$,\n",
    "$$ x_n = 5\\bigg(\\frac{n-1}{10}\\bigg)^2 = \\frac{(n-1)^2}{20}. $$\n",
    "Desse modo, não é necessário guardar nada em especial, pois $x_n$ pode ser calculado diretamente a partir de $n$."
   ]
  },
  {
   "cell_type": "markdown",
   "metadata": {},
   "source": [
    "### Exemplo 2\n",
    "\n",
    "Dado um número $x \\in \\mathbb{N}, x > 1$, queremos calcular a sequência de Collatz desse número.\n",
    "Em particular, queremos calcular qual o primeiro elemento que é $1$ (se houver).\n",
    "\n",
    "Aqui é importante ressaltar a conjectura de Collatz: Dado um número $a_1 \\in \\mathbb{N}$, e a fórmula recursiva\n",
    "$$ a_{n+1} = \\left\\{\\begin{array}{ll}\n",
    "    a_n/2, & \\mbox{se } a_n \\mbox{ é par}; \\\\\n",
    "    3a_n + 1, & \\mbox{se } a_n \\mbox{ é impar},\n",
    "\\end{array}\\right. $$\n",
    "sempre existe um elemento desta sequência tal que $a_n = 1$. A partir desse ponto a sequência perde a importância. Por exemplo, a sequência de Collatz de 3 é\n",
    "\n",
    "$$ 3 \\rightarrow 10 \\rightarrow 5 \\rightarrow 16 \\rightarrow 8 \\rightarrow 4 \\rightarrow 2 \\rightarrow 1 \\rightarrow 4 \\rightarrow 2 \\rightarrow 1 \\cdots $$"
   ]
  },
  {
   "cell_type": "markdown",
   "metadata": {},
   "source": [
    "Nessa sequência, é necessário saber quem é o ponto atual, e é impossível saber um elemento arbitrário da sequência em casos gerais. Dessa maneira é preciso calcular elemento a elemento."
   ]
  },
  {
   "cell_type": "markdown",
   "metadata": {},
   "source": [
    "Lembre-se que para verificar a paridade de um número, utilizamos `%`."
   ]
  },
  {
   "cell_type": "code",
   "execution_count": 1,
   "metadata": {},
   "outputs": [
    {
     "data": {
      "text/plain": [
       "1"
      ]
     },
     "execution_count": 1,
     "metadata": {},
     "output_type": "execute_result"
    }
   ],
   "source": [
    "15 % 2"
   ]
  },
  {
   "cell_type": "code",
   "execution_count": 2,
   "metadata": {},
   "outputs": [
    {
     "data": {
      "text/plain": [
       "0"
      ]
     },
     "execution_count": 2,
     "metadata": {},
     "output_type": "execute_result"
    }
   ],
   "source": [
    "14 % 2"
   ]
  },
  {
   "cell_type": "code",
   "execution_count": 3,
   "metadata": {},
   "outputs": [
    {
     "data": {
      "text/plain": [
       "false"
      ]
     },
     "execution_count": 3,
     "metadata": {},
     "output_type": "execute_result"
    }
   ],
   "source": [
    "15 % 2 == 0 # É par ?"
   ]
  },
  {
   "cell_type": "code",
   "execution_count": 4,
   "metadata": {},
   "outputs": [
    {
     "data": {
      "text/plain": [
       "true"
      ]
     },
     "execution_count": 4,
     "metadata": {},
     "output_type": "execute_result"
    }
   ],
   "source": [
    "14 % 2 == 0 # É par ?"
   ]
  },
  {
   "cell_type": "markdown",
   "metadata": {},
   "source": [
    "Lembre-se também que para dividir um número e mantê-lo inteiro, usamos `div`."
   ]
  },
  {
   "cell_type": "code",
   "execution_count": 5,
   "metadata": {},
   "outputs": [
    {
     "data": {
      "text/plain": [
       "7"
      ]
     },
     "execution_count": 5,
     "metadata": {},
     "output_type": "execute_result"
    }
   ],
   "source": [
    "div(15, 2)"
   ]
  },
  {
   "cell_type": "code",
   "execution_count": 6,
   "metadata": {},
   "outputs": [
    {
     "data": {
      "text/plain": [
       "7"
      ]
     },
     "execution_count": 6,
     "metadata": {},
     "output_type": "execute_result"
    }
   ],
   "source": [
    "div(14, 2)"
   ]
  },
  {
   "cell_type": "code",
   "execution_count": 7,
   "metadata": {},
   "outputs": [
    {
     "data": {
      "text/plain": [
       "7.0"
      ]
     },
     "execution_count": 7,
     "metadata": {},
     "output_type": "execute_result"
    }
   ],
   "source": [
    "14/2 # 7.0 e 7 são o mesmo valor, mas são diferentes em computação"
   ]
  },
  {
   "cell_type": "markdown",
   "metadata": {},
   "source": [
    "Um **erro** comum de alunos inexperientes nesse caso é **tentar numerar todos os elementos**."
   ]
  },
  {
   "cell_type": "code",
   "execution_count": 8,
   "metadata": {},
   "outputs": [
    {
     "data": {
      "text/plain": [
       "10"
      ]
     },
     "execution_count": 8,
     "metadata": {},
     "output_type": "execute_result"
    }
   ],
   "source": [
    "a1 = 3\n",
    "if a1 % 2 == 0\n",
    "    a2 = div(a1, 2)\n",
    "else\n",
    "    a2 = 3 * a1 + 1\n",
    "end"
   ]
  },
  {
   "cell_type": "code",
   "execution_count": 9,
   "metadata": {},
   "outputs": [
    {
     "data": {
      "text/plain": [
       "5"
      ]
     },
     "execution_count": 9,
     "metadata": {},
     "output_type": "execute_result"
    }
   ],
   "source": [
    "if a2 % 2 == 0\n",
    "    a3 = div(a2, 2)\n",
    "else\n",
    "    a3 = 3 * a2 + 1\n",
    "end"
   ]
  },
  {
   "cell_type": "markdown",
   "metadata": {},
   "source": [
    "Essa estratégia logo fica inviável. No entanto, note que precisamos apenas do valor atual da sequência, de maneira que podemos usar apenas uma mesma variável `a` que irá guardar sempre o valor mais atual."
   ]
  },
  {
   "cell_type": "code",
   "execution_count": 32,
   "metadata": {},
   "outputs": [
    {
     "data": {
      "text/plain": [
       "300"
      ]
     },
     "execution_count": 32,
     "metadata": {},
     "output_type": "execute_result"
    }
   ],
   "source": [
    "a = 300"
   ]
  },
  {
   "cell_type": "code",
   "execution_count": 57,
   "metadata": {},
   "outputs": [
    {
     "data": {
      "text/plain": [
       "1"
      ]
     },
     "execution_count": 57,
     "metadata": {},
     "output_type": "execute_result"
    }
   ],
   "source": [
    "# Bloco 1\n",
    "if a % 2 == 0\n",
    "    a = div(a, 2)\n",
    "else\n",
    "    a = 3 * a + 1\n",
    "end"
   ]
  },
  {
   "cell_type": "code",
   "execution_count": 12,
   "metadata": {},
   "outputs": [
    {
     "data": {
      "text/plain": [
       "10"
      ]
     },
     "execution_count": 12,
     "metadata": {},
     "output_type": "execute_result"
    }
   ],
   "source": [
    "a"
   ]
  },
  {
   "cell_type": "markdown",
   "metadata": {},
   "source": [
    "Rodando mais de uma vez o Bloco 1, fazemos uma nova iteração da sequência.\n",
    "Para deixar mais claro, vamos guardar também uma variável `n` que diz qual o índice da sequência."
   ]
  },
  {
   "cell_type": "code",
   "execution_count": 58,
   "metadata": {},
   "outputs": [
    {
     "data": {
      "text/plain": [
       "1"
      ]
     },
     "execution_count": 58,
     "metadata": {},
     "output_type": "execute_result"
    }
   ],
   "source": [
    "a = 3\n",
    "n = 1"
   ]
  },
  {
   "cell_type": "code",
   "execution_count": 65,
   "metadata": {},
   "outputs": [
    {
     "name": "stdout",
     "output_type": "stream",
     "text": [
      "a = 1, n = 8\n"
     ]
    }
   ],
   "source": [
    "# Bloco 2\n",
    "if a % 2 == 0\n",
    "    a = div(a, 2)\n",
    "else\n",
    "    a = 3 * a + 1\n",
    "end\n",
    "n = n + 1\n",
    "println(\"a = $a, n = $n\")"
   ]
  },
  {
   "cell_type": "markdown",
   "metadata": {},
   "source": [
    "Note que `n` também pode ser usado para responder a pergunta original: quando `a` for 1, teremos o `n` marcando o índice correspondente."
   ]
  },
  {
   "cell_type": "markdown",
   "metadata": {},
   "source": [
    "Isso nos leva a um conceito importante. Note que sequências contém infinitos elementos. No entanto, computacionalmente, não podemos fazer contas infinitas. Isso constitui um **loop infinito**. Códigos com loops infinitos são considerados **\"errados\"** (no sentido de não fazerem o que se espera), então devemos evitá-los.\n",
    "Portanto, o fato de percebermos que para resolver o problema, devemos fazer a conta do Bloco 2 até que `n` seja 1 é de extrema importância, pois isso evitará um loop infinito (dado que a conjectura de Collatz esteja correta)."
   ]
  },
  {
   "cell_type": "markdown",
   "metadata": {},
   "source": [
    "Com isso, podemos definir um termo formal para este conjunto de código com um objetivo específico:\n",
    "\n",
    "**Def. (Algoritmo):** Um algoritmo é uma coleção de instruções para realizar alguma tarefa específica. Segundo Knuth (The Art of Computer Programming, v.1), ele deve satisfazer as seguintes condições, parafraseadas aqui:\n",
    "- **Finitude:** O algoritmo deve acabar em tempo finito;\n",
    "- **Bem definido:** As intruções devem ser claras e sem ambiguidade;\n",
    "- **Entrada:** O algoritmo tem zero ou mais entradas, que são valores determinados antes do algoritmo começar. Essas entradas são especificados a partir de conjuntos de objetos;\n",
    "- **Saída:** O algoritmo tem uma ou mais saídas, que são quantidades relacionadas com as entradas;\n",
    "- **Eficácia/Computabilidade:** As operações feitas no algoritmo devem ser suficientemente básicas para que a princípio possam ser executadas por uma pessoa num espaço finito e tempo finito com papel e caneta."
   ]
  },
  {
   "cell_type": "markdown",
   "metadata": {},
   "source": [
    "Podemos fazer uma prévia do nosso algoritmo:"
   ]
  },
  {
   "cell_type": "code",
   "execution_count": 42,
   "metadata": {},
   "outputs": [],
   "source": [
    "#=\n",
    "1. Entrada: x\n",
    "2. Inicialização: a ← x, n ← 1.\n",
    "3. Enquanto a > 1\n",
    "    1. Se a é par,\n",
    "        faça a ← a/2\n",
    "    2. Caso contrário,\n",
    "        faça a ← 3a + 1.\n",
    "    3. Incremente n.\n",
    "4. Saída: n.\n",
    "=#"
   ]
  },
  {
   "cell_type": "markdown",
   "metadata": {},
   "source": [
    "Nosso algoritmo para encontrar o primeiro elemento está quase feito. A entrada, saída, e todos os passos estão claros. Todos os passos são triviamente feitos com papel e caneta.\n",
    "No entanto, temos alguns pequenos problemas:\n",
    "\n",
    "- **E se a conjectura for falsa?**\n",
    "Se a conjectura é verdadeira, o algoritmo para quando encontra `1`, que pela conjectura, existe. Mas se não existe, pode ser que tenhamos um loop infinito. Dessa maneira, iremos colocar uma **condição de parada** para a falha do algoritmo. Não existe uma regra para a condição de parada. Deve-se tomar cuidado, no entanto, para não excluir a possibilidade do algoritmo funcionar em muitos casos. Uma condição de parada possível neste caso é que `n` seja muito grande. Se, por exemplo, fizermos 1 milhão de iterações e não encontrarmos `a_n = 1`, então talvez ele não exista. Note que essa condição exclui algumas soluções de aparecerem, por exemplo\n",
    "$$ a_1 = 2^{1.000.000}. $$\n",
    "É fácil ver que $a_n = 2^{1.000.001 - n}$, de modo que para `n = 1.000.001` teremos $a_n = 1$.\n",
    "\n",
    "Muitas vezes a condições de parada de falha é um limitante físico para deixar o algoritmo tratável. É muito fácil escolher um número `x` tal que nosso algoritmo leve horas para convergir. Não é do nosso interesse esperar tanto para um algoritmo recreativo. Poderíamos colocar uma condição de tempo então. Qual condição escolher é um assunto complicado, que depende de muitos outros fatores além da disciplina.\n",
    "Em especial, a teoria matemática arredor do problema deve ser considerada. Imagine que a conjectura de Collatz é falsa, e que `x` é um valor finito tal que a sequência gerada com `a_1 = x` nunca decresça à `1`. *Como é possível verificar que `x` é um contra-exemplo para a conjectura?*"
   ]
  },
  {
   "cell_type": "markdown",
   "metadata": {},
   "source": [
    "- **O maior inteiro.**\n",
    "O computador é uma máquina física, com limitações impostas para que seja possível fazer contas determinísticas.\n",
    "Dessa maneira, ele segue regras para definir números inteiros e \"reais\" (as aspas serão explicadas depois), e essas regras limitam o maior inteiro que pode ser representado por um tipo específico de dado.\n",
    "Mais importante, esse valor é independente da linguagem. A saber, o tipo de inteiro básico do Julia é o `Int64`, de 64 bits, e cujo maior valor é $2^{63}-1 \\approx 10^{18}$. Coisas estranhas acontecem se fizermos qualquer conta com esse valor, de modo que é imperativo não ultrapassá-lo. Vamos colocar uma nova condição de parada no nosso código: se $a > 10^{17}$, também paramos."
   ]
  },
  {
   "cell_type": "code",
   "execution_count": 43,
   "metadata": {},
   "outputs": [],
   "source": [
    "#=\n",
    "1. Entrada: x ∈ N\n",
    "2. Inicialização: a ← x, n ← 1, a_bound = 10^17, n_bound = 1_000_000\n",
    "3. Se a ≦ 0\n",
    "    faça n ← 0\n",
    "    termine o algoritmo\n",
    "4. Enquanto a > 1\n",
    "    1. Se a é par,\n",
    "        faça a ← a/2\n",
    "    2. Caso contrário,\n",
    "        faça a ← 3a + 1.\n",
    "    3. Incremente n.\n",
    "    4. Se a > a_bound\n",
    "        faça n ← -1 e termine o algoritmo\n",
    "    5. Se n > n_bound\n",
    "        faça n ← -2 e termine o algoritmo\n",
    "5. Saída: n\n",
    "    Se n > 0, então a_n = 1: Saída bem sucedida,\n",
    "    Se n = 0, então x ≦ 0: Saída de erro na entrada,\n",
    "    Se n = -1, então a ficou muito grande: Saída de valor muito grande,\n",
    "    Se n = -2, então n ficou muito grande: Saída de muitas iterações.\n",
    "=#"
   ]
  },
  {
   "cell_type": "code",
   "execution_count": 66,
   "metadata": {},
   "outputs": [
    {
     "data": {
      "text/plain": [
       "collatz (generic function with 1 method)"
      ]
     },
     "execution_count": 66,
     "metadata": {},
     "output_type": "execute_result"
    }
   ],
   "source": [
    "# Keyword argument\n",
    "function collatz(a::Int; a_bound = 10^17, n_bound = 1_000_000) # O mesmo que começar com x e atribuir x à a.\n",
    "    n = 1\n",
    "    if a <= 0\n",
    "        return 0\n",
    "    end\n",
    "    while a > 1\n",
    "        print(\"$a \")\n",
    "        if a % 2 == 0\n",
    "            a = div(a, 2)\n",
    "        else\n",
    "            a = 3a + 1\n",
    "        end\n",
    "        n += 1\n",
    "        if a > a_bound\n",
    "            return -1\n",
    "        elseif n > n_bound\n",
    "            return -2\n",
    "        end\n",
    "    end\n",
    "    return n\n",
    "end"
   ]
  },
  {
   "cell_type": "code",
   "execution_count": 71,
   "metadata": {},
   "outputs": [
    {
     "name": "stdout",
     "output_type": "stream",
     "text": [
      "742 371 1114 557 1672 836 418 209 628 314 157 472 236 118 59 178 89 268 134 67 202 101 304 152 76 38 19 58 29 88 44 22 11 34 17 52 26 13 40 20 10 5 16 8 4 2 "
     ]
    },
    {
     "data": {
      "text/plain": [
       "47"
      ]
     },
     "execution_count": 71,
     "metadata": {},
     "output_type": "execute_result"
    }
   ],
   "source": [
    "collatz(742)"
   ]
  },
  {
   "cell_type": "code",
   "execution_count": 72,
   "metadata": {},
   "outputs": [
    {
     "name": "stdout",
     "output_type": "stream",
     "text": [
      "1073741824 536870912 268435456 134217728 67108864 33554432 16777216 8388608 4194304 2097152 "
     ]
    },
    {
     "data": {
      "text/plain": [
       "-2"
      ]
     },
     "execution_count": 72,
     "metadata": {},
     "output_type": "execute_result"
    }
   ],
   "source": [
    "collatz(2^30, n_bound=10)"
   ]
  },
  {
   "cell_type": "code",
   "execution_count": 73,
   "metadata": {},
   "outputs": [
    {
     "data": {
      "text/plain": [
       "1"
      ]
     },
     "execution_count": 73,
     "metadata": {},
     "output_type": "execute_result"
    }
   ],
   "source": [
    "collatz(1)"
   ]
  },
  {
   "cell_type": "code",
   "execution_count": 74,
   "metadata": {},
   "outputs": [
    {
     "name": "stdout",
     "output_type": "stream",
     "text": [
      "100000000000000002 50000000000000001 "
     ]
    },
    {
     "data": {
      "text/plain": [
       "-1"
      ]
     },
     "execution_count": 74,
     "metadata": {},
     "output_type": "execute_result"
    }
   ],
   "source": [
    "collatz(10^17+2)"
   ]
  },
  {
   "cell_type": "markdown",
   "metadata": {},
   "source": [
    "## Fibonacci\n",
    "\n",
    "Vamos continuar nosso exemplo com mais uma sequência interessante, a de Fibonacci:\n",
    "\n",
    "$$ F_1 = F_2 = 1 \\qquad F_{n+1} = F_n + F_{n-1}. $$"
   ]
  },
  {
   "cell_type": "markdown",
   "metadata": {},
   "source": [
    "A sequência de Fibonacci envolve dois termos, e cresce infinitamente. Existem vários motivos para se trabalhar com a série de Fibonacci, mas vamos utilizá-la recreativamente.\n",
    "Vamos criar um simples algoritmo para calcular o n-ésimo termo da série de Fibonacci. Assuma, por enquanto, que todos os termos serão bem representados por inteiros de 64 bits."
   ]
  },
  {
   "cell_type": "code",
   "execution_count": 75,
   "metadata": {},
   "outputs": [],
   "source": [
    "#=\n",
    "   Entrada: n inteiro\n",
    "1. Se n ≦ 0\n",
    "    retorne 0\n",
    "2. Se n = 1 ou n = 2\n",
    "    retorne 1\n",
    "3. Inicialização: F1 ← 1, F2 ← 1, k ← 2\n",
    "4. Enquanto k < n\n",
    "    1. Fnovo ← F1 + F2  # Isso calcula o valor novo\n",
    "    2. F1 ← F2 # O valor F2 passa a ser o mais antigo dos dois\n",
    "    3. F2 ← Fnovo # O valor Fnovo passa a ser o anterior\n",
    "    4. Incremente k\n",
    "5. Retorne F2.\n",
    "    Saída: 0 se a entrada estava incorreta,\n",
    "           F_n caso contrário.\n",
    "=#"
   ]
  },
  {
   "cell_type": "code",
   "execution_count": 78,
   "metadata": {},
   "outputs": [
    {
     "data": {
      "text/plain": [
       "(5, 2)"
      ]
     },
     "execution_count": 78,
     "metadata": {},
     "output_type": "execute_result"
    }
   ],
   "source": [
    "function foo()\n",
    "    a, b = 2, 3\n",
    "    a, b = a + b, a\n",
    "end\n",
    "foo()"
   ]
  },
  {
   "cell_type": "code",
   "execution_count": 80,
   "metadata": {},
   "outputs": [
    {
     "name": "stdout",
     "output_type": "stream",
     "text": [
      "\t.text\n",
      "; ┌ @ In[78]:2 within `foo'\n",
      "\tmovabsq\t$139791545308936, %rax  # imm = 0x7F23C1669708\n",
      "\tvmovups\t(%rax), %xmm0\n",
      "\tvmovups\t%xmm0, (%rdi)\n",
      "\tmovq\t%rdi, %rax\n",
      "\tretq\n",
      "\tnopw\t%cs:(%rax,%rax)\n",
      "; └\n"
     ]
    }
   ],
   "source": [
    "@code_native foo()"
   ]
  },
  {
   "cell_type": "code",
   "execution_count": 83,
   "metadata": {},
   "outputs": [
    {
     "data": {
      "text/plain": [
       "fibon (generic function with 1 method)"
      ]
     },
     "execution_count": 83,
     "metadata": {},
     "output_type": "execute_result"
    }
   ],
   "source": [
    "function fibon(n::Int)\n",
    "    if n ≤ 0 #\\le\n",
    "        return 0\n",
    "    elseif n == 1 || n == 2\n",
    "        return 1\n",
    "    end\n",
    "    F1, F2, k = 1, 1, 2\n",
    "    while k < n\n",
    "        F3 = F1 + F2\n",
    "        F1, F2 = F2, F3\n",
    "        #F1, F2 = F2, F1 + F2\n",
    "        k += 1\n",
    "    end\n",
    "    return F2\n",
    "end"
   ]
  },
  {
   "cell_type": "code",
   "execution_count": 84,
   "metadata": {},
   "outputs": [
    {
     "name": "stdout",
     "output_type": "stream",
     "text": [
      "F_1 = 1\n",
      "F_2 = 1\n",
      "F_3 = 2\n",
      "F_4 = 3\n",
      "F_5 = 5\n",
      "F_6 = 8\n",
      "F_7 = 13\n",
      "F_8 = 21\n",
      "F_9 = 34\n",
      "F_10 = 55\n",
      "F_11 = 89\n",
      "F_12 = 144\n",
      "F_13 = 233\n",
      "F_14 = 377\n",
      "F_15 = 610\n",
      "F_16 = 987\n",
      "F_17 = 1597\n",
      "F_18 = 2584\n",
      "F_19 = 4181\n",
      "F_20 = 6765\n"
     ]
    }
   ],
   "source": [
    "for n = 1:20\n",
    "    println(\"F_$n = $(fibon(n))\")\n",
    "end"
   ]
  },
  {
   "cell_type": "markdown",
   "metadata": {},
   "source": [
    "É bastante simple calcular um elemento da sequência de Fibonacci, e é interessante que podemos explorar outra maneira de fazer isso."
   ]
  },
  {
   "cell_type": "markdown",
   "metadata": {},
   "source": [
    "### Recursão"
   ]
  },
  {
   "cell_type": "code",
   "execution_count": 85,
   "metadata": {},
   "outputs": [
    {
     "data": {
      "text/plain": [
       "fat_por_recursao (generic function with 1 method)"
      ]
     },
     "execution_count": 85,
     "metadata": {},
     "output_type": "execute_result"
    }
   ],
   "source": [
    "function fat_por_recursao(n::Int)\n",
    "    if n < 0\n",
    "        error(\"BLAH\")\n",
    "    end\n",
    "    if n == 0\n",
    "        return 1\n",
    "    end\n",
    "    return n * fat_por_recursao(n - 1)\n",
    "end"
   ]
  },
  {
   "cell_type": "code",
   "execution_count": 86,
   "metadata": {},
   "outputs": [
    {
     "data": {
      "text/plain": [
       "120"
      ]
     },
     "execution_count": 86,
     "metadata": {},
     "output_type": "execute_result"
    }
   ],
   "source": [
    "fat_por_recursao(5)"
   ]
  },
  {
   "cell_type": "code",
   "execution_count": 87,
   "metadata": {},
   "outputs": [
    {
     "data": {
      "text/plain": [
       "-4249290049419214848"
      ]
     },
     "execution_count": 87,
     "metadata": {},
     "output_type": "execute_result"
    }
   ],
   "source": [
    "fat_por_recursao(21)"
   ]
  },
  {
   "cell_type": "code",
   "execution_count": 90,
   "metadata": {},
   "outputs": [
    {
     "data": {
      "text/plain": [
       "\"ok\""
      ]
     },
     "execution_count": 90,
     "metadata": {},
     "output_type": "execute_result"
    }
   ],
   "source": [
    "# operador ternário\n",
    "# PROP ? Resultado se SIM : Resultado se NAO\n",
    "5 > 0 ? \"ok\" : \"oops\""
   ]
  },
  {
   "cell_type": "code",
   "execution_count": 91,
   "metadata": {},
   "outputs": [
    {
     "data": {
      "text/plain": [
       "fat_uma_linha (generic function with 1 method)"
      ]
     },
     "execution_count": 91,
     "metadata": {},
     "output_type": "execute_result"
    }
   ],
   "source": [
    "fat_uma_linha(n::Int) = n == 0 ? 1 : n * fat_uma_linha(n - 1)"
   ]
  },
  {
   "cell_type": "code",
   "execution_count": 92,
   "metadata": {},
   "outputs": [
    {
     "data": {
      "text/plain": [
       "120"
      ]
     },
     "execution_count": 92,
     "metadata": {},
     "output_type": "execute_result"
    }
   ],
   "source": [
    "fat_uma_linha(5)"
   ]
  },
  {
   "cell_type": "markdown",
   "metadata": {},
   "source": [
    "Recursão é uma das partes mais importantes no desenvolvimento de códigos. Muitas estratégias computacionais e matemáticas envolvem o chamado \"dividir e conquistar\" ou \"reduzir para um caso conhecido\". Em particular, demonstrações por indução finita fazem uma coisa parecida, onde você supõe saber resolver para um caso e consegue resolver um caso de nível superior reduzindo-o ao caso conhecido."
   ]
  },
  {
   "cell_type": "markdown",
   "metadata": {},
   "source": [
    "Computacionalmente, podemos pensar em recursão como a divisão de um problema em outros, cada um destes menor que o primeiro. Para cada problema menor, repetimos o processo. Como não podemos ter um loop infinito, é necessário terminar essa redução de alguma maneira. Essa maneira envolve, simplesmente, saber resolver alguns casos de problema menor (que garantam a convergência)."
   ]
  },
  {
   "cell_type": "markdown",
   "metadata": {},
   "source": [
    "No caso de Fibonacci, o cálculo do n-ésimo termo é feito calculando os termos n-1 e n-2.\n",
    "Os casos n-1 e n-2 são, de fato, menores. Além disso, repetindo este processo chegaremos a dois casos: n = 1 ou n = 2. Desse modo, temos\n",
    "\n",
    "- casos pequenos que conseguimos resolver trivialmente;\n",
    "- uma maneira de reduzir um problema em outros menores;\n",
    "- garantia matemática que essa redução leva aos problemas menores que sabemos resolver.\n",
    "\n",
    "Abaixo temos um pseudo-código."
   ]
  },
  {
   "cell_type": "code",
   "execution_count": 93,
   "metadata": {},
   "outputs": [],
   "source": [
    "#=\n",
    "Rotina FIBO(n)\n",
    "Entrada: n\n",
    "1. Se n = 1 ou n = 2\n",
    "    retorne 1\n",
    "2. Senão,\n",
    "    retorna FIBO(n-1) + FIBO(n-2)\n",
    "=#"
   ]
  },
  {
   "cell_type": "code",
   "execution_count": 94,
   "metadata": {},
   "outputs": [
    {
     "data": {
      "text/plain": [
       "FIBO (generic function with 1 method)"
      ]
     },
     "execution_count": 94,
     "metadata": {},
     "output_type": "execute_result"
    }
   ],
   "source": [
    "function FIBO(n)\n",
    "    if n <= 2\n",
    "        return min(1, max(n, 0)) # Pequeno truque\n",
    "    else\n",
    "        return FIBO(n-1) + FIBO(n-2)\n",
    "    end\n",
    "end"
   ]
  },
  {
   "cell_type": "code",
   "execution_count": 95,
   "metadata": {},
   "outputs": [
    {
     "data": {
      "text/plain": [
       "55"
      ]
     },
     "execution_count": 95,
     "metadata": {},
     "output_type": "execute_result"
    }
   ],
   "source": [
    "FIBO(10)"
   ]
  },
  {
   "cell_type": "code",
   "execution_count": 96,
   "metadata": {},
   "outputs": [
    {
     "name": "stdout",
     "output_type": "stream",
     "text": [
      "F_1 = 1\n",
      "F_2 = 1\n",
      "F_3 = 2\n",
      "F_4 = 3\n",
      "F_5 = 5\n",
      "F_6 = 8\n",
      "F_7 = 13\n",
      "F_8 = 21\n",
      "F_9 = 34\n",
      "F_10 = 55\n",
      "F_11 = 89\n",
      "F_12 = 144\n",
      "F_13 = 233\n",
      "F_14 = 377\n",
      "F_15 = 610\n",
      "F_16 = 987\n",
      "F_17 = 1597\n",
      "F_18 = 2584\n",
      "F_19 = 4181\n",
      "F_20 = 6765\n"
     ]
    }
   ],
   "source": [
    "for n = 1:20\n",
    "    println(\"F_$n = $(FIBO(n))\")\n",
    "end"
   ]
  },
  {
   "cell_type": "markdown",
   "metadata": {},
   "source": [
    "Muitas vezes, o código de recursão será mais curto.\n",
    "Em particular, em Julia (e C) temos o chamado **operador ternário**, que nos permite fazer a pergunta `if ... else ... end` em uma única linha.\n",
    "Desse modo, temos uma implementação curtíssima de Fibonacci:"
   ]
  },
  {
   "cell_type": "code",
   "execution_count": 97,
   "metadata": {},
   "outputs": [
    {
     "data": {
      "text/plain": [
       "F (generic function with 1 method)"
      ]
     },
     "execution_count": 97,
     "metadata": {},
     "output_type": "execute_result"
    }
   ],
   "source": [
    "F(n) = n <= 2 ? min(1, max(n, 0)) : F(n-1) + F(n-2)"
   ]
  },
  {
   "cell_type": "code",
   "execution_count": 98,
   "metadata": {},
   "outputs": [
    {
     "name": "stdout",
     "output_type": "stream",
     "text": [
      "F_1 = 1\n",
      "F_2 = 1\n",
      "F_3 = 2\n",
      "F_4 = 3\n",
      "F_5 = 5\n",
      "F_6 = 8\n",
      "F_7 = 13\n",
      "F_8 = 21\n",
      "F_9 = 34\n",
      "F_10 = 55\n",
      "F_11 = 89\n",
      "F_12 = 144\n",
      "F_13 = 233\n",
      "F_14 = 377\n",
      "F_15 = 610\n",
      "F_16 = 987\n",
      "F_17 = 1597\n",
      "F_18 = 2584\n",
      "F_19 = 4181\n",
      "F_20 = 6765\n"
     ]
    }
   ],
   "source": [
    "for n = 1:20\n",
    "    println(\"F_$n = $(F(n))\")\n",
    "end"
   ]
  },
  {
   "cell_type": "markdown",
   "metadata": {},
   "source": [
    "No entanto, é importante ter cuidado ao utilizar recursão. O custo computacional fica escondido nas chamadas de função, e às vezes podemos deixar um código muito mais complicado do que deveria.\n",
    "No caso de Fibonacci, por exemplo, ao calcular `F(n)`, pedimos o cálculo de `F(n-1)` e `F(n-2)`, mas o cálculo de `F(n-1)` irá pedir o cálculo de `F(n-2)` e `F(n-3)`, ou seja, `F(n-2)` será calculado duas vezes!"
   ]
  },
  {
   "cell_type": "code",
   "execution_count": 99,
   "metadata": {},
   "outputs": [
    {
     "data": {
      "text/plain": [
       "FIBO_comprint (generic function with 1 method)"
      ]
     },
     "execution_count": 99,
     "metadata": {},
     "output_type": "execute_result"
    }
   ],
   "source": [
    "function FIBO_comprint(n)\n",
    "    println(\"Chamada: F$n\")\n",
    "    if n <= 2\n",
    "        return min(1, max(n, 0)) # Pequeno truque\n",
    "    else\n",
    "        return FIBO_comprint(n-1) + FIBO_comprint(n-2)\n",
    "    end\n",
    "end"
   ]
  },
  {
   "cell_type": "code",
   "execution_count": 100,
   "metadata": {},
   "outputs": [
    {
     "name": "stdout",
     "output_type": "stream",
     "text": [
      "Chamada: F5\n",
      "Chamada: F4\n",
      "Chamada: F3\n",
      "Chamada: F2\n",
      "Chamada: F1\n",
      "Chamada: F2\n",
      "Chamada: F3\n",
      "Chamada: F2\n",
      "Chamada: F1\n"
     ]
    },
    {
     "data": {
      "text/plain": [
       "5"
      ]
     },
     "execution_count": 100,
     "metadata": {},
     "output_type": "execute_result"
    }
   ],
   "source": [
    "FIBO_comprint(5)"
   ]
  },
  {
   "cell_type": "markdown",
   "metadata": {},
   "source": [
    "Em outras palavras, Fibonacci com recursão acaba sendo muito mais caro que Fibonacci usando `for` ou `while`. Tome cuidado com essas armadilhas.\n",
    "\n",
    "**Leitura adicional:** Existe um conceito chamada \"Avaliação preguiçosa\", que consiste na avaliação dos valores somente quando são necessários. Em Julia, o pacote `Lazy.jl` implementa esse conceito. Se a avaliação de `F(n)` for feita de maneira preguiçosa, não haverá o custo adicional do cálculo de $F_n$ repetidos."
   ]
  },
  {
   "cell_type": "markdown",
   "metadata": {},
   "source": [
    "## Mais Fibonacci"
   ]
  },
  {
   "cell_type": "markdown",
   "metadata": {},
   "source": [
    "Vamos voltar nossa atenção ao problema inicial de Fibonacci: calcular o n-ésimo termo. Nossas últimas discussões foram todas no sentido de como calcular os elementos de Fibonacci termo a termo ou recursivamente. Porém, matematicamente, o n-ésimo termo de Fibonacci é bem definido!"
   ]
  },
  {
   "cell_type": "markdown",
   "metadata": {},
   "source": [
    "$$ F_n = \\frac{\\phi^n - \\psi^n}{\\sqrt{5}}, $$\n",
    "onde $$\\phi = \\frac{1 + \\sqrt{5}}{2}$$ e $$\\psi = \\frac{1 - \\sqrt{5}}{2} = 1 - \\phi. $$"
   ]
  },
  {
   "cell_type": "markdown",
   "metadata": {},
   "source": [
    "Isso quer dizer que podemos calcular Fibonacci com uma fórmula direta."
   ]
  },
  {
   "cell_type": "code",
   "execution_count": 101,
   "metadata": {},
   "outputs": [
    {
     "name": "stdout",
     "output_type": "stream",
     "text": [
      "F_1 = 1\n",
      "F_2 = 1\n",
      "F_3 = 2\n",
      "F_4 = 3\n",
      "F_5 = 5\n",
      "F_6 = 8\n",
      "F_7 = 13\n",
      "F_8 = 21\n",
      "F_9 = 34\n",
      "F_10 = 55\n",
      "F_11 = 89\n",
      "F_12 = 144\n",
      "F_13 = 233\n",
      "F_14 = 377\n",
      "F_15 = 610\n",
      "F_16 = 987\n",
      "F_17 = 1597\n",
      "F_18 = 2584\n",
      "F_19 = 4181\n",
      "F_20 = 6765\n"
     ]
    }
   ],
   "source": [
    "phi = (1 + sqrt(5))/2\n",
    "psi = 1 - phi\n",
    "for n = 1:20\n",
    "    Fn = round(Int, (phi^n - psi^n)/sqrt(5))\n",
    "    println(\"F_$n = $Fn\")\n",
    "end"
   ]
  },
  {
   "cell_type": "markdown",
   "metadata": {},
   "source": [
    "Perceba que o problema aqui agora é outro. Os valores não estão mais \"corretos\". Na verdade, quase todos contém um pequeno **erro**."
   ]
  },
  {
   "cell_type": "markdown",
   "metadata": {},
   "source": [
    "Quão pequeno?"
   ]
  },
  {
   "cell_type": "code",
   "execution_count": 102,
   "metadata": {},
   "outputs": [
    {
     "name": "stdout",
     "output_type": "stream",
     "text": [
      "F_3 = 2, Diferença F_3 = 0.0\n",
      "F_4 = 3, Diferença F_4 = 4.440892098500626e-16\n",
      "F_5 = 5, Diferença F_5 = 8.881784197001252e-16\n",
      "F_6 = 8, Diferença F_6 = 1.7763568394002505e-15\n",
      "F_7 = 13, Diferença F_7 = 1.7763568394002505e-15\n",
      "F_8 = 21, Diferença F_8 = 3.552713678800501e-15\n",
      "F_9 = 34, Diferença F_9 = 7.105427357601002e-15\n",
      "F_10 = 55, Diferença F_10 = 1.4210854715202004e-14\n",
      "F_11 = 89, Diferença F_11 = 2.842170943040401e-14\n",
      "F_12 = 144, Diferença F_12 = 5.684341886080802e-14\n",
      "F_13 = 233, Diferença F_13 = 5.684341886080802e-14\n",
      "F_14 = 377, Diferença F_14 = 1.7053025658242404e-13\n",
      "F_15 = 610, Diferença F_15 = 3.410605131648481e-13\n",
      "F_16 = 987, Diferença F_16 = 4.547473508864641e-13\n",
      "F_17 = 1597, Diferença F_17 = 9.094947017729282e-13\n",
      "F_18 = 2584, Diferença F_18 = 1.8189894035458565e-12\n",
      "F_19 = 4181, Diferença F_19 = 2.7284841053187847e-12\n",
      "F_20 = 6765, Diferença F_20 = 4.547473508864641e-12\n",
      "F_21 = 10946, Diferença F_21 = 7.275957614183426e-12\n",
      "F_22 = 17711, Diferença F_22 = 1.0913936421275139e-11\n",
      "F_23 = 28657, Diferença F_23 = 2.1827872842550278e-11\n",
      "F_24 = 46368, Diferença F_24 = 3.637978807091713e-11\n",
      "F_25 = 75025, Diferença F_25 = 5.820766091346741e-11\n",
      "F_26 = 121393, Diferença F_26 = 8.731149137020111e-11\n",
      "F_27 = 196418, Diferença F_27 = 1.7462298274040222e-10\n",
      "F_28 = 317811, Diferença F_28 = 2.9103830456733704e-10\n",
      "F_29 = 514229, Diferença F_29 = 4.656612873077393e-10\n",
      "F_30 = 832040, Diferença F_30 = 8.149072527885437e-10\n",
      "F_31 = 1346269, Diferença F_31 = 1.1641532182693481e-9\n",
      "F_32 = 2178309, Diferença F_32 = 2.3283064365386963e-9\n",
      "F_33 = 3524578, Diferença F_33 = 3.725290298461914e-9\n",
      "F_34 = 5702887, Diferença F_34 = 6.51925802230835e-9\n",
      "F_35 = 9227465, Diferença F_35 = 1.1175870895385742e-8\n",
      "F_36 = 14930352, Diferença F_36 = 1.862645149230957e-8\n",
      "F_37 = 24157817, Diferença F_37 = 2.60770320892334e-8\n",
      "F_38 = 39088169, Diferença F_38 = 4.470348358154297e-8\n",
      "F_39 = 63245986, Diferença F_39 = 6.705522537231445e-8\n",
      "F_40 = 102334155, Diferença F_40 = 1.341104507446289e-7\n",
      "F_41 = 165580141, Diferença F_41 = 2.384185791015625e-7\n",
      "F_42 = 267914296, Diferença F_42 = 3.5762786865234375e-7\n",
      "F_43 = 433494437, Diferença F_43 = 5.960464477539062e-7\n",
      "F_44 = 701408733, Diferença F_44 = 1.0728836059570312e-6\n",
      "F_45 = 1134903170, Diferença F_45 = 1.6689300537109375e-6\n",
      "F_46 = 1836311903, Diferença F_46 = 2.6226043701171875e-6\n",
      "F_47 = 2971215073, Diferença F_47 = 4.76837158203125e-6\n",
      "F_48 = 4807526976, Diferença F_48 = 7.62939453125e-6\n",
      "F_49 = 7778742049, Diferença F_49 = 1.33514404296875e-5\n",
      "F_50 = 12586269025, Diferença F_50 = 1.9073486328125e-5\n",
      "F_51 = 20365011074, Diferença F_51 = 3.4332275390625e-5\n",
      "F_52 = 32951280099, Diferença F_52 = 5.340576171875e-5\n",
      "F_53 = 53316291173, Diferença F_53 = 9.1552734375e-5\n",
      "F_54 = 86267571272, Diferença F_54 = 0.000152587890625\n",
      "F_55 = 139583862445, Diferença F_55 = 0.000244140625\n",
      "F_56 = 225851433717, Diferença F_56 = 0.00042724609375\n",
      "F_57 = 365435296162, Diferença F_57 = 0.00067138671875\n",
      "F_58 = 591286729879, Diferença F_58 = 0.001220703125\n",
      "F_59 = 956722026041, Diferença F_59 = 0.0018310546875\n",
      "F_60 = 1548008755920, Diferença F_60 = 0.0029296875\n",
      "F_61 = 2504730781961, Diferença F_61 = 0.0048828125\n",
      "F_62 = 4052739537881, Diferença F_62 = 0.00830078125\n",
      "F_63 = 6557470319842, Diferença F_63 = 0.013671875\n",
      "F_64 = 10610209857723, Diferença F_64 = 0.021484375\n",
      "F_65 = 17167680177565, Diferença F_65 = 0.037109375\n",
      "F_66 = 27777890035288, Diferença F_66 = 0.0625\n",
      "F_67 = 44945570212853, Diferença F_67 = 0.09375\n",
      "F_68 = 72723460248141, Diferença F_68 = 0.171875\n",
      "F_69 = 117669030460994, Diferença F_69 = 0.28125\n",
      "F_70 = 190392490709135, Diferença F_70 = 0.4375\n",
      "F_71 = 308061521170129, Diferença F_71 = 0.6875\n",
      "F_72 = 498454011879264, Diferença F_72 = 1.1875\n",
      "F_73 = 806515533049393, Diferença F_73 = 2.0\n",
      "F_74 = 1304969544928657, Diferença F_74 = 3.0\n",
      "F_75 = 2111485077978050, Diferença F_75 = 5.25\n",
      "F_76 = 3416454622906707, Diferença F_76 = 8.5\n",
      "F_77 = 5527939700884757, Diferença F_77 = 14.0\n",
      "F_78 = 8944394323791464, Diferença F_78 = 24.0\n",
      "F_79 = 14472334024676221, Diferença F_79 = 40.0\n",
      "F_80 = 23416728348467685, Diferença F_80 = 60.0\n",
      "F_81 = 37889062373143906, Diferença F_81 = 104.0\n",
      "F_82 = 61305790721611591, Diferença F_82 = 160.0\n",
      "F_83 = 99194853094755497, Diferença F_83 = 272.0\n",
      "F_84 = 160500643816367088, Diferença F_84 = 448.0\n",
      "F_85 = 259695496911122585, Diferença F_85 = 736.0\n",
      "F_86 = 420196140727489673, Diferença F_86 = 1216.0\n",
      "F_87 = 679891637638612258, Diferença F_87 = 2048.0\n",
      "F_88 = 1100087778366101931, Diferença F_88 = 3200.0\n",
      "F_89 = 1779979416004714189, Diferença F_89 = 5120.0\n",
      "F_90 = 2880067194370816120, Diferença F_90 = 8704.0\n",
      "F_91 = 4660046610375530309, Diferença F_91 = 14336.0\n",
      "F_92 = 7540113804746346429, Diferença F_92 = 22528.0\n",
      "F_93 = -6246583658587674878, Diferença F_93 = 1.844674407370959e19\n"
     ]
    }
   ],
   "source": [
    "phi = (1 + sqrt(5))/2\n",
    "psi = 1 - phi\n",
    "F1 = F2 = 1\n",
    "Fnovo = 1\n",
    "for n = 3:93\n",
    "    Fn = (phi^n - psi^n)/sqrt(5)\n",
    "    Fnovo = F1 + F2\n",
    "    F2 = F1\n",
    "    F1 = Fnovo\n",
    "    println(\"F_$n = $Fnovo, Diferença F_$n = $(Fn - Fnovo)\")\n",
    "end"
   ]
  },
  {
   "cell_type": "markdown",
   "metadata": {},
   "source": [
    "Impressionantemente, esse erro não é tão pequeno assim. Ele cresce com o tamanho de `n`, de modo que essa aproximação é inviável para valores grandes de `n`."
   ]
  },
  {
   "cell_type": "markdown",
   "metadata": {},
   "source": [
    "A fórmula para o n-ésimo número de Fibonacci é\n",
    "$$ F_n = \\frac{\\phi^n - \\psi^n}{\\sqrt{5}}. $$"
   ]
  },
  {
   "cell_type": "markdown",
   "metadata": {},
   "source": [
    "Acontece que $\\phi > 1$ e $0 < \\psi < 1$, então a distância entre $\\phi^n$ e $\\psi^n$ cresce bastante com $n$.\n",
    "Além disso, ambos são irracionais, então seus valores já são aproximados. Neste caso, é mais simples calcular os números de Fibonacci utilizando `for` ou `while` com inteiros.\n",
    "Claro que isso também vai depender do motivo para se calcular esses números."
   ]
  },
  {
   "cell_type": "markdown",
   "metadata": {},
   "source": [
    "# Aproximações de Séries"
   ]
  },
  {
   "cell_type": "markdown",
   "metadata": {},
   "source": [
    "Vamos para um assunto levemente diferente. Uma série é uma soma de infinitos termos numa ordem dada.\n",
    "$$ S = \\sum_{k = 1}^{\\infty} a_k. $$\n",
    "A questão aqui é, em geral, se essa soma existe ou não. Para tanto, define-se uma sequência $(s_1,s_2,\\dots,s_n,\\dots)$ dada por\n",
    "$$ s_n = \\sum_{k = 1}^n a_k. $$"
   ]
  },
  {
   "cell_type": "markdown",
   "metadata": {},
   "source": [
    "Se essa sequência convergence, então essa série converge."
   ]
  },
  {
   "cell_type": "markdown",
   "metadata": {},
   "source": [
    "Computacionalmente, em geral, estamos mais preocupados em calcular essa soma. Um resultado básico de série diz que para que a série convirja, é necessário que $a_k \\rightarrow 0$. Como já vimos, isso irá nos causar alguns problemas, dado que\n",
    "$$ s_{n+1} = s_n + a_{n+1}, $$\n",
    "e $a_{n+1}$ vai eventualmente ser muito pequeno."
   ]
  },
  {
   "cell_type": "markdown",
   "metadata": {},
   "source": [
    "Matematicamente, muitas vezes temos um objetivo, como calcular $\\pi$, que pode ser obtido pelo cálculo de uma série. Devemos nos preocupar em como fazer isso de uma maneira computacional eficiente que não perca muita precisão. Frequentemente, teremos limites computacionais para essa eficiência, e aí devemos voltar à matemática para conseguir alguma maneira melhor de resolver o problema inicial."
   ]
  },
  {
   "cell_type": "markdown",
   "metadata": {},
   "source": [
    "## Expansão de Taylor"
   ]
  },
  {
   "cell_type": "markdown",
   "metadata": {},
   "source": [
    "Como deve ter sido visto no curso de Cálculo, uma função continuamente diferenciável até ordem $n$ admite uma aproximação polinomial em torno de um ponto $a$ de seu domínio dada por\n",
    "$$ P_n(x) = f(a) + f'(a)(x-a) + \\frac{1}{2}f''(a)(x-a)^2 + \\frac{1}{3!}f'''(a)(x-a)^3 + \\dots + \\frac{1}{n!}f^{(n)}(a)(x-a)^n. $$"
   ]
  },
  {
   "cell_type": "markdown",
   "metadata": {},
   "source": [
    "Esse polinômio é chamado polinômio de Taylor de ordem $n$ em torno do ponto $a$, e existem alguns teoremas indicando o quão boa é essa aproximação."
   ]
  },
  {
   "cell_type": "markdown",
   "metadata": {},
   "source": [
    "**Teorema:** Se $f$ é continuamente diferenciável até ordem $n$ no ponto $a$, então\n",
    "$$ f(x) = P_n(x) + r_n(x), $$\n",
    "onde\n",
    "$$ \\lim_{x \\rightarrow a} \\frac{ r_n(x) }{ |x - a|^n } = 0. $$"
   ]
  },
  {
   "cell_type": "markdown",
   "metadata": {},
   "source": [
    "**Teorema:** Se $f$ é continuamente diferenciável até ordem $n+1$ no intervalo fechado de $a$ à $x$, então\n",
    "$$ f(x) = P_n(x) + \\int_a^x \\frac{f^{(n+1)}(t)}{n!}(x-t)^n \\mbox{d} t. $$"
   ]
  },
  {
   "cell_type": "markdown",
   "metadata": {},
   "source": [
    "**Teorema:** Se $f$ é continuamente diferenciável até ordem $n+1$ num intervalo aberto contento $a$ e $f^{(n)}$ é contínua no intervalo fechado de $a$ à $x$, então\n",
    "$$ f(x) = P_n(x) + \\frac{1}{(n+1)!} f^{(n+1)}(\\xi)(x - a)^{n + 1}, $$\n",
    "onde $\\xi$ é um número real entre $a$ e $x$."
   ]
  },
  {
   "cell_type": "markdown",
   "metadata": {},
   "source": [
    "Podemos usar o conceito da expansão de Taylor para calcular numericamente alguns valores de funções não polinomiais. O caso mais comum é o da função $\\exp(x) = e^x$, onde $e$ é o número de Euler."
   ]
  },
  {
   "cell_type": "code",
   "execution_count": 103,
   "metadata": {},
   "outputs": [
    {
     "data": {
      "text/plain": [
       "ℯ = 2.7182818284590..."
      ]
     },
     "execution_count": 103,
     "metadata": {},
     "output_type": "execute_result"
    }
   ],
   "source": [
    "MathConstants.e"
   ]
  },
  {
   "cell_type": "markdown",
   "metadata": {},
   "source": [
    "*Aviso: A função exponencial já costuma estar implementada em baixo nível, no entanto faremos este estudo por questões didáticas.*"
   ]
  },
  {
   "cell_type": "markdown",
   "metadata": {},
   "source": [
    "A função $e^x$ tem a seguinte expansão de Taylor em torno do ponto $0$.\n",
    "$$ e^x = 1 + x + \\frac{x^2}{2} + \\frac{x^3}{3!} + \\frac{x^4}{4!} + \\dots + \\frac{x^n}{n!} + \\dots. $$"
   ]
  },
  {
   "cell_type": "markdown",
   "metadata": {},
   "source": [
    "Então é bastante simples definir um algoritmo que calcule a aproximação da exponecial dado $x$ e $n$."
   ]
  },
  {
   "cell_type": "code",
   "execution_count": null,
   "metadata": {},
   "outputs": [],
   "source": [
    "#=\n",
    "    Entrada: x e n ≧ 0\n",
    "1. Inicialização: E ← 1.0\n",
    "2. Para k de 1 à n\n",
    "    1. E ← E + x^k/k!\n",
    "3. Retorne E\n",
    "    Saída: E ≈ eˣ com n termos da expansão de Taylor\n",
    "=#"
   ]
  },
  {
   "cell_type": "code",
   "execution_count": 105,
   "metadata": {},
   "outputs": [
    {
     "data": {
      "text/plain": [
       "2.7166666666666663"
      ]
     },
     "execution_count": 105,
     "metadata": {},
     "output_type": "execute_result"
    }
   ],
   "source": [
    "E = 1.0\n",
    "E += 1.0   # k = 1\n",
    "E += 0.5   # k = 2\n",
    "E += 1/6   # k = 3\n",
    "E += 1/24  # k = 4\n",
    "E += 1/120 # k = 5"
   ]
  },
  {
   "cell_type": "code",
   "execution_count": 106,
   "metadata": {},
   "outputs": [
    {
     "data": {
      "text/plain": [
       "0.0016151617923787498"
      ]
     },
     "execution_count": 106,
     "metadata": {},
     "output_type": "execute_result"
    }
   ],
   "source": [
    "MathConstants.e - E"
   ]
  },
  {
   "cell_type": "code",
   "execution_count": 107,
   "metadata": {},
   "outputs": [
    {
     "data": {
      "text/plain": [
       "exponencial (generic function with 1 method)"
      ]
     },
     "execution_count": 107,
     "metadata": {},
     "output_type": "execute_result"
    }
   ],
   "source": [
    "function exponencial(x, n)\n",
    "    # Exercício. Usa a função factorial(n) para calcular n!\n",
    "    E = 1.0\n",
    "    for k = 1:n\n",
    "        E += x^k / factorial(k)\n",
    "    end\n",
    "    return E\n",
    "end"
   ]
  },
  {
   "cell_type": "code",
   "execution_count": 108,
   "metadata": {},
   "outputs": [
    {
     "data": {
      "text/plain": [
       "2.7182818284590455"
      ]
     },
     "execution_count": 108,
     "metadata": {},
     "output_type": "execute_result"
    }
   ],
   "source": [
    "exponencial(1.0, 20)"
   ]
  },
  {
   "cell_type": "code",
   "execution_count": 110,
   "metadata": {},
   "outputs": [
    {
     "data": {
      "text/plain": [
       "-4.440892098500626e-16"
      ]
     },
     "execution_count": 110,
     "metadata": {},
     "output_type": "execute_result"
    }
   ],
   "source": [
    "MathConstants.e - exponencial(1.0, 20)"
   ]
  },
  {
   "cell_type": "code",
   "execution_count": 112,
   "metadata": {},
   "outputs": [
    {
     "data": {
      "text/plain": [
       "6.250497655727703e-15"
      ]
     },
     "execution_count": 112,
     "metadata": {},
     "output_type": "execute_result"
    }
   ],
   "source": [
    "abs( exp(2) - exponencial(2.0, 20) ) / exp(2)"
   ]
  },
  {
   "cell_type": "code",
   "execution_count": 113,
   "metadata": {},
   "outputs": [
    {
     "data": {
      "text/plain": [
       "1.1790767393200277e-11"
      ]
     },
     "execution_count": 113,
     "metadata": {},
     "output_type": "execute_result"
    }
   ],
   "source": [
    "abs( exp(3) - exponencial(3.0, 20) ) / exp(3)"
   ]
  },
  {
   "cell_type": "code",
   "execution_count": 114,
   "metadata": {},
   "outputs": [
    {
     "data": {
      "text/plain": [
       "0.0015882606618580852"
      ]
     },
     "execution_count": 114,
     "metadata": {},
     "output_type": "execute_result"
    }
   ],
   "source": [
    "abs( exp(10) - exponencial(10.0, 20) ) / exp(10)"
   ]
  },
  {
   "cell_type": "code",
   "execution_count": 115,
   "metadata": {},
   "outputs": [
    {
     "ename": "OverflowError",
     "evalue": "OverflowError: 21 is too large to look up in the table",
     "output_type": "error",
     "traceback": [
      "OverflowError: 21 is too large to look up in the table",
      "",
      "Stacktrace:",
      " [1] factorial_lookup(::Int64, ::Array{Int64,1}, ::Int64) at ./combinatorics.jl:19",
      " [2] factorial at ./combinatorics.jl:27 [inlined]",
      " [3] exponencial(::Float64, ::Int64) at ./In[107]:5",
      " [4] top-level scope at In[115]:1"
     ]
    }
   ],
   "source": [
    "abs( exp(3) - exponencial(3.0, 21) ) / exp(3)"
   ]
  },
  {
   "cell_type": "markdown",
   "metadata": {},
   "source": [
    "Vamos testar nossa função contra `exp`, calculando o erro dessa aproximação.\n",
    "No entanto, note que a função exponencial cresce rapidamente, e como vimos, a precisão de um valor é relativo ao valor. Sendo assim, vamos utilizar o **erro relativo** na nossa comparação."
   ]
  },
  {
   "cell_type": "markdown",
   "metadata": {},
   "source": [
    "**Definição:** O erro cometido ao se aproximar $x$ por $x'$ é $x - x'$.\n",
    "\n",
    "**Definição:** O **erro absoluto** cometido ao se aproximar $x$ por $x'$ é $|x - x'|$.\n",
    "\n",
    "**Definição:** O **erro relativo** cometido ao se aproximar $x$ por $x'$ é $\\dfrac{|x - x'|}{|x|}$."
   ]
  },
  {
   "cell_type": "code",
   "execution_count": 116,
   "metadata": {},
   "outputs": [
    {
     "name": "stderr",
     "output_type": "stream",
     "text": [
      "┌ Info: Recompiling stale cache file /home/abel/.julia/compiled/v1.1/PyPlot/oatAj.ji for PyPlot [d330b81b-6aea-500a-939a-2ce795aea3ee]\n",
      "└ @ Base loading.jl:1184\n"
     ]
    },
    {
     "data": {
      "text/plain": [
       "Plots.PyPlotBackend()"
      ]
     },
     "execution_count": 116,
     "metadata": {},
     "output_type": "execute_result"
    }
   ],
   "source": [
    "using Plots\n",
    "pyplot(size=(400,300))"
   ]
  },
  {
   "cell_type": "code",
   "execution_count": 118,
   "metadata": {},
   "outputs": [
    {
     "data": {
      "image/png": "[encoded data removed]"
     },
     "execution_count": 118,
     "metadata": {},
     "output_type": "execute_result"
    }
   ],
   "source": [
    "N = collect(1:20)\n",
    "Erro = [abs(exponencial(1.0, n) - exp(1.0))/exp(1.0) for n in N]\n",
    "scatter(N, Erro, yaxis=:log)"
   ]
  },
  {
   "cell_type": "markdown",
   "metadata": {},
   "source": [
    "Note que após $n = 17$, o erro é sempre a precisão da máquina. Isso quer dizer que os termos $a_n$ com $n > 17$ não afetam a soma, computacionalmente."
   ]
  },
  {
   "cell_type": "code",
   "execution_count": 6,
   "metadata": {},
   "outputs": [
    {
     "data": {
      "image/png": "[encoded data removed]"
     },
     "execution_count": 6,
     "metadata": {},
     "output_type": "execute_result"
    }
   ],
   "source": [
    "Erro = [abs(exponencial(5.0, n) - exp(5.0))/exp(5.0) for n in N]\n",
    "scatter(N, Erro, yaxis=:log)"
   ]
  },
  {
   "cell_type": "markdown",
   "metadata": {},
   "source": [
    "Veja que é erro é muito maior para $x = 5$ do que para $x = 1$. Isso acontece porque os termos além de $n > 20$  ainda são importantes para a aproximação de $e^5$.\n",
    "A primeira vista, uma simples solução seria utilizar $n > 20$, mas veja o que acontece com nossa implementação."
   ]
  },
  {
   "cell_type": "markdown",
   "metadata": {},
   "source": [
    "Se você se lembra bem, isso acontece porque para $21!$ é maior que o máximo dos inteiros de 64 bits. Isso quer dizer que para calcular $e^x$ corretamente, devemos dar mais atenção aos detalhes do algoritmo.\n",
    "Note também que $x^n$ pode acabar ficando muito grande para $x$ e $n$ grandes e causar overflow também."
   ]
  },
  {
   "cell_type": "markdown",
   "metadata": {},
   "source": [
    "Revisitando nossa soma:\n",
    "$$ s_n = 1 + x + \\frac{x^2}{2} + \\dots + \\frac{x^n}{n!}, $$\n",
    "de modo que\n",
    "$$ s_n = s_{n-1} + \\frac{x^n}{n!}. $$\n",
    "O termo à direita da soma não pode ser calculado diretamente pois cada termo da fração pode \"explodir\" (termo que utilizarei para dizer causar overflow). No entanto, o resultado da fração é bem comportado, então podemos tentar chegar nesse valor de outra maneira."
   ]
  },
  {
   "cell_type": "markdown",
   "metadata": {},
   "source": [
    "Veja que\n",
    "$$ \\frac{x^n}{n!} = \\frac{x\\times x\\times x\\times\\dots\\times x}{1\\times2\\times3\\times\\dots\\times n}\n",
    "= \\frac{x}{1}\\times\\frac{x}{2}\\times\\frac{x}{3}\\times\\dots\\times\\frac{x}{n},\n",
    "$$\n",
    "então podemos fazer esse cálculo seguindo essa ordem, de maneira que o produto todo ficará equilibrado."
   ]
  },
  {
   "cell_type": "markdown",
   "metadata": {},
   "source": [
    "No entanto, é possível deixar esse produto mais eficiente. Note que se chamarmos $t_n = \\dfrac{x^n}{n!}$, então\n",
    "\n",
    "$$ s_n = s_{n-1} + t_n, $$\n",
    "e\n",
    "$$ t_n = t_{n-1}\\times\\frac{x}{n}. $$"
   ]
  },
  {
   "cell_type": "markdown",
   "metadata": {},
   "source": [
    "Em outras palavras, a sequência que é somada também pode ser calculada utilizando o termo anterior. Cada iteração fará então apenas um produto, uma divisão, e uma soma."
   ]
  },
  {
   "cell_type": "code",
   "execution_count": 136,
   "metadata": {},
   "outputs": [
    {
     "data": {
      "image/png": "[encoded data removed]"
     },
     "execution_count": 136,
     "metadata": {},
     "output_type": "execute_result"
    }
   ],
   "source": [
    "# Gráfico do termo\n",
    "x = 10.0\n",
    "n = 60\n",
    "E = [1.0]\n",
    "t = 1.0\n",
    "for k = 1:n\n",
    "    t = t * x / k\n",
    "    push!(E, t)\n",
    "end\n",
    "scatter(E, yaxis=:log)\n",
    "#scatter(E)"
   ]
  },
  {
   "cell_type": "code",
   "execution_count": null,
   "metadata": {},
   "outputs": [],
   "source": [
    "#=\n",
    "    Entrada: x e n ≧ 0\n",
    "1. Inicialização: E ← 1.0, t ← 1.0\n",
    "2. Para k de 1 à n\n",
    "    1. t ← t * x / k\n",
    "    2. E ← E + t\n",
    "3. Retorne E\n",
    "    Saída: E ≈ eˣ com n termos da expansão de Taylor\n",
    "=#"
   ]
  },
  {
   "cell_type": "code",
   "execution_count": 129,
   "metadata": {},
   "outputs": [
    {
     "data": {
      "text/plain": [
       "exponencial2 (generic function with 1 method)"
      ]
     },
     "execution_count": 129,
     "metadata": {},
     "output_type": "execute_result"
    }
   ],
   "source": [
    "function exponencial2(x, n)\n",
    "    # Implemente\n",
    "    E = 1.0\n",
    "    t = 1.0\n",
    "    for k = 1:n\n",
    "        t *= x / k\n",
    "        E += t\n",
    "    end\n",
    "    return E\n",
    "end"
   ]
  },
  {
   "cell_type": "code",
   "execution_count": 130,
   "metadata": {},
   "outputs": [
    {
     "data": {
      "text/plain": [
       "2.7182818284590455"
      ]
     },
     "execution_count": 130,
     "metadata": {},
     "output_type": "execute_result"
    }
   ],
   "source": [
    "exponencial2(1.0, 20)"
   ]
  },
  {
   "cell_type": "code",
   "execution_count": 132,
   "metadata": {},
   "outputs": [
    {
     "data": {
      "text/plain": [
       "-1.6516398231937218e-16"
      ]
     },
     "execution_count": 132,
     "metadata": {},
     "output_type": "execute_result"
    }
   ],
   "source": [
    "(exponencial2(10.0, 60) - exp(10.0)) / exp(10)"
   ]
  },
  {
   "cell_type": "code",
   "execution_count": 133,
   "metadata": {},
   "outputs": [
    {
     "data": {
      "image/png": "[encoded data removed]"
     },
     "execution_count": 133,
     "metadata": {},
     "output_type": "execute_result"
    }
   ],
   "source": [
    "using Plots\n",
    "N = collect(1:50)\n",
    "Erro = [abs(exponencial2(1.0, n) - exp(1.0))/exp(1.0) for n in N]\n",
    "Erro[findall(Erro .== 0.0)] .= eps()\n",
    "scatter(N, abs.(Erro), yaxis=:log)"
   ]
  },
  {
   "cell_type": "code",
   "execution_count": 135,
   "metadata": {},
   "outputs": [
    {
     "data": {
      "image/png": "[encoded data removed]"
     },
     "execution_count": 135,
     "metadata": {},
     "output_type": "execute_result"
    }
   ],
   "source": [
    "N = collect(1:50)\n",
    "Erro = [abs(exponencial2(10.0, n) - exp(10.0))/exp(10.0) for n in N]\n",
    "Erro[findall(Erro .== 0.0)] .= eps()\n",
    "scatter(N, Erro, yaxis=:log)\n",
    "ylims!(eps()/2, 1.0)"
   ]
  },
  {
   "cell_type": "markdown",
   "metadata": {},
   "source": [
    "Perceba agora que a função `exp` não recebe um $n$ específico. A quantidade de termos calculados é específico para o valor $x$. Para $x = 0$, $n = 0$ basta, para $x = 1$, $n = 17$ basta, para $x = 10$, $n = 45$ foi necessário."
   ]
  },
  {
   "cell_type": "markdown",
   "metadata": {},
   "source": [
    "Em particular, como estamos fazendo uma atualização do tipo $s_n = s_{n-1} + t_n$ e $t_n$ tende a 0, podemos verificar se obtivemos um erro de arredondamento na soma, de modo que os termos seguintes também não acrescentarão nada."
   ]
  },
  {
   "cell_type": "code",
   "execution_count": null,
   "metadata": {},
   "outputs": [],
   "source": [
    "#=\n",
    "    Entrada: x\n",
    "1. Inicialização: E ← 1.0, t ← x, k ← 1\n",
    "2. Enquanto E + t ≠ E\n",
    "    1. E ← E + t\n",
    "    2. Incremente k\n",
    "    3. t ← t * x / k\n",
    "3. Retorne E\n",
    "    Saída: E ≈ eˣ\n",
    "=#"
   ]
  },
  {
   "cell_type": "code",
   "execution_count": 138,
   "metadata": {},
   "outputs": [
    {
     "data": {
      "text/plain": [
       "exponencial3 (generic function with 1 method)"
      ]
     },
     "execution_count": 138,
     "metadata": {},
     "output_type": "execute_result"
    }
   ],
   "source": [
    "function exponencial3(x)\n",
    "    # Implemente\n",
    "    E = 1.0\n",
    "    t = x\n",
    "    k = 1\n",
    "    while E + t != E\n",
    "        E += t\n",
    "        k += 1\n",
    "        t *= x / k\n",
    "    end\n",
    "    return E\n",
    "end"
   ]
  },
  {
   "cell_type": "code",
   "execution_count": 139,
   "metadata": {},
   "outputs": [
    {
     "data": {
      "image/png": "[encoded data removed]"
     },
     "execution_count": 139,
     "metadata": {},
     "output_type": "execute_result"
    }
   ],
   "source": [
    "plot(x->exp(x) - exponencial3(x), 0, 10.0)"
   ]
  },
  {
   "cell_type": "code",
   "execution_count": 140,
   "metadata": {},
   "outputs": [
    {
     "data": {
      "image/png": "[encoded data removed]"
     },
     "execution_count": 140,
     "metadata": {},
     "output_type": "execute_result"
    }
   ],
   "source": [
    "plot(x->abs(exp(x) - exponencial3(x))/exp(x), 0, 10.0)"
   ]
  },
  {
   "cell_type": "markdown",
   "metadata": {},
   "source": [
    "Por fim, vejamos o que acontece com $x < 0$."
   ]
  },
  {
   "cell_type": "code",
   "execution_count": 141,
   "metadata": {},
   "outputs": [
    {
     "data": {
      "image/png": "[encoded data removed]"
     },
     "execution_count": 141,
     "metadata": {},
     "output_type": "execute_result"
    }
   ],
   "source": [
    "plot(x->abs(exp(x) - exponencial3(x))/exp(x), -10.0, 10.0)"
   ]
  },
  {
   "cell_type": "markdown",
   "metadata": {},
   "source": [
    "O erro cresce novamente. Isso acontece porque o termo $t_n$ fica alternando de sinal, e fica pequeno antes de contribuir o suficiente para fazer a diferença necessária.\n",
    "Uma maneira de remediar esse problema é usar a relação $e^x = \\dfrac{1}{e^{-x}}$."
   ]
  },
  {
   "cell_type": "code",
   "execution_count": 143,
   "metadata": {},
   "outputs": [
    {
     "data": {
      "text/plain": [
       "exponencial4 (generic function with 1 method)"
      ]
     },
     "execution_count": 143,
     "metadata": {},
     "output_type": "execute_result"
    }
   ],
   "source": [
    "function exponencial4(x)\n",
    "    if x < 0\n",
    "        return 1.0/exponencial4(-x)\n",
    "    end\n",
    "    # Implemente\n",
    "    return exponencial3(x)\n",
    "end"
   ]
  },
  {
   "cell_type": "code",
   "execution_count": 144,
   "metadata": {},
   "outputs": [
    {
     "data": {
      "image/png": "[encoded data removed]"
     },
     "execution_count": 144,
     "metadata": {},
     "output_type": "execute_result"
    }
   ],
   "source": [
    "plot(x->abs(exp(x) - exponencial4(x))/exp(x), -10.0, 10.0)"
   ]
  },
  {
   "cell_type": "markdown",
   "metadata": {},
   "source": [
    "## Cálculo de $\\pi$"
   ]
  },
  {
   "cell_type": "markdown",
   "metadata": {},
   "source": [
    "Um tópico bastante interessante de computação matemática é o cálculo do valor de $\\pi$. O interesse no cálculo de $\\pi$ é antigo, e existem várias maneiras de fazê-lo. Além disso, a busca pelo valor de $\\pi$ com a maior quantidade de dígitos corretos é uma disputa matemática bastante acirrada."
   ]
  },
  {
   "cell_type": "markdown",
   "metadata": {},
   "source": [
    "Das maneiras de calcular $\\pi$, uma das mais interessantes, em minha opinião, é através da identidade\n",
    "$$ \\arctan 1 = \\frac{\\pi}{4} \\qquad \\Rightarrow \\qquad \\pi = 4 \\arctan 1. $$"
   ]
  },
  {
   "cell_type": "markdown",
   "metadata": {},
   "source": [
    "Agora, utilizamos a derivada de $\\arctan$:\n",
    "$$ \\frac{\\mbox{d}}{\\mbox{d}x}\\arctan x = \\frac{1}{1+x^2}, $$\n",
    "e a expansão da fração para $|x| < 1$:\n",
    "$$ \\frac{1}{1+x^2} = 1 - x^2 + x^4 - x^6 + \\dots + (-1)^n x^{2n} + \\dots. $$"
   ]
  },
  {
   "cell_type": "markdown",
   "metadata": {},
   "source": [
    "Integrando, temos\n",
    "$$ \\arctan x = x - \\frac{x^3}{3} + \\frac{x^5}{5} - \\frac{x^7}{7} + \\dots + (-1)^n\\frac{x^{2n+1}}{2n+1} + \n",
    "\\dots$$"
   ]
  },
  {
   "cell_type": "markdown",
   "metadata": {},
   "source": [
    "É possível mostrar que essa série converge para $x = 1$ também, de modo que\n",
    "$$ \\frac{\\pi}{4} = \\arctan 1 = 1 - \\frac{1}{3} + \\frac{1}{5} - \\frac{1}{7} + \\dots \\frac{(-1)^n}{2n+1} + \\dots. $$"
   ]
  },
  {
   "cell_type": "markdown",
   "metadata": {},
   "source": [
    "Utilizando conceitos parecidos com o da expansão da exponencial, podemos calcular $\\pi$ sem precisar passar um valor de $n$, **porém**, essa convergência é muito lenta. No exemplo abaixo, colocaremos uma condição de parada para $n > 1.000.000.000$."
   ]
  },
  {
   "cell_type": "code",
   "execution_count": 150,
   "metadata": {},
   "outputs": [
    {
     "data": {
      "text/plain": [
       "pi_atan (generic function with 1 method)"
      ]
     },
     "execution_count": 150,
     "metadata": {},
     "output_type": "execute_result"
    }
   ],
   "source": [
    "function pi_atan()\n",
    "    S = 1.0\n",
    "    n = 1\n",
    "    σ = -1\n",
    "    t = σ/(2n+1)\n",
    "    while S + t != S\n",
    "        S += t\n",
    "        σ = -σ\n",
    "        n += 1\n",
    "        t = σ/(2n+1)\n",
    "        if n > 1_000_000_000\n",
    "            break\n",
    "        end\n",
    "    end\n",
    "    return 4S\n",
    "end"
   ]
  },
  {
   "cell_type": "code",
   "execution_count": 151,
   "metadata": {},
   "outputs": [
    {
     "data": {
      "text/plain": [
       "3.1415926545880506"
      ]
     },
     "execution_count": 151,
     "metadata": {},
     "output_type": "execute_result"
    }
   ],
   "source": [
    "pi_atan()"
   ]
  },
  {
   "cell_type": "code",
   "execution_count": 152,
   "metadata": {},
   "outputs": [
    {
     "name": "stdout",
     "output_type": "stream",
     "text": [
      "  1.234862 seconds (12.50 k allocations: 743.113 KiB)\n"
     ]
    },
    {
     "data": {
      "text/plain": [
       "9.982574766809194e-10"
      ]
     },
     "execution_count": 152,
     "metadata": {},
     "output_type": "execute_result"
    }
   ],
   "source": [
    "@time pi_atan() - pi"
   ]
  },
  {
   "cell_type": "markdown",
   "metadata": {},
   "source": [
    "O valor é, de fato, calculado até uma aproximação razoável, mas demora muito e leva muitas iterações.\n",
    "Por sorte, existem dezenas de outras maneiras de se calcular $\\pi$."
   ]
  },
  {
   "cell_type": "markdown",
   "metadata": {},
   "source": [
    "Uma dessas maneiras é a série\n",
    "$$ \\pi = \\sqrt{12}\\bigg(1 - \\frac{1}{3\\times 3} + \\frac{1}{5\\times 3^2} - \\frac{1}{7\\times 3^3} + \\frac{1}{9\\times 3^4} - \\dots\\bigg) = \\sqrt{12}\\sum_{k=0}^{\\infty}\\frac{(-1)^k}{(2k+1)3^k}. $$"
   ]
  },
  {
   "cell_type": "code",
   "execution_count": 153,
   "metadata": {},
   "outputs": [
    {
     "data": {
      "text/plain": [
       "pi_madhava (generic function with 1 method)"
      ]
     },
     "execution_count": 153,
     "metadata": {},
     "output_type": "execute_result"
    }
   ],
   "source": [
    "function pi_madhava()\n",
    "    S = 1.0\n",
    "    third = 1.0/3.0\n",
    "    σ = -1\n",
    "    pow_third = third\n",
    "    t = σ * third * third\n",
    "    n = 1\n",
    "    while S + t != S\n",
    "        S += t\n",
    "        n += 1\n",
    "        pow_third *= third\n",
    "        σ = -σ\n",
    "        t = σ * pow_third / (2n + 1)\n",
    "    end\n",
    "    println(\"n = $n\") # Usar para mostrar quantas iterações\n",
    "    return sqrt(12) * S\n",
    "end"
   ]
  },
  {
   "cell_type": "code",
   "execution_count": 154,
   "metadata": {},
   "outputs": [
    {
     "name": "stdout",
     "output_type": "stream",
     "text": [
      "n = 31\n"
     ]
    },
    {
     "data": {
      "text/plain": [
       "8.881784197001252e-16"
      ]
     },
     "execution_count": 154,
     "metadata": {},
     "output_type": "execute_result"
    }
   ],
   "source": [
    "pi_madhava() - pi"
   ]
  },
  {
   "cell_type": "markdown",
   "metadata": {},
   "source": [
    "Note que com 31 iterações já chegamos num valor de $\\pi$ decente."
   ]
  },
  {
   "cell_type": "markdown",
   "metadata": {},
   "source": [
    "### $\\pi$ com BigFloat"
   ]
  },
  {
   "cell_type": "markdown",
   "metadata": {},
   "source": [
    "Como dito anteriormente, existe uma busca por $\\pi$ com diversas casas decimais corretas. Você já deve ter percebido que o Julia traz uma implementação própria de $\\pi$, chamada através de `pi`. Essa aproximação pode ser vista com `BigFloat` também."
   ]
  },
  {
   "cell_type": "code",
   "execution_count": 158,
   "metadata": {},
   "outputs": [
    {
     "data": {
      "text/plain": [
       "3.141592653589793238462643383279502884197169399375105820974944592307816406286198"
      ]
     },
     "execution_count": 158,
     "metadata": {},
     "output_type": "execute_result"
    }
   ],
   "source": [
    "BigFloat(pi)"
   ]
  },
  {
   "cell_type": "markdown",
   "metadata": {},
   "source": [
    "Podemos modificar nossa implementação para buscar $\\pi$ com `BigFloat` também."
   ]
  },
  {
   "cell_type": "code",
   "execution_count": 159,
   "metadata": {},
   "outputs": [
    {
     "data": {
      "text/plain": [
       "pi_madhava_BF (generic function with 1 method)"
      ]
     },
     "execution_count": 159,
     "metadata": {},
     "output_type": "execute_result"
    }
   ],
   "source": [
    "function pi_madhava_BF()\n",
    "    S = BigFloat(1.0)\n",
    "    third = BigFloat(1.0)/BigFloat(3.0)\n",
    "    σ = -1\n",
    "    pow_third = third\n",
    "    t = σ * third * third\n",
    "    n = 1\n",
    "    while S + t != S\n",
    "        S += t\n",
    "        n += 1\n",
    "        pow_third *= third\n",
    "        σ = -σ\n",
    "        t = σ * pow_third / (2n + 1)\n",
    "    end\n",
    "    println(\"n = $n\") # Usar para mostrar quantas iterações\n",
    "    return sqrt(BigFloat(12.0)) * S\n",
    "end"
   ]
  },
  {
   "cell_type": "code",
   "execution_count": 160,
   "metadata": {},
   "outputs": [
    {
     "name": "stdout",
     "output_type": "stream",
     "text": [
      "n = 641\n"
     ]
    },
    {
     "data": {
      "text/plain": [
       "0.0"
      ]
     },
     "execution_count": 160,
     "metadata": {},
     "output_type": "execute_result"
    }
   ],
   "source": [
    "setprecision(2^10)\n",
    "pi_madhava_BF() - pi"
   ]
  },
  {
   "cell_type": "code",
   "execution_count": 162,
   "metadata": {},
   "outputs": [
    {
     "data": {
      "text/plain": [
       "616"
      ]
     },
     "execution_count": 162,
     "metadata": {},
     "output_type": "execute_result"
    }
   ],
   "source": [
    "setprecision(2^11)\n",
    "round(Int, -log10(eps(BigFloat)))"
   ]
  },
  {
   "cell_type": "code",
   "execution_count": 163,
   "metadata": {},
   "outputs": [
    {
     "name": "stdout",
     "output_type": "stream",
     "text": [
      "n = 641\n",
      "Com 1024 bits obtive 308 casas\n",
      "n = 1286\n",
      "Com 2048 bits obtive 616 casas\n",
      "n = 2578\n",
      "Com 4096 bits obtive 1231 casas\n",
      "n = 5161\n",
      "Com 8192 bits obtive 2465 casas\n",
      "n = 10329\n",
      "Com 16384 bits obtive 4930 casas\n",
      "n = 20666\n",
      "Com 32768 bits obtive 9862 casas\n",
      "n = 41339\n",
      "Com 65536 bits obtive 19726 casas\n",
      "n = 82687\n",
      "Com 131072 bits obtive 39455 casas\n"
     ]
    },
    {
     "ename": "InterruptException",
     "evalue": "InterruptException:",
     "output_type": "error",
     "traceback": [
      "InterruptException:",
      "",
      "Stacktrace:",
      " [1] _string_n at ./strings/string.jl:60 [inlined]",
      " [2] (::getfield(Base.MPFR, Symbol(\"##BigFloat#3#4\")))(::Int64, ::Type) at ./mpfr.jl:115",
      " [3] Type at ./mpfr.jl:112 [inlined]",
      " [4] *(::BigFloat, ::Int64) at ./mpfr.jl:386",
      " [5] * at ./mpfr.jl:390 [inlined]",
      " [6] pi_madhava_BF() at ./In[159]:13",
      " [7] top-level scope at ./In[163]:4"
     ]
    }
   ],
   "source": [
    "for n = 10:20\n",
    "    setprecision(2^n)\n",
    "    \n",
    "    E = max(abs(pi_madhava_BF() -log10 BigFloat(pi)), eps(BigFloat))\n",
    "    casas = round(Int, -log10(E))\n",
    "    println(\"Com $(2^n) bits obtive $casas casas\")\n",
    "end"
   ]
  },
  {
   "cell_type": "code",
   "execution_count": 164,
   "metadata": {},
   "outputs": [
    {
     "name": "stdout",
     "output_type": "stream",
     "text": [
      "n = 20666\n",
      "  0.994902 seconds (206.72 k allocations: 421.013 MiB, 4.03% gc time)\n"
     ]
    }
   ],
   "source": [
    "setprecision(2^15)\n",
    "@time pi_madhava_BF();"
   ]
  },
  {
   "cell_type": "code",
   "execution_count": 172,
   "metadata": {},
   "outputs": [
    {
     "data": {
      "text/plain": [
       "logaritmo2 (generic function with 1 method)"
      ]
     },
     "execution_count": 172,
     "metadata": {},
     "output_type": "execute_result"
    }
   ],
   "source": [
    "function logaritmo2()\n",
    "    ln2 = 1.0 / 2.0\n",
    "    k = 2\n",
    "    t = 1 / 2k / (2k - 1)\n",
    "    while ln2 + t != ln2\n",
    "        ln2 += t\n",
    "        k += 1\n",
    "        t = 1 / 2k / (2k - 1)\n",
    "    end\n",
    "    println(\"k = $k\")\n",
    "    return ln2\n",
    "end"
   ]
  },
  {
   "cell_type": "code",
   "execution_count": 173,
   "metadata": {},
   "outputs": [
    {
     "name": "stdout",
     "output_type": "stream",
     "text": [
      "k = 67108865\n"
     ]
    },
    {
     "data": {
      "text/plain": [
       "-3.1867810612595804e-9"
      ]
     },
     "execution_count": 173,
     "metadata": {},
     "output_type": "execute_result"
    }
   ],
   "source": [
    "logaritmo2() - log(2)"
   ]
  },
  {
   "cell_type": "code",
   "execution_count": 178,
   "metadata": {},
   "outputs": [
    {
     "data": {
      "text/plain": [
       "logaritmo2 (generic function with 1 method)"
      ]
     },
     "execution_count": 178,
     "metadata": {},
     "output_type": "execute_result"
    }
   ],
   "source": [
    "function logaritmo2()\n",
    "    ln2 = 1.0 / 2.0\n",
    "    k = 2\n",
    "    r = 1 / 4\n",
    "    while ln2 + r /k != ln2\n",
    "        ln2 += r / k\n",
    "        k += 1\n",
    "        r = r / 2\n",
    "    end\n",
    "    println(\"k = $k\")\n",
    "    return ln2\n",
    "end"
   ]
  },
  {
   "cell_type": "code",
   "execution_count": 179,
   "metadata": {},
   "outputs": [
    {
     "name": "stdout",
     "output_type": "stream",
     "text": [
      "k = 49\n"
     ]
    },
    {
     "data": {
      "text/plain": [
       "-2.220446049250313e-16"
      ]
     },
     "execution_count": 179,
     "metadata": {},
     "output_type": "execute_result"
    }
   ],
   "source": [
    "logaritmo2() - log(2)"
   ]
  },
  {
   "cell_type": "markdown",
   "metadata": {},
   "source": [
    "# Exercícios\n",
    "\n",
    "Faça os exercícios do capítulo 1 do livro Cálculo Numérico de Ruggiero e Lopes."
   ]
  },
  {
   "cell_type": "markdown",
   "metadata": {
    "collapsed": true
   },
   "source": [
    "1. Calcule a expansão de Taylor das seguintes funções, em torno do ponto a dado:\n",
    "\n",
    "  - $f(x) = x^2 - 5x + 6$, $a = 2$;\n",
    "  - $g(x) = x^3 - 3x^2 + 3x - 1$, $a = 1$;\n",
    "  - $h(x) = e^x$, $a = 0$;\n",
    "  - $z(x) = \\ln (x)$, $a = 1$;\n",
    "\n",
    "5. Considere as seguintes séries e sequências convergentes:\n",
    "\n",
    "  - $2 = 1 + \\frac{1}{2} + \\frac{1}{4} + \\frac{1}{8} + \\dots + \\frac{1}{2^n} + \\dots$.\n",
    "  - $a_{n+1} = \\frac{a_n}{2} + \\frac{1}{a_n}$, com $a_1 = 1$.\n",
    "  - $b_{n+1} = \\sqrt{b_n + 1}$, com $b_1 = 1$.\n",
    "  - $\\phi_n = \\dfrac{F_n}{F_{n-1}}$, onde $F_n$ é o n-ésimo termo de Fibonacci.\n",
    "  - Alguma série para $\\pi$ da internet.\n",
    "\n",
    "  Para cada uma delas, faça os seguintes itens\n",
    "\n",
    "  - Implemente uma função que recebe um número $n$ e calcula a soma parcial $s_n$\n",
    "    se o item for uma série, ou n-ésimo elemento se o item for uma sequência.\n",
    "    Faça sua função ser o mais econômica possível e evite overflows.\n",
    "  - Faça um gráfico do erro pelo número de termos $n$.\n",
    "  - Dado $\\varepsilon > 0$, é possível determinar n de modo que o erro seja menor que $\\varepsilon$?\n",
    "    Veja quantos casos você consegue fazer isso, ou encontrar algum limitante\n",
    "    desse tipo."
   ]
  }
 ],
 "metadata": {
  "@webio": {
   "lastCommId": "8543ab37504344e482089ffb85683d13",
   "lastKernelId": "ef376662-2235-4026-b29d-416b53277a16"
  },
  "kernelspec": {
   "display_name": "Julia 1.1.1",
   "language": "julia",
   "name": "julia-1.1"
  },
  "language_info": {
   "file_extension": ".jl",
   "mimetype": "application/julia",
   "name": "julia",
   "version": "1.1.1"
  }
 },
 "nbformat": 4,
 "nbformat_minor": 2
}
